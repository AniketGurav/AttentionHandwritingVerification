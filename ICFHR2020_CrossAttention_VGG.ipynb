{
 "cells": [
  {
   "cell_type": "code",
   "execution_count": 1,
   "metadata": {},
   "outputs": [
    {
     "name": "stderr",
     "output_type": "stream",
     "text": [
      "Using TensorFlow backend.\n"
     ]
    }
   ],
   "source": [
    "from keras.applications.vgg16 import VGG16\n",
    "import matplotlib.pyplot as plt\n",
    "from keras.utils import plot_model,multi_gpu_model\n",
    "from IPython.display import SVG\n",
    "from keras.utils.vis_utils import model_to_dot\n",
    "from keras.models import Model\n",
    "from keras.models import load_model\n",
    "from keras.layers import Input,GlobalAveragePooling2D,Layer,InputSpec\n",
    "from keras.layers.core import Dense,Flatten,Dropout\n",
    "from keras.optimizers import Adam\n",
    "from keras.callbacks import ModelCheckpoint, EarlyStopping, TensorBoard\n",
    "from keras.utils import np_utils\n",
    "import keras.backend as K\n",
    "import keras.layers as kl\n",
    "import tensorflow as tf\n",
    "from tensorflow.python.client import device_lib\n",
    "from sklearn.metrics import classification_report\n",
    "import pandas as pd\n",
    "import numpy as np\n",
    "from time import time\n",
    "import pickle\n",
    "from AttentionModule import CrossAttention, SoftAttention, ResidualCombine2D\n",
    "import os, sys, shutil\n",
    "os.environ[\"CUDA_VISIBLE_DEVICES\"]=\"0,1,2\"\n",
    "import cv2\n",
    "from tqdm import tqdm_notebook\n",
    "from coord import CoordinateChannel2D\n",
    "from sklearn.model_selection import KFold\n",
    "from scipy import misc\n",
    "from itertools import combinations\n",
    "pd.options.display.max_colwidth = 100\n",
    "import seaborn as sn\n",
    "import pandas as pd\n",
    "import matplotlib.pyplot as plt\n",
    "import sklearn.metrics as metrics"
   ]
  },
  {
   "cell_type": "code",
   "execution_count": 2,
   "metadata": {},
   "outputs": [],
   "source": [
    "n_gpu=3\n",
    "n_cpu=1\n",
    "tf_config= tf.ConfigProto(device_count = {'GPU': n_gpu , 'CPU': n_cpu})\n",
    "tf_config.gpu_options.allow_growth=True\n",
    "s=tf.Session(config=tf_config)\n",
    "K.set_session(s)"
   ]
  },
  {
   "cell_type": "code",
   "execution_count": 3,
   "metadata": {},
   "outputs": [
    {
     "data": {
      "text/plain": [
       "array(['0149a_num1.png', '0521a_num4.png', '0337a_num2.png',\n",
       "       '0597b_num3.png', '0436a_num2.png', '0592a_num2.png',\n",
       "       '0479a_num2.png', '1029b_num2.png', '0833c_num2.png',\n",
       "       '0612c_num1.png'], dtype='<U15')"
      ]
     },
     "execution_count": 3,
     "metadata": {},
     "output_type": "execute_result"
    }
   ],
   "source": [
    "ds_folder = 'dataset/all'\n",
    "ds = np.array(os.listdir(ds_folder))\n",
    "np.random.shuffle(ds)\n",
    "ds[:10]"
   ]
  },
  {
   "cell_type": "code",
   "execution_count": 4,
   "metadata": {},
   "outputs": [],
   "source": [
    "# kf = KFold(n_splits=5, shuffle=False)\n",
    "# kf.get_n_splits(ds)"
   ]
  },
  {
   "cell_type": "code",
   "execution_count": 5,
   "metadata": {},
   "outputs": [],
   "source": [
    "# def generateDatasetAndSave(ids, fold_count, mode):\n",
    "#     label = []\n",
    "#     left_path = []\n",
    "#     right_path = []\n",
    "#     simCounter = 0\n",
    "#     diffCounter = 0\n",
    "#     x = ds[ids]\n",
    "#     combs = combinations(x,2)\n",
    "#     combs = list(combs)\n",
    "#     np.random.shuffle(combs)\n",
    "#     for l,r in tqdm_notebook(combs):\n",
    "#         if(int(l[:4]) == int(r[:4])):\n",
    "#             label.append(1)\n",
    "#             left_path.append(l)\n",
    "#             right_path.append(r)\n",
    "#             simCounter+=1 \n",
    "#     for l,r in tqdm_notebook(combs):\n",
    "#         if(int(l[:4]) != int(r[:4])):\n",
    "#             label.append(0)\n",
    "#             left_path.append(l)\n",
    "#             right_path.append(r)\n",
    "#             diffCounter+=1\n",
    "#         if(diffCounter==simCounter*10):\n",
    "#             break\n",
    "#     df = pd.DataFrame()\n",
    "#     df['left'] = left_path\n",
    "#     df['right'] = right_path\n",
    "#     df['label'] = label\n",
    "#     if not os.path.exists('dataset/kfold_csvs/fold_'+str(fold_count)):\n",
    "#         os.mkdir('dataset/kfold_csvs/fold_'+str(fold_count))\n",
    "#     df.to_csv('dataset/kfold_csvs/fold_'+str(fold_count)+'/'+mode+'.csv')"
   ]
  },
  {
   "cell_type": "code",
   "execution_count": null,
   "metadata": {},
   "outputs": [],
   "source": []
  },
  {
   "cell_type": "code",
   "execution_count": null,
   "metadata": {},
   "outputs": [],
   "source": [
    "\n",
    "    "
   ]
  },
  {
   "cell_type": "code",
   "execution_count": 231,
   "metadata": {},
   "outputs": [],
   "source": [
    "def VGGNet():\n",
    "    image_input = Input(shape=(64,64,1),name='image_input')\n",
    "#     x = CoordinateChannel2D()(image_input)\n",
    "    x = kl.Conv2D(filters=64, kernel_size=(3,3), activation='relu', padding='same', name='block1_conv1')(image_input)\n",
    "    x = kl.Conv2D(filters=64, kernel_size=(3,3), activation='relu', padding='same', name='block1_conv2')(x)\n",
    "    x = kl.BatchNormalization()(x)\n",
    "    x_red = kl.MaxPooling2D(pool_size=(2,2), padding='same', name='block1_reduction_conv')(x)    \n",
    "    xsa1,samap1 = SoftAttention(aggregate=True,m=16,concat_with_x=False,ch=int(x.shape[-1]),name='soft_attention_1')(x)\n",
    "    xsa1 = kl.MaxPooling2D(pool_size=(2,2),padding='same')(xsa1)\n",
    "    x = kl.Concatenate()([x_red,xsa1])\n",
    "#     x,sa1g1,sa1g2=ResidualCombine2D(ch_in=int(sa1.shape[-1]),ch_out=64)([x,sa1])\n",
    "#     x = kl.BatchNormalization()(x)\n",
    "    x = kl.Activation('relu')(x)\n",
    "    x = kl.Dropout(0.5)(x)\n",
    "\n",
    "    x = kl.Conv2D(filters=128, kernel_size=(3,3), activation='relu', padding='same', name='block2_conv1')(x)\n",
    "    x = kl.Conv2D(filters=128, kernel_size=(3,3), activation='relu', padding='same', name='block2_conv2')(x)\n",
    "    x = kl.BatchNormalization()(x)\n",
    "    x_red = kl.MaxPooling2D(pool_size=(2,2), padding='same', name='block2_reduction_conv')(x)\n",
    "    xsa2,samap2 = SoftAttention(aggregate=True,m=16,concat_with_x=False,ch=int(x.shape[-1]),name='soft_attention_2')(x)\n",
    "    xsa2 = kl.MaxPooling2D(pool_size=(2,2),padding='same')(xsa2)\n",
    "    x = kl.Concatenate()([x_red,xsa2])\n",
    "#     x = kl.BatchNormalization()(x)\n",
    "    x = kl.Activation('relu')(x)\n",
    "    x = kl.Dropout(0.5)(x)\n",
    "\n",
    "#     x = kl.Conv2D(filters=256, kernel_size=(3,3), activation='relu', padding='same', name='block3_conv1')(x)\n",
    "#     x = kl.Conv2D(filters=256, kernel_size=(3,3), activation='relu', padding='same', name='block3_conv2')(x)\n",
    "#     x = kl.Conv2D(filters=256, kernel_size=(3,3), activation='relu', padding='same', name='block3_conv3')(x)\n",
    "#     x = kl.Conv2D(filters=256, kernel_size=2, strides=2, activation='relu', padding='same', name='block3_reduction_conv')(x)\n",
    "# #     sa3,samap3 = SoftAttention(aggregate=True,m=16,concat_with_x=False,ch=int(x.shape[-1]))(x)\n",
    "# #     x,sa3g1,sa3g2=ResidualCombine2D(ch_in=int(sa3.shape[-1]),ch_out=256)([x,sa3])\n",
    "# #     x = kl.BatchNormalization()(x)\n",
    "#     x = kl.Dropout(0.5)(x)\n",
    "\n",
    "#     x = kl.Conv2D(filters=512, kernel_size=(3,3), activation='relu', padding='same', name='block4_conv1')(x)\n",
    "#     x = kl.Conv2D(filters=512, kernel_size=(3,3), activation='relu', padding='same', name='block4_conv2')(x)\n",
    "#     x = kl.Conv2D(filters=512, kernel_size=(3,3), activation='relu', padding='same', name='block4_conv3')(x)\n",
    "#     # x = CoordinateChannel2D(use_radius=True)(x)\n",
    "# #     x, samap, g = SelfAttention(ch=512, name='self_attention')(x)\n",
    "#     x = kl.Conv2D(filters=512, kernel_size=2, strides=2, activation='relu', padding='same', name='block4_reduction_conv')(x)\n",
    "#     x = kl.BatchNormalization()(x)\n",
    "#     x = kl.Dropout(0.5)(x)\n",
    "\n",
    "#     x = kl.Conv2D(filters=512, kernel_size=(3,3), activation='relu', padding='same', name='block5_conv1')(x)\n",
    "#     x = kl.Conv2D(filters=512, kernel_size=(3,3), activation='relu', padding='same', name='block5_conv2')(x)\n",
    "#     x = kl.Conv2D(filters=512, kernel_size=(3,3), activation='relu', padding='same', name='block5_conv3')(x)\n",
    "# #     x, amaps = SoftAttention(ch=512, m=32, name='soft_attention')(x)\n",
    "#     x = kl.Conv2D(filters=512, kernel_size=2, strides=2, activation='relu', padding='same', name='block5_reduction_conv')(x)\n",
    "    return Model(image_input,x,name='imgModel')"
   ]
  },
  {
   "cell_type": "code",
   "execution_count": 232,
   "metadata": {
    "scrolled": true
   },
   "outputs": [
    {
     "name": "stdout",
     "output_type": "stream",
     "text": [
      "__________________________________________________________________________________________________\n",
      "Layer (type)                    Output Shape         Param #     Connected to                     \n",
      "==================================================================================================\n",
      "image_input (InputLayer)        (None, 64, 64, 1)    0                                            \n",
      "__________________________________________________________________________________________________\n",
      "block1_conv1 (Conv2D)           (None, 64, 64, 64)   640         image_input[0][0]                \n",
      "__________________________________________________________________________________________________\n",
      "block1_conv2 (Conv2D)           (None, 64, 64, 64)   36928       block1_conv1[0][0]               \n",
      "__________________________________________________________________________________________________\n",
      "batch_normalization_12 (BatchNo (None, 64, 64, 64)   256         block1_conv2[0][0]               \n",
      "__________________________________________________________________________________________________\n",
      "soft_attention_1 (SoftAttention [(None, 64, 64, 64), 9232        batch_normalization_12[0][0]     \n",
      "__________________________________________________________________________________________________\n",
      "block1_reduction_conv (MaxPooli (None, 32, 32, 64)   0           batch_normalization_12[0][0]     \n",
      "__________________________________________________________________________________________________\n",
      "max_pooling2d_6 (MaxPooling2D)  (None, 32, 32, 64)   0           soft_attention_1[0][0]           \n",
      "__________________________________________________________________________________________________\n",
      "concatenate_7 (Concatenate)     (None, 32, 32, 128)  0           block1_reduction_conv[0][0]      \n",
      "                                                                 max_pooling2d_6[0][0]            \n",
      "__________________________________________________________________________________________________\n",
      "activation_282 (Activation)     (None, 32, 32, 128)  0           concatenate_7[0][0]              \n",
      "__________________________________________________________________________________________________\n",
      "dropout_7 (Dropout)             (None, 32, 32, 128)  0           activation_282[0][0]             \n",
      "__________________________________________________________________________________________________\n",
      "block2_conv1 (Conv2D)           (None, 32, 32, 128)  147584      dropout_7[0][0]                  \n",
      "__________________________________________________________________________________________________\n",
      "block2_conv2 (Conv2D)           (None, 32, 32, 128)  147584      block2_conv1[0][0]               \n",
      "__________________________________________________________________________________________________\n",
      "batch_normalization_13 (BatchNo (None, 32, 32, 128)  512         block2_conv2[0][0]               \n",
      "__________________________________________________________________________________________________\n",
      "soft_attention_2 (SoftAttention [(None, 32, 32, 128) 18448       batch_normalization_13[0][0]     \n",
      "__________________________________________________________________________________________________\n",
      "block2_reduction_conv (MaxPooli (None, 16, 16, 128)  0           batch_normalization_13[0][0]     \n",
      "__________________________________________________________________________________________________\n",
      "max_pooling2d_7 (MaxPooling2D)  (None, 16, 16, 128)  0           soft_attention_2[0][0]           \n",
      "__________________________________________________________________________________________________\n",
      "concatenate_8 (Concatenate)     (None, 16, 16, 256)  0           block2_reduction_conv[0][0]      \n",
      "                                                                 max_pooling2d_7[0][0]            \n",
      "__________________________________________________________________________________________________\n",
      "activation_284 (Activation)     (None, 16, 16, 256)  0           concatenate_8[0][0]              \n",
      "__________________________________________________________________________________________________\n",
      "dropout_8 (Dropout)             (None, 16, 16, 256)  0           activation_284[0][0]             \n",
      "==================================================================================================\n",
      "Total params: 361,184\n",
      "Trainable params: 360,800\n",
      "Non-trainable params: 384\n",
      "__________________________________________________________________________________________________\n"
     ]
    }
   ],
   "source": [
    "feat_ext_A = VGGNet()\n",
    "feat_ext_A.summary()"
   ]
  },
  {
   "cell_type": "code",
   "execution_count": 233,
   "metadata": {},
   "outputs": [
    {
     "data": {
      "image/svg+xml": [
       "<svg height=\"1383pt\" viewBox=\"0.00 0.00 829.50 1383.00\" width=\"830pt\" xmlns=\"http://www.w3.org/2000/svg\" xmlns:xlink=\"http://www.w3.org/1999/xlink\">\n",
       "<g class=\"graph\" id=\"graph0\" transform=\"scale(1 1) rotate(0) translate(4 1379)\">\n",
       "<title>G</title>\n",
       "<polygon fill=\"#ffffff\" points=\"-4,4 -4,-1379 825.5,-1379 825.5,4 -4,4\" stroke=\"transparent\"/>\n",
       "<!-- 140313710985056 -->\n",
       "<g class=\"node\" id=\"node1\">\n",
       "<title>140313710985056</title>\n",
       "<polygon fill=\"none\" points=\"243.5,-1328.5 243.5,-1374.5 561.5,-1374.5 561.5,-1328.5 243.5,-1328.5\" stroke=\"#000000\"/>\n",
       "<text fill=\"#000000\" font-family=\"Times,serif\" font-size=\"14.00\" text-anchor=\"middle\" x=\"319.5\" y=\"-1347.8\">image_input: InputLayer</text>\n",
       "<polyline fill=\"none\" points=\"395.5,-1328.5 395.5,-1374.5 \" stroke=\"#000000\"/>\n",
       "<text fill=\"#000000\" font-family=\"Times,serif\" font-size=\"14.00\" text-anchor=\"middle\" x=\"423\" y=\"-1359.3\">input:</text>\n",
       "<polyline fill=\"none\" points=\"395.5,-1351.5 450.5,-1351.5 \" stroke=\"#000000\"/>\n",
       "<text fill=\"#000000\" font-family=\"Times,serif\" font-size=\"14.00\" text-anchor=\"middle\" x=\"423\" y=\"-1336.3\">output:</text>\n",
       "<polyline fill=\"none\" points=\"450.5,-1328.5 450.5,-1374.5 \" stroke=\"#000000\"/>\n",
       "<text fill=\"#000000\" font-family=\"Times,serif\" font-size=\"14.00\" text-anchor=\"middle\" x=\"506\" y=\"-1359.3\">(None, 64, 64, 1)</text>\n",
       "<polyline fill=\"none\" points=\"450.5,-1351.5 561.5,-1351.5 \" stroke=\"#000000\"/>\n",
       "<text fill=\"#000000\" font-family=\"Times,serif\" font-size=\"14.00\" text-anchor=\"middle\" x=\"506\" y=\"-1336.3\">(None, 64, 64, 1)</text>\n",
       "</g>\n",
       "<!-- 140313710984720 -->\n",
       "<g class=\"node\" id=\"node2\">\n",
       "<title>140313710984720</title>\n",
       "<polygon fill=\"none\" points=\"243,-1245.5 243,-1291.5 562,-1291.5 562,-1245.5 243,-1245.5\" stroke=\"#000000\"/>\n",
       "<text fill=\"#000000\" font-family=\"Times,serif\" font-size=\"14.00\" text-anchor=\"middle\" x=\"316\" y=\"-1264.8\">block1_conv1: Conv2D</text>\n",
       "<polyline fill=\"none\" points=\"389,-1245.5 389,-1291.5 \" stroke=\"#000000\"/>\n",
       "<text fill=\"#000000\" font-family=\"Times,serif\" font-size=\"14.00\" text-anchor=\"middle\" x=\"416.5\" y=\"-1276.3\">input:</text>\n",
       "<polyline fill=\"none\" points=\"389,-1268.5 444,-1268.5 \" stroke=\"#000000\"/>\n",
       "<text fill=\"#000000\" font-family=\"Times,serif\" font-size=\"14.00\" text-anchor=\"middle\" x=\"416.5\" y=\"-1253.3\">output:</text>\n",
       "<polyline fill=\"none\" points=\"444,-1245.5 444,-1291.5 \" stroke=\"#000000\"/>\n",
       "<text fill=\"#000000\" font-family=\"Times,serif\" font-size=\"14.00\" text-anchor=\"middle\" x=\"503\" y=\"-1276.3\">(None, 64, 64, 1)</text>\n",
       "<polyline fill=\"none\" points=\"444,-1268.5 562,-1268.5 \" stroke=\"#000000\"/>\n",
       "<text fill=\"#000000\" font-family=\"Times,serif\" font-size=\"14.00\" text-anchor=\"middle\" x=\"503\" y=\"-1253.3\">(None, 64, 64, 64)</text>\n",
       "</g>\n",
       "<!-- 140313710985056&#45;&gt;140313710984720 -->\n",
       "<g class=\"edge\" id=\"edge1\">\n",
       "<title>140313710985056-&gt;140313710984720</title>\n",
       "<path d=\"M402.5,-1328.3799C402.5,-1320.1745 402.5,-1310.7679 402.5,-1301.8786\" fill=\"none\" stroke=\"#000000\"/>\n",
       "<polygon fill=\"#000000\" points=\"406.0001,-1301.784 402.5,-1291.784 399.0001,-1301.784 406.0001,-1301.784\" stroke=\"#000000\"/>\n",
       "</g>\n",
       "<!-- 140313710983824 -->\n",
       "<g class=\"node\" id=\"node3\">\n",
       "<title>140313710983824</title>\n",
       "<polygon fill=\"none\" points=\"243,-1162.5 243,-1208.5 562,-1208.5 562,-1162.5 243,-1162.5\" stroke=\"#000000\"/>\n",
       "<text fill=\"#000000\" font-family=\"Times,serif\" font-size=\"14.00\" text-anchor=\"middle\" x=\"316\" y=\"-1181.8\">block1_conv2: Conv2D</text>\n",
       "<polyline fill=\"none\" points=\"389,-1162.5 389,-1208.5 \" stroke=\"#000000\"/>\n",
       "<text fill=\"#000000\" font-family=\"Times,serif\" font-size=\"14.00\" text-anchor=\"middle\" x=\"416.5\" y=\"-1193.3\">input:</text>\n",
       "<polyline fill=\"none\" points=\"389,-1185.5 444,-1185.5 \" stroke=\"#000000\"/>\n",
       "<text fill=\"#000000\" font-family=\"Times,serif\" font-size=\"14.00\" text-anchor=\"middle\" x=\"416.5\" y=\"-1170.3\">output:</text>\n",
       "<polyline fill=\"none\" points=\"444,-1162.5 444,-1208.5 \" stroke=\"#000000\"/>\n",
       "<text fill=\"#000000\" font-family=\"Times,serif\" font-size=\"14.00\" text-anchor=\"middle\" x=\"503\" y=\"-1193.3\">(None, 64, 64, 64)</text>\n",
       "<polyline fill=\"none\" points=\"444,-1185.5 562,-1185.5 \" stroke=\"#000000\"/>\n",
       "<text fill=\"#000000\" font-family=\"Times,serif\" font-size=\"14.00\" text-anchor=\"middle\" x=\"503\" y=\"-1170.3\">(None, 64, 64, 64)</text>\n",
       "</g>\n",
       "<!-- 140313710984720&#45;&gt;140313710983824 -->\n",
       "<g class=\"edge\" id=\"edge2\">\n",
       "<title>140313710984720-&gt;140313710983824</title>\n",
       "<path d=\"M402.5,-1245.3799C402.5,-1237.1745 402.5,-1227.7679 402.5,-1218.8786\" fill=\"none\" stroke=\"#000000\"/>\n",
       "<polygon fill=\"#000000\" points=\"406.0001,-1218.784 402.5,-1208.784 399.0001,-1218.784 406.0001,-1218.784\" stroke=\"#000000\"/>\n",
       "</g>\n",
       "<!-- 140313710958968 -->\n",
       "<g class=\"node\" id=\"node4\">\n",
       "<title>140313710958968</title>\n",
       "<polygon fill=\"none\" points=\"183,-1079.5 183,-1125.5 622,-1125.5 622,-1079.5 183,-1079.5\" stroke=\"#000000\"/>\n",
       "<text fill=\"#000000\" font-family=\"Times,serif\" font-size=\"14.00\" text-anchor=\"middle\" x=\"316\" y=\"-1098.8\">batch_normalization_12: BatchNormalization</text>\n",
       "<polyline fill=\"none\" points=\"449,-1079.5 449,-1125.5 \" stroke=\"#000000\"/>\n",
       "<text fill=\"#000000\" font-family=\"Times,serif\" font-size=\"14.00\" text-anchor=\"middle\" x=\"476.5\" y=\"-1110.3\">input:</text>\n",
       "<polyline fill=\"none\" points=\"449,-1102.5 504,-1102.5 \" stroke=\"#000000\"/>\n",
       "<text fill=\"#000000\" font-family=\"Times,serif\" font-size=\"14.00\" text-anchor=\"middle\" x=\"476.5\" y=\"-1087.3\">output:</text>\n",
       "<polyline fill=\"none\" points=\"504,-1079.5 504,-1125.5 \" stroke=\"#000000\"/>\n",
       "<text fill=\"#000000\" font-family=\"Times,serif\" font-size=\"14.00\" text-anchor=\"middle\" x=\"563\" y=\"-1110.3\">(None, 64, 64, 64)</text>\n",
       "<polyline fill=\"none\" points=\"504,-1102.5 622,-1102.5 \" stroke=\"#000000\"/>\n",
       "<text fill=\"#000000\" font-family=\"Times,serif\" font-size=\"14.00\" text-anchor=\"middle\" x=\"563\" y=\"-1087.3\">(None, 64, 64, 64)</text>\n",
       "</g>\n",
       "<!-- 140313710983824&#45;&gt;140313710958968 -->\n",
       "<g class=\"edge\" id=\"edge3\">\n",
       "<title>140313710983824-&gt;140313710958968</title>\n",
       "<path d=\"M402.5,-1162.3799C402.5,-1154.1745 402.5,-1144.7679 402.5,-1135.8786\" fill=\"none\" stroke=\"#000000\"/>\n",
       "<polygon fill=\"#000000\" points=\"406.0001,-1135.784 402.5,-1125.784 399.0001,-1135.784 406.0001,-1135.784\" stroke=\"#000000\"/>\n",
       "</g>\n",
       "<!-- 140313710904600 -->\n",
       "<g class=\"node\" id=\"node5\">\n",
       "<title>140313710904600</title>\n",
       "<polygon fill=\"none\" points=\"31.5,-996.5 31.5,-1042.5 507.5,-1042.5 507.5,-996.5 31.5,-996.5\" stroke=\"#000000\"/>\n",
       "<text fill=\"#000000\" font-family=\"Times,serif\" font-size=\"14.00\" text-anchor=\"middle\" x=\"124\" y=\"-1015.8\">soft_attention_1: SoftAttention</text>\n",
       "<polyline fill=\"none\" points=\"216.5,-996.5 216.5,-1042.5 \" stroke=\"#000000\"/>\n",
       "<text fill=\"#000000\" font-family=\"Times,serif\" font-size=\"14.00\" text-anchor=\"middle\" x=\"244\" y=\"-1027.3\">input:</text>\n",
       "<polyline fill=\"none\" points=\"216.5,-1019.5 271.5,-1019.5 \" stroke=\"#000000\"/>\n",
       "<text fill=\"#000000\" font-family=\"Times,serif\" font-size=\"14.00\" text-anchor=\"middle\" x=\"244\" y=\"-1004.3\">output:</text>\n",
       "<polyline fill=\"none\" points=\"271.5,-996.5 271.5,-1042.5 \" stroke=\"#000000\"/>\n",
       "<text fill=\"#000000\" font-family=\"Times,serif\" font-size=\"14.00\" text-anchor=\"middle\" x=\"389.5\" y=\"-1027.3\">(None, 64, 64, 64)</text>\n",
       "<polyline fill=\"none\" points=\"271.5,-1019.5 507.5,-1019.5 \" stroke=\"#000000\"/>\n",
       "<text fill=\"#000000\" font-family=\"Times,serif\" font-size=\"14.00\" text-anchor=\"middle\" x=\"389.5\" y=\"-1004.3\">[(None, 64, 64, 64), (None, 16, 64, 64)]</text>\n",
       "</g>\n",
       "<!-- 140313710958968&#45;&gt;140313710904600 -->\n",
       "<g class=\"edge\" id=\"edge4\">\n",
       "<title>140313710958968-&gt;140313710904600</title>\n",
       "<path d=\"M365.4521,-1079.3799C350.0171,-1069.7475 331.9294,-1058.4597 315.6441,-1048.2967\" fill=\"none\" stroke=\"#000000\"/>\n",
       "<polygon fill=\"#000000\" points=\"317.1471,-1045.1091 306.8105,-1042.784 313.4411,-1051.0476 317.1471,-1045.1091\" stroke=\"#000000\"/>\n",
       "</g>\n",
       "<!-- 140313710958688 -->\n",
       "<g class=\"node\" id=\"node6\">\n",
       "<title>140313710958688</title>\n",
       "<polygon fill=\"none\" points=\"405,-913.5 405,-959.5 814,-959.5 814,-913.5 405,-913.5\" stroke=\"#000000\"/>\n",
       "<text fill=\"#000000\" font-family=\"Times,serif\" font-size=\"14.00\" text-anchor=\"middle\" x=\"523\" y=\"-932.8\">block1_reduction_conv: MaxPooling2D</text>\n",
       "<polyline fill=\"none\" points=\"641,-913.5 641,-959.5 \" stroke=\"#000000\"/>\n",
       "<text fill=\"#000000\" font-family=\"Times,serif\" font-size=\"14.00\" text-anchor=\"middle\" x=\"668.5\" y=\"-944.3\">input:</text>\n",
       "<polyline fill=\"none\" points=\"641,-936.5 696,-936.5 \" stroke=\"#000000\"/>\n",
       "<text fill=\"#000000\" font-family=\"Times,serif\" font-size=\"14.00\" text-anchor=\"middle\" x=\"668.5\" y=\"-921.3\">output:</text>\n",
       "<polyline fill=\"none\" points=\"696,-913.5 696,-959.5 \" stroke=\"#000000\"/>\n",
       "<text fill=\"#000000\" font-family=\"Times,serif\" font-size=\"14.00\" text-anchor=\"middle\" x=\"755\" y=\"-944.3\">(None, 64, 64, 64)</text>\n",
       "<polyline fill=\"none\" points=\"696,-936.5 814,-936.5 \" stroke=\"#000000\"/>\n",
       "<text fill=\"#000000\" font-family=\"Times,serif\" font-size=\"14.00\" text-anchor=\"middle\" x=\"755\" y=\"-921.3\">(None, 32, 32, 64)</text>\n",
       "</g>\n",
       "<!-- 140313710958968&#45;&gt;140313710958688 -->\n",
       "<g class=\"edge\" id=\"edge5\">\n",
       "<title>140313710958968-&gt;140313710958688</title>\n",
       "<path d=\"M456.627,-1079.3887C476.4502,-1069.6357 498.4333,-1057.2254 516.5,-1043 544.1544,-1021.2254 570.0065,-990.4309 587.3992,-967.5523\" fill=\"none\" stroke=\"#000000\"/>\n",
       "<polygon fill=\"#000000\" points=\"590.2255,-969.6172 593.412,-959.5129 584.6198,-965.4247 590.2255,-969.6172\" stroke=\"#000000\"/>\n",
       "</g>\n",
       "<!-- 140313710906952 -->\n",
       "<g class=\"node\" id=\"node7\">\n",
       "<title>140313710906952</title>\n",
       "<polygon fill=\"none\" points=\"6.5,-913.5 6.5,-959.5 386.5,-959.5 386.5,-913.5 6.5,-913.5\" stroke=\"#000000\"/>\n",
       "<text fill=\"#000000\" font-family=\"Times,serif\" font-size=\"14.00\" text-anchor=\"middle\" x=\"110\" y=\"-932.8\">max_pooling2d_6: MaxPooling2D</text>\n",
       "<polyline fill=\"none\" points=\"213.5,-913.5 213.5,-959.5 \" stroke=\"#000000\"/>\n",
       "<text fill=\"#000000\" font-family=\"Times,serif\" font-size=\"14.00\" text-anchor=\"middle\" x=\"241\" y=\"-944.3\">input:</text>\n",
       "<polyline fill=\"none\" points=\"213.5,-936.5 268.5,-936.5 \" stroke=\"#000000\"/>\n",
       "<text fill=\"#000000\" font-family=\"Times,serif\" font-size=\"14.00\" text-anchor=\"middle\" x=\"241\" y=\"-921.3\">output:</text>\n",
       "<polyline fill=\"none\" points=\"268.5,-913.5 268.5,-959.5 \" stroke=\"#000000\"/>\n",
       "<text fill=\"#000000\" font-family=\"Times,serif\" font-size=\"14.00\" text-anchor=\"middle\" x=\"327.5\" y=\"-944.3\">(None, 64, 64, 64)</text>\n",
       "<polyline fill=\"none\" points=\"268.5,-936.5 386.5,-936.5 \" stroke=\"#000000\"/>\n",
       "<text fill=\"#000000\" font-family=\"Times,serif\" font-size=\"14.00\" text-anchor=\"middle\" x=\"327.5\" y=\"-921.3\">(None, 32, 32, 64)</text>\n",
       "</g>\n",
       "<!-- 140313710904600&#45;&gt;140313710906952 -->\n",
       "<g class=\"edge\" id=\"edge6\">\n",
       "<title>140313710904600-&gt;140313710906952</title>\n",
       "<path d=\"M249.1654,-996.3799C241.3212,-987.461 232.2286,-977.1229 223.8289,-967.5725\" fill=\"none\" stroke=\"#000000\"/>\n",
       "<polygon fill=\"#000000\" points=\"226.2111,-964.9815 216.9787,-959.784 220.9548,-969.6045 226.2111,-964.9815\" stroke=\"#000000\"/>\n",
       "</g>\n",
       "<!-- 140313711010200 -->\n",
       "<g class=\"node\" id=\"node8\">\n",
       "<title>140313711010200</title>\n",
       "<polygon fill=\"none\" points=\"173,-830.5 173,-876.5 632,-876.5 632,-830.5 173,-830.5\" stroke=\"#000000\"/>\n",
       "<text fill=\"#000000\" font-family=\"Times,serif\" font-size=\"14.00\" text-anchor=\"middle\" x=\"257\" y=\"-849.8\">concatenate_7: Concatenate</text>\n",
       "<polyline fill=\"none\" points=\"341,-830.5 341,-876.5 \" stroke=\"#000000\"/>\n",
       "<text fill=\"#000000\" font-family=\"Times,serif\" font-size=\"14.00\" text-anchor=\"middle\" x=\"368.5\" y=\"-861.3\">input:</text>\n",
       "<polyline fill=\"none\" points=\"341,-853.5 396,-853.5 \" stroke=\"#000000\"/>\n",
       "<text fill=\"#000000\" font-family=\"Times,serif\" font-size=\"14.00\" text-anchor=\"middle\" x=\"368.5\" y=\"-838.3\">output:</text>\n",
       "<polyline fill=\"none\" points=\"396,-830.5 396,-876.5 \" stroke=\"#000000\"/>\n",
       "<text fill=\"#000000\" font-family=\"Times,serif\" font-size=\"14.00\" text-anchor=\"middle\" x=\"514\" y=\"-861.3\">[(None, 32, 32, 64), (None, 32, 32, 64)]</text>\n",
       "<polyline fill=\"none\" points=\"396,-853.5 632,-853.5 \" stroke=\"#000000\"/>\n",
       "<text fill=\"#000000\" font-family=\"Times,serif\" font-size=\"14.00\" text-anchor=\"middle\" x=\"514\" y=\"-838.3\">(None, 32, 32, 128)</text>\n",
       "</g>\n",
       "<!-- 140313710958688&#45;&gt;140313711010200 -->\n",
       "<g class=\"edge\" id=\"edge7\">\n",
       "<title>140313710958688-&gt;140313711010200</title>\n",
       "<path d=\"M552.1139,-913.4901C526.5388,-903.2353 496.2417,-891.0872 469.6228,-880.414\" fill=\"none\" stroke=\"#000000\"/>\n",
       "<polygon fill=\"#000000\" points=\"470.5821,-877.0278 459.9978,-876.5547 467.9769,-883.5249 470.5821,-877.0278\" stroke=\"#000000\"/>\n",
       "</g>\n",
       "<!-- 140313710906952&#45;&gt;140313711010200 -->\n",
       "<g class=\"edge\" id=\"edge8\">\n",
       "<title>140313710906952-&gt;140313711010200</title>\n",
       "<path d=\"M253.6089,-913.4901C279.0605,-903.2353 309.2112,-891.0872 335.7015,-880.414\" fill=\"none\" stroke=\"#000000\"/>\n",
       "<polygon fill=\"#000000\" points=\"337.3126,-883.5383 345.28,-876.5547 334.6965,-877.0455 337.3126,-883.5383\" stroke=\"#000000\"/>\n",
       "</g>\n",
       "<!-- 140313711011376 -->\n",
       "<g class=\"node\" id=\"node9\">\n",
       "<title>140313711011376</title>\n",
       "<polygon fill=\"none\" points=\"232,-747.5 232,-793.5 573,-793.5 573,-747.5 232,-747.5\" stroke=\"#000000\"/>\n",
       "<text fill=\"#000000\" font-family=\"Times,serif\" font-size=\"14.00\" text-anchor=\"middle\" x=\"312.5\" y=\"-766.8\">activation_282: Activation</text>\n",
       "<polyline fill=\"none\" points=\"393,-747.5 393,-793.5 \" stroke=\"#000000\"/>\n",
       "<text fill=\"#000000\" font-family=\"Times,serif\" font-size=\"14.00\" text-anchor=\"middle\" x=\"420.5\" y=\"-778.3\">input:</text>\n",
       "<polyline fill=\"none\" points=\"393,-770.5 448,-770.5 \" stroke=\"#000000\"/>\n",
       "<text fill=\"#000000\" font-family=\"Times,serif\" font-size=\"14.00\" text-anchor=\"middle\" x=\"420.5\" y=\"-755.3\">output:</text>\n",
       "<polyline fill=\"none\" points=\"448,-747.5 448,-793.5 \" stroke=\"#000000\"/>\n",
       "<text fill=\"#000000\" font-family=\"Times,serif\" font-size=\"14.00\" text-anchor=\"middle\" x=\"510.5\" y=\"-778.3\">(None, 32, 32, 128)</text>\n",
       "<polyline fill=\"none\" points=\"448,-770.5 573,-770.5 \" stroke=\"#000000\"/>\n",
       "<text fill=\"#000000\" font-family=\"Times,serif\" font-size=\"14.00\" text-anchor=\"middle\" x=\"510.5\" y=\"-755.3\">(None, 32, 32, 128)</text>\n",
       "</g>\n",
       "<!-- 140313711010200&#45;&gt;140313711011376 -->\n",
       "<g class=\"edge\" id=\"edge9\">\n",
       "<title>140313711010200-&gt;140313711011376</title>\n",
       "<path d=\"M402.5,-830.3799C402.5,-822.1745 402.5,-812.7679 402.5,-803.8786\" fill=\"none\" stroke=\"#000000\"/>\n",
       "<polygon fill=\"#000000\" points=\"406.0001,-803.784 402.5,-793.784 399.0001,-803.784 406.0001,-803.784\" stroke=\"#000000\"/>\n",
       "</g>\n",
       "<!-- 140313711216960 -->\n",
       "<g class=\"node\" id=\"node10\">\n",
       "<title>140313711216960</title>\n",
       "<polygon fill=\"none\" points=\"250,-664.5 250,-710.5 555,-710.5 555,-664.5 250,-664.5\" stroke=\"#000000\"/>\n",
       "<text fill=\"#000000\" font-family=\"Times,serif\" font-size=\"14.00\" text-anchor=\"middle\" x=\"312.5\" y=\"-683.8\">dropout_7: Dropout</text>\n",
       "<polyline fill=\"none\" points=\"375,-664.5 375,-710.5 \" stroke=\"#000000\"/>\n",
       "<text fill=\"#000000\" font-family=\"Times,serif\" font-size=\"14.00\" text-anchor=\"middle\" x=\"402.5\" y=\"-695.3\">input:</text>\n",
       "<polyline fill=\"none\" points=\"375,-687.5 430,-687.5 \" stroke=\"#000000\"/>\n",
       "<text fill=\"#000000\" font-family=\"Times,serif\" font-size=\"14.00\" text-anchor=\"middle\" x=\"402.5\" y=\"-672.3\">output:</text>\n",
       "<polyline fill=\"none\" points=\"430,-664.5 430,-710.5 \" stroke=\"#000000\"/>\n",
       "<text fill=\"#000000\" font-family=\"Times,serif\" font-size=\"14.00\" text-anchor=\"middle\" x=\"492.5\" y=\"-695.3\">(None, 32, 32, 128)</text>\n",
       "<polyline fill=\"none\" points=\"430,-687.5 555,-687.5 \" stroke=\"#000000\"/>\n",
       "<text fill=\"#000000\" font-family=\"Times,serif\" font-size=\"14.00\" text-anchor=\"middle\" x=\"492.5\" y=\"-672.3\">(None, 32, 32, 128)</text>\n",
       "</g>\n",
       "<!-- 140313711011376&#45;&gt;140313711216960 -->\n",
       "<g class=\"edge\" id=\"edge10\">\n",
       "<title>140313711011376-&gt;140313711216960</title>\n",
       "<path d=\"M402.5,-747.3799C402.5,-739.1745 402.5,-729.7679 402.5,-720.8786\" fill=\"none\" stroke=\"#000000\"/>\n",
       "<polygon fill=\"#000000\" points=\"406.0001,-720.784 402.5,-710.784 399.0001,-720.784 406.0001,-720.784\" stroke=\"#000000\"/>\n",
       "</g>\n",
       "<!-- 140313711216792 -->\n",
       "<g class=\"node\" id=\"node11\">\n",
       "<title>140313711216792</title>\n",
       "<polygon fill=\"none\" points=\"239.5,-581.5 239.5,-627.5 565.5,-627.5 565.5,-581.5 239.5,-581.5\" stroke=\"#000000\"/>\n",
       "<text fill=\"#000000\" font-family=\"Times,serif\" font-size=\"14.00\" text-anchor=\"middle\" x=\"312.5\" y=\"-600.8\">block2_conv1: Conv2D</text>\n",
       "<polyline fill=\"none\" points=\"385.5,-581.5 385.5,-627.5 \" stroke=\"#000000\"/>\n",
       "<text fill=\"#000000\" font-family=\"Times,serif\" font-size=\"14.00\" text-anchor=\"middle\" x=\"413\" y=\"-612.3\">input:</text>\n",
       "<polyline fill=\"none\" points=\"385.5,-604.5 440.5,-604.5 \" stroke=\"#000000\"/>\n",
       "<text fill=\"#000000\" font-family=\"Times,serif\" font-size=\"14.00\" text-anchor=\"middle\" x=\"413\" y=\"-589.3\">output:</text>\n",
       "<polyline fill=\"none\" points=\"440.5,-581.5 440.5,-627.5 \" stroke=\"#000000\"/>\n",
       "<text fill=\"#000000\" font-family=\"Times,serif\" font-size=\"14.00\" text-anchor=\"middle\" x=\"503\" y=\"-612.3\">(None, 32, 32, 128)</text>\n",
       "<polyline fill=\"none\" points=\"440.5,-604.5 565.5,-604.5 \" stroke=\"#000000\"/>\n",
       "<text fill=\"#000000\" font-family=\"Times,serif\" font-size=\"14.00\" text-anchor=\"middle\" x=\"503\" y=\"-589.3\">(None, 32, 32, 128)</text>\n",
       "</g>\n",
       "<!-- 140313711216960&#45;&gt;140313711216792 -->\n",
       "<g class=\"edge\" id=\"edge11\">\n",
       "<title>140313711216960-&gt;140313711216792</title>\n",
       "<path d=\"M402.5,-664.3799C402.5,-656.1745 402.5,-646.7679 402.5,-637.8786\" fill=\"none\" stroke=\"#000000\"/>\n",
       "<polygon fill=\"#000000\" points=\"406.0001,-637.784 402.5,-627.784 399.0001,-637.784 406.0001,-637.784\" stroke=\"#000000\"/>\n",
       "</g>\n",
       "<!-- 140313711191488 -->\n",
       "<g class=\"node\" id=\"node12\">\n",
       "<title>140313711191488</title>\n",
       "<polygon fill=\"none\" points=\"239.5,-498.5 239.5,-544.5 565.5,-544.5 565.5,-498.5 239.5,-498.5\" stroke=\"#000000\"/>\n",
       "<text fill=\"#000000\" font-family=\"Times,serif\" font-size=\"14.00\" text-anchor=\"middle\" x=\"312.5\" y=\"-517.8\">block2_conv2: Conv2D</text>\n",
       "<polyline fill=\"none\" points=\"385.5,-498.5 385.5,-544.5 \" stroke=\"#000000\"/>\n",
       "<text fill=\"#000000\" font-family=\"Times,serif\" font-size=\"14.00\" text-anchor=\"middle\" x=\"413\" y=\"-529.3\">input:</text>\n",
       "<polyline fill=\"none\" points=\"385.5,-521.5 440.5,-521.5 \" stroke=\"#000000\"/>\n",
       "<text fill=\"#000000\" font-family=\"Times,serif\" font-size=\"14.00\" text-anchor=\"middle\" x=\"413\" y=\"-506.3\">output:</text>\n",
       "<polyline fill=\"none\" points=\"440.5,-498.5 440.5,-544.5 \" stroke=\"#000000\"/>\n",
       "<text fill=\"#000000\" font-family=\"Times,serif\" font-size=\"14.00\" text-anchor=\"middle\" x=\"503\" y=\"-529.3\">(None, 32, 32, 128)</text>\n",
       "<polyline fill=\"none\" points=\"440.5,-521.5 565.5,-521.5 \" stroke=\"#000000\"/>\n",
       "<text fill=\"#000000\" font-family=\"Times,serif\" font-size=\"14.00\" text-anchor=\"middle\" x=\"503\" y=\"-506.3\">(None, 32, 32, 128)</text>\n",
       "</g>\n",
       "<!-- 140313711216792&#45;&gt;140313711191488 -->\n",
       "<g class=\"edge\" id=\"edge12\">\n",
       "<title>140313711216792-&gt;140313711191488</title>\n",
       "<path d=\"M402.5,-581.3799C402.5,-573.1745 402.5,-563.7679 402.5,-554.8786\" fill=\"none\" stroke=\"#000000\"/>\n",
       "<polygon fill=\"#000000\" points=\"406.0001,-554.784 402.5,-544.784 399.0001,-554.784 406.0001,-554.784\" stroke=\"#000000\"/>\n",
       "</g>\n",
       "<!-- 140313711136048 -->\n",
       "<g class=\"node\" id=\"node13\">\n",
       "<title>140313711136048</title>\n",
       "<polygon fill=\"none\" points=\"179.5,-415.5 179.5,-461.5 625.5,-461.5 625.5,-415.5 179.5,-415.5\" stroke=\"#000000\"/>\n",
       "<text fill=\"#000000\" font-family=\"Times,serif\" font-size=\"14.00\" text-anchor=\"middle\" x=\"312.5\" y=\"-434.8\">batch_normalization_13: BatchNormalization</text>\n",
       "<polyline fill=\"none\" points=\"445.5,-415.5 445.5,-461.5 \" stroke=\"#000000\"/>\n",
       "<text fill=\"#000000\" font-family=\"Times,serif\" font-size=\"14.00\" text-anchor=\"middle\" x=\"473\" y=\"-446.3\">input:</text>\n",
       "<polyline fill=\"none\" points=\"445.5,-438.5 500.5,-438.5 \" stroke=\"#000000\"/>\n",
       "<text fill=\"#000000\" font-family=\"Times,serif\" font-size=\"14.00\" text-anchor=\"middle\" x=\"473\" y=\"-423.3\">output:</text>\n",
       "<polyline fill=\"none\" points=\"500.5,-415.5 500.5,-461.5 \" stroke=\"#000000\"/>\n",
       "<text fill=\"#000000\" font-family=\"Times,serif\" font-size=\"14.00\" text-anchor=\"middle\" x=\"563\" y=\"-446.3\">(None, 32, 32, 128)</text>\n",
       "<polyline fill=\"none\" points=\"500.5,-438.5 625.5,-438.5 \" stroke=\"#000000\"/>\n",
       "<text fill=\"#000000\" font-family=\"Times,serif\" font-size=\"14.00\" text-anchor=\"middle\" x=\"563\" y=\"-423.3\">(None, 32, 32, 128)</text>\n",
       "</g>\n",
       "<!-- 140313711191488&#45;&gt;140313711136048 -->\n",
       "<g class=\"edge\" id=\"edge13\">\n",
       "<title>140313711191488-&gt;140313711136048</title>\n",
       "<path d=\"M402.5,-498.3799C402.5,-490.1745 402.5,-480.7679 402.5,-471.8786\" fill=\"none\" stroke=\"#000000\"/>\n",
       "<polygon fill=\"#000000\" points=\"406.0001,-471.784 402.5,-461.784 399.0001,-471.784 406.0001,-471.784\" stroke=\"#000000\"/>\n",
       "</g>\n",
       "<!-- 140313711597048 -->\n",
       "<g class=\"node\" id=\"node14\">\n",
       "<title>140313711597048</title>\n",
       "<polygon fill=\"none\" points=\"27.5,-332.5 27.5,-378.5 509.5,-378.5 509.5,-332.5 27.5,-332.5\" stroke=\"#000000\"/>\n",
       "<text fill=\"#000000\" font-family=\"Times,serif\" font-size=\"14.00\" text-anchor=\"middle\" x=\"120\" y=\"-351.8\">soft_attention_2: SoftAttention</text>\n",
       "<polyline fill=\"none\" points=\"212.5,-332.5 212.5,-378.5 \" stroke=\"#000000\"/>\n",
       "<text fill=\"#000000\" font-family=\"Times,serif\" font-size=\"14.00\" text-anchor=\"middle\" x=\"240\" y=\"-363.3\">input:</text>\n",
       "<polyline fill=\"none\" points=\"212.5,-355.5 267.5,-355.5 \" stroke=\"#000000\"/>\n",
       "<text fill=\"#000000\" font-family=\"Times,serif\" font-size=\"14.00\" text-anchor=\"middle\" x=\"240\" y=\"-340.3\">output:</text>\n",
       "<polyline fill=\"none\" points=\"267.5,-332.5 267.5,-378.5 \" stroke=\"#000000\"/>\n",
       "<text fill=\"#000000\" font-family=\"Times,serif\" font-size=\"14.00\" text-anchor=\"middle\" x=\"388.5\" y=\"-363.3\">(None, 32, 32, 128)</text>\n",
       "<polyline fill=\"none\" points=\"267.5,-355.5 509.5,-355.5 \" stroke=\"#000000\"/>\n",
       "<text fill=\"#000000\" font-family=\"Times,serif\" font-size=\"14.00\" text-anchor=\"middle\" x=\"388.5\" y=\"-340.3\">[(None, 32, 32, 128), (None, 16, 32, 32)]</text>\n",
       "</g>\n",
       "<!-- 140313711136048&#45;&gt;140313711597048 -->\n",
       "<g class=\"edge\" id=\"edge14\">\n",
       "<title>140313711136048-&gt;140313711597048</title>\n",
       "<path d=\"M365.1735,-415.3799C349.6225,-405.7475 331.3988,-394.4597 314.9911,-384.2967\" fill=\"none\" stroke=\"#000000\"/>\n",
       "<polygon fill=\"#000000\" points=\"316.4354,-381.0743 306.091,-378.784 312.7493,-387.0252 316.4354,-381.0743\" stroke=\"#000000\"/>\n",
       "</g>\n",
       "<!-- 140313711133248 -->\n",
       "<g class=\"node\" id=\"node15\">\n",
       "<title>140313711133248</title>\n",
       "<polygon fill=\"none\" points=\"405.5,-249.5 405.5,-295.5 821.5,-295.5 821.5,-249.5 405.5,-249.5\" stroke=\"#000000\"/>\n",
       "<text fill=\"#000000\" font-family=\"Times,serif\" font-size=\"14.00\" text-anchor=\"middle\" x=\"523.5\" y=\"-268.8\">block2_reduction_conv: MaxPooling2D</text>\n",
       "<polyline fill=\"none\" points=\"641.5,-249.5 641.5,-295.5 \" stroke=\"#000000\"/>\n",
       "<text fill=\"#000000\" font-family=\"Times,serif\" font-size=\"14.00\" text-anchor=\"middle\" x=\"669\" y=\"-280.3\">input:</text>\n",
       "<polyline fill=\"none\" points=\"641.5,-272.5 696.5,-272.5 \" stroke=\"#000000\"/>\n",
       "<text fill=\"#000000\" font-family=\"Times,serif\" font-size=\"14.00\" text-anchor=\"middle\" x=\"669\" y=\"-257.3\">output:</text>\n",
       "<polyline fill=\"none\" points=\"696.5,-249.5 696.5,-295.5 \" stroke=\"#000000\"/>\n",
       "<text fill=\"#000000\" font-family=\"Times,serif\" font-size=\"14.00\" text-anchor=\"middle\" x=\"759\" y=\"-280.3\">(None, 32, 32, 128)</text>\n",
       "<polyline fill=\"none\" points=\"696.5,-272.5 821.5,-272.5 \" stroke=\"#000000\"/>\n",
       "<text fill=\"#000000\" font-family=\"Times,serif\" font-size=\"14.00\" text-anchor=\"middle\" x=\"759\" y=\"-257.3\">(None, 16, 16, 128)</text>\n",
       "</g>\n",
       "<!-- 140313711136048&#45;&gt;140313711133248 -->\n",
       "<g class=\"edge\" id=\"edge15\">\n",
       "<title>140313711136048-&gt;140313711133248</title>\n",
       "<path d=\"M457.5131,-415.4254C477.6769,-405.6767 500.0571,-393.2597 518.5,-379 546.6062,-357.2688 573.0314,-326.4691 590.841,-303.5776\" fill=\"none\" stroke=\"#000000\"/>\n",
       "<polygon fill=\"#000000\" points=\"593.6998,-305.6009 596.9997,-295.5331 588.1417,-301.3457 593.6998,-305.6009\" stroke=\"#000000\"/>\n",
       "</g>\n",
       "<!-- 140313711595592 -->\n",
       "<g class=\"node\" id=\"node16\">\n",
       "<title>140313711595592</title>\n",
       "<polygon fill=\"none\" points=\"0,-249.5 0,-295.5 387,-295.5 387,-249.5 0,-249.5\" stroke=\"#000000\"/>\n",
       "<text fill=\"#000000\" font-family=\"Times,serif\" font-size=\"14.00\" text-anchor=\"middle\" x=\"103.5\" y=\"-268.8\">max_pooling2d_7: MaxPooling2D</text>\n",
       "<polyline fill=\"none\" points=\"207,-249.5 207,-295.5 \" stroke=\"#000000\"/>\n",
       "<text fill=\"#000000\" font-family=\"Times,serif\" font-size=\"14.00\" text-anchor=\"middle\" x=\"234.5\" y=\"-280.3\">input:</text>\n",
       "<polyline fill=\"none\" points=\"207,-272.5 262,-272.5 \" stroke=\"#000000\"/>\n",
       "<text fill=\"#000000\" font-family=\"Times,serif\" font-size=\"14.00\" text-anchor=\"middle\" x=\"234.5\" y=\"-257.3\">output:</text>\n",
       "<polyline fill=\"none\" points=\"262,-249.5 262,-295.5 \" stroke=\"#000000\"/>\n",
       "<text fill=\"#000000\" font-family=\"Times,serif\" font-size=\"14.00\" text-anchor=\"middle\" x=\"324.5\" y=\"-280.3\">(None, 32, 32, 128)</text>\n",
       "<polyline fill=\"none\" points=\"262,-272.5 387,-272.5 \" stroke=\"#000000\"/>\n",
       "<text fill=\"#000000\" font-family=\"Times,serif\" font-size=\"14.00\" text-anchor=\"middle\" x=\"324.5\" y=\"-257.3\">(None, 16, 16, 128)</text>\n",
       "</g>\n",
       "<!-- 140313711597048&#45;&gt;140313711595592 -->\n",
       "<g class=\"edge\" id=\"edge16\">\n",
       "<title>140313711597048-&gt;140313711595592</title>\n",
       "<path d=\"M247.6083,-332.3799C239.4685,-323.3718 230.0205,-312.916 221.3189,-303.2863\" fill=\"none\" stroke=\"#000000\"/>\n",
       "<polygon fill=\"#000000\" points=\"223.8411,-300.8571 214.5398,-295.784 218.6474,-305.5502 223.8411,-300.8571\" stroke=\"#000000\"/>\n",
       "</g>\n",
       "<!-- 140313711574768 -->\n",
       "<g class=\"node\" id=\"node17\">\n",
       "<title>140313711574768</title>\n",
       "<polygon fill=\"none\" points=\"167.5,-166.5 167.5,-212.5 639.5,-212.5 639.5,-166.5 167.5,-166.5\" stroke=\"#000000\"/>\n",
       "<text fill=\"#000000\" font-family=\"Times,serif\" font-size=\"14.00\" text-anchor=\"middle\" x=\"251.5\" y=\"-185.8\">concatenate_8: Concatenate</text>\n",
       "<polyline fill=\"none\" points=\"335.5,-166.5 335.5,-212.5 \" stroke=\"#000000\"/>\n",
       "<text fill=\"#000000\" font-family=\"Times,serif\" font-size=\"14.00\" text-anchor=\"middle\" x=\"363\" y=\"-197.3\">input:</text>\n",
       "<polyline fill=\"none\" points=\"335.5,-189.5 390.5,-189.5 \" stroke=\"#000000\"/>\n",
       "<text fill=\"#000000\" font-family=\"Times,serif\" font-size=\"14.00\" text-anchor=\"middle\" x=\"363\" y=\"-174.3\">output:</text>\n",
       "<polyline fill=\"none\" points=\"390.5,-166.5 390.5,-212.5 \" stroke=\"#000000\"/>\n",
       "<text fill=\"#000000\" font-family=\"Times,serif\" font-size=\"14.00\" text-anchor=\"middle\" x=\"515\" y=\"-197.3\">[(None, 16, 16, 128), (None, 16, 16, 128)]</text>\n",
       "<polyline fill=\"none\" points=\"390.5,-189.5 639.5,-189.5 \" stroke=\"#000000\"/>\n",
       "<text fill=\"#000000\" font-family=\"Times,serif\" font-size=\"14.00\" text-anchor=\"middle\" x=\"515\" y=\"-174.3\">(None, 16, 16, 256)</text>\n",
       "</g>\n",
       "<!-- 140313711133248&#45;&gt;140313711574768 -->\n",
       "<g class=\"edge\" id=\"edge17\">\n",
       "<title>140313711133248-&gt;140313711574768</title>\n",
       "<path d=\"M555.2822,-249.4901C529.2226,-239.1904 498.3305,-226.9806 471.2405,-216.2736\" fill=\"none\" stroke=\"#000000\"/>\n",
       "<polygon fill=\"#000000\" points=\"472.4176,-212.9754 461.8311,-212.5547 469.8445,-219.4854 472.4176,-212.9754\" stroke=\"#000000\"/>\n",
       "</g>\n",
       "<!-- 140313711595592&#45;&gt;140313711574768 -->\n",
       "<g class=\"edge\" id=\"edge18\">\n",
       "<title>140313711595592-&gt;140313711574768</title>\n",
       "<path d=\"M251.7178,-249.4901C277.7774,-239.1904 308.6695,-226.9806 335.7595,-216.2736\" fill=\"none\" stroke=\"#000000\"/>\n",
       "<polygon fill=\"#000000\" points=\"337.1555,-219.4854 345.1689,-212.5547 334.5824,-212.9754 337.1555,-219.4854\" stroke=\"#000000\"/>\n",
       "</g>\n",
       "<!-- 140313711574040 -->\n",
       "<g class=\"node\" id=\"node18\">\n",
       "<title>140313711574040</title>\n",
       "<polygon fill=\"none\" points=\"233,-83.5 233,-129.5 574,-129.5 574,-83.5 233,-83.5\" stroke=\"#000000\"/>\n",
       "<text fill=\"#000000\" font-family=\"Times,serif\" font-size=\"14.00\" text-anchor=\"middle\" x=\"313.5\" y=\"-102.8\">activation_284: Activation</text>\n",
       "<polyline fill=\"none\" points=\"394,-83.5 394,-129.5 \" stroke=\"#000000\"/>\n",
       "<text fill=\"#000000\" font-family=\"Times,serif\" font-size=\"14.00\" text-anchor=\"middle\" x=\"421.5\" y=\"-114.3\">input:</text>\n",
       "<polyline fill=\"none\" points=\"394,-106.5 449,-106.5 \" stroke=\"#000000\"/>\n",
       "<text fill=\"#000000\" font-family=\"Times,serif\" font-size=\"14.00\" text-anchor=\"middle\" x=\"421.5\" y=\"-91.3\">output:</text>\n",
       "<polyline fill=\"none\" points=\"449,-83.5 449,-129.5 \" stroke=\"#000000\"/>\n",
       "<text fill=\"#000000\" font-family=\"Times,serif\" font-size=\"14.00\" text-anchor=\"middle\" x=\"511.5\" y=\"-114.3\">(None, 16, 16, 256)</text>\n",
       "<polyline fill=\"none\" points=\"449,-106.5 574,-106.5 \" stroke=\"#000000\"/>\n",
       "<text fill=\"#000000\" font-family=\"Times,serif\" font-size=\"14.00\" text-anchor=\"middle\" x=\"511.5\" y=\"-91.3\">(None, 16, 16, 256)</text>\n",
       "</g>\n",
       "<!-- 140313711574768&#45;&gt;140313711574040 -->\n",
       "<g class=\"edge\" id=\"edge19\">\n",
       "<title>140313711574768-&gt;140313711574040</title>\n",
       "<path d=\"M403.5,-166.3799C403.5,-158.1745 403.5,-148.7679 403.5,-139.8786\" fill=\"none\" stroke=\"#000000\"/>\n",
       "<polygon fill=\"#000000\" points=\"407.0001,-139.784 403.5,-129.784 400.0001,-139.784 407.0001,-139.784\" stroke=\"#000000\"/>\n",
       "</g>\n",
       "<!-- 140313711341864 -->\n",
       "<g class=\"node\" id=\"node19\">\n",
       "<title>140313711341864</title>\n",
       "<polygon fill=\"none\" points=\"251,-.5 251,-46.5 556,-46.5 556,-.5 251,-.5\" stroke=\"#000000\"/>\n",
       "<text fill=\"#000000\" font-family=\"Times,serif\" font-size=\"14.00\" text-anchor=\"middle\" x=\"313.5\" y=\"-19.8\">dropout_8: Dropout</text>\n",
       "<polyline fill=\"none\" points=\"376,-.5 376,-46.5 \" stroke=\"#000000\"/>\n",
       "<text fill=\"#000000\" font-family=\"Times,serif\" font-size=\"14.00\" text-anchor=\"middle\" x=\"403.5\" y=\"-31.3\">input:</text>\n",
       "<polyline fill=\"none\" points=\"376,-23.5 431,-23.5 \" stroke=\"#000000\"/>\n",
       "<text fill=\"#000000\" font-family=\"Times,serif\" font-size=\"14.00\" text-anchor=\"middle\" x=\"403.5\" y=\"-8.3\">output:</text>\n",
       "<polyline fill=\"none\" points=\"431,-.5 431,-46.5 \" stroke=\"#000000\"/>\n",
       "<text fill=\"#000000\" font-family=\"Times,serif\" font-size=\"14.00\" text-anchor=\"middle\" x=\"493.5\" y=\"-31.3\">(None, 16, 16, 256)</text>\n",
       "<polyline fill=\"none\" points=\"431,-23.5 556,-23.5 \" stroke=\"#000000\"/>\n",
       "<text fill=\"#000000\" font-family=\"Times,serif\" font-size=\"14.00\" text-anchor=\"middle\" x=\"493.5\" y=\"-8.3\">(None, 16, 16, 256)</text>\n",
       "</g>\n",
       "<!-- 140313711574040&#45;&gt;140313711341864 -->\n",
       "<g class=\"edge\" id=\"edge20\">\n",
       "<title>140313711574040-&gt;140313711341864</title>\n",
       "<path d=\"M403.5,-83.3799C403.5,-75.1745 403.5,-65.7679 403.5,-56.8786\" fill=\"none\" stroke=\"#000000\"/>\n",
       "<polygon fill=\"#000000\" points=\"407.0001,-56.784 403.5,-46.784 400.0001,-56.784 407.0001,-56.784\" stroke=\"#000000\"/>\n",
       "</g>\n",
       "</g>\n",
       "</svg>"
      ],
      "text/plain": [
       "<IPython.core.display.SVG object>"
      ]
     },
     "execution_count": 233,
     "metadata": {},
     "output_type": "execute_result"
    }
   ],
   "source": [
    "SVG(model_to_dot(feat_ext_A,show_layer_names=True, show_shapes=True).create(prog='dot', format='svg'))"
   ]
  },
  {
   "cell_type": "markdown",
   "metadata": {},
   "source": [
    "## extract features from the stem model"
   ]
  },
  {
   "cell_type": "code",
   "execution_count": 234,
   "metadata": {
    "scrolled": true
   },
   "outputs": [],
   "source": [
    "l_inp = kl.Input(shape=(64,64,1),name='l')\n",
    "r_inp = kl.Input(shape=(64,64,1),name='r')\n",
    "left_feats = feat_ext_A(l_inp)\n",
    "right_feats = feat_ext_A(r_inp)\n"
   ]
  },
  {
   "cell_type": "markdown",
   "metadata": {},
   "source": [
    "## apply cross attention between the extracted features"
   ]
  },
  {
   "cell_type": "code",
   "execution_count": 235,
   "metadata": {},
   "outputs": [],
   "source": [
    "att_l_1,l_map_1 = CrossAttention(ch=int(left_feats.shape[-1]),name='ca_l2r_1')([left_feats,right_feats]) #[k,q]\n",
    "att_l_1 = kl.BatchNormalization()(att_l_1)\n",
    "att_l_2,l_map_2 = CrossAttention(ch=int(left_feats.shape[-1]),name='ca_l2r_2')([left_feats,right_feats]) #[k,q]\n",
    "att_l_2 = kl.BatchNormalization()(att_l_2)\n",
    "att_l_conc = kl.Concatenate(name='ca_l2r_concat')([att_l_1,att_l_2])\n",
    "att_l_conc = kl.Activation('relu')(att_l_conc)\n",
    "l2r_comb,l2r_g1,l2r_g2 = ResidualCombine2D(ch_in=int(att_l_conc.shape[-1]),ch_out=512,name='ca_l2r_comb')([left_feats,att_l_conc])\n",
    "l2r_comb = kl.BatchNormalization()(l2r_comb)\n",
    "\n",
    "att_r_1,r_map_1 = CrossAttention(ch=int(right_feats.shape[-1]),name='ca_r2l_1')([right_feats,left_feats])#[k,q]\n",
    "att_r_1 = kl.BatchNormalization()(att_r_1)\n",
    "att_r_2,r_map_2 = CrossAttention(ch=int(right_feats.shape[-1]),name='ca_r2l_2')([right_feats,left_feats])#[k,q]\n",
    "att_r_2 = kl.BatchNormalization()(att_r_2)\n",
    "att_r_conc = kl.Concatenate(name='ca_r2l_concat')([att_r_1,att_r_2])\n",
    "att_r_conc = kl.Activation('relu')(att_r_conc)\n",
    "r2l_comb,r2l_g1,r2l_g2 = ResidualCombine2D(ch_in=int(att_r_conc.shape[-1]),ch_out=512,name='ca_r2l_comb')([right_feats,att_r_conc])\n",
    "r2l_comb = kl.BatchNormalization()(r2l_comb)"
   ]
  },
  {
   "cell_type": "markdown",
   "metadata": {},
   "source": [
    "## combine the attended features"
   ]
  },
  {
   "cell_type": "code",
   "execution_count": 236,
   "metadata": {},
   "outputs": [],
   "source": [
    "all_concat = kl.Concatenate()([l2r_comb,r2l_comb])\n",
    "all_concat = kl.Activation('relu')(all_concat)"
   ]
  },
  {
   "cell_type": "markdown",
   "metadata": {},
   "source": [
    "## futher joint feature extraction"
   ]
  },
  {
   "cell_type": "code",
   "execution_count": 237,
   "metadata": {
    "scrolled": true
   },
   "outputs": [
    {
     "name": "stdout",
     "output_type": "stream",
     "text": [
      "__________________________________________________________________________________________________\n",
      "Layer (type)                    Output Shape         Param #     Connected to                     \n",
      "==================================================================================================\n",
      "l (InputLayer)                  (None, 64, 64, 1)    0                                            \n",
      "__________________________________________________________________________________________________\n",
      "r (InputLayer)                  (None, 64, 64, 1)    0                                            \n",
      "__________________________________________________________________________________________________\n",
      "imgModel (Model)                (None, 16, 16, 256)  361184      l[0][0]                          \n",
      "                                                                 r[0][0]                          \n",
      "__________________________________________________________________________________________________\n",
      "ca_l2r_1 (CrossAttention)       [(None, 16, 16, 256) 148032      imgModel[1][0]                   \n",
      "                                                                 imgModel[2][0]                   \n",
      "__________________________________________________________________________________________________\n",
      "ca_l2r_2 (CrossAttention)       [(None, 16, 16, 256) 148032      imgModel[1][0]                   \n",
      "                                                                 imgModel[2][0]                   \n",
      "__________________________________________________________________________________________________\n",
      "ca_r2l_1 (CrossAttention)       [(None, 16, 16, 256) 148032      imgModel[2][0]                   \n",
      "                                                                 imgModel[1][0]                   \n",
      "__________________________________________________________________________________________________\n",
      "ca_r2l_2 (CrossAttention)       [(None, 16, 16, 256) 148032      imgModel[2][0]                   \n",
      "                                                                 imgModel[1][0]                   \n",
      "__________________________________________________________________________________________________\n",
      "batch_normalization_14 (BatchNo (None, 16, 16, 256)  1024        ca_l2r_1[0][0]                   \n",
      "__________________________________________________________________________________________________\n",
      "batch_normalization_15 (BatchNo (None, 16, 16, 256)  1024        ca_l2r_2[0][0]                   \n",
      "__________________________________________________________________________________________________\n",
      "batch_normalization_17 (BatchNo (None, 16, 16, 256)  1024        ca_r2l_1[0][0]                   \n",
      "__________________________________________________________________________________________________\n",
      "batch_normalization_18 (BatchNo (None, 16, 16, 256)  1024        ca_r2l_2[0][0]                   \n",
      "__________________________________________________________________________________________________\n",
      "ca_l2r_concat (Concatenate)     (None, 16, 16, 512)  0           batch_normalization_14[0][0]     \n",
      "                                                                 batch_normalization_15[0][0]     \n",
      "__________________________________________________________________________________________________\n",
      "ca_r2l_concat (Concatenate)     (None, 16, 16, 512)  0           batch_normalization_17[0][0]     \n",
      "                                                                 batch_normalization_18[0][0]     \n",
      "__________________________________________________________________________________________________\n",
      "activation_297 (Activation)     (None, 16, 16, 512)  0           ca_l2r_concat[0][0]              \n",
      "__________________________________________________________________________________________________\n",
      "activation_308 (Activation)     (None, 16, 16, 512)  0           ca_r2l_concat[0][0]              \n",
      "__________________________________________________________________________________________________\n",
      "ca_l2r_comb (ResidualCombine2D) [(None, 16, 16, 768) 262658      imgModel[1][0]                   \n",
      "                                                                 activation_297[0][0]             \n",
      "__________________________________________________________________________________________________\n",
      "ca_r2l_comb (ResidualCombine2D) [(None, 16, 16, 768) 262658      imgModel[2][0]                   \n",
      "                                                                 activation_308[0][0]             \n",
      "__________________________________________________________________________________________________\n",
      "batch_normalization_16 (BatchNo (None, 16, 16, 768)  3072        ca_l2r_comb[0][0]                \n",
      "__________________________________________________________________________________________________\n",
      "batch_normalization_19 (BatchNo (None, 16, 16, 768)  3072        ca_r2l_comb[0][0]                \n",
      "__________________________________________________________________________________________________\n",
      "concatenate_9 (Concatenate)     (None, 16, 16, 1536) 0           batch_normalization_16[0][0]     \n",
      "                                                                 batch_normalization_19[0][0]     \n",
      "__________________________________________________________________________________________________\n",
      "activation_311 (Activation)     (None, 16, 16, 1536) 0           concatenate_9[0][0]              \n",
      "__________________________________________________________________________________________________\n",
      "block3_conv1 (Conv2D)           (None, 16, 16, 256)  3539200     activation_311[0][0]             \n",
      "__________________________________________________________________________________________________\n",
      "block3_conv2 (Conv2D)           (None, 16, 16, 256)  590080      block3_conv1[0][0]               \n",
      "__________________________________________________________________________________________________\n",
      "block3_conv3 (Conv2D)           (None, 16, 16, 256)  590080      block3_conv2[0][0]               \n",
      "__________________________________________________________________________________________________\n",
      "batch_normalization_20 (BatchNo (None, 16, 16, 256)  1024        block3_conv3[0][0]               \n",
      "__________________________________________________________________________________________________\n",
      "soft_attention_3 (SoftAttention [(None, 16, 16, 256) 36880       batch_normalization_20[0][0]     \n",
      "__________________________________________________________________________________________________\n",
      "block3_reduction_conv (MaxPooli (None, 8, 8, 256)    0           batch_normalization_20[0][0]     \n",
      "__________________________________________________________________________________________________\n",
      "max_pooling2d_8 (MaxPooling2D)  (None, 8, 8, 256)    0           soft_attention_3[0][0]           \n",
      "__________________________________________________________________________________________________\n",
      "concatenate_10 (Concatenate)    (None, 8, 8, 512)    0           block3_reduction_conv[0][0]      \n",
      "                                                                 max_pooling2d_8[0][0]            \n",
      "__________________________________________________________________________________________________\n",
      "activation_313 (Activation)     (None, 8, 8, 512)    0           concatenate_10[0][0]             \n",
      "__________________________________________________________________________________________________\n",
      "dropout_9 (Dropout)             (None, 8, 8, 512)    0           activation_313[0][0]             \n",
      "__________________________________________________________________________________________________\n",
      "block4_conv1 (Conv2D)           (None, 8, 8, 512)    2359808     dropout_9[0][0]                  \n",
      "__________________________________________________________________________________________________\n",
      "block4_conv2 (Conv2D)           (None, 8, 8, 512)    2359808     block4_conv1[0][0]               \n",
      "__________________________________________________________________________________________________\n",
      "block4_conv3 (Conv2D)           (None, 8, 8, 512)    2359808     block4_conv2[0][0]               \n",
      "__________________________________________________________________________________________________\n",
      "batch_normalization_21 (BatchNo (None, 8, 8, 512)    2048        block4_conv3[0][0]               \n",
      "__________________________________________________________________________________________________\n",
      "soft_attention_4 (SoftAttention [(None, 8, 8, 512),  73744       batch_normalization_21[0][0]     \n",
      "__________________________________________________________________________________________________\n",
      "block4_reduction_conv (MaxPooli (None, 4, 4, 512)    0           batch_normalization_21[0][0]     \n",
      "__________________________________________________________________________________________________\n",
      "max_pooling2d_9 (MaxPooling2D)  (None, 4, 4, 512)    0           soft_attention_4[0][0]           \n",
      "__________________________________________________________________________________________________\n",
      "concatenate_11 (Concatenate)    (None, 4, 4, 1024)   0           block4_reduction_conv[0][0]      \n",
      "                                                                 max_pooling2d_9[0][0]            \n",
      "__________________________________________________________________________________________________\n",
      "activation_315 (Activation)     (None, 4, 4, 1024)   0           concatenate_11[0][0]             \n",
      "__________________________________________________________________________________________________\n",
      "dropout_10 (Dropout)            (None, 4, 4, 1024)   0           activation_315[0][0]             \n",
      "__________________________________________________________________________________________________\n",
      "block5_conv1 (Conv2D)           (None, 4, 4, 512)    4719104     dropout_10[0][0]                 \n",
      "__________________________________________________________________________________________________\n",
      "block5_conv2 (Conv2D)           (None, 4, 4, 512)    2359808     block5_conv1[0][0]               \n",
      "__________________________________________________________________________________________________\n",
      "block5_conv3 (Conv2D)           (None, 4, 4, 512)    2359808     block5_conv2[0][0]               \n",
      "__________________________________________________________________________________________________\n",
      "batch_normalization_22 (BatchNo (None, 4, 4, 512)    2048        block5_conv3[0][0]               \n",
      "__________________________________________________________________________________________________\n",
      "soft_attention_5 (SoftAttention [(None, 4, 4, 512),  73744       batch_normalization_22[0][0]     \n",
      "__________________________________________________________________________________________________\n",
      "block5_reduction_conv (MaxPooli (None, 2, 2, 512)    0           batch_normalization_22[0][0]     \n",
      "__________________________________________________________________________________________________\n",
      "max_pooling2d_10 (MaxPooling2D) (None, 2, 2, 512)    0           soft_attention_5[0][0]           \n",
      "__________________________________________________________________________________________________\n",
      "concatenate_12 (Concatenate)    (None, 2, 2, 1024)   0           block5_reduction_conv[0][0]      \n",
      "                                                                 max_pooling2d_10[0][0]           \n",
      "__________________________________________________________________________________________________\n",
      "activation_317 (Activation)     (None, 2, 2, 1024)   0           concatenate_12[0][0]             \n",
      "__________________________________________________________________________________________________\n",
      "dropout_11 (Dropout)            (None, 2, 2, 1024)   0           activation_317[0][0]             \n",
      "__________________________________________________________________________________________________\n",
      "flatten_2 (Flatten)             (None, 4096)         0           dropout_11[0][0]                 \n",
      "__________________________________________________________________________________________________\n",
      "dropout_12 (Dropout)            (None, 4096)         0           flatten_2[0][0]                  \n",
      "__________________________________________________________________________________________________\n",
      "y (Dense)                       (None, 2)            8194        dropout_12[0][0]                 \n",
      "==================================================================================================\n",
      "Total params: 22,924,054\n",
      "Trainable params: 22,915,990\n",
      "Non-trainable params: 8,064\n",
      "__________________________________________________________________________________________________\n"
     ]
    }
   ],
   "source": [
    "\n",
    "x = kl.Conv2D(filters=256, kernel_size=(3,3), activation='relu', padding='same', name='block3_conv1')(all_concat)\n",
    "x = kl.Conv2D(filters=256, kernel_size=(3,3), activation='relu', padding='same', name='block3_conv2')(x)\n",
    "x = kl.Conv2D(filters=256, kernel_size=(3,3), activation='relu', padding='same', name='block3_conv3')(x)\n",
    "x = kl.BatchNormalization()(x)\n",
    "x_red = kl.MaxPooling2D(pool_size=(2,2),padding='same', name='block3_reduction_conv')(x)\n",
    "xsa3,samap3 = SoftAttention(aggregate=True,m=16,concat_with_x=False,ch=int(x.shape[-1]),name='soft_attention_3')(x)\n",
    "xsa3 = kl.MaxPooling2D(pool_size=(2,2),padding='same')(xsa3)\n",
    "x = kl.Concatenate()([x_red,xsa3])\n",
    "x = kl.Activation('relu')(x)\n",
    "x = kl.Dropout(0.5)(x)\n",
    "\n",
    "x = kl.Conv2D(filters=512, kernel_size=(3,3), activation='relu', padding='same', name='block4_conv1')(x)\n",
    "x = kl.Conv2D(filters=512, kernel_size=(3,3), activation='relu', padding='same', name='block4_conv2')(x)\n",
    "x = kl.Conv2D(filters=512, kernel_size=(3,3), activation='relu', padding='same', name='block4_conv3')(x)\n",
    "x = kl.BatchNormalization()(x)\n",
    "x_red = kl.MaxPooling2D(pool_size=(2,2),padding='same', name='block4_reduction_conv')(x)\n",
    "xsa4,samap4 = SoftAttention(aggregate=True,m=16,concat_with_x=False,ch=int(x.shape[-1]),name='soft_attention_4')(x)\n",
    "xsa4 = kl.MaxPooling2D(pool_size=(2,2),padding='same')(xsa4)\n",
    "x = kl.Concatenate()([x_red,xsa4])\n",
    "x = kl.Activation('relu')(x)\n",
    "x = kl.Dropout(0.5)(x)\n",
    "\n",
    "x = kl.Conv2D(filters=512, kernel_size=(3,3), activation='relu', padding='same', name='block5_conv1')(x)\n",
    "x = kl.Conv2D(filters=512, kernel_size=(3,3), activation='relu', padding='same', name='block5_conv2')(x)\n",
    "x = kl.Conv2D(filters=512, kernel_size=(3,3), activation='relu', padding='same', name='block5_conv3')(x)\n",
    "x = kl.BatchNormalization()(x)\n",
    "x_red = kl.MaxPooling2D(pool_size=(2,2), padding='same', name='block5_reduction_conv')(x)\n",
    "xsa5,samap5 = SoftAttention(aggregate=True,m=16,concat_with_x=False,ch=int(x.shape[-1]),name='soft_attention_5')(x)\n",
    "xsa5 = kl.MaxPooling2D(pool_size=(2,2),padding='same')(xsa5)\n",
    "x = kl.Concatenate()([x_red,xsa5])\n",
    "x = kl.Activation('relu')(x)\n",
    "x = kl.Dropout(0.5)(x)\n",
    "\n",
    "g = kl.Flatten()(x)\n",
    "g = kl.Dropout(0.5)(g)\n",
    "g = kl.Dense(2,activation='softmax',name='y')(g)\n",
    "model = Model(inputs = [l_inp,r_inp],outputs = g)\n",
    "model.summary()"
   ]
  },
  {
   "cell_type": "markdown",
   "metadata": {},
   "source": [
    "## view the model in SVG mode"
   ]
  },
  {
   "cell_type": "code",
   "execution_count": 238,
   "metadata": {
    "scrolled": true
   },
   "outputs": [
    {
     "data": {
      "image/svg+xml": [
       "<svg height=\"3292pt\" viewBox=\"0.00 0.00 1955.24 3292.00\" width=\"1955pt\" xmlns=\"http://www.w3.org/2000/svg\" xmlns:xlink=\"http://www.w3.org/1999/xlink\">\n",
       "<g class=\"graph\" id=\"graph0\" transform=\"scale(1 1) rotate(0) translate(4 3288)\">\n",
       "<title>G</title>\n",
       "<polygon fill=\"#ffffff\" points=\"-4,4 -4,-3288 1951.2411,-3288 1951.2411,4 -4,4\" stroke=\"transparent\"/>\n",
       "<!-- 140313713952808 -->\n",
       "<g class=\"node\" id=\"node1\">\n",
       "<title>140313713952808</title>\n",
       "<polygon fill=\"none\" points=\"710.2199,-3237.5 710.2199,-3283.5 964.2199,-3283.5 964.2199,-3237.5 710.2199,-3237.5\" stroke=\"#000000\"/>\n",
       "<text fill=\"#000000\" font-family=\"Times,serif\" font-size=\"14.00\" text-anchor=\"middle\" x=\"754.2199\" y=\"-3256.8\">l: InputLayer</text>\n",
       "<polyline fill=\"none\" points=\"798.2199,-3237.5 798.2199,-3283.5 \" stroke=\"#000000\"/>\n",
       "<text fill=\"#000000\" font-family=\"Times,serif\" font-size=\"14.00\" text-anchor=\"middle\" x=\"825.7199\" y=\"-3268.3\">input:</text>\n",
       "<polyline fill=\"none\" points=\"798.2199,-3260.5 853.2199,-3260.5 \" stroke=\"#000000\"/>\n",
       "<text fill=\"#000000\" font-family=\"Times,serif\" font-size=\"14.00\" text-anchor=\"middle\" x=\"825.7199\" y=\"-3245.3\">output:</text>\n",
       "<polyline fill=\"none\" points=\"853.2199,-3237.5 853.2199,-3283.5 \" stroke=\"#000000\"/>\n",
       "<text fill=\"#000000\" font-family=\"Times,serif\" font-size=\"14.00\" text-anchor=\"middle\" x=\"908.7199\" y=\"-3268.3\">(None, 64, 64, 1)</text>\n",
       "<polyline fill=\"none\" points=\"853.2199,-3260.5 964.2199,-3260.5 \" stroke=\"#000000\"/>\n",
       "<text fill=\"#000000\" font-family=\"Times,serif\" font-size=\"14.00\" text-anchor=\"middle\" x=\"908.7199\" y=\"-3245.3\">(None, 64, 64, 1)</text>\n",
       "</g>\n",
       "<!-- 140313711366216 -->\n",
       "<g class=\"node\" id=\"node3\">\n",
       "<title>140313711366216</title>\n",
       "<polygon fill=\"none\" points=\"824.2199,-3154.5 824.2199,-3200.5 1122.2199,-3200.5 1122.2199,-3154.5 824.2199,-3154.5\" stroke=\"#000000\"/>\n",
       "<text fill=\"#000000\" font-family=\"Times,serif\" font-size=\"14.00\" text-anchor=\"middle\" x=\"883.2199\" y=\"-3173.8\">imgModel: Model</text>\n",
       "<polyline fill=\"none\" points=\"942.2199,-3154.5 942.2199,-3200.5 \" stroke=\"#000000\"/>\n",
       "<text fill=\"#000000\" font-family=\"Times,serif\" font-size=\"14.00\" text-anchor=\"middle\" x=\"969.7199\" y=\"-3185.3\">input:</text>\n",
       "<polyline fill=\"none\" points=\"942.2199,-3177.5 997.2199,-3177.5 \" stroke=\"#000000\"/>\n",
       "<text fill=\"#000000\" font-family=\"Times,serif\" font-size=\"14.00\" text-anchor=\"middle\" x=\"969.7199\" y=\"-3162.3\">output:</text>\n",
       "<polyline fill=\"none\" points=\"997.2199,-3154.5 997.2199,-3200.5 \" stroke=\"#000000\"/>\n",
       "<text fill=\"#000000\" font-family=\"Times,serif\" font-size=\"14.00\" text-anchor=\"middle\" x=\"1059.7199\" y=\"-3185.3\">(None, 64, 64, 1)</text>\n",
       "<polyline fill=\"none\" points=\"997.2199,-3177.5 1122.2199,-3177.5 \" stroke=\"#000000\"/>\n",
       "<text fill=\"#000000\" font-family=\"Times,serif\" font-size=\"14.00\" text-anchor=\"middle\" x=\"1059.7199\" y=\"-3162.3\">(None, 16, 16, 256)</text>\n",
       "</g>\n",
       "<!-- 140313713952808&#45;&gt;140313711366216 -->\n",
       "<g class=\"edge\" id=\"edge1\">\n",
       "<title>140313713952808-&gt;140313711366216</title>\n",
       "<path d=\"M875.1035,-3237.3799C891.0328,-3227.6583 909.7251,-3216.2505 926.497,-3206.0147\" fill=\"none\" stroke=\"#000000\"/>\n",
       "<polygon fill=\"#000000\" points=\"928.3552,-3208.9811 935.0678,-3200.784 924.7086,-3203.0059 928.3552,-3208.9811\" stroke=\"#000000\"/>\n",
       "</g>\n",
       "<!-- 140313713953144 -->\n",
       "<g class=\"node\" id=\"node2\">\n",
       "<title>140313713953144</title>\n",
       "<polygon fill=\"none\" points=\"982.7199,-3237.5 982.7199,-3283.5 1237.7199,-3283.5 1237.7199,-3237.5 982.7199,-3237.5\" stroke=\"#000000\"/>\n",
       "<text fill=\"#000000\" font-family=\"Times,serif\" font-size=\"14.00\" text-anchor=\"middle\" x=\"1027.2199\" y=\"-3256.8\">r: InputLayer</text>\n",
       "<polyline fill=\"none\" points=\"1071.7199,-3237.5 1071.7199,-3283.5 \" stroke=\"#000000\"/>\n",
       "<text fill=\"#000000\" font-family=\"Times,serif\" font-size=\"14.00\" text-anchor=\"middle\" x=\"1099.2199\" y=\"-3268.3\">input:</text>\n",
       "<polyline fill=\"none\" points=\"1071.7199,-3260.5 1126.7199,-3260.5 \" stroke=\"#000000\"/>\n",
       "<text fill=\"#000000\" font-family=\"Times,serif\" font-size=\"14.00\" text-anchor=\"middle\" x=\"1099.2199\" y=\"-3245.3\">output:</text>\n",
       "<polyline fill=\"none\" points=\"1126.7199,-3237.5 1126.7199,-3283.5 \" stroke=\"#000000\"/>\n",
       "<text fill=\"#000000\" font-family=\"Times,serif\" font-size=\"14.00\" text-anchor=\"middle\" x=\"1182.2199\" y=\"-3268.3\">(None, 64, 64, 1)</text>\n",
       "<polyline fill=\"none\" points=\"1126.7199,-3260.5 1237.7199,-3260.5 \" stroke=\"#000000\"/>\n",
       "<text fill=\"#000000\" font-family=\"Times,serif\" font-size=\"14.00\" text-anchor=\"middle\" x=\"1182.2199\" y=\"-3245.3\">(None, 64, 64, 1)</text>\n",
       "</g>\n",
       "<!-- 140313713953144&#45;&gt;140313711366216 -->\n",
       "<g class=\"edge\" id=\"edge2\">\n",
       "<title>140313713953144-&gt;140313711366216</title>\n",
       "<path d=\"M1072.0578,-3237.3799C1056.0114,-3227.6583 1037.1816,-3216.2505 1020.2864,-3206.0147\" fill=\"none\" stroke=\"#000000\"/>\n",
       "<polygon fill=\"#000000\" points=\"1022.019,-3202.9722 1011.6526,-3200.784 1018.3918,-3208.9592 1022.019,-3202.9722\" stroke=\"#000000\"/>\n",
       "</g>\n",
       "<!-- 140313714255240 -->\n",
       "<g class=\"node\" id=\"node4\">\n",
       "<title>140313714255240</title>\n",
       "<polygon fill=\"none\" points=\"32.7199,-3071.5 32.7199,-3117.5 489.7199,-3117.5 489.7199,-3071.5 32.7199,-3071.5\" stroke=\"#000000\"/>\n",
       "<text fill=\"#000000\" font-family=\"Times,serif\" font-size=\"14.00\" text-anchor=\"middle\" x=\"109.2199\" y=\"-3090.8\">ca_l2r_1: CrossAttention</text>\n",
       "<polyline fill=\"none\" points=\"185.7199,-3071.5 185.7199,-3117.5 \" stroke=\"#000000\"/>\n",
       "<text fill=\"#000000\" font-family=\"Times,serif\" font-size=\"14.00\" text-anchor=\"middle\" x=\"213.2199\" y=\"-3102.3\">input:</text>\n",
       "<polyline fill=\"none\" points=\"185.7199,-3094.5 240.7199,-3094.5 \" stroke=\"#000000\"/>\n",
       "<text fill=\"#000000\" font-family=\"Times,serif\" font-size=\"14.00\" text-anchor=\"middle\" x=\"213.2199\" y=\"-3079.3\">output:</text>\n",
       "<polyline fill=\"none\" points=\"240.7199,-3071.5 240.7199,-3117.5 \" stroke=\"#000000\"/>\n",
       "<text fill=\"#000000\" font-family=\"Times,serif\" font-size=\"14.00\" text-anchor=\"middle\" x=\"365.2199\" y=\"-3102.3\">[(None, 16, 16, 256), (None, 16, 16, 256)]</text>\n",
       "<polyline fill=\"none\" points=\"240.7199,-3094.5 489.7199,-3094.5 \" stroke=\"#000000\"/>\n",
       "<text fill=\"#000000\" font-family=\"Times,serif\" font-size=\"14.00\" text-anchor=\"middle\" x=\"365.2199\" y=\"-3079.3\">[(None, 16, 16, 256), (256, 256)]</text>\n",
       "</g>\n",
       "<!-- 140313711366216&#45;&gt;140313714255240 -->\n",
       "<g class=\"edge\" id=\"edge3\">\n",
       "<title>140313711366216-&gt;140313714255240</title>\n",
       "<path d=\"M823.9614,-3160.1005C720.9468,-3148.0918 582.5881,-3131.9629 468.8426,-3118.7032\" fill=\"none\" stroke=\"#000000\"/>\n",
       "<polygon fill=\"#000000\" points=\"468.9506,-3115.1922 458.6126,-3117.5107 468.14,-3122.1451 468.9506,-3115.1922\" stroke=\"#000000\"/>\n",
       "</g>\n",
       "<!-- 140313714254008 -->\n",
       "<g class=\"node\" id=\"node5\">\n",
       "<title>140313714254008</title>\n",
       "<polygon fill=\"none\" points=\"507.7199,-3071.5 507.7199,-3117.5 964.7199,-3117.5 964.7199,-3071.5 507.7199,-3071.5\" stroke=\"#000000\"/>\n",
       "<text fill=\"#000000\" font-family=\"Times,serif\" font-size=\"14.00\" text-anchor=\"middle\" x=\"584.2199\" y=\"-3090.8\">ca_l2r_2: CrossAttention</text>\n",
       "<polyline fill=\"none\" points=\"660.7199,-3071.5 660.7199,-3117.5 \" stroke=\"#000000\"/>\n",
       "<text fill=\"#000000\" font-family=\"Times,serif\" font-size=\"14.00\" text-anchor=\"middle\" x=\"688.2199\" y=\"-3102.3\">input:</text>\n",
       "<polyline fill=\"none\" points=\"660.7199,-3094.5 715.7199,-3094.5 \" stroke=\"#000000\"/>\n",
       "<text fill=\"#000000\" font-family=\"Times,serif\" font-size=\"14.00\" text-anchor=\"middle\" x=\"688.2199\" y=\"-3079.3\">output:</text>\n",
       "<polyline fill=\"none\" points=\"715.7199,-3071.5 715.7199,-3117.5 \" stroke=\"#000000\"/>\n",
       "<text fill=\"#000000\" font-family=\"Times,serif\" font-size=\"14.00\" text-anchor=\"middle\" x=\"840.2199\" y=\"-3102.3\">[(None, 16, 16, 256), (None, 16, 16, 256)]</text>\n",
       "<polyline fill=\"none\" points=\"715.7199,-3094.5 964.7199,-3094.5 \" stroke=\"#000000\"/>\n",
       "<text fill=\"#000000\" font-family=\"Times,serif\" font-size=\"14.00\" text-anchor=\"middle\" x=\"840.2199\" y=\"-3079.3\">[(None, 16, 16, 256), (256, 256)]</text>\n",
       "</g>\n",
       "<!-- 140313711366216&#45;&gt;140313714254008 -->\n",
       "<g class=\"edge\" id=\"edge5\">\n",
       "<title>140313711366216-&gt;140313714254008</title>\n",
       "<path d=\"M907.517,-3154.4901C877.85,-3144.1004 842.6336,-3131.7672 811.8698,-3120.9934\" fill=\"none\" stroke=\"#000000\"/>\n",
       "<polygon fill=\"#000000\" points=\"812.6456,-3117.5567 802.0507,-3117.5547 810.3318,-3124.1633 812.6456,-3117.5567\" stroke=\"#000000\"/>\n",
       "</g>\n",
       "<!-- 140313715053008 -->\n",
       "<g class=\"node\" id=\"node6\">\n",
       "<title>140313715053008</title>\n",
       "<polygon fill=\"none\" points=\"982.7199,-3071.5 982.7199,-3117.5 1439.7199,-3117.5 1439.7199,-3071.5 982.7199,-3071.5\" stroke=\"#000000\"/>\n",
       "<text fill=\"#000000\" font-family=\"Times,serif\" font-size=\"14.00\" text-anchor=\"middle\" x=\"1059.2199\" y=\"-3090.8\">ca_r2l_1: CrossAttention</text>\n",
       "<polyline fill=\"none\" points=\"1135.7199,-3071.5 1135.7199,-3117.5 \" stroke=\"#000000\"/>\n",
       "<text fill=\"#000000\" font-family=\"Times,serif\" font-size=\"14.00\" text-anchor=\"middle\" x=\"1163.2199\" y=\"-3102.3\">input:</text>\n",
       "<polyline fill=\"none\" points=\"1135.7199,-3094.5 1190.7199,-3094.5 \" stroke=\"#000000\"/>\n",
       "<text fill=\"#000000\" font-family=\"Times,serif\" font-size=\"14.00\" text-anchor=\"middle\" x=\"1163.2199\" y=\"-3079.3\">output:</text>\n",
       "<polyline fill=\"none\" points=\"1190.7199,-3071.5 1190.7199,-3117.5 \" stroke=\"#000000\"/>\n",
       "<text fill=\"#000000\" font-family=\"Times,serif\" font-size=\"14.00\" text-anchor=\"middle\" x=\"1315.2199\" y=\"-3102.3\">[(None, 16, 16, 256), (None, 16, 16, 256)]</text>\n",
       "<polyline fill=\"none\" points=\"1190.7199,-3094.5 1439.7199,-3094.5 \" stroke=\"#000000\"/>\n",
       "<text fill=\"#000000\" font-family=\"Times,serif\" font-size=\"14.00\" text-anchor=\"middle\" x=\"1315.2199\" y=\"-3079.3\">[(None, 16, 16, 256), (256, 256)]</text>\n",
       "</g>\n",
       "<!-- 140313711366216&#45;&gt;140313715053008 -->\n",
       "<g class=\"edge\" id=\"edge7\">\n",
       "<title>140313711366216-&gt;140313715053008</title>\n",
       "<path d=\"M1039.2001,-3154.4901C1069.1212,-3144.0554 1104.6636,-3131.6604 1135.6518,-3120.8536\" fill=\"none\" stroke=\"#000000\"/>\n",
       "<polygon fill=\"#000000\" points=\"1136.8216,-3124.1524 1145.1114,-3117.5547 1134.5165,-3117.5428 1136.8216,-3124.1524\" stroke=\"#000000\"/>\n",
       "</g>\n",
       "<!-- 140313715513160 -->\n",
       "<g class=\"node\" id=\"node7\">\n",
       "<title>140313715513160</title>\n",
       "<polygon fill=\"none\" points=\"1457.7199,-3071.5 1457.7199,-3117.5 1914.7199,-3117.5 1914.7199,-3071.5 1457.7199,-3071.5\" stroke=\"#000000\"/>\n",
       "<text fill=\"#000000\" font-family=\"Times,serif\" font-size=\"14.00\" text-anchor=\"middle\" x=\"1534.2199\" y=\"-3090.8\">ca_r2l_2: CrossAttention</text>\n",
       "<polyline fill=\"none\" points=\"1610.7199,-3071.5 1610.7199,-3117.5 \" stroke=\"#000000\"/>\n",
       "<text fill=\"#000000\" font-family=\"Times,serif\" font-size=\"14.00\" text-anchor=\"middle\" x=\"1638.2199\" y=\"-3102.3\">input:</text>\n",
       "<polyline fill=\"none\" points=\"1610.7199,-3094.5 1665.7199,-3094.5 \" stroke=\"#000000\"/>\n",
       "<text fill=\"#000000\" font-family=\"Times,serif\" font-size=\"14.00\" text-anchor=\"middle\" x=\"1638.2199\" y=\"-3079.3\">output:</text>\n",
       "<polyline fill=\"none\" points=\"1665.7199,-3071.5 1665.7199,-3117.5 \" stroke=\"#000000\"/>\n",
       "<text fill=\"#000000\" font-family=\"Times,serif\" font-size=\"14.00\" text-anchor=\"middle\" x=\"1790.2199\" y=\"-3102.3\">[(None, 16, 16, 256), (None, 16, 16, 256)]</text>\n",
       "<polyline fill=\"none\" points=\"1665.7199,-3094.5 1914.7199,-3094.5 \" stroke=\"#000000\"/>\n",
       "<text fill=\"#000000\" font-family=\"Times,serif\" font-size=\"14.00\" text-anchor=\"middle\" x=\"1790.2199\" y=\"-3079.3\">[(None, 16, 16, 256), (256, 256)]</text>\n",
       "</g>\n",
       "<!-- 140313711366216&#45;&gt;140313715513160 -->\n",
       "<g class=\"edge\" id=\"edge9\">\n",
       "<title>140313711366216-&gt;140313715513160</title>\n",
       "<path d=\"M1122.2539,-3160.151C1225.3851,-3148.1456 1364.0435,-3132.0044 1478.0627,-3118.7315\" fill=\"none\" stroke=\"#000000\"/>\n",
       "<polygon fill=\"#000000\" points=\"1478.7892,-3122.1706 1488.3174,-3117.5377 1477.9797,-3115.2176 1478.7892,-3122.1706\" stroke=\"#000000\"/>\n",
       "</g>\n",
       "<!-- 140313715199840 -->\n",
       "<g class=\"node\" id=\"node16\">\n",
       "<title>140313715199840</title>\n",
       "<polygon fill=\"none\" points=\"71.7199,-2739.5 71.7199,-2785.5 584.7199,-2785.5 584.7199,-2739.5 71.7199,-2739.5\" stroke=\"#000000\"/>\n",
       "<text fill=\"#000000\" font-family=\"Times,serif\" font-size=\"14.00\" text-anchor=\"middle\" x=\"176.2199\" y=\"-2758.8\">ca_l2r_comb: ResidualCombine2D</text>\n",
       "<polyline fill=\"none\" points=\"280.7199,-2739.5 280.7199,-2785.5 \" stroke=\"#000000\"/>\n",
       "<text fill=\"#000000\" font-family=\"Times,serif\" font-size=\"14.00\" text-anchor=\"middle\" x=\"308.2199\" y=\"-2770.3\">input:</text>\n",
       "<polyline fill=\"none\" points=\"280.7199,-2762.5 335.7199,-2762.5 \" stroke=\"#000000\"/>\n",
       "<text fill=\"#000000\" font-family=\"Times,serif\" font-size=\"14.00\" text-anchor=\"middle\" x=\"308.2199\" y=\"-2747.3\">output:</text>\n",
       "<polyline fill=\"none\" points=\"335.7199,-2739.5 335.7199,-2785.5 \" stroke=\"#000000\"/>\n",
       "<text fill=\"#000000\" font-family=\"Times,serif\" font-size=\"14.00\" text-anchor=\"middle\" x=\"460.2199\" y=\"-2770.3\">[(None, 16, 16, 256), (None, 16, 16, 512)]</text>\n",
       "<polyline fill=\"none\" points=\"335.7199,-2762.5 584.7199,-2762.5 \" stroke=\"#000000\"/>\n",
       "<text fill=\"#000000\" font-family=\"Times,serif\" font-size=\"14.00\" text-anchor=\"middle\" x=\"460.2199\" y=\"-2747.3\">[(None, 16, 16, 768), (1,), (1,)]</text>\n",
       "</g>\n",
       "<!-- 140313711366216&#45;&gt;140313715199840 -->\n",
       "<g class=\"edge\" id=\"edge21\">\n",
       "<title>140313711366216-&gt;140313715199840</title>\n",
       "<path d=\"M823.9829,-3172.9439C563.969,-3164.3391 52.5756,-3144.1865 23.2199,-3118 -12.6598,-3085.9938 4.2199,-3059.5807 4.2199,-3011.5 4.2199,-3011.5 4.2199,-3011.5 4.2199,-2928.5 4.2199,-2851.8274 76.976,-2810.5448 153.5338,-2788.3286\" fill=\"none\" stroke=\"#000000\"/>\n",
       "<polygon fill=\"#000000\" points=\"154.6822,-2791.6419 163.3724,-2785.5814 152.7995,-2784.8998 154.6822,-2791.6419\" stroke=\"#000000\"/>\n",
       "</g>\n",
       "<!-- 140313715807008 -->\n",
       "<g class=\"node\" id=\"node17\">\n",
       "<title>140313715807008</title>\n",
       "<polygon fill=\"none\" points=\"1191.7199,-2739.5 1191.7199,-2785.5 1704.7199,-2785.5 1704.7199,-2739.5 1191.7199,-2739.5\" stroke=\"#000000\"/>\n",
       "<text fill=\"#000000\" font-family=\"Times,serif\" font-size=\"14.00\" text-anchor=\"middle\" x=\"1296.2199\" y=\"-2758.8\">ca_r2l_comb: ResidualCombine2D</text>\n",
       "<polyline fill=\"none\" points=\"1400.7199,-2739.5 1400.7199,-2785.5 \" stroke=\"#000000\"/>\n",
       "<text fill=\"#000000\" font-family=\"Times,serif\" font-size=\"14.00\" text-anchor=\"middle\" x=\"1428.2199\" y=\"-2770.3\">input:</text>\n",
       "<polyline fill=\"none\" points=\"1400.7199,-2762.5 1455.7199,-2762.5 \" stroke=\"#000000\"/>\n",
       "<text fill=\"#000000\" font-family=\"Times,serif\" font-size=\"14.00\" text-anchor=\"middle\" x=\"1428.2199\" y=\"-2747.3\">output:</text>\n",
       "<polyline fill=\"none\" points=\"1455.7199,-2739.5 1455.7199,-2785.5 \" stroke=\"#000000\"/>\n",
       "<text fill=\"#000000\" font-family=\"Times,serif\" font-size=\"14.00\" text-anchor=\"middle\" x=\"1580.2199\" y=\"-2770.3\">[(None, 16, 16, 256), (None, 16, 16, 512)]</text>\n",
       "<polyline fill=\"none\" points=\"1455.7199,-2762.5 1704.7199,-2762.5 \" stroke=\"#000000\"/>\n",
       "<text fill=\"#000000\" font-family=\"Times,serif\" font-size=\"14.00\" text-anchor=\"middle\" x=\"1580.2199\" y=\"-2747.3\">[(None, 16, 16, 768), (1,), (1,)]</text>\n",
       "</g>\n",
       "<!-- 140313711366216&#45;&gt;140313715807008 -->\n",
       "<g class=\"edge\" id=\"edge23\">\n",
       "<title>140313711366216-&gt;140313715807008</title>\n",
       "<path d=\"M1122.4336,-3172.9176C1382.4101,-3164.2707 1893.7456,-3144.0529 1923.2199,-3118 1959.3047,-3086.1041 1943.2199,-3059.6607 1943.2199,-3011.5 1943.2199,-3011.5 1943.2199,-3011.5 1943.2199,-2928.5 1943.2199,-2858.7378 1764.2519,-2812.8528 1621.5397,-2787.3534\" fill=\"none\" stroke=\"#000000\"/>\n",
       "<polygon fill=\"#000000\" points=\"1621.7861,-2783.8429 1611.3301,-2785.5527 1620.5701,-2790.7365 1621.7861,-2783.8429\" stroke=\"#000000\"/>\n",
       "</g>\n",
       "<!-- 140313714255464 -->\n",
       "<g class=\"node\" id=\"node8\">\n",
       "<title>140313714255464</title>\n",
       "<polygon fill=\"none\" points=\"41.2199,-2988.5 41.2199,-3034.5 487.2199,-3034.5 487.2199,-2988.5 41.2199,-2988.5\" stroke=\"#000000\"/>\n",
       "<text fill=\"#000000\" font-family=\"Times,serif\" font-size=\"14.00\" text-anchor=\"middle\" x=\"174.2199\" y=\"-3007.8\">batch_normalization_14: BatchNormalization</text>\n",
       "<polyline fill=\"none\" points=\"307.2199,-2988.5 307.2199,-3034.5 \" stroke=\"#000000\"/>\n",
       "<text fill=\"#000000\" font-family=\"Times,serif\" font-size=\"14.00\" text-anchor=\"middle\" x=\"334.7199\" y=\"-3019.3\">input:</text>\n",
       "<polyline fill=\"none\" points=\"307.2199,-3011.5 362.2199,-3011.5 \" stroke=\"#000000\"/>\n",
       "<text fill=\"#000000\" font-family=\"Times,serif\" font-size=\"14.00\" text-anchor=\"middle\" x=\"334.7199\" y=\"-2996.3\">output:</text>\n",
       "<polyline fill=\"none\" points=\"362.2199,-2988.5 362.2199,-3034.5 \" stroke=\"#000000\"/>\n",
       "<text fill=\"#000000\" font-family=\"Times,serif\" font-size=\"14.00\" text-anchor=\"middle\" x=\"424.7199\" y=\"-3019.3\">(None, 16, 16, 256)</text>\n",
       "<polyline fill=\"none\" points=\"362.2199,-3011.5 487.2199,-3011.5 \" stroke=\"#000000\"/>\n",
       "<text fill=\"#000000\" font-family=\"Times,serif\" font-size=\"14.00\" text-anchor=\"middle\" x=\"424.7199\" y=\"-2996.3\">(None, 16, 16, 256)</text>\n",
       "</g>\n",
       "<!-- 140313714255240&#45;&gt;140313714255464 -->\n",
       "<g class=\"edge\" id=\"edge11\">\n",
       "<title>140313714255240-&gt;140313714255464</title>\n",
       "<path d=\"M262.0556,-3071.3799C262.3522,-3063.1745 262.6922,-3053.7679 263.0135,-3044.8786\" fill=\"none\" stroke=\"#000000\"/>\n",
       "<polygon fill=\"#000000\" points=\"266.5148,-3044.9039 263.3783,-3034.784 259.5193,-3044.651 266.5148,-3044.9039\" stroke=\"#000000\"/>\n",
       "</g>\n",
       "<!-- 140313714255800 -->\n",
       "<g class=\"node\" id=\"node9\">\n",
       "<title>140313714255800</title>\n",
       "<polygon fill=\"none\" points=\"508.2199,-2988.5 508.2199,-3034.5 954.2199,-3034.5 954.2199,-2988.5 508.2199,-2988.5\" stroke=\"#000000\"/>\n",
       "<text fill=\"#000000\" font-family=\"Times,serif\" font-size=\"14.00\" text-anchor=\"middle\" x=\"641.2199\" y=\"-3007.8\">batch_normalization_15: BatchNormalization</text>\n",
       "<polyline fill=\"none\" points=\"774.2199,-2988.5 774.2199,-3034.5 \" stroke=\"#000000\"/>\n",
       "<text fill=\"#000000\" font-family=\"Times,serif\" font-size=\"14.00\" text-anchor=\"middle\" x=\"801.7199\" y=\"-3019.3\">input:</text>\n",
       "<polyline fill=\"none\" points=\"774.2199,-3011.5 829.2199,-3011.5 \" stroke=\"#000000\"/>\n",
       "<text fill=\"#000000\" font-family=\"Times,serif\" font-size=\"14.00\" text-anchor=\"middle\" x=\"801.7199\" y=\"-2996.3\">output:</text>\n",
       "<polyline fill=\"none\" points=\"829.2199,-2988.5 829.2199,-3034.5 \" stroke=\"#000000\"/>\n",
       "<text fill=\"#000000\" font-family=\"Times,serif\" font-size=\"14.00\" text-anchor=\"middle\" x=\"891.7199\" y=\"-3019.3\">(None, 16, 16, 256)</text>\n",
       "<polyline fill=\"none\" points=\"829.2199,-3011.5 954.2199,-3011.5 \" stroke=\"#000000\"/>\n",
       "<text fill=\"#000000\" font-family=\"Times,serif\" font-size=\"14.00\" text-anchor=\"middle\" x=\"891.7199\" y=\"-2996.3\">(None, 16, 16, 256)</text>\n",
       "</g>\n",
       "<!-- 140313714254008&#45;&gt;140313714255800 -->\n",
       "<g class=\"edge\" id=\"edge12\">\n",
       "<title>140313714254008-&gt;140313714255800</title>\n",
       "<path d=\"M734.8272,-3071.3799C734.3329,-3063.1745 733.7662,-3053.7679 733.2307,-3044.8786\" fill=\"none\" stroke=\"#000000\"/>\n",
       "<polygon fill=\"#000000\" points=\"736.7177,-3044.5554 732.6226,-3034.784 729.7303,-3044.9764 736.7177,-3044.5554\" stroke=\"#000000\"/>\n",
       "</g>\n",
       "<!-- 140313715052616 -->\n",
       "<g class=\"node\" id=\"node10\">\n",
       "<title>140313715052616</title>\n",
       "<polygon fill=\"none\" points=\"991.2199,-2988.5 991.2199,-3034.5 1437.2199,-3034.5 1437.2199,-2988.5 991.2199,-2988.5\" stroke=\"#000000\"/>\n",
       "<text fill=\"#000000\" font-family=\"Times,serif\" font-size=\"14.00\" text-anchor=\"middle\" x=\"1124.2199\" y=\"-3007.8\">batch_normalization_17: BatchNormalization</text>\n",
       "<polyline fill=\"none\" points=\"1257.2199,-2988.5 1257.2199,-3034.5 \" stroke=\"#000000\"/>\n",
       "<text fill=\"#000000\" font-family=\"Times,serif\" font-size=\"14.00\" text-anchor=\"middle\" x=\"1284.7199\" y=\"-3019.3\">input:</text>\n",
       "<polyline fill=\"none\" points=\"1257.2199,-3011.5 1312.2199,-3011.5 \" stroke=\"#000000\"/>\n",
       "<text fill=\"#000000\" font-family=\"Times,serif\" font-size=\"14.00\" text-anchor=\"middle\" x=\"1284.7199\" y=\"-2996.3\">output:</text>\n",
       "<polyline fill=\"none\" points=\"1312.2199,-2988.5 1312.2199,-3034.5 \" stroke=\"#000000\"/>\n",
       "<text fill=\"#000000\" font-family=\"Times,serif\" font-size=\"14.00\" text-anchor=\"middle\" x=\"1374.7199\" y=\"-3019.3\">(None, 16, 16, 256)</text>\n",
       "<polyline fill=\"none\" points=\"1312.2199,-3011.5 1437.2199,-3011.5 \" stroke=\"#000000\"/>\n",
       "<text fill=\"#000000\" font-family=\"Times,serif\" font-size=\"14.00\" text-anchor=\"middle\" x=\"1374.7199\" y=\"-2996.3\">(None, 16, 16, 256)</text>\n",
       "</g>\n",
       "<!-- 140313715053008&#45;&gt;140313715052616 -->\n",
       "<g class=\"edge\" id=\"edge13\">\n",
       "<title>140313715053008-&gt;140313715052616</title>\n",
       "<path d=\"M1212.0556,-3071.3799C1212.3522,-3063.1745 1212.6922,-3053.7679 1213.0135,-3044.8786\" fill=\"none\" stroke=\"#000000\"/>\n",
       "<polygon fill=\"#000000\" points=\"1216.5148,-3044.9039 1213.3783,-3034.784 1209.5193,-3044.651 1216.5148,-3044.9039\" stroke=\"#000000\"/>\n",
       "</g>\n",
       "<!-- 140313715512880 -->\n",
       "<g class=\"node\" id=\"node11\">\n",
       "<title>140313715512880</title>\n",
       "<polygon fill=\"none\" points=\"1458.2199,-2988.5 1458.2199,-3034.5 1904.2199,-3034.5 1904.2199,-2988.5 1458.2199,-2988.5\" stroke=\"#000000\"/>\n",
       "<text fill=\"#000000\" font-family=\"Times,serif\" font-size=\"14.00\" text-anchor=\"middle\" x=\"1591.2199\" y=\"-3007.8\">batch_normalization_18: BatchNormalization</text>\n",
       "<polyline fill=\"none\" points=\"1724.2199,-2988.5 1724.2199,-3034.5 \" stroke=\"#000000\"/>\n",
       "<text fill=\"#000000\" font-family=\"Times,serif\" font-size=\"14.00\" text-anchor=\"middle\" x=\"1751.7199\" y=\"-3019.3\">input:</text>\n",
       "<polyline fill=\"none\" points=\"1724.2199,-3011.5 1779.2199,-3011.5 \" stroke=\"#000000\"/>\n",
       "<text fill=\"#000000\" font-family=\"Times,serif\" font-size=\"14.00\" text-anchor=\"middle\" x=\"1751.7199\" y=\"-2996.3\">output:</text>\n",
       "<polyline fill=\"none\" points=\"1779.2199,-2988.5 1779.2199,-3034.5 \" stroke=\"#000000\"/>\n",
       "<text fill=\"#000000\" font-family=\"Times,serif\" font-size=\"14.00\" text-anchor=\"middle\" x=\"1841.7199\" y=\"-3019.3\">(None, 16, 16, 256)</text>\n",
       "<polyline fill=\"none\" points=\"1779.2199,-3011.5 1904.2199,-3011.5 \" stroke=\"#000000\"/>\n",
       "<text fill=\"#000000\" font-family=\"Times,serif\" font-size=\"14.00\" text-anchor=\"middle\" x=\"1841.7199\" y=\"-2996.3\">(None, 16, 16, 256)</text>\n",
       "</g>\n",
       "<!-- 140313715513160&#45;&gt;140313715512880 -->\n",
       "<g class=\"edge\" id=\"edge14\">\n",
       "<title>140313715513160-&gt;140313715512880</title>\n",
       "<path d=\"M1684.8272,-3071.3799C1684.3329,-3063.1745 1683.7662,-3053.7679 1683.2307,-3044.8786\" fill=\"none\" stroke=\"#000000\"/>\n",
       "<polygon fill=\"#000000\" points=\"1686.7177,-3044.5554 1682.6226,-3034.784 1679.7303,-3044.9764 1686.7177,-3044.5554\" stroke=\"#000000\"/>\n",
       "</g>\n",
       "<!-- 140313714570408 -->\n",
       "<g class=\"node\" id=\"node12\">\n",
       "<title>140313714570408</title>\n",
       "<polygon fill=\"none\" points=\"92.7199,-2905.5 92.7199,-2951.5 563.7199,-2951.5 563.7199,-2905.5 92.7199,-2905.5\" stroke=\"#000000\"/>\n",
       "<text fill=\"#000000\" font-family=\"Times,serif\" font-size=\"14.00\" text-anchor=\"middle\" x=\"176.2199\" y=\"-2924.8\">ca_l2r_concat: Concatenate</text>\n",
       "<polyline fill=\"none\" points=\"259.7199,-2905.5 259.7199,-2951.5 \" stroke=\"#000000\"/>\n",
       "<text fill=\"#000000\" font-family=\"Times,serif\" font-size=\"14.00\" text-anchor=\"middle\" x=\"287.2199\" y=\"-2936.3\">input:</text>\n",
       "<polyline fill=\"none\" points=\"259.7199,-2928.5 314.7199,-2928.5 \" stroke=\"#000000\"/>\n",
       "<text fill=\"#000000\" font-family=\"Times,serif\" font-size=\"14.00\" text-anchor=\"middle\" x=\"287.2199\" y=\"-2913.3\">output:</text>\n",
       "<polyline fill=\"none\" points=\"314.7199,-2905.5 314.7199,-2951.5 \" stroke=\"#000000\"/>\n",
       "<text fill=\"#000000\" font-family=\"Times,serif\" font-size=\"14.00\" text-anchor=\"middle\" x=\"439.2199\" y=\"-2936.3\">[(None, 16, 16, 256), (None, 16, 16, 256)]</text>\n",
       "<polyline fill=\"none\" points=\"314.7199,-2928.5 563.7199,-2928.5 \" stroke=\"#000000\"/>\n",
       "<text fill=\"#000000\" font-family=\"Times,serif\" font-size=\"14.00\" text-anchor=\"middle\" x=\"439.2199\" y=\"-2913.3\">(None, 16, 16, 512)</text>\n",
       "</g>\n",
       "<!-- 140313714255464&#45;&gt;140313714570408 -->\n",
       "<g class=\"edge\" id=\"edge15\">\n",
       "<title>140313714255464-&gt;140313714570408</title>\n",
       "<path d=\"M282.0475,-2988.3799C288.8559,-2979.5502 296.7369,-2969.3295 304.0393,-2959.8593\" fill=\"none\" stroke=\"#000000\"/>\n",
       "<polygon fill=\"#000000\" points=\"306.9314,-2961.8404 310.266,-2951.784 301.3879,-2957.5659 306.9314,-2961.8404\" stroke=\"#000000\"/>\n",
       "</g>\n",
       "<!-- 140313714255800&#45;&gt;140313714570408 -->\n",
       "<g class=\"edge\" id=\"edge16\">\n",
       "<title>140313714255800-&gt;140313714570408</title>\n",
       "<path d=\"M619.4971,-2988.4901C566.8671,-2977.6506 503.9657,-2964.6958 450.1069,-2953.6033\" fill=\"none\" stroke=\"#000000\"/>\n",
       "<polygon fill=\"#000000\" points=\"450.6605,-2950.1439 440.1601,-2951.5547 449.2484,-2957 450.6605,-2950.1439\" stroke=\"#000000\"/>\n",
       "</g>\n",
       "<!-- 140313715613368 -->\n",
       "<g class=\"node\" id=\"node13\">\n",
       "<title>140313715613368</title>\n",
       "<polygon fill=\"none\" points=\"1212.7199,-2905.5 1212.7199,-2951.5 1683.7199,-2951.5 1683.7199,-2905.5 1212.7199,-2905.5\" stroke=\"#000000\"/>\n",
       "<text fill=\"#000000\" font-family=\"Times,serif\" font-size=\"14.00\" text-anchor=\"middle\" x=\"1296.2199\" y=\"-2924.8\">ca_r2l_concat: Concatenate</text>\n",
       "<polyline fill=\"none\" points=\"1379.7199,-2905.5 1379.7199,-2951.5 \" stroke=\"#000000\"/>\n",
       "<text fill=\"#000000\" font-family=\"Times,serif\" font-size=\"14.00\" text-anchor=\"middle\" x=\"1407.2199\" y=\"-2936.3\">input:</text>\n",
       "<polyline fill=\"none\" points=\"1379.7199,-2928.5 1434.7199,-2928.5 \" stroke=\"#000000\"/>\n",
       "<text fill=\"#000000\" font-family=\"Times,serif\" font-size=\"14.00\" text-anchor=\"middle\" x=\"1407.2199\" y=\"-2913.3\">output:</text>\n",
       "<polyline fill=\"none\" points=\"1434.7199,-2905.5 1434.7199,-2951.5 \" stroke=\"#000000\"/>\n",
       "<text fill=\"#000000\" font-family=\"Times,serif\" font-size=\"14.00\" text-anchor=\"middle\" x=\"1559.2199\" y=\"-2936.3\">[(None, 16, 16, 256), (None, 16, 16, 256)]</text>\n",
       "<polyline fill=\"none\" points=\"1434.7199,-2928.5 1683.7199,-2928.5 \" stroke=\"#000000\"/>\n",
       "<text fill=\"#000000\" font-family=\"Times,serif\" font-size=\"14.00\" text-anchor=\"middle\" x=\"1559.2199\" y=\"-2913.3\">(None, 16, 16, 512)</text>\n",
       "</g>\n",
       "<!-- 140313715052616&#45;&gt;140313715613368 -->\n",
       "<g class=\"edge\" id=\"edge17\">\n",
       "<title>140313715052616-&gt;140313715613368</title>\n",
       "<path d=\"M1279.0912,-2988.4901C1308.3826,-2978.1004 1343.1533,-2965.7672 1373.5276,-2954.9934\" fill=\"none\" stroke=\"#000000\"/>\n",
       "<polygon fill=\"#000000\" points=\"1374.9678,-2958.1963 1383.2225,-2951.5547 1372.6277,-2951.599 1374.9678,-2958.1963\" stroke=\"#000000\"/>\n",
       "</g>\n",
       "<!-- 140313715512880&#45;&gt;140313715613368 -->\n",
       "<g class=\"edge\" id=\"edge18\">\n",
       "<title>140313715512880-&gt;140313715613368</title>\n",
       "<path d=\"M1616.6259,-2988.4901C1587.4597,-2978.1004 1552.8376,-2965.7672 1522.593,-2954.9934\" fill=\"none\" stroke=\"#000000\"/>\n",
       "<polygon fill=\"#000000\" points=\"1523.5343,-2951.6134 1512.9397,-2951.5547 1521.1853,-2958.2075 1523.5343,-2951.6134\" stroke=\"#000000\"/>\n",
       "</g>\n",
       "<!-- 140313714570744 -->\n",
       "<g class=\"node\" id=\"node14\">\n",
       "<title>140313714570744</title>\n",
       "<polygon fill=\"none\" points=\"157.7199,-2822.5 157.7199,-2868.5 498.7199,-2868.5 498.7199,-2822.5 157.7199,-2822.5\" stroke=\"#000000\"/>\n",
       "<text fill=\"#000000\" font-family=\"Times,serif\" font-size=\"14.00\" text-anchor=\"middle\" x=\"238.2199\" y=\"-2841.8\">activation_297: Activation</text>\n",
       "<polyline fill=\"none\" points=\"318.7199,-2822.5 318.7199,-2868.5 \" stroke=\"#000000\"/>\n",
       "<text fill=\"#000000\" font-family=\"Times,serif\" font-size=\"14.00\" text-anchor=\"middle\" x=\"346.2199\" y=\"-2853.3\">input:</text>\n",
       "<polyline fill=\"none\" points=\"318.7199,-2845.5 373.7199,-2845.5 \" stroke=\"#000000\"/>\n",
       "<text fill=\"#000000\" font-family=\"Times,serif\" font-size=\"14.00\" text-anchor=\"middle\" x=\"346.2199\" y=\"-2830.3\">output:</text>\n",
       "<polyline fill=\"none\" points=\"373.7199,-2822.5 373.7199,-2868.5 \" stroke=\"#000000\"/>\n",
       "<text fill=\"#000000\" font-family=\"Times,serif\" font-size=\"14.00\" text-anchor=\"middle\" x=\"436.2199\" y=\"-2853.3\">(None, 16, 16, 512)</text>\n",
       "<polyline fill=\"none\" points=\"373.7199,-2845.5 498.7199,-2845.5 \" stroke=\"#000000\"/>\n",
       "<text fill=\"#000000\" font-family=\"Times,serif\" font-size=\"14.00\" text-anchor=\"middle\" x=\"436.2199\" y=\"-2830.3\">(None, 16, 16, 512)</text>\n",
       "</g>\n",
       "<!-- 140313714570408&#45;&gt;140313714570744 -->\n",
       "<g class=\"edge\" id=\"edge19\">\n",
       "<title>140313714570408-&gt;140313714570744</title>\n",
       "<path d=\"M328.2199,-2905.3799C328.2199,-2897.1745 328.2199,-2887.7679 328.2199,-2878.8786\" fill=\"none\" stroke=\"#000000\"/>\n",
       "<polygon fill=\"#000000\" points=\"331.72,-2878.784 328.2199,-2868.784 324.72,-2878.784 331.72,-2878.784\" stroke=\"#000000\"/>\n",
       "</g>\n",
       "<!-- 140313715613480 -->\n",
       "<g class=\"node\" id=\"node15\">\n",
       "<title>140313715613480</title>\n",
       "<polygon fill=\"none\" points=\"1277.7199,-2822.5 1277.7199,-2868.5 1618.7199,-2868.5 1618.7199,-2822.5 1277.7199,-2822.5\" stroke=\"#000000\"/>\n",
       "<text fill=\"#000000\" font-family=\"Times,serif\" font-size=\"14.00\" text-anchor=\"middle\" x=\"1358.2199\" y=\"-2841.8\">activation_308: Activation</text>\n",
       "<polyline fill=\"none\" points=\"1438.7199,-2822.5 1438.7199,-2868.5 \" stroke=\"#000000\"/>\n",
       "<text fill=\"#000000\" font-family=\"Times,serif\" font-size=\"14.00\" text-anchor=\"middle\" x=\"1466.2199\" y=\"-2853.3\">input:</text>\n",
       "<polyline fill=\"none\" points=\"1438.7199,-2845.5 1493.7199,-2845.5 \" stroke=\"#000000\"/>\n",
       "<text fill=\"#000000\" font-family=\"Times,serif\" font-size=\"14.00\" text-anchor=\"middle\" x=\"1466.2199\" y=\"-2830.3\">output:</text>\n",
       "<polyline fill=\"none\" points=\"1493.7199,-2822.5 1493.7199,-2868.5 \" stroke=\"#000000\"/>\n",
       "<text fill=\"#000000\" font-family=\"Times,serif\" font-size=\"14.00\" text-anchor=\"middle\" x=\"1556.2199\" y=\"-2853.3\">(None, 16, 16, 512)</text>\n",
       "<polyline fill=\"none\" points=\"1493.7199,-2845.5 1618.7199,-2845.5 \" stroke=\"#000000\"/>\n",
       "<text fill=\"#000000\" font-family=\"Times,serif\" font-size=\"14.00\" text-anchor=\"middle\" x=\"1556.2199\" y=\"-2830.3\">(None, 16, 16, 512)</text>\n",
       "</g>\n",
       "<!-- 140313715613368&#45;&gt;140313715613480 -->\n",
       "<g class=\"edge\" id=\"edge20\">\n",
       "<title>140313715613368-&gt;140313715613480</title>\n",
       "<path d=\"M1448.2199,-2905.3799C1448.2199,-2897.1745 1448.2199,-2887.7679 1448.2199,-2878.8786\" fill=\"none\" stroke=\"#000000\"/>\n",
       "<polygon fill=\"#000000\" points=\"1451.72,-2878.784 1448.2199,-2868.784 1444.72,-2878.784 1451.72,-2878.784\" stroke=\"#000000\"/>\n",
       "</g>\n",
       "<!-- 140313714570744&#45;&gt;140313715199840 -->\n",
       "<g class=\"edge\" id=\"edge22\">\n",
       "<title>140313714570744-&gt;140313715199840</title>\n",
       "<path d=\"M328.2199,-2822.3799C328.2199,-2814.1745 328.2199,-2804.7679 328.2199,-2795.8786\" fill=\"none\" stroke=\"#000000\"/>\n",
       "<polygon fill=\"#000000\" points=\"331.72,-2795.784 328.2199,-2785.784 324.72,-2795.784 331.72,-2795.784\" stroke=\"#000000\"/>\n",
       "</g>\n",
       "<!-- 140313715613480&#45;&gt;140313715807008 -->\n",
       "<g class=\"edge\" id=\"edge24\">\n",
       "<title>140313715613480-&gt;140313715807008</title>\n",
       "<path d=\"M1448.2199,-2822.3799C1448.2199,-2814.1745 1448.2199,-2804.7679 1448.2199,-2795.8786\" fill=\"none\" stroke=\"#000000\"/>\n",
       "<polygon fill=\"#000000\" points=\"1451.72,-2795.784 1448.2199,-2785.784 1444.72,-2795.784 1451.72,-2795.784\" stroke=\"#000000\"/>\n",
       "</g>\n",
       "<!-- 140313715198272 -->\n",
       "<g class=\"node\" id=\"node18\">\n",
       "<title>140313715198272</title>\n",
       "<polygon fill=\"none\" points=\"344.2199,-2656.5 344.2199,-2702.5 790.2199,-2702.5 790.2199,-2656.5 344.2199,-2656.5\" stroke=\"#000000\"/>\n",
       "<text fill=\"#000000\" font-family=\"Times,serif\" font-size=\"14.00\" text-anchor=\"middle\" x=\"477.2199\" y=\"-2675.8\">batch_normalization_16: BatchNormalization</text>\n",
       "<polyline fill=\"none\" points=\"610.2199,-2656.5 610.2199,-2702.5 \" stroke=\"#000000\"/>\n",
       "<text fill=\"#000000\" font-family=\"Times,serif\" font-size=\"14.00\" text-anchor=\"middle\" x=\"637.7199\" y=\"-2687.3\">input:</text>\n",
       "<polyline fill=\"none\" points=\"610.2199,-2679.5 665.2199,-2679.5 \" stroke=\"#000000\"/>\n",
       "<text fill=\"#000000\" font-family=\"Times,serif\" font-size=\"14.00\" text-anchor=\"middle\" x=\"637.7199\" y=\"-2664.3\">output:</text>\n",
       "<polyline fill=\"none\" points=\"665.2199,-2656.5 665.2199,-2702.5 \" stroke=\"#000000\"/>\n",
       "<text fill=\"#000000\" font-family=\"Times,serif\" font-size=\"14.00\" text-anchor=\"middle\" x=\"727.7199\" y=\"-2687.3\">(None, 16, 16, 768)</text>\n",
       "<polyline fill=\"none\" points=\"665.2199,-2679.5 790.2199,-2679.5 \" stroke=\"#000000\"/>\n",
       "<text fill=\"#000000\" font-family=\"Times,serif\" font-size=\"14.00\" text-anchor=\"middle\" x=\"727.7199\" y=\"-2664.3\">(None, 16, 16, 768)</text>\n",
       "</g>\n",
       "<!-- 140313715199840&#45;&gt;140313715198272 -->\n",
       "<g class=\"edge\" id=\"edge25\">\n",
       "<title>140313715199840-&gt;140313715198272</title>\n",
       "<path d=\"M394.4774,-2739.4901C424.5242,-2729.0554 460.2159,-2716.6604 491.3343,-2705.8536\" fill=\"none\" stroke=\"#000000\"/>\n",
       "<polygon fill=\"#000000\" points=\"492.5353,-2709.1416 500.8336,-2702.5547 490.2388,-2702.529 492.5353,-2709.1416\" stroke=\"#000000\"/>\n",
       "</g>\n",
       "<!-- 140313715807400 -->\n",
       "<g class=\"node\" id=\"node19\">\n",
       "<title>140313715807400</title>\n",
       "<polygon fill=\"none\" points=\"928.2199,-2656.5 928.2199,-2702.5 1374.2199,-2702.5 1374.2199,-2656.5 928.2199,-2656.5\" stroke=\"#000000\"/>\n",
       "<text fill=\"#000000\" font-family=\"Times,serif\" font-size=\"14.00\" text-anchor=\"middle\" x=\"1061.2199\" y=\"-2675.8\">batch_normalization_19: BatchNormalization</text>\n",
       "<polyline fill=\"none\" points=\"1194.2199,-2656.5 1194.2199,-2702.5 \" stroke=\"#000000\"/>\n",
       "<text fill=\"#000000\" font-family=\"Times,serif\" font-size=\"14.00\" text-anchor=\"middle\" x=\"1221.7199\" y=\"-2687.3\">input:</text>\n",
       "<polyline fill=\"none\" points=\"1194.2199,-2679.5 1249.2199,-2679.5 \" stroke=\"#000000\"/>\n",
       "<text fill=\"#000000\" font-family=\"Times,serif\" font-size=\"14.00\" text-anchor=\"middle\" x=\"1221.7199\" y=\"-2664.3\">output:</text>\n",
       "<polyline fill=\"none\" points=\"1249.2199,-2656.5 1249.2199,-2702.5 \" stroke=\"#000000\"/>\n",
       "<text fill=\"#000000\" font-family=\"Times,serif\" font-size=\"14.00\" text-anchor=\"middle\" x=\"1311.7199\" y=\"-2687.3\">(None, 16, 16, 768)</text>\n",
       "<polyline fill=\"none\" points=\"1249.2199,-2679.5 1374.2199,-2679.5 \" stroke=\"#000000\"/>\n",
       "<text fill=\"#000000\" font-family=\"Times,serif\" font-size=\"14.00\" text-anchor=\"middle\" x=\"1311.7199\" y=\"-2664.3\">(None, 16, 16, 768)</text>\n",
       "</g>\n",
       "<!-- 140313715807008&#45;&gt;140313715807400 -->\n",
       "<g class=\"edge\" id=\"edge26\">\n",
       "<title>140313715807008-&gt;140313715807400</title>\n",
       "<path d=\"M1365.8833,-2739.4901C1327.9011,-2728.8755 1282.66,-2716.2324 1243.5263,-2705.2961\" fill=\"none\" stroke=\"#000000\"/>\n",
       "<polygon fill=\"#000000\" points=\"1244.2898,-2701.8754 1233.7168,-2702.5547 1242.4057,-2708.6171 1244.2898,-2701.8754\" stroke=\"#000000\"/>\n",
       "</g>\n",
       "<!-- 140313714370600 -->\n",
       "<g class=\"node\" id=\"node20\">\n",
       "<title>140313714370600</title>\n",
       "<polygon fill=\"none\" points=\"563.2199,-2573.5 563.2199,-2619.5 1035.2199,-2619.5 1035.2199,-2573.5 563.2199,-2573.5\" stroke=\"#000000\"/>\n",
       "<text fill=\"#000000\" font-family=\"Times,serif\" font-size=\"14.00\" text-anchor=\"middle\" x=\"647.2199\" y=\"-2592.8\">concatenate_9: Concatenate</text>\n",
       "<polyline fill=\"none\" points=\"731.2199,-2573.5 731.2199,-2619.5 \" stroke=\"#000000\"/>\n",
       "<text fill=\"#000000\" font-family=\"Times,serif\" font-size=\"14.00\" text-anchor=\"middle\" x=\"758.7199\" y=\"-2604.3\">input:</text>\n",
       "<polyline fill=\"none\" points=\"731.2199,-2596.5 786.2199,-2596.5 \" stroke=\"#000000\"/>\n",
       "<text fill=\"#000000\" font-family=\"Times,serif\" font-size=\"14.00\" text-anchor=\"middle\" x=\"758.7199\" y=\"-2581.3\">output:</text>\n",
       "<polyline fill=\"none\" points=\"786.2199,-2573.5 786.2199,-2619.5 \" stroke=\"#000000\"/>\n",
       "<text fill=\"#000000\" font-family=\"Times,serif\" font-size=\"14.00\" text-anchor=\"middle\" x=\"910.7199\" y=\"-2604.3\">[(None, 16, 16, 768), (None, 16, 16, 768)]</text>\n",
       "<polyline fill=\"none\" points=\"786.2199,-2596.5 1035.2199,-2596.5 \" stroke=\"#000000\"/>\n",
       "<text fill=\"#000000\" font-family=\"Times,serif\" font-size=\"14.00\" text-anchor=\"middle\" x=\"910.7199\" y=\"-2581.3\">(None, 16, 16, 1536)</text>\n",
       "</g>\n",
       "<!-- 140313715198272&#45;&gt;140313714370600 -->\n",
       "<g class=\"edge\" id=\"edge27\">\n",
       "<title>140313715198272-&gt;140313714370600</title>\n",
       "<path d=\"M631.5368,-2656.4901C660.5778,-2646.1004 695.0513,-2633.7672 725.166,-2622.9934\" fill=\"none\" stroke=\"#000000\"/>\n",
       "<polygon fill=\"#000000\" points=\"726.5414,-2626.2187 734.778,-2619.5547 724.1834,-2619.6278 726.5414,-2626.2187\" stroke=\"#000000\"/>\n",
       "</g>\n",
       "<!-- 140313715807400&#45;&gt;140313714370600 -->\n",
       "<g class=\"edge\" id=\"edge28\">\n",
       "<title>140313715807400-&gt;140313714370600</title>\n",
       "<path d=\"M1053.6358,-2656.4901C1008.0475,-2645.7406 953.6362,-2632.9107 906.8548,-2621.8798\" fill=\"none\" stroke=\"#000000\"/>\n",
       "<polygon fill=\"#000000\" points=\"907.5303,-2618.4432 896.9939,-2619.5547 905.9237,-2625.2563 907.5303,-2618.4432\" stroke=\"#000000\"/>\n",
       "</g>\n",
       "<!-- 140313714369648 -->\n",
       "<g class=\"node\" id=\"node21\">\n",
       "<title>140313714369648</title>\n",
       "<polygon fill=\"none\" points=\"625.7199,-2490.5 625.7199,-2536.5 972.7199,-2536.5 972.7199,-2490.5 625.7199,-2490.5\" stroke=\"#000000\"/>\n",
       "<text fill=\"#000000\" font-family=\"Times,serif\" font-size=\"14.00\" text-anchor=\"middle\" x=\"706.2199\" y=\"-2509.8\">activation_311: Activation</text>\n",
       "<polyline fill=\"none\" points=\"786.7199,-2490.5 786.7199,-2536.5 \" stroke=\"#000000\"/>\n",
       "<text fill=\"#000000\" font-family=\"Times,serif\" font-size=\"14.00\" text-anchor=\"middle\" x=\"814.2199\" y=\"-2521.3\">input:</text>\n",
       "<polyline fill=\"none\" points=\"786.7199,-2513.5 841.7199,-2513.5 \" stroke=\"#000000\"/>\n",
       "<text fill=\"#000000\" font-family=\"Times,serif\" font-size=\"14.00\" text-anchor=\"middle\" x=\"814.2199\" y=\"-2498.3\">output:</text>\n",
       "<polyline fill=\"none\" points=\"841.7199,-2490.5 841.7199,-2536.5 \" stroke=\"#000000\"/>\n",
       "<text fill=\"#000000\" font-family=\"Times,serif\" font-size=\"14.00\" text-anchor=\"middle\" x=\"907.2199\" y=\"-2521.3\">(None, 16, 16, 1536)</text>\n",
       "<polyline fill=\"none\" points=\"841.7199,-2513.5 972.7199,-2513.5 \" stroke=\"#000000\"/>\n",
       "<text fill=\"#000000\" font-family=\"Times,serif\" font-size=\"14.00\" text-anchor=\"middle\" x=\"907.2199\" y=\"-2498.3\">(None, 16, 16, 1536)</text>\n",
       "</g>\n",
       "<!-- 140313714370600&#45;&gt;140313714369648 -->\n",
       "<g class=\"edge\" id=\"edge29\">\n",
       "<title>140313714370600-&gt;140313714369648</title>\n",
       "<path d=\"M799.2199,-2573.3799C799.2199,-2565.1745 799.2199,-2555.7679 799.2199,-2546.8786\" fill=\"none\" stroke=\"#000000\"/>\n",
       "<polygon fill=\"#000000\" points=\"802.72,-2546.784 799.2199,-2536.784 795.72,-2546.784 802.72,-2546.784\" stroke=\"#000000\"/>\n",
       "</g>\n",
       "<!-- 140313698051576 -->\n",
       "<g class=\"node\" id=\"node22\">\n",
       "<title>140313698051576</title>\n",
       "<polygon fill=\"none\" points=\"633.2199,-2407.5 633.2199,-2453.5 965.2199,-2453.5 965.2199,-2407.5 633.2199,-2407.5\" stroke=\"#000000\"/>\n",
       "<text fill=\"#000000\" font-family=\"Times,serif\" font-size=\"14.00\" text-anchor=\"middle\" x=\"706.2199\" y=\"-2426.8\">block3_conv1: Conv2D</text>\n",
       "<polyline fill=\"none\" points=\"779.2199,-2407.5 779.2199,-2453.5 \" stroke=\"#000000\"/>\n",
       "<text fill=\"#000000\" font-family=\"Times,serif\" font-size=\"14.00\" text-anchor=\"middle\" x=\"806.7199\" y=\"-2438.3\">input:</text>\n",
       "<polyline fill=\"none\" points=\"779.2199,-2430.5 834.2199,-2430.5 \" stroke=\"#000000\"/>\n",
       "<text fill=\"#000000\" font-family=\"Times,serif\" font-size=\"14.00\" text-anchor=\"middle\" x=\"806.7199\" y=\"-2415.3\">output:</text>\n",
       "<polyline fill=\"none\" points=\"834.2199,-2407.5 834.2199,-2453.5 \" stroke=\"#000000\"/>\n",
       "<text fill=\"#000000\" font-family=\"Times,serif\" font-size=\"14.00\" text-anchor=\"middle\" x=\"899.7199\" y=\"-2438.3\">(None, 16, 16, 1536)</text>\n",
       "<polyline fill=\"none\" points=\"834.2199,-2430.5 965.2199,-2430.5 \" stroke=\"#000000\"/>\n",
       "<text fill=\"#000000\" font-family=\"Times,serif\" font-size=\"14.00\" text-anchor=\"middle\" x=\"899.7199\" y=\"-2415.3\">(None, 16, 16, 256)</text>\n",
       "</g>\n",
       "<!-- 140313714369648&#45;&gt;140313698051576 -->\n",
       "<g class=\"edge\" id=\"edge30\">\n",
       "<title>140313714369648-&gt;140313698051576</title>\n",
       "<path d=\"M799.2199,-2490.3799C799.2199,-2482.1745 799.2199,-2472.7679 799.2199,-2463.8786\" fill=\"none\" stroke=\"#000000\"/>\n",
       "<polygon fill=\"#000000\" points=\"802.72,-2463.784 799.2199,-2453.784 795.72,-2463.784 802.72,-2463.784\" stroke=\"#000000\"/>\n",
       "</g>\n",
       "<!-- 140313698051520 -->\n",
       "<g class=\"node\" id=\"node23\">\n",
       "<title>140313698051520</title>\n",
       "<polygon fill=\"none\" points=\"636.2199,-2324.5 636.2199,-2370.5 962.2199,-2370.5 962.2199,-2324.5 636.2199,-2324.5\" stroke=\"#000000\"/>\n",
       "<text fill=\"#000000\" font-family=\"Times,serif\" font-size=\"14.00\" text-anchor=\"middle\" x=\"709.2199\" y=\"-2343.8\">block3_conv2: Conv2D</text>\n",
       "<polyline fill=\"none\" points=\"782.2199,-2324.5 782.2199,-2370.5 \" stroke=\"#000000\"/>\n",
       "<text fill=\"#000000\" font-family=\"Times,serif\" font-size=\"14.00\" text-anchor=\"middle\" x=\"809.7199\" y=\"-2355.3\">input:</text>\n",
       "<polyline fill=\"none\" points=\"782.2199,-2347.5 837.2199,-2347.5 \" stroke=\"#000000\"/>\n",
       "<text fill=\"#000000\" font-family=\"Times,serif\" font-size=\"14.00\" text-anchor=\"middle\" x=\"809.7199\" y=\"-2332.3\">output:</text>\n",
       "<polyline fill=\"none\" points=\"837.2199,-2324.5 837.2199,-2370.5 \" stroke=\"#000000\"/>\n",
       "<text fill=\"#000000\" font-family=\"Times,serif\" font-size=\"14.00\" text-anchor=\"middle\" x=\"899.7199\" y=\"-2355.3\">(None, 16, 16, 256)</text>\n",
       "<polyline fill=\"none\" points=\"837.2199,-2347.5 962.2199,-2347.5 \" stroke=\"#000000\"/>\n",
       "<text fill=\"#000000\" font-family=\"Times,serif\" font-size=\"14.00\" text-anchor=\"middle\" x=\"899.7199\" y=\"-2332.3\">(None, 16, 16, 256)</text>\n",
       "</g>\n",
       "<!-- 140313698051576&#45;&gt;140313698051520 -->\n",
       "<g class=\"edge\" id=\"edge31\">\n",
       "<title>140313698051576-&gt;140313698051520</title>\n",
       "<path d=\"M799.2199,-2407.3799C799.2199,-2399.1745 799.2199,-2389.7679 799.2199,-2380.8786\" fill=\"none\" stroke=\"#000000\"/>\n",
       "<polygon fill=\"#000000\" points=\"802.72,-2380.784 799.2199,-2370.784 795.72,-2380.784 802.72,-2380.784\" stroke=\"#000000\"/>\n",
       "</g>\n",
       "<!-- 140313698051968 -->\n",
       "<g class=\"node\" id=\"node24\">\n",
       "<title>140313698051968</title>\n",
       "<polygon fill=\"none\" points=\"636.2199,-2241.5 636.2199,-2287.5 962.2199,-2287.5 962.2199,-2241.5 636.2199,-2241.5\" stroke=\"#000000\"/>\n",
       "<text fill=\"#000000\" font-family=\"Times,serif\" font-size=\"14.00\" text-anchor=\"middle\" x=\"709.2199\" y=\"-2260.8\">block3_conv3: Conv2D</text>\n",
       "<polyline fill=\"none\" points=\"782.2199,-2241.5 782.2199,-2287.5 \" stroke=\"#000000\"/>\n",
       "<text fill=\"#000000\" font-family=\"Times,serif\" font-size=\"14.00\" text-anchor=\"middle\" x=\"809.7199\" y=\"-2272.3\">input:</text>\n",
       "<polyline fill=\"none\" points=\"782.2199,-2264.5 837.2199,-2264.5 \" stroke=\"#000000\"/>\n",
       "<text fill=\"#000000\" font-family=\"Times,serif\" font-size=\"14.00\" text-anchor=\"middle\" x=\"809.7199\" y=\"-2249.3\">output:</text>\n",
       "<polyline fill=\"none\" points=\"837.2199,-2241.5 837.2199,-2287.5 \" stroke=\"#000000\"/>\n",
       "<text fill=\"#000000\" font-family=\"Times,serif\" font-size=\"14.00\" text-anchor=\"middle\" x=\"899.7199\" y=\"-2272.3\">(None, 16, 16, 256)</text>\n",
       "<polyline fill=\"none\" points=\"837.2199,-2264.5 962.2199,-2264.5 \" stroke=\"#000000\"/>\n",
       "<text fill=\"#000000\" font-family=\"Times,serif\" font-size=\"14.00\" text-anchor=\"middle\" x=\"899.7199\" y=\"-2249.3\">(None, 16, 16, 256)</text>\n",
       "</g>\n",
       "<!-- 140313698051520&#45;&gt;140313698051968 -->\n",
       "<g class=\"edge\" id=\"edge32\">\n",
       "<title>140313698051520-&gt;140313698051968</title>\n",
       "<path d=\"M799.2199,-2324.3799C799.2199,-2316.1745 799.2199,-2306.7679 799.2199,-2297.8786\" fill=\"none\" stroke=\"#000000\"/>\n",
       "<polygon fill=\"#000000\" points=\"802.72,-2297.784 799.2199,-2287.784 795.72,-2297.784 802.72,-2297.784\" stroke=\"#000000\"/>\n",
       "</g>\n",
       "<!-- 140313698077664 -->\n",
       "<g class=\"node\" id=\"node25\">\n",
       "<title>140313698077664</title>\n",
       "<polygon fill=\"none\" points=\"576.2199,-2158.5 576.2199,-2204.5 1022.2199,-2204.5 1022.2199,-2158.5 576.2199,-2158.5\" stroke=\"#000000\"/>\n",
       "<text fill=\"#000000\" font-family=\"Times,serif\" font-size=\"14.00\" text-anchor=\"middle\" x=\"709.2199\" y=\"-2177.8\">batch_normalization_20: BatchNormalization</text>\n",
       "<polyline fill=\"none\" points=\"842.2199,-2158.5 842.2199,-2204.5 \" stroke=\"#000000\"/>\n",
       "<text fill=\"#000000\" font-family=\"Times,serif\" font-size=\"14.00\" text-anchor=\"middle\" x=\"869.7199\" y=\"-2189.3\">input:</text>\n",
       "<polyline fill=\"none\" points=\"842.2199,-2181.5 897.2199,-2181.5 \" stroke=\"#000000\"/>\n",
       "<text fill=\"#000000\" font-family=\"Times,serif\" font-size=\"14.00\" text-anchor=\"middle\" x=\"869.7199\" y=\"-2166.3\">output:</text>\n",
       "<polyline fill=\"none\" points=\"897.2199,-2158.5 897.2199,-2204.5 \" stroke=\"#000000\"/>\n",
       "<text fill=\"#000000\" font-family=\"Times,serif\" font-size=\"14.00\" text-anchor=\"middle\" x=\"959.7199\" y=\"-2189.3\">(None, 16, 16, 256)</text>\n",
       "<polyline fill=\"none\" points=\"897.2199,-2181.5 1022.2199,-2181.5 \" stroke=\"#000000\"/>\n",
       "<text fill=\"#000000\" font-family=\"Times,serif\" font-size=\"14.00\" text-anchor=\"middle\" x=\"959.7199\" y=\"-2166.3\">(None, 16, 16, 256)</text>\n",
       "</g>\n",
       "<!-- 140313698051968&#45;&gt;140313698077664 -->\n",
       "<g class=\"edge\" id=\"edge33\">\n",
       "<title>140313698051968-&gt;140313698077664</title>\n",
       "<path d=\"M799.2199,-2241.3799C799.2199,-2233.1745 799.2199,-2223.7679 799.2199,-2214.8786\" fill=\"none\" stroke=\"#000000\"/>\n",
       "<polygon fill=\"#000000\" points=\"802.72,-2214.784 799.2199,-2204.784 795.72,-2214.784 802.72,-2214.784\" stroke=\"#000000\"/>\n",
       "</g>\n",
       "<!-- 140313698183264 -->\n",
       "<g class=\"node\" id=\"node26\">\n",
       "<title>140313698183264</title>\n",
       "<polygon fill=\"none\" points=\"424.2199,-2075.5 424.2199,-2121.5 906.2199,-2121.5 906.2199,-2075.5 424.2199,-2075.5\" stroke=\"#000000\"/>\n",
       "<text fill=\"#000000\" font-family=\"Times,serif\" font-size=\"14.00\" text-anchor=\"middle\" x=\"516.7199\" y=\"-2094.8\">soft_attention_3: SoftAttention</text>\n",
       "<polyline fill=\"none\" points=\"609.2199,-2075.5 609.2199,-2121.5 \" stroke=\"#000000\"/>\n",
       "<text fill=\"#000000\" font-family=\"Times,serif\" font-size=\"14.00\" text-anchor=\"middle\" x=\"636.7199\" y=\"-2106.3\">input:</text>\n",
       "<polyline fill=\"none\" points=\"609.2199,-2098.5 664.2199,-2098.5 \" stroke=\"#000000\"/>\n",
       "<text fill=\"#000000\" font-family=\"Times,serif\" font-size=\"14.00\" text-anchor=\"middle\" x=\"636.7199\" y=\"-2083.3\">output:</text>\n",
       "<polyline fill=\"none\" points=\"664.2199,-2075.5 664.2199,-2121.5 \" stroke=\"#000000\"/>\n",
       "<text fill=\"#000000\" font-family=\"Times,serif\" font-size=\"14.00\" text-anchor=\"middle\" x=\"785.2199\" y=\"-2106.3\">(None, 16, 16, 256)</text>\n",
       "<polyline fill=\"none\" points=\"664.2199,-2098.5 906.2199,-2098.5 \" stroke=\"#000000\"/>\n",
       "<text fill=\"#000000\" font-family=\"Times,serif\" font-size=\"14.00\" text-anchor=\"middle\" x=\"785.2199\" y=\"-2083.3\">[(None, 16, 16, 256), (None, 16, 16, 16)]</text>\n",
       "</g>\n",
       "<!-- 140313698077664&#45;&gt;140313698183264 -->\n",
       "<g class=\"edge\" id=\"edge34\">\n",
       "<title>140313698077664-&gt;140313698183264</title>\n",
       "<path d=\"M761.8935,-2158.3799C746.3425,-2148.7475 728.1187,-2137.4597 711.711,-2127.2967\" fill=\"none\" stroke=\"#000000\"/>\n",
       "<polygon fill=\"#000000\" points=\"713.1553,-2124.0743 702.811,-2121.784 709.4693,-2130.0252 713.1553,-2124.0743\" stroke=\"#000000\"/>\n",
       "</g>\n",
       "<!-- 140313698184776 -->\n",
       "<g class=\"node\" id=\"node27\">\n",
       "<title>140313698184776</title>\n",
       "<polygon fill=\"none\" points=\"802.2199,-1992.5 802.2199,-2038.5 1218.2199,-2038.5 1218.2199,-1992.5 802.2199,-1992.5\" stroke=\"#000000\"/>\n",
       "<text fill=\"#000000\" font-family=\"Times,serif\" font-size=\"14.00\" text-anchor=\"middle\" x=\"920.2199\" y=\"-2011.8\">block3_reduction_conv: MaxPooling2D</text>\n",
       "<polyline fill=\"none\" points=\"1038.2199,-1992.5 1038.2199,-2038.5 \" stroke=\"#000000\"/>\n",
       "<text fill=\"#000000\" font-family=\"Times,serif\" font-size=\"14.00\" text-anchor=\"middle\" x=\"1065.7199\" y=\"-2023.3\">input:</text>\n",
       "<polyline fill=\"none\" points=\"1038.2199,-2015.5 1093.2199,-2015.5 \" stroke=\"#000000\"/>\n",
       "<text fill=\"#000000\" font-family=\"Times,serif\" font-size=\"14.00\" text-anchor=\"middle\" x=\"1065.7199\" y=\"-2000.3\">output:</text>\n",
       "<polyline fill=\"none\" points=\"1093.2199,-1992.5 1093.2199,-2038.5 \" stroke=\"#000000\"/>\n",
       "<text fill=\"#000000\" font-family=\"Times,serif\" font-size=\"14.00\" text-anchor=\"middle\" x=\"1155.7199\" y=\"-2023.3\">(None, 16, 16, 256)</text>\n",
       "<polyline fill=\"none\" points=\"1093.2199,-2015.5 1218.2199,-2015.5 \" stroke=\"#000000\"/>\n",
       "<text fill=\"#000000\" font-family=\"Times,serif\" font-size=\"14.00\" text-anchor=\"middle\" x=\"1155.7199\" y=\"-2000.3\">(None, 8, 8, 256)</text>\n",
       "</g>\n",
       "<!-- 140313698077664&#45;&gt;140313698184776 -->\n",
       "<g class=\"edge\" id=\"edge35\">\n",
       "<title>140313698077664-&gt;140313698184776</title>\n",
       "<path d=\"M854.2331,-2158.4254C874.3968,-2148.6767 896.7771,-2136.2597 915.2199,-2122 943.3261,-2100.2688 969.7514,-2069.4691 987.5609,-2046.5776\" fill=\"none\" stroke=\"#000000\"/>\n",
       "<polygon fill=\"#000000\" points=\"990.4198,-2048.6009 993.7196,-2038.5331 984.8616,-2044.3457 990.4198,-2048.6009\" stroke=\"#000000\"/>\n",
       "</g>\n",
       "<!-- 140313697733320 -->\n",
       "<g class=\"node\" id=\"node28\">\n",
       "<title>140313697733320</title>\n",
       "<polygon fill=\"none\" points=\"396.7199,-1992.5 396.7199,-2038.5 783.7199,-2038.5 783.7199,-1992.5 396.7199,-1992.5\" stroke=\"#000000\"/>\n",
       "<text fill=\"#000000\" font-family=\"Times,serif\" font-size=\"14.00\" text-anchor=\"middle\" x=\"500.2199\" y=\"-2011.8\">max_pooling2d_8: MaxPooling2D</text>\n",
       "<polyline fill=\"none\" points=\"603.7199,-1992.5 603.7199,-2038.5 \" stroke=\"#000000\"/>\n",
       "<text fill=\"#000000\" font-family=\"Times,serif\" font-size=\"14.00\" text-anchor=\"middle\" x=\"631.2199\" y=\"-2023.3\">input:</text>\n",
       "<polyline fill=\"none\" points=\"603.7199,-2015.5 658.7199,-2015.5 \" stroke=\"#000000\"/>\n",
       "<text fill=\"#000000\" font-family=\"Times,serif\" font-size=\"14.00\" text-anchor=\"middle\" x=\"631.2199\" y=\"-2000.3\">output:</text>\n",
       "<polyline fill=\"none\" points=\"658.7199,-1992.5 658.7199,-2038.5 \" stroke=\"#000000\"/>\n",
       "<text fill=\"#000000\" font-family=\"Times,serif\" font-size=\"14.00\" text-anchor=\"middle\" x=\"721.2199\" y=\"-2023.3\">(None, 16, 16, 256)</text>\n",
       "<polyline fill=\"none\" points=\"658.7199,-2015.5 783.7199,-2015.5 \" stroke=\"#000000\"/>\n",
       "<text fill=\"#000000\" font-family=\"Times,serif\" font-size=\"14.00\" text-anchor=\"middle\" x=\"721.2199\" y=\"-2000.3\">(None, 8, 8, 256)</text>\n",
       "</g>\n",
       "<!-- 140313698183264&#45;&gt;140313697733320 -->\n",
       "<g class=\"edge\" id=\"edge36\">\n",
       "<title>140313698183264-&gt;140313697733320</title>\n",
       "<path d=\"M644.3283,-2075.3799C636.1885,-2066.3718 626.7404,-2055.916 618.0389,-2046.2863\" fill=\"none\" stroke=\"#000000\"/>\n",
       "<polygon fill=\"#000000\" points=\"620.5611,-2043.8571 611.2597,-2038.784 615.3673,-2048.5502 620.5611,-2043.8571\" stroke=\"#000000\"/>\n",
       "</g>\n",
       "<!-- 140313697734552 -->\n",
       "<g class=\"node\" id=\"node29\">\n",
       "<title>140313697734552</title>\n",
       "<polygon fill=\"none\" points=\"574.2199,-1909.5 574.2199,-1955.5 1026.2199,-1955.5 1026.2199,-1909.5 574.2199,-1909.5\" stroke=\"#000000\"/>\n",
       "<text fill=\"#000000\" font-family=\"Times,serif\" font-size=\"14.00\" text-anchor=\"middle\" x=\"661.7199\" y=\"-1928.8\">concatenate_10: Concatenate</text>\n",
       "<polyline fill=\"none\" points=\"749.2199,-1909.5 749.2199,-1955.5 \" stroke=\"#000000\"/>\n",
       "<text fill=\"#000000\" font-family=\"Times,serif\" font-size=\"14.00\" text-anchor=\"middle\" x=\"776.7199\" y=\"-1940.3\">input:</text>\n",
       "<polyline fill=\"none\" points=\"749.2199,-1932.5 804.2199,-1932.5 \" stroke=\"#000000\"/>\n",
       "<text fill=\"#000000\" font-family=\"Times,serif\" font-size=\"14.00\" text-anchor=\"middle\" x=\"776.7199\" y=\"-1917.3\">output:</text>\n",
       "<polyline fill=\"none\" points=\"804.2199,-1909.5 804.2199,-1955.5 \" stroke=\"#000000\"/>\n",
       "<text fill=\"#000000\" font-family=\"Times,serif\" font-size=\"14.00\" text-anchor=\"middle\" x=\"915.2199\" y=\"-1940.3\">[(None, 8, 8, 256), (None, 8, 8, 256)]</text>\n",
       "<polyline fill=\"none\" points=\"804.2199,-1932.5 1026.2199,-1932.5 \" stroke=\"#000000\"/>\n",
       "<text fill=\"#000000\" font-family=\"Times,serif\" font-size=\"14.00\" text-anchor=\"middle\" x=\"915.2199\" y=\"-1917.3\">(None, 8, 8, 512)</text>\n",
       "</g>\n",
       "<!-- 140313698184776&#45;&gt;140313697734552 -->\n",
       "<g class=\"edge\" id=\"edge37\">\n",
       "<title>140313698184776-&gt;140313697734552</title>\n",
       "<path d=\"M952.0021,-1992.4901C925.9426,-1982.1904 895.0505,-1969.9806 867.9604,-1959.2736\" fill=\"none\" stroke=\"#000000\"/>\n",
       "<polygon fill=\"#000000\" points=\"869.1375,-1955.9754 858.551,-1955.5547 866.5645,-1962.4854 869.1375,-1955.9754\" stroke=\"#000000\"/>\n",
       "</g>\n",
       "<!-- 140313697733320&#45;&gt;140313697734552 -->\n",
       "<g class=\"edge\" id=\"edge38\">\n",
       "<title>140313697733320-&gt;140313697734552</title>\n",
       "<path d=\"M648.4378,-1992.4901C674.4973,-1982.1904 705.3894,-1969.9806 732.4795,-1959.2736\" fill=\"none\" stroke=\"#000000\"/>\n",
       "<polygon fill=\"#000000\" points=\"733.8754,-1962.4854 741.8889,-1955.5547 731.3024,-1955.9754 733.8754,-1962.4854\" stroke=\"#000000\"/>\n",
       "</g>\n",
       "<!-- 140313697820344 -->\n",
       "<g class=\"node\" id=\"node30\">\n",
       "<title>140313697820344</title>\n",
       "<polygon fill=\"none\" points=\"636.7199,-1826.5 636.7199,-1872.5 963.7199,-1872.5 963.7199,-1826.5 636.7199,-1826.5\" stroke=\"#000000\"/>\n",
       "<text fill=\"#000000\" font-family=\"Times,serif\" font-size=\"14.00\" text-anchor=\"middle\" x=\"717.2199\" y=\"-1845.8\">activation_313: Activation</text>\n",
       "<polyline fill=\"none\" points=\"797.7199,-1826.5 797.7199,-1872.5 \" stroke=\"#000000\"/>\n",
       "<text fill=\"#000000\" font-family=\"Times,serif\" font-size=\"14.00\" text-anchor=\"middle\" x=\"825.2199\" y=\"-1857.3\">input:</text>\n",
       "<polyline fill=\"none\" points=\"797.7199,-1849.5 852.7199,-1849.5 \" stroke=\"#000000\"/>\n",
       "<text fill=\"#000000\" font-family=\"Times,serif\" font-size=\"14.00\" text-anchor=\"middle\" x=\"825.2199\" y=\"-1834.3\">output:</text>\n",
       "<polyline fill=\"none\" points=\"852.7199,-1826.5 852.7199,-1872.5 \" stroke=\"#000000\"/>\n",
       "<text fill=\"#000000\" font-family=\"Times,serif\" font-size=\"14.00\" text-anchor=\"middle\" x=\"908.2199\" y=\"-1857.3\">(None, 8, 8, 512)</text>\n",
       "<polyline fill=\"none\" points=\"852.7199,-1849.5 963.7199,-1849.5 \" stroke=\"#000000\"/>\n",
       "<text fill=\"#000000\" font-family=\"Times,serif\" font-size=\"14.00\" text-anchor=\"middle\" x=\"908.2199\" y=\"-1834.3\">(None, 8, 8, 512)</text>\n",
       "</g>\n",
       "<!-- 140313697734552&#45;&gt;140313697820344 -->\n",
       "<g class=\"edge\" id=\"edge39\">\n",
       "<title>140313697734552-&gt;140313697820344</title>\n",
       "<path d=\"M800.2199,-1909.3799C800.2199,-1901.1745 800.2199,-1891.7679 800.2199,-1882.8786\" fill=\"none\" stroke=\"#000000\"/>\n",
       "<polygon fill=\"#000000\" points=\"803.72,-1882.784 800.2199,-1872.784 796.72,-1882.784 803.72,-1882.784\" stroke=\"#000000\"/>\n",
       "</g>\n",
       "<!-- 140313697818440 -->\n",
       "<g class=\"node\" id=\"node31\">\n",
       "<title>140313697818440</title>\n",
       "<polygon fill=\"none\" points=\"654.7199,-1743.5 654.7199,-1789.5 945.7199,-1789.5 945.7199,-1743.5 654.7199,-1743.5\" stroke=\"#000000\"/>\n",
       "<text fill=\"#000000\" font-family=\"Times,serif\" font-size=\"14.00\" text-anchor=\"middle\" x=\"717.2199\" y=\"-1762.8\">dropout_9: Dropout</text>\n",
       "<polyline fill=\"none\" points=\"779.7199,-1743.5 779.7199,-1789.5 \" stroke=\"#000000\"/>\n",
       "<text fill=\"#000000\" font-family=\"Times,serif\" font-size=\"14.00\" text-anchor=\"middle\" x=\"807.2199\" y=\"-1774.3\">input:</text>\n",
       "<polyline fill=\"none\" points=\"779.7199,-1766.5 834.7199,-1766.5 \" stroke=\"#000000\"/>\n",
       "<text fill=\"#000000\" font-family=\"Times,serif\" font-size=\"14.00\" text-anchor=\"middle\" x=\"807.2199\" y=\"-1751.3\">output:</text>\n",
       "<polyline fill=\"none\" points=\"834.7199,-1743.5 834.7199,-1789.5 \" stroke=\"#000000\"/>\n",
       "<text fill=\"#000000\" font-family=\"Times,serif\" font-size=\"14.00\" text-anchor=\"middle\" x=\"890.2199\" y=\"-1774.3\">(None, 8, 8, 512)</text>\n",
       "<polyline fill=\"none\" points=\"834.7199,-1766.5 945.7199,-1766.5 \" stroke=\"#000000\"/>\n",
       "<text fill=\"#000000\" font-family=\"Times,serif\" font-size=\"14.00\" text-anchor=\"middle\" x=\"890.2199\" y=\"-1751.3\">(None, 8, 8, 512)</text>\n",
       "</g>\n",
       "<!-- 140313697820344&#45;&gt;140313697818440 -->\n",
       "<g class=\"edge\" id=\"edge40\">\n",
       "<title>140313697820344-&gt;140313697818440</title>\n",
       "<path d=\"M800.2199,-1826.3799C800.2199,-1818.1745 800.2199,-1808.7679 800.2199,-1799.8786\" fill=\"none\" stroke=\"#000000\"/>\n",
       "<polygon fill=\"#000000\" points=\"803.72,-1799.784 800.2199,-1789.784 796.72,-1799.784 803.72,-1799.784\" stroke=\"#000000\"/>\n",
       "</g>\n",
       "<!-- 140313697039976 -->\n",
       "<g class=\"node\" id=\"node32\">\n",
       "<title>140313697039976</title>\n",
       "<polygon fill=\"none\" points=\"644.2199,-1660.5 644.2199,-1706.5 956.2199,-1706.5 956.2199,-1660.5 644.2199,-1660.5\" stroke=\"#000000\"/>\n",
       "<text fill=\"#000000\" font-family=\"Times,serif\" font-size=\"14.00\" text-anchor=\"middle\" x=\"717.2199\" y=\"-1679.8\">block4_conv1: Conv2D</text>\n",
       "<polyline fill=\"none\" points=\"790.2199,-1660.5 790.2199,-1706.5 \" stroke=\"#000000\"/>\n",
       "<text fill=\"#000000\" font-family=\"Times,serif\" font-size=\"14.00\" text-anchor=\"middle\" x=\"817.7199\" y=\"-1691.3\">input:</text>\n",
       "<polyline fill=\"none\" points=\"790.2199,-1683.5 845.2199,-1683.5 \" stroke=\"#000000\"/>\n",
       "<text fill=\"#000000\" font-family=\"Times,serif\" font-size=\"14.00\" text-anchor=\"middle\" x=\"817.7199\" y=\"-1668.3\">output:</text>\n",
       "<polyline fill=\"none\" points=\"845.2199,-1660.5 845.2199,-1706.5 \" stroke=\"#000000\"/>\n",
       "<text fill=\"#000000\" font-family=\"Times,serif\" font-size=\"14.00\" text-anchor=\"middle\" x=\"900.7199\" y=\"-1691.3\">(None, 8, 8, 512)</text>\n",
       "<polyline fill=\"none\" points=\"845.2199,-1683.5 956.2199,-1683.5 \" stroke=\"#000000\"/>\n",
       "<text fill=\"#000000\" font-family=\"Times,serif\" font-size=\"14.00\" text-anchor=\"middle\" x=\"900.7199\" y=\"-1668.3\">(None, 8, 8, 512)</text>\n",
       "</g>\n",
       "<!-- 140313697818440&#45;&gt;140313697039976 -->\n",
       "<g class=\"edge\" id=\"edge41\">\n",
       "<title>140313697818440-&gt;140313697039976</title>\n",
       "<path d=\"M800.2199,-1743.3799C800.2199,-1735.1745 800.2199,-1725.7679 800.2199,-1716.8786\" fill=\"none\" stroke=\"#000000\"/>\n",
       "<polygon fill=\"#000000\" points=\"803.72,-1716.784 800.2199,-1706.784 796.72,-1716.784 803.72,-1716.784\" stroke=\"#000000\"/>\n",
       "</g>\n",
       "<!-- 140313697040928 -->\n",
       "<g class=\"node\" id=\"node33\">\n",
       "<title>140313697040928</title>\n",
       "<polygon fill=\"none\" points=\"644.2199,-1577.5 644.2199,-1623.5 956.2199,-1623.5 956.2199,-1577.5 644.2199,-1577.5\" stroke=\"#000000\"/>\n",
       "<text fill=\"#000000\" font-family=\"Times,serif\" font-size=\"14.00\" text-anchor=\"middle\" x=\"717.2199\" y=\"-1596.8\">block4_conv2: Conv2D</text>\n",
       "<polyline fill=\"none\" points=\"790.2199,-1577.5 790.2199,-1623.5 \" stroke=\"#000000\"/>\n",
       "<text fill=\"#000000\" font-family=\"Times,serif\" font-size=\"14.00\" text-anchor=\"middle\" x=\"817.7199\" y=\"-1608.3\">input:</text>\n",
       "<polyline fill=\"none\" points=\"790.2199,-1600.5 845.2199,-1600.5 \" stroke=\"#000000\"/>\n",
       "<text fill=\"#000000\" font-family=\"Times,serif\" font-size=\"14.00\" text-anchor=\"middle\" x=\"817.7199\" y=\"-1585.3\">output:</text>\n",
       "<polyline fill=\"none\" points=\"845.2199,-1577.5 845.2199,-1623.5 \" stroke=\"#000000\"/>\n",
       "<text fill=\"#000000\" font-family=\"Times,serif\" font-size=\"14.00\" text-anchor=\"middle\" x=\"900.7199\" y=\"-1608.3\">(None, 8, 8, 512)</text>\n",
       "<polyline fill=\"none\" points=\"845.2199,-1600.5 956.2199,-1600.5 \" stroke=\"#000000\"/>\n",
       "<text fill=\"#000000\" font-family=\"Times,serif\" font-size=\"14.00\" text-anchor=\"middle\" x=\"900.7199\" y=\"-1585.3\">(None, 8, 8, 512)</text>\n",
       "</g>\n",
       "<!-- 140313697039976&#45;&gt;140313697040928 -->\n",
       "<g class=\"edge\" id=\"edge42\">\n",
       "<title>140313697039976-&gt;140313697040928</title>\n",
       "<path d=\"M800.2199,-1660.3799C800.2199,-1652.1745 800.2199,-1642.7679 800.2199,-1633.8786\" fill=\"none\" stroke=\"#000000\"/>\n",
       "<polygon fill=\"#000000\" points=\"803.72,-1633.784 800.2199,-1623.784 796.72,-1633.784 803.72,-1633.784\" stroke=\"#000000\"/>\n",
       "</g>\n",
       "<!-- 140313696731712 -->\n",
       "<g class=\"node\" id=\"node34\">\n",
       "<title>140313696731712</title>\n",
       "<polygon fill=\"none\" points=\"644.2199,-1494.5 644.2199,-1540.5 956.2199,-1540.5 956.2199,-1494.5 644.2199,-1494.5\" stroke=\"#000000\"/>\n",
       "<text fill=\"#000000\" font-family=\"Times,serif\" font-size=\"14.00\" text-anchor=\"middle\" x=\"717.2199\" y=\"-1513.8\">block4_conv3: Conv2D</text>\n",
       "<polyline fill=\"none\" points=\"790.2199,-1494.5 790.2199,-1540.5 \" stroke=\"#000000\"/>\n",
       "<text fill=\"#000000\" font-family=\"Times,serif\" font-size=\"14.00\" text-anchor=\"middle\" x=\"817.7199\" y=\"-1525.3\">input:</text>\n",
       "<polyline fill=\"none\" points=\"790.2199,-1517.5 845.2199,-1517.5 \" stroke=\"#000000\"/>\n",
       "<text fill=\"#000000\" font-family=\"Times,serif\" font-size=\"14.00\" text-anchor=\"middle\" x=\"817.7199\" y=\"-1502.3\">output:</text>\n",
       "<polyline fill=\"none\" points=\"845.2199,-1494.5 845.2199,-1540.5 \" stroke=\"#000000\"/>\n",
       "<text fill=\"#000000\" font-family=\"Times,serif\" font-size=\"14.00\" text-anchor=\"middle\" x=\"900.7199\" y=\"-1525.3\">(None, 8, 8, 512)</text>\n",
       "<polyline fill=\"none\" points=\"845.2199,-1517.5 956.2199,-1517.5 \" stroke=\"#000000\"/>\n",
       "<text fill=\"#000000\" font-family=\"Times,serif\" font-size=\"14.00\" text-anchor=\"middle\" x=\"900.7199\" y=\"-1502.3\">(None, 8, 8, 512)</text>\n",
       "</g>\n",
       "<!-- 140313697040928&#45;&gt;140313696731712 -->\n",
       "<g class=\"edge\" id=\"edge43\">\n",
       "<title>140313697040928-&gt;140313696731712</title>\n",
       "<path d=\"M800.2199,-1577.3799C800.2199,-1569.1745 800.2199,-1559.7679 800.2199,-1550.8786\" fill=\"none\" stroke=\"#000000\"/>\n",
       "<polygon fill=\"#000000\" points=\"803.72,-1550.784 800.2199,-1540.784 796.72,-1550.784 803.72,-1550.784\" stroke=\"#000000\"/>\n",
       "</g>\n",
       "<!-- 140313696416040 -->\n",
       "<g class=\"node\" id=\"node35\">\n",
       "<title>140313696416040</title>\n",
       "<polygon fill=\"none\" points=\"584.2199,-1411.5 584.2199,-1457.5 1016.2199,-1457.5 1016.2199,-1411.5 584.2199,-1411.5\" stroke=\"#000000\"/>\n",
       "<text fill=\"#000000\" font-family=\"Times,serif\" font-size=\"14.00\" text-anchor=\"middle\" x=\"717.2199\" y=\"-1430.8\">batch_normalization_21: BatchNormalization</text>\n",
       "<polyline fill=\"none\" points=\"850.2199,-1411.5 850.2199,-1457.5 \" stroke=\"#000000\"/>\n",
       "<text fill=\"#000000\" font-family=\"Times,serif\" font-size=\"14.00\" text-anchor=\"middle\" x=\"877.7199\" y=\"-1442.3\">input:</text>\n",
       "<polyline fill=\"none\" points=\"850.2199,-1434.5 905.2199,-1434.5 \" stroke=\"#000000\"/>\n",
       "<text fill=\"#000000\" font-family=\"Times,serif\" font-size=\"14.00\" text-anchor=\"middle\" x=\"877.7199\" y=\"-1419.3\">output:</text>\n",
       "<polyline fill=\"none\" points=\"905.2199,-1411.5 905.2199,-1457.5 \" stroke=\"#000000\"/>\n",
       "<text fill=\"#000000\" font-family=\"Times,serif\" font-size=\"14.00\" text-anchor=\"middle\" x=\"960.7199\" y=\"-1442.3\">(None, 8, 8, 512)</text>\n",
       "<polyline fill=\"none\" points=\"905.2199,-1434.5 1016.2199,-1434.5 \" stroke=\"#000000\"/>\n",
       "<text fill=\"#000000\" font-family=\"Times,serif\" font-size=\"14.00\" text-anchor=\"middle\" x=\"960.7199\" y=\"-1419.3\">(None, 8, 8, 512)</text>\n",
       "</g>\n",
       "<!-- 140313696731712&#45;&gt;140313696416040 -->\n",
       "<g class=\"edge\" id=\"edge44\">\n",
       "<title>140313696731712-&gt;140313696416040</title>\n",
       "<path d=\"M800.2199,-1494.3799C800.2199,-1486.1745 800.2199,-1476.7679 800.2199,-1467.8786\" fill=\"none\" stroke=\"#000000\"/>\n",
       "<polygon fill=\"#000000\" points=\"803.72,-1467.784 800.2199,-1457.784 796.72,-1467.784 803.72,-1467.784\" stroke=\"#000000\"/>\n",
       "</g>\n",
       "<!-- 140313696499304 -->\n",
       "<g class=\"node\" id=\"node36\">\n",
       "<title>140313696499304</title>\n",
       "<polygon fill=\"none\" points=\"445.7199,-1328.5 445.7199,-1374.5 900.7199,-1374.5 900.7199,-1328.5 445.7199,-1328.5\" stroke=\"#000000\"/>\n",
       "<text fill=\"#000000\" font-family=\"Times,serif\" font-size=\"14.00\" text-anchor=\"middle\" x=\"538.2199\" y=\"-1347.8\">soft_attention_4: SoftAttention</text>\n",
       "<polyline fill=\"none\" points=\"630.7199,-1328.5 630.7199,-1374.5 \" stroke=\"#000000\"/>\n",
       "<text fill=\"#000000\" font-family=\"Times,serif\" font-size=\"14.00\" text-anchor=\"middle\" x=\"658.2199\" y=\"-1359.3\">input:</text>\n",
       "<polyline fill=\"none\" points=\"630.7199,-1351.5 685.7199,-1351.5 \" stroke=\"#000000\"/>\n",
       "<text fill=\"#000000\" font-family=\"Times,serif\" font-size=\"14.00\" text-anchor=\"middle\" x=\"658.2199\" y=\"-1336.3\">output:</text>\n",
       "<polyline fill=\"none\" points=\"685.7199,-1328.5 685.7199,-1374.5 \" stroke=\"#000000\"/>\n",
       "<text fill=\"#000000\" font-family=\"Times,serif\" font-size=\"14.00\" text-anchor=\"middle\" x=\"793.2199\" y=\"-1359.3\">(None, 8, 8, 512)</text>\n",
       "<polyline fill=\"none\" points=\"685.7199,-1351.5 900.7199,-1351.5 \" stroke=\"#000000\"/>\n",
       "<text fill=\"#000000\" font-family=\"Times,serif\" font-size=\"14.00\" text-anchor=\"middle\" x=\"793.2199\" y=\"-1336.3\">[(None, 8, 8, 512), (None, 16, 8, 8)]</text>\n",
       "</g>\n",
       "<!-- 140313696416040&#45;&gt;140313696499304 -->\n",
       "<g class=\"edge\" id=\"edge45\">\n",
       "<title>140313696416040-&gt;140313696499304</title>\n",
       "<path d=\"M764.8434,-1411.3799C750.1047,-1401.7475 732.833,-1390.4597 717.2824,-1380.2967\" fill=\"none\" stroke=\"#000000\"/>\n",
       "<polygon fill=\"#000000\" points=\"719.1329,-1377.325 708.8473,-1374.784 715.3034,-1383.1846 719.1329,-1377.325\" stroke=\"#000000\"/>\n",
       "</g>\n",
       "<!-- 140313696500816 -->\n",
       "<g class=\"node\" id=\"node37\">\n",
       "<title>140313696500816</title>\n",
       "<polygon fill=\"none\" points=\"803.2199,-1245.5 803.2199,-1291.5 1205.2199,-1291.5 1205.2199,-1245.5 803.2199,-1245.5\" stroke=\"#000000\"/>\n",
       "<text fill=\"#000000\" font-family=\"Times,serif\" font-size=\"14.00\" text-anchor=\"middle\" x=\"921.2199\" y=\"-1264.8\">block4_reduction_conv: MaxPooling2D</text>\n",
       "<polyline fill=\"none\" points=\"1039.2199,-1245.5 1039.2199,-1291.5 \" stroke=\"#000000\"/>\n",
       "<text fill=\"#000000\" font-family=\"Times,serif\" font-size=\"14.00\" text-anchor=\"middle\" x=\"1066.7199\" y=\"-1276.3\">input:</text>\n",
       "<polyline fill=\"none\" points=\"1039.2199,-1268.5 1094.2199,-1268.5 \" stroke=\"#000000\"/>\n",
       "<text fill=\"#000000\" font-family=\"Times,serif\" font-size=\"14.00\" text-anchor=\"middle\" x=\"1066.7199\" y=\"-1253.3\">output:</text>\n",
       "<polyline fill=\"none\" points=\"1094.2199,-1245.5 1094.2199,-1291.5 \" stroke=\"#000000\"/>\n",
       "<text fill=\"#000000\" font-family=\"Times,serif\" font-size=\"14.00\" text-anchor=\"middle\" x=\"1149.7199\" y=\"-1276.3\">(None, 8, 8, 512)</text>\n",
       "<polyline fill=\"none\" points=\"1094.2199,-1268.5 1205.2199,-1268.5 \" stroke=\"#000000\"/>\n",
       "<text fill=\"#000000\" font-family=\"Times,serif\" font-size=\"14.00\" text-anchor=\"middle\" x=\"1149.7199\" y=\"-1253.3\">(None, 4, 4, 512)</text>\n",
       "</g>\n",
       "<!-- 140313696416040&#45;&gt;140313696500816 -->\n",
       "<g class=\"edge\" id=\"edge46\">\n",
       "<title>140313696416040-&gt;140313696500816</title>\n",
       "<path d=\"M851.0214,-1411.3679C870.1732,-1401.4953 891.5753,-1389.0089 909.2199,-1375 936.8714,-1353.0462 963.1747,-1322.5343 981.0628,-1299.7942\" fill=\"none\" stroke=\"#000000\"/>\n",
       "<polygon fill=\"#000000\" points=\"983.9004,-1301.8464 987.2594,-1291.7981 978.3674,-1297.5585 983.9004,-1301.8464\" stroke=\"#000000\"/>\n",
       "</g>\n",
       "<!-- 140313696591264 -->\n",
       "<g class=\"node\" id=\"node38\">\n",
       "<title>140313696591264</title>\n",
       "<polygon fill=\"none\" points=\"411.7199,-1245.5 411.7199,-1291.5 784.7199,-1291.5 784.7199,-1245.5 411.7199,-1245.5\" stroke=\"#000000\"/>\n",
       "<text fill=\"#000000\" font-family=\"Times,serif\" font-size=\"14.00\" text-anchor=\"middle\" x=\"515.2199\" y=\"-1264.8\">max_pooling2d_9: MaxPooling2D</text>\n",
       "<polyline fill=\"none\" points=\"618.7199,-1245.5 618.7199,-1291.5 \" stroke=\"#000000\"/>\n",
       "<text fill=\"#000000\" font-family=\"Times,serif\" font-size=\"14.00\" text-anchor=\"middle\" x=\"646.2199\" y=\"-1276.3\">input:</text>\n",
       "<polyline fill=\"none\" points=\"618.7199,-1268.5 673.7199,-1268.5 \" stroke=\"#000000\"/>\n",
       "<text fill=\"#000000\" font-family=\"Times,serif\" font-size=\"14.00\" text-anchor=\"middle\" x=\"646.2199\" y=\"-1253.3\">output:</text>\n",
       "<polyline fill=\"none\" points=\"673.7199,-1245.5 673.7199,-1291.5 \" stroke=\"#000000\"/>\n",
       "<text fill=\"#000000\" font-family=\"Times,serif\" font-size=\"14.00\" text-anchor=\"middle\" x=\"729.2199\" y=\"-1276.3\">(None, 8, 8, 512)</text>\n",
       "<polyline fill=\"none\" points=\"673.7199,-1268.5 784.7199,-1268.5 \" stroke=\"#000000\"/>\n",
       "<text fill=\"#000000\" font-family=\"Times,serif\" font-size=\"14.00\" text-anchor=\"middle\" x=\"729.2199\" y=\"-1253.3\">(None, 4, 4, 512)</text>\n",
       "</g>\n",
       "<!-- 140313696499304&#45;&gt;140313696591264 -->\n",
       "<g class=\"edge\" id=\"edge47\">\n",
       "<title>140313696499304-&gt;140313696591264</title>\n",
       "<path d=\"M652.3283,-1328.3799C644.1885,-1319.3718 634.7404,-1308.916 626.0389,-1299.2863\" fill=\"none\" stroke=\"#000000\"/>\n",
       "<polygon fill=\"#000000\" points=\"628.5611,-1296.8571 619.2597,-1291.784 623.3673,-1301.5502 628.5611,-1296.8571\" stroke=\"#000000\"/>\n",
       "</g>\n",
       "<!-- 140313696591600 -->\n",
       "<g class=\"node\" id=\"node39\">\n",
       "<title>140313696591600</title>\n",
       "<polygon fill=\"none\" points=\"575.2199,-1162.5 575.2199,-1208.5 1027.2199,-1208.5 1027.2199,-1162.5 575.2199,-1162.5\" stroke=\"#000000\"/>\n",
       "<text fill=\"#000000\" font-family=\"Times,serif\" font-size=\"14.00\" text-anchor=\"middle\" x=\"662.7199\" y=\"-1181.8\">concatenate_11: Concatenate</text>\n",
       "<polyline fill=\"none\" points=\"750.2199,-1162.5 750.2199,-1208.5 \" stroke=\"#000000\"/>\n",
       "<text fill=\"#000000\" font-family=\"Times,serif\" font-size=\"14.00\" text-anchor=\"middle\" x=\"777.7199\" y=\"-1193.3\">input:</text>\n",
       "<polyline fill=\"none\" points=\"750.2199,-1185.5 805.2199,-1185.5 \" stroke=\"#000000\"/>\n",
       "<text fill=\"#000000\" font-family=\"Times,serif\" font-size=\"14.00\" text-anchor=\"middle\" x=\"777.7199\" y=\"-1170.3\">output:</text>\n",
       "<polyline fill=\"none\" points=\"805.2199,-1162.5 805.2199,-1208.5 \" stroke=\"#000000\"/>\n",
       "<text fill=\"#000000\" font-family=\"Times,serif\" font-size=\"14.00\" text-anchor=\"middle\" x=\"916.2199\" y=\"-1193.3\">[(None, 4, 4, 512), (None, 4, 4, 512)]</text>\n",
       "<polyline fill=\"none\" points=\"805.2199,-1185.5 1027.2199,-1185.5 \" stroke=\"#000000\"/>\n",
       "<text fill=\"#000000\" font-family=\"Times,serif\" font-size=\"14.00\" text-anchor=\"middle\" x=\"916.2199\" y=\"-1170.3\">(None, 4, 4, 1024)</text>\n",
       "</g>\n",
       "<!-- 140313696500816&#45;&gt;140313696591600 -->\n",
       "<g class=\"edge\" id=\"edge48\">\n",
       "<title>140313696500816-&gt;140313696591600</title>\n",
       "<path d=\"M947.9427,-1245.4901C922.8618,-1235.2353 893.1502,-1223.0872 867.0457,-1212.414\" fill=\"none\" stroke=\"#000000\"/>\n",
       "<polygon fill=\"#000000\" points=\"868.1875,-1209.0996 857.6067,-1208.5547 865.5382,-1215.579 868.1875,-1209.0996\" stroke=\"#000000\"/>\n",
       "</g>\n",
       "<!-- 140313696591264&#45;&gt;140313696591600 -->\n",
       "<g class=\"edge\" id=\"edge49\">\n",
       "<title>140313696591264-&gt;140313696591600</title>\n",
       "<path d=\"M654.4972,-1245.4901C679.5781,-1235.2353 709.2897,-1223.0872 735.3942,-1212.414\" fill=\"none\" stroke=\"#000000\"/>\n",
       "<polygon fill=\"#000000\" points=\"736.9016,-1215.579 744.8332,-1208.5547 734.2524,-1209.0996 736.9016,-1215.579\" stroke=\"#000000\"/>\n",
       "</g>\n",
       "<!-- 140313696136384 -->\n",
       "<g class=\"node\" id=\"node40\">\n",
       "<title>140313696136384</title>\n",
       "<polygon fill=\"none\" points=\"634.2199,-1079.5 634.2199,-1125.5 968.2199,-1125.5 968.2199,-1079.5 634.2199,-1079.5\" stroke=\"#000000\"/>\n",
       "<text fill=\"#000000\" font-family=\"Times,serif\" font-size=\"14.00\" text-anchor=\"middle\" x=\"714.7199\" y=\"-1098.8\">activation_315: Activation</text>\n",
       "<polyline fill=\"none\" points=\"795.2199,-1079.5 795.2199,-1125.5 \" stroke=\"#000000\"/>\n",
       "<text fill=\"#000000\" font-family=\"Times,serif\" font-size=\"14.00\" text-anchor=\"middle\" x=\"822.7199\" y=\"-1110.3\">input:</text>\n",
       "<polyline fill=\"none\" points=\"795.2199,-1102.5 850.2199,-1102.5 \" stroke=\"#000000\"/>\n",
       "<text fill=\"#000000\" font-family=\"Times,serif\" font-size=\"14.00\" text-anchor=\"middle\" x=\"822.7199\" y=\"-1087.3\">output:</text>\n",
       "<polyline fill=\"none\" points=\"850.2199,-1079.5 850.2199,-1125.5 \" stroke=\"#000000\"/>\n",
       "<text fill=\"#000000\" font-family=\"Times,serif\" font-size=\"14.00\" text-anchor=\"middle\" x=\"909.2199\" y=\"-1110.3\">(None, 4, 4, 1024)</text>\n",
       "<polyline fill=\"none\" points=\"850.2199,-1102.5 968.2199,-1102.5 \" stroke=\"#000000\"/>\n",
       "<text fill=\"#000000\" font-family=\"Times,serif\" font-size=\"14.00\" text-anchor=\"middle\" x=\"909.2199\" y=\"-1087.3\">(None, 4, 4, 1024)</text>\n",
       "</g>\n",
       "<!-- 140313696591600&#45;&gt;140313696136384 -->\n",
       "<g class=\"edge\" id=\"edge50\">\n",
       "<title>140313696591600-&gt;140313696136384</title>\n",
       "<path d=\"M801.2199,-1162.3799C801.2199,-1154.1745 801.2199,-1144.7679 801.2199,-1135.8786\" fill=\"none\" stroke=\"#000000\"/>\n",
       "<polygon fill=\"#000000\" points=\"804.72,-1135.784 801.2199,-1125.784 797.72,-1135.784 804.72,-1135.784\" stroke=\"#000000\"/>\n",
       "</g>\n",
       "<!-- 140313696134872 -->\n",
       "<g class=\"node\" id=\"node41\">\n",
       "<title>140313696134872</title>\n",
       "<polygon fill=\"none\" points=\"649.2199,-996.5 649.2199,-1042.5 953.2199,-1042.5 953.2199,-996.5 649.2199,-996.5\" stroke=\"#000000\"/>\n",
       "<text fill=\"#000000\" font-family=\"Times,serif\" font-size=\"14.00\" text-anchor=\"middle\" x=\"714.7199\" y=\"-1015.8\">dropout_10: Dropout</text>\n",
       "<polyline fill=\"none\" points=\"780.2199,-996.5 780.2199,-1042.5 \" stroke=\"#000000\"/>\n",
       "<text fill=\"#000000\" font-family=\"Times,serif\" font-size=\"14.00\" text-anchor=\"middle\" x=\"807.7199\" y=\"-1027.3\">input:</text>\n",
       "<polyline fill=\"none\" points=\"780.2199,-1019.5 835.2199,-1019.5 \" stroke=\"#000000\"/>\n",
       "<text fill=\"#000000\" font-family=\"Times,serif\" font-size=\"14.00\" text-anchor=\"middle\" x=\"807.7199\" y=\"-1004.3\">output:</text>\n",
       "<polyline fill=\"none\" points=\"835.2199,-996.5 835.2199,-1042.5 \" stroke=\"#000000\"/>\n",
       "<text fill=\"#000000\" font-family=\"Times,serif\" font-size=\"14.00\" text-anchor=\"middle\" x=\"894.2199\" y=\"-1027.3\">(None, 4, 4, 1024)</text>\n",
       "<polyline fill=\"none\" points=\"835.2199,-1019.5 953.2199,-1019.5 \" stroke=\"#000000\"/>\n",
       "<text fill=\"#000000\" font-family=\"Times,serif\" font-size=\"14.00\" text-anchor=\"middle\" x=\"894.2199\" y=\"-1004.3\">(None, 4, 4, 1024)</text>\n",
       "</g>\n",
       "<!-- 140313696136384&#45;&gt;140313696134872 -->\n",
       "<g class=\"edge\" id=\"edge51\">\n",
       "<title>140313696136384-&gt;140313696134872</title>\n",
       "<path d=\"M801.2199,-1079.3799C801.2199,-1071.1745 801.2199,-1061.7679 801.2199,-1052.8786\" fill=\"none\" stroke=\"#000000\"/>\n",
       "<polygon fill=\"#000000\" points=\"804.72,-1052.784 801.2199,-1042.784 797.72,-1052.784 804.72,-1052.784\" stroke=\"#000000\"/>\n",
       "</g>\n",
       "<!-- 140310364817392 -->\n",
       "<g class=\"node\" id=\"node42\">\n",
       "<title>140310364817392</title>\n",
       "<polygon fill=\"none\" points=\"641.7199,-913.5 641.7199,-959.5 960.7199,-959.5 960.7199,-913.5 641.7199,-913.5\" stroke=\"#000000\"/>\n",
       "<text fill=\"#000000\" font-family=\"Times,serif\" font-size=\"14.00\" text-anchor=\"middle\" x=\"714.7199\" y=\"-932.8\">block5_conv1: Conv2D</text>\n",
       "<polyline fill=\"none\" points=\"787.7199,-913.5 787.7199,-959.5 \" stroke=\"#000000\"/>\n",
       "<text fill=\"#000000\" font-family=\"Times,serif\" font-size=\"14.00\" text-anchor=\"middle\" x=\"815.2199\" y=\"-944.3\">input:</text>\n",
       "<polyline fill=\"none\" points=\"787.7199,-936.5 842.7199,-936.5 \" stroke=\"#000000\"/>\n",
       "<text fill=\"#000000\" font-family=\"Times,serif\" font-size=\"14.00\" text-anchor=\"middle\" x=\"815.2199\" y=\"-921.3\">output:</text>\n",
       "<polyline fill=\"none\" points=\"842.7199,-913.5 842.7199,-959.5 \" stroke=\"#000000\"/>\n",
       "<text fill=\"#000000\" font-family=\"Times,serif\" font-size=\"14.00\" text-anchor=\"middle\" x=\"901.7199\" y=\"-944.3\">(None, 4, 4, 1024)</text>\n",
       "<polyline fill=\"none\" points=\"842.7199,-936.5 960.7199,-936.5 \" stroke=\"#000000\"/>\n",
       "<text fill=\"#000000\" font-family=\"Times,serif\" font-size=\"14.00\" text-anchor=\"middle\" x=\"901.7199\" y=\"-921.3\">(None, 4, 4, 512)</text>\n",
       "</g>\n",
       "<!-- 140313696134872&#45;&gt;140310364817392 -->\n",
       "<g class=\"edge\" id=\"edge52\">\n",
       "<title>140313696134872-&gt;140310364817392</title>\n",
       "<path d=\"M801.2199,-996.3799C801.2199,-988.1745 801.2199,-978.7679 801.2199,-969.8786\" fill=\"none\" stroke=\"#000000\"/>\n",
       "<polygon fill=\"#000000\" points=\"804.72,-969.784 801.2199,-959.784 797.72,-969.784 804.72,-969.784\" stroke=\"#000000\"/>\n",
       "</g>\n",
       "<!-- 140310364818400 -->\n",
       "<g class=\"node\" id=\"node43\">\n",
       "<title>140310364818400</title>\n",
       "<polygon fill=\"none\" points=\"645.2199,-830.5 645.2199,-876.5 957.2199,-876.5 957.2199,-830.5 645.2199,-830.5\" stroke=\"#000000\"/>\n",
       "<text fill=\"#000000\" font-family=\"Times,serif\" font-size=\"14.00\" text-anchor=\"middle\" x=\"718.2199\" y=\"-849.8\">block5_conv2: Conv2D</text>\n",
       "<polyline fill=\"none\" points=\"791.2199,-830.5 791.2199,-876.5 \" stroke=\"#000000\"/>\n",
       "<text fill=\"#000000\" font-family=\"Times,serif\" font-size=\"14.00\" text-anchor=\"middle\" x=\"818.7199\" y=\"-861.3\">input:</text>\n",
       "<polyline fill=\"none\" points=\"791.2199,-853.5 846.2199,-853.5 \" stroke=\"#000000\"/>\n",
       "<text fill=\"#000000\" font-family=\"Times,serif\" font-size=\"14.00\" text-anchor=\"middle\" x=\"818.7199\" y=\"-838.3\">output:</text>\n",
       "<polyline fill=\"none\" points=\"846.2199,-830.5 846.2199,-876.5 \" stroke=\"#000000\"/>\n",
       "<text fill=\"#000000\" font-family=\"Times,serif\" font-size=\"14.00\" text-anchor=\"middle\" x=\"901.7199\" y=\"-861.3\">(None, 4, 4, 512)</text>\n",
       "<polyline fill=\"none\" points=\"846.2199,-853.5 957.2199,-853.5 \" stroke=\"#000000\"/>\n",
       "<text fill=\"#000000\" font-family=\"Times,serif\" font-size=\"14.00\" text-anchor=\"middle\" x=\"901.7199\" y=\"-838.3\">(None, 4, 4, 512)</text>\n",
       "</g>\n",
       "<!-- 140310364817392&#45;&gt;140310364818400 -->\n",
       "<g class=\"edge\" id=\"edge53\">\n",
       "<title>140310364817392-&gt;140310364818400</title>\n",
       "<path d=\"M801.2199,-913.3799C801.2199,-905.1745 801.2199,-895.7679 801.2199,-886.8786\" fill=\"none\" stroke=\"#000000\"/>\n",
       "<polygon fill=\"#000000\" points=\"804.72,-886.784 801.2199,-876.784 797.72,-886.784 804.72,-886.784\" stroke=\"#000000\"/>\n",
       "</g>\n",
       "<!-- 140310364925568 -->\n",
       "<g class=\"node\" id=\"node44\">\n",
       "<title>140310364925568</title>\n",
       "<polygon fill=\"none\" points=\"645.2199,-747.5 645.2199,-793.5 957.2199,-793.5 957.2199,-747.5 645.2199,-747.5\" stroke=\"#000000\"/>\n",
       "<text fill=\"#000000\" font-family=\"Times,serif\" font-size=\"14.00\" text-anchor=\"middle\" x=\"718.2199\" y=\"-766.8\">block5_conv3: Conv2D</text>\n",
       "<polyline fill=\"none\" points=\"791.2199,-747.5 791.2199,-793.5 \" stroke=\"#000000\"/>\n",
       "<text fill=\"#000000\" font-family=\"Times,serif\" font-size=\"14.00\" text-anchor=\"middle\" x=\"818.7199\" y=\"-778.3\">input:</text>\n",
       "<polyline fill=\"none\" points=\"791.2199,-770.5 846.2199,-770.5 \" stroke=\"#000000\"/>\n",
       "<text fill=\"#000000\" font-family=\"Times,serif\" font-size=\"14.00\" text-anchor=\"middle\" x=\"818.7199\" y=\"-755.3\">output:</text>\n",
       "<polyline fill=\"none\" points=\"846.2199,-747.5 846.2199,-793.5 \" stroke=\"#000000\"/>\n",
       "<text fill=\"#000000\" font-family=\"Times,serif\" font-size=\"14.00\" text-anchor=\"middle\" x=\"901.7199\" y=\"-778.3\">(None, 4, 4, 512)</text>\n",
       "<polyline fill=\"none\" points=\"846.2199,-770.5 957.2199,-770.5 \" stroke=\"#000000\"/>\n",
       "<text fill=\"#000000\" font-family=\"Times,serif\" font-size=\"14.00\" text-anchor=\"middle\" x=\"901.7199\" y=\"-755.3\">(None, 4, 4, 512)</text>\n",
       "</g>\n",
       "<!-- 140310364818400&#45;&gt;140310364925568 -->\n",
       "<g class=\"edge\" id=\"edge54\">\n",
       "<title>140310364818400-&gt;140310364925568</title>\n",
       "<path d=\"M801.2199,-830.3799C801.2199,-822.1745 801.2199,-812.7679 801.2199,-803.8786\" fill=\"none\" stroke=\"#000000\"/>\n",
       "<polygon fill=\"#000000\" points=\"804.72,-803.784 801.2199,-793.784 797.72,-803.784 804.72,-803.784\" stroke=\"#000000\"/>\n",
       "</g>\n",
       "<!-- 140310364606360 -->\n",
       "<g class=\"node\" id=\"node45\">\n",
       "<title>140310364606360</title>\n",
       "<polygon fill=\"none\" points=\"585.2199,-664.5 585.2199,-710.5 1017.2199,-710.5 1017.2199,-664.5 585.2199,-664.5\" stroke=\"#000000\"/>\n",
       "<text fill=\"#000000\" font-family=\"Times,serif\" font-size=\"14.00\" text-anchor=\"middle\" x=\"718.2199\" y=\"-683.8\">batch_normalization_22: BatchNormalization</text>\n",
       "<polyline fill=\"none\" points=\"851.2199,-664.5 851.2199,-710.5 \" stroke=\"#000000\"/>\n",
       "<text fill=\"#000000\" font-family=\"Times,serif\" font-size=\"14.00\" text-anchor=\"middle\" x=\"878.7199\" y=\"-695.3\">input:</text>\n",
       "<polyline fill=\"none\" points=\"851.2199,-687.5 906.2199,-687.5 \" stroke=\"#000000\"/>\n",
       "<text fill=\"#000000\" font-family=\"Times,serif\" font-size=\"14.00\" text-anchor=\"middle\" x=\"878.7199\" y=\"-672.3\">output:</text>\n",
       "<polyline fill=\"none\" points=\"906.2199,-664.5 906.2199,-710.5 \" stroke=\"#000000\"/>\n",
       "<text fill=\"#000000\" font-family=\"Times,serif\" font-size=\"14.00\" text-anchor=\"middle\" x=\"961.7199\" y=\"-695.3\">(None, 4, 4, 512)</text>\n",
       "<polyline fill=\"none\" points=\"906.2199,-687.5 1017.2199,-687.5 \" stroke=\"#000000\"/>\n",
       "<text fill=\"#000000\" font-family=\"Times,serif\" font-size=\"14.00\" text-anchor=\"middle\" x=\"961.7199\" y=\"-672.3\">(None, 4, 4, 512)</text>\n",
       "</g>\n",
       "<!-- 140310364925568&#45;&gt;140310364606360 -->\n",
       "<g class=\"edge\" id=\"edge55\">\n",
       "<title>140310364925568-&gt;140310364606360</title>\n",
       "<path d=\"M801.2199,-747.3799C801.2199,-739.1745 801.2199,-729.7679 801.2199,-720.8786\" fill=\"none\" stroke=\"#000000\"/>\n",
       "<polygon fill=\"#000000\" points=\"804.72,-720.784 801.2199,-710.784 797.72,-720.784 804.72,-720.784\" stroke=\"#000000\"/>\n",
       "</g>\n",
       "<!-- 140310364795848 -->\n",
       "<g class=\"node\" id=\"node46\">\n",
       "<title>140310364795848</title>\n",
       "<polygon fill=\"none\" points=\"446.7199,-581.5 446.7199,-627.5 901.7199,-627.5 901.7199,-581.5 446.7199,-581.5\" stroke=\"#000000\"/>\n",
       "<text fill=\"#000000\" font-family=\"Times,serif\" font-size=\"14.00\" text-anchor=\"middle\" x=\"539.2199\" y=\"-600.8\">soft_attention_5: SoftAttention</text>\n",
       "<polyline fill=\"none\" points=\"631.7199,-581.5 631.7199,-627.5 \" stroke=\"#000000\"/>\n",
       "<text fill=\"#000000\" font-family=\"Times,serif\" font-size=\"14.00\" text-anchor=\"middle\" x=\"659.2199\" y=\"-612.3\">input:</text>\n",
       "<polyline fill=\"none\" points=\"631.7199,-604.5 686.7199,-604.5 \" stroke=\"#000000\"/>\n",
       "<text fill=\"#000000\" font-family=\"Times,serif\" font-size=\"14.00\" text-anchor=\"middle\" x=\"659.2199\" y=\"-589.3\">output:</text>\n",
       "<polyline fill=\"none\" points=\"686.7199,-581.5 686.7199,-627.5 \" stroke=\"#000000\"/>\n",
       "<text fill=\"#000000\" font-family=\"Times,serif\" font-size=\"14.00\" text-anchor=\"middle\" x=\"794.2199\" y=\"-612.3\">(None, 4, 4, 512)</text>\n",
       "<polyline fill=\"none\" points=\"686.7199,-604.5 901.7199,-604.5 \" stroke=\"#000000\"/>\n",
       "<text fill=\"#000000\" font-family=\"Times,serif\" font-size=\"14.00\" text-anchor=\"middle\" x=\"794.2199\" y=\"-589.3\">[(None, 4, 4, 512), (None, 16, 4, 4)]</text>\n",
       "</g>\n",
       "<!-- 140310364606360&#45;&gt;140310364795848 -->\n",
       "<g class=\"edge\" id=\"edge56\">\n",
       "<title>140310364606360-&gt;140310364795848</title>\n",
       "<path d=\"M765.8434,-664.3799C751.1047,-654.7475 733.833,-643.4597 718.2824,-633.2967\" fill=\"none\" stroke=\"#000000\"/>\n",
       "<polygon fill=\"#000000\" points=\"720.1329,-630.325 709.8473,-627.784 716.3034,-636.1846 720.1329,-630.325\" stroke=\"#000000\"/>\n",
       "</g>\n",
       "<!-- 140310364797304 -->\n",
       "<g class=\"node\" id=\"node47\">\n",
       "<title>140310364797304</title>\n",
       "<polygon fill=\"none\" points=\"805.2199,-498.5 805.2199,-544.5 1207.2199,-544.5 1207.2199,-498.5 805.2199,-498.5\" stroke=\"#000000\"/>\n",
       "<text fill=\"#000000\" font-family=\"Times,serif\" font-size=\"14.00\" text-anchor=\"middle\" x=\"923.2199\" y=\"-517.8\">block5_reduction_conv: MaxPooling2D</text>\n",
       "<polyline fill=\"none\" points=\"1041.2199,-498.5 1041.2199,-544.5 \" stroke=\"#000000\"/>\n",
       "<text fill=\"#000000\" font-family=\"Times,serif\" font-size=\"14.00\" text-anchor=\"middle\" x=\"1068.7199\" y=\"-529.3\">input:</text>\n",
       "<polyline fill=\"none\" points=\"1041.2199,-521.5 1096.2199,-521.5 \" stroke=\"#000000\"/>\n",
       "<text fill=\"#000000\" font-family=\"Times,serif\" font-size=\"14.00\" text-anchor=\"middle\" x=\"1068.7199\" y=\"-506.3\">output:</text>\n",
       "<polyline fill=\"none\" points=\"1096.2199,-498.5 1096.2199,-544.5 \" stroke=\"#000000\"/>\n",
       "<text fill=\"#000000\" font-family=\"Times,serif\" font-size=\"14.00\" text-anchor=\"middle\" x=\"1151.7199\" y=\"-529.3\">(None, 4, 4, 512)</text>\n",
       "<polyline fill=\"none\" points=\"1096.2199,-521.5 1207.2199,-521.5 \" stroke=\"#000000\"/>\n",
       "<text fill=\"#000000\" font-family=\"Times,serif\" font-size=\"14.00\" text-anchor=\"middle\" x=\"1151.7199\" y=\"-506.3\">(None, 2, 2, 512)</text>\n",
       "</g>\n",
       "<!-- 140310364606360&#45;&gt;140310364797304 -->\n",
       "<g class=\"edge\" id=\"edge57\">\n",
       "<title>140310364606360-&gt;140310364797304</title>\n",
       "<path d=\"M851.7085,-664.4612C870.9252,-654.5603 892.4543,-642.0297 910.2199,-628 938.0581,-606.0159 964.65,-575.5074 982.7575,-552.7763\" fill=\"none\" stroke=\"#000000\"/>\n",
       "<polygon fill=\"#000000\" points=\"985.6099,-554.8109 989.0314,-544.7838 980.1037,-550.4887 985.6099,-554.8109\" stroke=\"#000000\"/>\n",
       "</g>\n",
       "<!-- 140310364366608 -->\n",
       "<g class=\"node\" id=\"node48\">\n",
       "<title>140310364366608</title>\n",
       "<polygon fill=\"none\" points=\"407.2199,-498.5 407.2199,-544.5 787.2199,-544.5 787.2199,-498.5 407.2199,-498.5\" stroke=\"#000000\"/>\n",
       "<text fill=\"#000000\" font-family=\"Times,serif\" font-size=\"14.00\" text-anchor=\"middle\" x=\"514.2199\" y=\"-517.8\">max_pooling2d_10: MaxPooling2D</text>\n",
       "<polyline fill=\"none\" points=\"621.2199,-498.5 621.2199,-544.5 \" stroke=\"#000000\"/>\n",
       "<text fill=\"#000000\" font-family=\"Times,serif\" font-size=\"14.00\" text-anchor=\"middle\" x=\"648.7199\" y=\"-529.3\">input:</text>\n",
       "<polyline fill=\"none\" points=\"621.2199,-521.5 676.2199,-521.5 \" stroke=\"#000000\"/>\n",
       "<text fill=\"#000000\" font-family=\"Times,serif\" font-size=\"14.00\" text-anchor=\"middle\" x=\"648.7199\" y=\"-506.3\">output:</text>\n",
       "<polyline fill=\"none\" points=\"676.2199,-498.5 676.2199,-544.5 \" stroke=\"#000000\"/>\n",
       "<text fill=\"#000000\" font-family=\"Times,serif\" font-size=\"14.00\" text-anchor=\"middle\" x=\"731.7199\" y=\"-529.3\">(None, 4, 4, 512)</text>\n",
       "<polyline fill=\"none\" points=\"676.2199,-521.5 787.2199,-521.5 \" stroke=\"#000000\"/>\n",
       "<text fill=\"#000000\" font-family=\"Times,serif\" font-size=\"14.00\" text-anchor=\"middle\" x=\"731.7199\" y=\"-506.3\">(None, 2, 2, 512)</text>\n",
       "</g>\n",
       "<!-- 140310364795848&#45;&gt;140310364366608 -->\n",
       "<g class=\"edge\" id=\"edge58\">\n",
       "<title>140310364795848-&gt;140310364366608</title>\n",
       "<path d=\"M652.7711,-581.3799C644.4143,-572.3718 634.7143,-561.916 625.7807,-552.2863\" fill=\"none\" stroke=\"#000000\"/>\n",
       "<polygon fill=\"#000000\" points=\"628.1878,-549.7347 618.8208,-544.784 623.056,-554.4955 628.1878,-549.7347\" stroke=\"#000000\"/>\n",
       "</g>\n",
       "<!-- 140310364368120 -->\n",
       "<g class=\"node\" id=\"node49\">\n",
       "<title>140310364368120</title>\n",
       "<polygon fill=\"none\" points=\"575.2199,-415.5 575.2199,-461.5 1027.2199,-461.5 1027.2199,-415.5 575.2199,-415.5\" stroke=\"#000000\"/>\n",
       "<text fill=\"#000000\" font-family=\"Times,serif\" font-size=\"14.00\" text-anchor=\"middle\" x=\"662.7199\" y=\"-434.8\">concatenate_12: Concatenate</text>\n",
       "<polyline fill=\"none\" points=\"750.2199,-415.5 750.2199,-461.5 \" stroke=\"#000000\"/>\n",
       "<text fill=\"#000000\" font-family=\"Times,serif\" font-size=\"14.00\" text-anchor=\"middle\" x=\"777.7199\" y=\"-446.3\">input:</text>\n",
       "<polyline fill=\"none\" points=\"750.2199,-438.5 805.2199,-438.5 \" stroke=\"#000000\"/>\n",
       "<text fill=\"#000000\" font-family=\"Times,serif\" font-size=\"14.00\" text-anchor=\"middle\" x=\"777.7199\" y=\"-423.3\">output:</text>\n",
       "<polyline fill=\"none\" points=\"805.2199,-415.5 805.2199,-461.5 \" stroke=\"#000000\"/>\n",
       "<text fill=\"#000000\" font-family=\"Times,serif\" font-size=\"14.00\" text-anchor=\"middle\" x=\"916.2199\" y=\"-446.3\">[(None, 2, 2, 512), (None, 2, 2, 512)]</text>\n",
       "<polyline fill=\"none\" points=\"805.2199,-438.5 1027.2199,-438.5 \" stroke=\"#000000\"/>\n",
       "<text fill=\"#000000\" font-family=\"Times,serif\" font-size=\"14.00\" text-anchor=\"middle\" x=\"916.2199\" y=\"-423.3\">(None, 2, 2, 1024)</text>\n",
       "</g>\n",
       "<!-- 140310364797304&#45;&gt;140310364368120 -->\n",
       "<g class=\"edge\" id=\"edge59\">\n",
       "<title>140310364797304-&gt;140310364368120</title>\n",
       "<path d=\"M949.3882,-498.4901C924.0603,-488.2353 894.0559,-476.0872 867.6942,-465.414\" fill=\"none\" stroke=\"#000000\"/>\n",
       "<polygon fill=\"#000000\" points=\"868.7448,-462.0634 858.1622,-461.5547 866.1178,-468.5518 868.7448,-462.0634\" stroke=\"#000000\"/>\n",
       "</g>\n",
       "<!-- 140310364366608&#45;&gt;140310364368120 -->\n",
       "<g class=\"edge\" id=\"edge60\">\n",
       "<title>140310364366608-&gt;140310364368120</title>\n",
       "<path d=\"M653.7744,-498.4901C678.9788,-488.2353 708.8368,-476.0872 735.07,-465.414\" fill=\"none\" stroke=\"#000000\"/>\n",
       "<polygon fill=\"#000000\" points=\"736.6118,-468.5653 744.5555,-461.5547 733.9737,-462.0814 736.6118,-468.5653\" stroke=\"#000000\"/>\n",
       "</g>\n",
       "<!-- 140310364458792 -->\n",
       "<g class=\"node\" id=\"node50\">\n",
       "<title>140310364458792</title>\n",
       "<polygon fill=\"none\" points=\"634.2199,-332.5 634.2199,-378.5 968.2199,-378.5 968.2199,-332.5 634.2199,-332.5\" stroke=\"#000000\"/>\n",
       "<text fill=\"#000000\" font-family=\"Times,serif\" font-size=\"14.00\" text-anchor=\"middle\" x=\"714.7199\" y=\"-351.8\">activation_317: Activation</text>\n",
       "<polyline fill=\"none\" points=\"795.2199,-332.5 795.2199,-378.5 \" stroke=\"#000000\"/>\n",
       "<text fill=\"#000000\" font-family=\"Times,serif\" font-size=\"14.00\" text-anchor=\"middle\" x=\"822.7199\" y=\"-363.3\">input:</text>\n",
       "<polyline fill=\"none\" points=\"795.2199,-355.5 850.2199,-355.5 \" stroke=\"#000000\"/>\n",
       "<text fill=\"#000000\" font-family=\"Times,serif\" font-size=\"14.00\" text-anchor=\"middle\" x=\"822.7199\" y=\"-340.3\">output:</text>\n",
       "<polyline fill=\"none\" points=\"850.2199,-332.5 850.2199,-378.5 \" stroke=\"#000000\"/>\n",
       "<text fill=\"#000000\" font-family=\"Times,serif\" font-size=\"14.00\" text-anchor=\"middle\" x=\"909.2199\" y=\"-363.3\">(None, 2, 2, 1024)</text>\n",
       "<polyline fill=\"none\" points=\"850.2199,-355.5 968.2199,-355.5 \" stroke=\"#000000\"/>\n",
       "<text fill=\"#000000\" font-family=\"Times,serif\" font-size=\"14.00\" text-anchor=\"middle\" x=\"909.2199\" y=\"-340.3\">(None, 2, 2, 1024)</text>\n",
       "</g>\n",
       "<!-- 140310364368120&#45;&gt;140310364458792 -->\n",
       "<g class=\"edge\" id=\"edge61\">\n",
       "<title>140310364368120-&gt;140310364458792</title>\n",
       "<path d=\"M801.2199,-415.3799C801.2199,-407.1745 801.2199,-397.7679 801.2199,-388.8786\" fill=\"none\" stroke=\"#000000\"/>\n",
       "<polygon fill=\"#000000\" points=\"804.72,-388.784 801.2199,-378.784 797.72,-388.784 804.72,-388.784\" stroke=\"#000000\"/>\n",
       "</g>\n",
       "<!-- 140310364455936 -->\n",
       "<g class=\"node\" id=\"node51\">\n",
       "<title>140310364455936</title>\n",
       "<polygon fill=\"none\" points=\"649.2199,-249.5 649.2199,-295.5 953.2199,-295.5 953.2199,-249.5 649.2199,-249.5\" stroke=\"#000000\"/>\n",
       "<text fill=\"#000000\" font-family=\"Times,serif\" font-size=\"14.00\" text-anchor=\"middle\" x=\"714.7199\" y=\"-268.8\">dropout_11: Dropout</text>\n",
       "<polyline fill=\"none\" points=\"780.2199,-249.5 780.2199,-295.5 \" stroke=\"#000000\"/>\n",
       "<text fill=\"#000000\" font-family=\"Times,serif\" font-size=\"14.00\" text-anchor=\"middle\" x=\"807.7199\" y=\"-280.3\">input:</text>\n",
       "<polyline fill=\"none\" points=\"780.2199,-272.5 835.2199,-272.5 \" stroke=\"#000000\"/>\n",
       "<text fill=\"#000000\" font-family=\"Times,serif\" font-size=\"14.00\" text-anchor=\"middle\" x=\"807.7199\" y=\"-257.3\">output:</text>\n",
       "<polyline fill=\"none\" points=\"835.2199,-249.5 835.2199,-295.5 \" stroke=\"#000000\"/>\n",
       "<text fill=\"#000000\" font-family=\"Times,serif\" font-size=\"14.00\" text-anchor=\"middle\" x=\"894.2199\" y=\"-280.3\">(None, 2, 2, 1024)</text>\n",
       "<polyline fill=\"none\" points=\"835.2199,-272.5 953.2199,-272.5 \" stroke=\"#000000\"/>\n",
       "<text fill=\"#000000\" font-family=\"Times,serif\" font-size=\"14.00\" text-anchor=\"middle\" x=\"894.2199\" y=\"-257.3\">(None, 2, 2, 1024)</text>\n",
       "</g>\n",
       "<!-- 140310364458792&#45;&gt;140310364455936 -->\n",
       "<g class=\"edge\" id=\"edge62\">\n",
       "<title>140310364458792-&gt;140310364455936</title>\n",
       "<path d=\"M801.2199,-332.3799C801.2199,-324.1745 801.2199,-314.7679 801.2199,-305.8786\" fill=\"none\" stroke=\"#000000\"/>\n",
       "<polygon fill=\"#000000\" points=\"804.72,-305.784 801.2199,-295.784 797.72,-305.784 804.72,-305.784\" stroke=\"#000000\"/>\n",
       "</g>\n",
       "<!-- 140310363659064 -->\n",
       "<g class=\"node\" id=\"node52\">\n",
       "<title>140310363659064</title>\n",
       "<polygon fill=\"none\" points=\"659.7199,-166.5 659.7199,-212.5 942.7199,-212.5 942.7199,-166.5 659.7199,-166.5\" stroke=\"#000000\"/>\n",
       "<text fill=\"#000000\" font-family=\"Times,serif\" font-size=\"14.00\" text-anchor=\"middle\" x=\"714.7199\" y=\"-185.8\">flatten_2: Flatten</text>\n",
       "<polyline fill=\"none\" points=\"769.7199,-166.5 769.7199,-212.5 \" stroke=\"#000000\"/>\n",
       "<text fill=\"#000000\" font-family=\"Times,serif\" font-size=\"14.00\" text-anchor=\"middle\" x=\"797.2199\" y=\"-197.3\">input:</text>\n",
       "<polyline fill=\"none\" points=\"769.7199,-189.5 824.7199,-189.5 \" stroke=\"#000000\"/>\n",
       "<text fill=\"#000000\" font-family=\"Times,serif\" font-size=\"14.00\" text-anchor=\"middle\" x=\"797.2199\" y=\"-174.3\">output:</text>\n",
       "<polyline fill=\"none\" points=\"824.7199,-166.5 824.7199,-212.5 \" stroke=\"#000000\"/>\n",
       "<text fill=\"#000000\" font-family=\"Times,serif\" font-size=\"14.00\" text-anchor=\"middle\" x=\"883.7199\" y=\"-197.3\">(None, 2, 2, 1024)</text>\n",
       "<polyline fill=\"none\" points=\"824.7199,-189.5 942.7199,-189.5 \" stroke=\"#000000\"/>\n",
       "<text fill=\"#000000\" font-family=\"Times,serif\" font-size=\"14.00\" text-anchor=\"middle\" x=\"883.7199\" y=\"-174.3\">(None, 4096)</text>\n",
       "</g>\n",
       "<!-- 140310364455936&#45;&gt;140310363659064 -->\n",
       "<g class=\"edge\" id=\"edge63\">\n",
       "<title>140310364455936-&gt;140310363659064</title>\n",
       "<path d=\"M801.2199,-249.3799C801.2199,-241.1745 801.2199,-231.7679 801.2199,-222.8786\" fill=\"none\" stroke=\"#000000\"/>\n",
       "<polygon fill=\"#000000\" points=\"804.72,-222.784 801.2199,-212.784 797.72,-222.784 804.72,-222.784\" stroke=\"#000000\"/>\n",
       "</g>\n",
       "<!-- 140310363657272 -->\n",
       "<g class=\"node\" id=\"node53\">\n",
       "<title>140310363657272</title>\n",
       "<polygon fill=\"none\" points=\"663.7199,-83.5 663.7199,-129.5 938.7199,-129.5 938.7199,-83.5 663.7199,-83.5\" stroke=\"#000000\"/>\n",
       "<text fill=\"#000000\" font-family=\"Times,serif\" font-size=\"14.00\" text-anchor=\"middle\" x=\"729.2199\" y=\"-102.8\">dropout_12: Dropout</text>\n",
       "<polyline fill=\"none\" points=\"794.7199,-83.5 794.7199,-129.5 \" stroke=\"#000000\"/>\n",
       "<text fill=\"#000000\" font-family=\"Times,serif\" font-size=\"14.00\" text-anchor=\"middle\" x=\"822.2199\" y=\"-114.3\">input:</text>\n",
       "<polyline fill=\"none\" points=\"794.7199,-106.5 849.7199,-106.5 \" stroke=\"#000000\"/>\n",
       "<text fill=\"#000000\" font-family=\"Times,serif\" font-size=\"14.00\" text-anchor=\"middle\" x=\"822.2199\" y=\"-91.3\">output:</text>\n",
       "<polyline fill=\"none\" points=\"849.7199,-83.5 849.7199,-129.5 \" stroke=\"#000000\"/>\n",
       "<text fill=\"#000000\" font-family=\"Times,serif\" font-size=\"14.00\" text-anchor=\"middle\" x=\"894.2199\" y=\"-114.3\">(None, 4096)</text>\n",
       "<polyline fill=\"none\" points=\"849.7199,-106.5 938.7199,-106.5 \" stroke=\"#000000\"/>\n",
       "<text fill=\"#000000\" font-family=\"Times,serif\" font-size=\"14.00\" text-anchor=\"middle\" x=\"894.2199\" y=\"-91.3\">(None, 4096)</text>\n",
       "</g>\n",
       "<!-- 140310363659064&#45;&gt;140310363657272 -->\n",
       "<g class=\"edge\" id=\"edge64\">\n",
       "<title>140310363659064-&gt;140310363657272</title>\n",
       "<path d=\"M801.2199,-166.3799C801.2199,-158.1745 801.2199,-148.7679 801.2199,-139.8786\" fill=\"none\" stroke=\"#000000\"/>\n",
       "<polygon fill=\"#000000\" points=\"804.72,-139.784 801.2199,-129.784 797.72,-139.784 804.72,-139.784\" stroke=\"#000000\"/>\n",
       "</g>\n",
       "<!-- 140310363265848 -->\n",
       "<g class=\"node\" id=\"node54\">\n",
       "<title>140310363265848</title>\n",
       "<polygon fill=\"none\" points=\"696.7199,-.5 696.7199,-46.5 905.7199,-46.5 905.7199,-.5 696.7199,-.5\" stroke=\"#000000\"/>\n",
       "<text fill=\"#000000\" font-family=\"Times,serif\" font-size=\"14.00\" text-anchor=\"middle\" x=\"729.2199\" y=\"-19.8\">y: Dense</text>\n",
       "<polyline fill=\"none\" points=\"761.7199,-.5 761.7199,-46.5 \" stroke=\"#000000\"/>\n",
       "<text fill=\"#000000\" font-family=\"Times,serif\" font-size=\"14.00\" text-anchor=\"middle\" x=\"789.2199\" y=\"-31.3\">input:</text>\n",
       "<polyline fill=\"none\" points=\"761.7199,-23.5 816.7199,-23.5 \" stroke=\"#000000\"/>\n",
       "<text fill=\"#000000\" font-family=\"Times,serif\" font-size=\"14.00\" text-anchor=\"middle\" x=\"789.2199\" y=\"-8.3\">output:</text>\n",
       "<polyline fill=\"none\" points=\"816.7199,-.5 816.7199,-46.5 \" stroke=\"#000000\"/>\n",
       "<text fill=\"#000000\" font-family=\"Times,serif\" font-size=\"14.00\" text-anchor=\"middle\" x=\"861.2199\" y=\"-31.3\">(None, 4096)</text>\n",
       "<polyline fill=\"none\" points=\"816.7199,-23.5 905.7199,-23.5 \" stroke=\"#000000\"/>\n",
       "<text fill=\"#000000\" font-family=\"Times,serif\" font-size=\"14.00\" text-anchor=\"middle\" x=\"861.2199\" y=\"-8.3\">(None, 2)</text>\n",
       "</g>\n",
       "<!-- 140310363657272&#45;&gt;140310363265848 -->\n",
       "<g class=\"edge\" id=\"edge65\">\n",
       "<title>140310363657272-&gt;140310363265848</title>\n",
       "<path d=\"M801.2199,-83.3799C801.2199,-75.1745 801.2199,-65.7679 801.2199,-56.8786\" fill=\"none\" stroke=\"#000000\"/>\n",
       "<polygon fill=\"#000000\" points=\"804.72,-56.784 801.2199,-46.784 797.72,-56.784 804.72,-56.784\" stroke=\"#000000\"/>\n",
       "</g>\n",
       "</g>\n",
       "</svg>"
      ],
      "text/plain": [
       "<IPython.core.display.SVG object>"
      ]
     },
     "execution_count": 238,
     "metadata": {},
     "output_type": "execute_result"
    }
   ],
   "source": [
    "SVG(model_to_dot(model,show_layer_names=True, show_shapes=True).create(prog='dot', format='svg'))"
   ]
  },
  {
   "cell_type": "markdown",
   "metadata": {},
   "source": [
    "## load data for a given fold"
   ]
  },
  {
   "cell_type": "code",
   "execution_count": 14,
   "metadata": {
    "scrolled": true
   },
   "outputs": [
    {
     "data": {
      "text/plain": [
       "(504207, 4)"
      ]
     },
     "metadata": {},
     "output_type": "display_data"
    },
    {
     "data": {
      "text/plain": [
       "(30459, 4)"
      ]
     },
     "metadata": {},
     "output_type": "display_data"
    }
   ],
   "source": [
    "nb_fold = 1\n",
    "df_tr = pd.read_csv('dataset/kfold_csvs/fold_{0}/train.csv'.format(nb_fold))\n",
    "df_v = pd.read_csv('dataset/kfold_csvs/fold_{0}/val.csv'.format(nb_fold))\n",
    "display(df_tr.shape,df_v.shape)\n",
    "df_tr = df_tr.sort_values(by=['left','right','label']).reset_index()\n",
    "df_v = df_v.sort_values(by=['left','right','label']).reset_index()"
   ]
  },
  {
   "cell_type": "markdown",
   "metadata": {},
   "source": [
    "## visualize the ground truth data"
   ]
  },
  {
   "cell_type": "code",
   "execution_count": 15,
   "metadata": {
    "scrolled": true
   },
   "outputs": [
    {
     "data": {
      "text/html": [
       "<div>\n",
       "<style scoped>\n",
       "    .dataframe tbody tr th:only-of-type {\n",
       "        vertical-align: middle;\n",
       "    }\n",
       "\n",
       "    .dataframe tbody tr th {\n",
       "        vertical-align: top;\n",
       "    }\n",
       "\n",
       "    .dataframe thead th {\n",
       "        text-align: right;\n",
       "    }\n",
       "</style>\n",
       "<table border=\"1\" class=\"dataframe\">\n",
       "  <thead>\n",
       "    <tr style=\"text-align: right;\">\n",
       "      <th></th>\n",
       "      <th>index</th>\n",
       "      <th>Unnamed: 0</th>\n",
       "      <th>left</th>\n",
       "      <th>right</th>\n",
       "      <th>label</th>\n",
       "    </tr>\n",
       "  </thead>\n",
       "  <tbody>\n",
       "    <tr>\n",
       "      <th>0</th>\n",
       "      <td>44642</td>\n",
       "      <td>44642</td>\n",
       "      <td>0001a_num1.png</td>\n",
       "      <td>0001b_num3.png</td>\n",
       "      <td>1</td>\n",
       "    </tr>\n",
       "    <tr>\n",
       "      <th>1</th>\n",
       "      <td>67417</td>\n",
       "      <td>67417</td>\n",
       "      <td>0001a_num1.png</td>\n",
       "      <td>0017b_num1.png</td>\n",
       "      <td>0</td>\n",
       "    </tr>\n",
       "    <tr>\n",
       "      <th>2</th>\n",
       "      <td>230576</td>\n",
       "      <td>230576</td>\n",
       "      <td>0001a_num1.png</td>\n",
       "      <td>0118c_num3.png</td>\n",
       "      <td>0</td>\n",
       "    </tr>\n",
       "    <tr>\n",
       "      <th>3</th>\n",
       "      <td>439468</td>\n",
       "      <td>439468</td>\n",
       "      <td>0001a_num1.png</td>\n",
       "      <td>0202c_num1.png</td>\n",
       "      <td>0</td>\n",
       "    </tr>\n",
       "    <tr>\n",
       "      <th>4</th>\n",
       "      <td>154608</td>\n",
       "      <td>154608</td>\n",
       "      <td>0001a_num1.png</td>\n",
       "      <td>0343a_num3.png</td>\n",
       "      <td>0</td>\n",
       "    </tr>\n",
       "  </tbody>\n",
       "</table>\n",
       "</div>"
      ],
      "text/plain": [
       "    index  Unnamed: 0            left           right  label\n",
       "0   44642       44642  0001a_num1.png  0001b_num3.png      1\n",
       "1   67417       67417  0001a_num1.png  0017b_num1.png      0\n",
       "2  230576      230576  0001a_num1.png  0118c_num3.png      0\n",
       "3  439468      439468  0001a_num1.png  0202c_num1.png      0\n",
       "4  154608      154608  0001a_num1.png  0343a_num3.png      0"
      ]
     },
     "metadata": {},
     "output_type": "display_data"
    }
   ],
   "source": [
    "display(df_tr.head())"
   ]
  },
  {
   "cell_type": "code",
   "execution_count": 16,
   "metadata": {},
   "outputs": [
    {
     "data": {
      "text/plain": [
       "(504207, 5)"
      ]
     },
     "execution_count": 16,
     "metadata": {},
     "output_type": "execute_result"
    }
   ],
   "source": [
    "df_tr.shape"
   ]
  },
  {
   "cell_type": "code",
   "execution_count": 17,
   "metadata": {},
   "outputs": [
    {
     "data": {
      "text/html": [
       "<div>\n",
       "<style scoped>\n",
       "    .dataframe tbody tr th:only-of-type {\n",
       "        vertical-align: middle;\n",
       "    }\n",
       "\n",
       "    .dataframe tbody tr th {\n",
       "        vertical-align: top;\n",
       "    }\n",
       "\n",
       "    .dataframe thead th {\n",
       "        text-align: right;\n",
       "    }\n",
       "</style>\n",
       "<table border=\"1\" class=\"dataframe\">\n",
       "  <thead>\n",
       "    <tr style=\"text-align: right;\">\n",
       "      <th></th>\n",
       "      <th>index</th>\n",
       "      <th>Unnamed: 0</th>\n",
       "      <th>left</th>\n",
       "      <th>right</th>\n",
       "      <th>label</th>\n",
       "    </tr>\n",
       "  </thead>\n",
       "  <tbody>\n",
       "    <tr>\n",
       "      <th>0</th>\n",
       "      <td>1028</td>\n",
       "      <td>1028</td>\n",
       "      <td>0001b_num1.png</td>\n",
       "      <td>0001c_num1.png</td>\n",
       "      <td>1</td>\n",
       "    </tr>\n",
       "    <tr>\n",
       "      <th>1</th>\n",
       "      <td>17828</td>\n",
       "      <td>17828</td>\n",
       "      <td>0001b_num1.png</td>\n",
       "      <td>0050c_num2.png</td>\n",
       "      <td>0</td>\n",
       "    </tr>\n",
       "    <tr>\n",
       "      <th>2</th>\n",
       "      <td>29813</td>\n",
       "      <td>29813</td>\n",
       "      <td>0001b_num1.png</td>\n",
       "      <td>0182a_num2.png</td>\n",
       "      <td>0</td>\n",
       "    </tr>\n",
       "    <tr>\n",
       "      <th>3</th>\n",
       "      <td>4741</td>\n",
       "      <td>4741</td>\n",
       "      <td>0001b_num1.png</td>\n",
       "      <td>0373a_num3.png</td>\n",
       "      <td>0</td>\n",
       "    </tr>\n",
       "    <tr>\n",
       "      <th>4</th>\n",
       "      <td>22296</td>\n",
       "      <td>22296</td>\n",
       "      <td>0001b_num1.png</td>\n",
       "      <td>0539a_num2.png</td>\n",
       "      <td>0</td>\n",
       "    </tr>\n",
       "  </tbody>\n",
       "</table>\n",
       "</div>"
      ],
      "text/plain": [
       "   index  Unnamed: 0            left           right  label\n",
       "0   1028        1028  0001b_num1.png  0001c_num1.png      1\n",
       "1  17828       17828  0001b_num1.png  0050c_num2.png      0\n",
       "2  29813       29813  0001b_num1.png  0182a_num2.png      0\n",
       "3   4741        4741  0001b_num1.png  0373a_num3.png      0\n",
       "4  22296       22296  0001b_num1.png  0539a_num2.png      0"
      ]
     },
     "metadata": {},
     "output_type": "display_data"
    },
    {
     "data": {
      "text/plain": [
       "(None, (30459, 5))"
      ]
     },
     "execution_count": 17,
     "metadata": {},
     "output_type": "execute_result"
    }
   ],
   "source": [
    "display(df_v.head()),df_v.shape"
   ]
  },
  {
   "cell_type": "markdown",
   "metadata": {},
   "source": [
    "## function for datagenerator"
   ]
  },
  {
   "cell_type": "code",
   "execution_count": 18,
   "metadata": {},
   "outputs": [],
   "source": [
    "def datagen(ds,batch_size=128,seq=False,mode=''):\n",
    "    counter=0\n",
    "    l,r,y,names = [],[],[],[]\n",
    "    idx = 0\n",
    "    while True:\n",
    "        i=np.random.randint(0,ds.shape[0],1)[0]\n",
    "        if seq:\n",
    "            i = idx\n",
    "            idx+=1\n",
    "        d = ds.iloc[i]        \n",
    "        l.append((255.0 - np.expand_dims(cv2.imread(os.path.join(ds_folder,d.left),0),axis=-1))/255.0)\n",
    "        r.append((255.0 - np.expand_dims(cv2.imread(os.path.join(ds_folder,d.right),0),axis=-1))/255.0)\n",
    "#         im = np.concatenate((l,r),axis=-1)  \n",
    "        names.append([d.left,d.right])\n",
    "        y.append(d.label)\n",
    "        counter+=1\n",
    "        \n",
    "        r.append((255.0 - np.expand_dims(cv2.imread(os.path.join(ds_folder,d.left),0),axis=-1))/255.0)\n",
    "        l.append((255.0 - np.expand_dims(cv2.imread(os.path.join(ds_folder,d.right),0),axis=-1))/255.0)\n",
    "#         im = np.concatenate((l,r),axis=-1)  \n",
    "        names.append([d.right,d.left])\n",
    "        y.append(d.label)\n",
    "        \n",
    "        counter+=1\n",
    "#         print('---',mode,'---',names)\n",
    "        if ds.shape[0]==idx:\n",
    "            idx = 0\n",
    "        if counter==batch_size:\n",
    "            inputs={\n",
    "                'l':np.array(l)\n",
    "                ,'r':np.array(r)\n",
    "            }\n",
    "            outputs={\n",
    "#                 'y':np.array(y)\n",
    "                'y':np_utils.to_categorical(y,num_classes=2)\n",
    "                ,'names':np.array(names)\n",
    "            }\n",
    "            yield inputs,outputs\n",
    "            counter=0\n",
    "            l,r,y,names = [],[],[],[]"
   ]
  },
  {
   "cell_type": "markdown",
   "metadata": {},
   "source": [
    "## function for categorical focal loss"
   ]
  },
  {
   "cell_type": "code",
   "execution_count": 307,
   "metadata": {},
   "outputs": [],
   "source": [
    "def categorical_focal_loss(gamma=2.0, alpha=0.75):\n",
    "    def focal_loss(y_true, y_pred):\n",
    "        epsilon = K.epsilon()\n",
    "        y_pred = K.clip(y_pred, epsilon, 1.0-epsilon)\n",
    "        cross_entropy = -y_true*K.log(y_pred)\n",
    "#         print(K.get_value(y_true))\n",
    "        alpha_factor = K.ones_like(y_true)*alpha\n",
    "        a_t = K.tf.where(K.equal(K.argmax(y_true),1),alpha_factor, 1.0-alpha_factor)\n",
    "#         print(a)\n",
    "        weight = a_t * y_true * K.pow((1-y_pred), gamma)\n",
    "        loss = weight * cross_entropy\n",
    "        loss = K.sum(loss, axis=1)\n",
    "        return loss    \n",
    "    return focal_loss"
   ]
  },
  {
   "cell_type": "code",
   "execution_count": null,
   "metadata": {},
   "outputs": [],
   "source": []
  },
  {
   "cell_type": "code",
   "execution_count": 281,
   "metadata": {},
   "outputs": [],
   "source": [
    "tr_batch_size=192\n",
    "val_batch_size=512\n",
    "tr_gen = datagen(df_tr,batch_size=tr_batch_size,seq=True,mode='train')\n",
    "v_gen = datagen(df_v,batch_size=val_batch_size,seq=True,mode='val')"
   ]
  },
  {
   "cell_type": "code",
   "execution_count": 282,
   "metadata": {},
   "outputs": [],
   "source": [
    "inputs,outputs=next(tr_gen)\n",
    "l,r,y,n = inputs['l'],inputs['r'],outputs['y'],outputs['names']"
   ]
  },
  {
   "cell_type": "code",
   "execution_count": 283,
   "metadata": {},
   "outputs": [
    {
     "data": {
      "text/plain": [
       "((192, 64, 64, 1), (192, 64, 64, 1), (192, 2), (192, 2))"
      ]
     },
     "execution_count": 283,
     "metadata": {},
     "output_type": "execute_result"
    }
   ],
   "source": [
    "l.shape,r.shape,y.shape,n.shape"
   ]
  },
  {
   "cell_type": "code",
   "execution_count": 284,
   "metadata": {
    "scrolled": true
   },
   "outputs": [
    {
     "data": {
      "image/png": "[encoded data removed]",
      "text/plain": [
       "<Figure size 432x288 with 1 Axes>"
      ]
     },
     "metadata": {
      "needs_background": "light"
     },
     "output_type": "display_data"
    },
    {
     "data": {
      "image/png": "[encoded data removed]",
      "text/plain": [
       "<Figure size 432x288 with 1 Axes>"
      ]
     },
     "metadata": {
      "needs_background": "light"
     },
     "output_type": "display_data"
    },
    {
     "data": {
      "image/png": "[encoded data removed]",
      "text/plain": [
       "<Figure size 432x288 with 1 Axes>"
      ]
     },
     "metadata": {
      "needs_background": "light"
     },
     "output_type": "display_data"
    },
    {
     "data": {
      "image/png": "[encoded data removed]",
      "text/plain": [
       "<Figure size 432x288 with 1 Axes>"
      ]
     },
     "metadata": {
      "needs_background": "light"
     },
     "output_type": "display_data"
    }
   ],
   "source": [
    "plt.imshow(l[0][:,:,0])\n",
    "plt.show()\n",
    "plt.imshow(r[0][:,:,0])\n",
    "plt.show()\n",
    "plt.imshow(l[1][:,:,0])\n",
    "plt.show()\n",
    "plt.imshow(r[1][:,:,0])\n",
    "plt.show()"
   ]
  },
  {
   "cell_type": "code",
   "execution_count": 266,
   "metadata": {},
   "outputs": [],
   "source": [
    "p_l = feat_ext_A.predict(l)"
   ]
  },
  {
   "cell_type": "code",
   "execution_count": 267,
   "metadata": {},
   "outputs": [
    {
     "data": {
      "text/plain": [
       "(192, 16, 16, 256)"
      ]
     },
     "execution_count": 267,
     "metadata": {},
     "output_type": "execute_result"
    }
   ],
   "source": [
    "p_l.shape"
   ]
  },
  {
   "cell_type": "code",
   "execution_count": 268,
   "metadata": {},
   "outputs": [
    {
     "data": {
      "text/plain": [
       "array([0.        , 1.60943791])"
      ]
     },
     "execution_count": 268,
     "metadata": {},
     "output_type": "execute_result"
    }
   ],
   "source": [
    "y_true = np.array([0.0,1.0])\n",
    "y_pred = np.array([0.8,0.2])\n",
    "cce = -y_true*np.log(y_pred)\n",
    "cce"
   ]
  },
  {
   "cell_type": "code",
   "execution_count": 269,
   "metadata": {},
   "outputs": [
    {
     "name": "stdout",
     "output_type": "stream",
     "text": [
      "0.95\n"
     ]
    },
    {
     "data": {
      "text/plain": [
       "array([0.   , 0.608])"
      ]
     },
     "execution_count": 269,
     "metadata": {},
     "output_type": "execute_result"
    }
   ],
   "source": [
    "alpha = 0.95 if np.argmax(y_true)==1 else 1 - 0.95\n",
    "print(alpha)\n",
    "gamma = 2.0\n",
    "w = alpha * y_true * np.power((1.0-y_pred), gamma)\n",
    "w"
   ]
  },
  {
   "cell_type": "code",
   "execution_count": 270,
   "metadata": {},
   "outputs": [
    {
     "data": {
      "text/plain": [
       "array([0.        , 0.97853825])"
      ]
     },
     "execution_count": 270,
     "metadata": {},
     "output_type": "execute_result"
    }
   ],
   "source": [
    "w*cce"
   ]
  },
  {
   "cell_type": "code",
   "execution_count": 271,
   "metadata": {
    "scrolled": true
   },
   "outputs": [
    {
     "data": {
      "text/plain": [
       "<matplotlib.image.AxesImage at 0x7f99909dd208>"
      ]
     },
     "execution_count": 271,
     "metadata": {},
     "output_type": "execute_result"
    },
    {
     "data": {
      "image/png": "[encoded data removed]",
      "text/plain": [
       "<Figure size 432x288 with 1 Axes>"
      ]
     },
     "metadata": {
      "needs_background": "light"
     },
     "output_type": "display_data"
    }
   ],
   "source": [
    "plt.imshow(p_l[0][:,:,92])"
   ]
  },
  {
   "cell_type": "markdown",
   "metadata": {},
   "source": [
    "# Experiments\n",
    "- images are input as concatenated\n",
    "    - equal class weights\n",
    "    - unbalanced class weights\n",
    "    - focal loss\n",
    "- images are input as siamese inputs\n",
    "    - equal class weights\n",
    "    - unbalanced class weights\n",
    "    - focal loss"
   ]
  },
  {
   "cell_type": "markdown",
   "metadata": {},
   "source": [
    "## This is for unbalanced class"
   ]
  },
  {
   "cell_type": "code",
   "execution_count": 272,
   "metadata": {
    "scrolled": true
   },
   "outputs": [
    {
     "data": {
      "text/plain": [
       "{0: 0.55, 1: 5.5}"
      ]
     },
     "execution_count": 272,
     "metadata": {},
     "output_type": "execute_result"
    }
   ],
   "source": [
    "total = df_tr.shape[0]\n",
    "pos = df_tr[df_tr['label']==1].shape[0]\n",
    "neg = total-pos\n",
    "weight_for_0 = (1 / neg)*(total)/2.0 \n",
    "weight_for_1 = (1 / pos)*(total)/2.0\n",
    "class_weight = {0: weight_for_0, 1: weight_for_1}\n",
    "class_weight"
   ]
  },
  {
   "cell_type": "code",
   "execution_count": 308,
   "metadata": {},
   "outputs": [],
   "source": [
    "model.compile(loss=categorical_focal_loss(),optimizer=Adam(lr=0.0001,decay=1e-06),metrics=['accuracy'])"
   ]
  },
  {
   "cell_type": "code",
   "execution_count": 309,
   "metadata": {
    "scrolled": true
   },
   "outputs": [
    {
     "name": "stdout",
     "output_type": "stream",
     "text": [
      "__________________________________________________________________________________________________\n",
      "Layer (type)                    Output Shape         Param #     Connected to                     \n",
      "==================================================================================================\n",
      "l (InputLayer)                  (None, 64, 64, 1)    0                                            \n",
      "__________________________________________________________________________________________________\n",
      "r (InputLayer)                  (None, 64, 64, 1)    0                                            \n",
      "__________________________________________________________________________________________________\n",
      "lambda_25 (Lambda)              (None, 64, 64, 1)    0           l[0][0]                          \n",
      "__________________________________________________________________________________________________\n",
      "lambda_26 (Lambda)              (None, 64, 64, 1)    0           r[0][0]                          \n",
      "__________________________________________________________________________________________________\n",
      "lambda_27 (Lambda)              (None, 64, 64, 1)    0           l[0][0]                          \n",
      "__________________________________________________________________________________________________\n",
      "lambda_28 (Lambda)              (None, 64, 64, 1)    0           r[0][0]                          \n",
      "__________________________________________________________________________________________________\n",
      "lambda_29 (Lambda)              (None, 64, 64, 1)    0           l[0][0]                          \n",
      "__________________________________________________________________________________________________\n",
      "lambda_30 (Lambda)              (None, 64, 64, 1)    0           r[0][0]                          \n",
      "__________________________________________________________________________________________________\n",
      "model_27 (Model)                (None, 2)            22924054    lambda_25[0][0]                  \n",
      "                                                                 lambda_26[0][0]                  \n",
      "                                                                 lambda_27[0][0]                  \n",
      "                                                                 lambda_28[0][0]                  \n",
      "                                                                 lambda_29[0][0]                  \n",
      "                                                                 lambda_30[0][0]                  \n",
      "__________________________________________________________________________________________________\n",
      "y (Concatenate)                 (None, 2)            0           model_27[4][0]                   \n",
      "                                                                 model_27[5][0]                   \n",
      "                                                                 model_27[6][0]                   \n",
      "==================================================================================================\n",
      "Total params: 22,924,054\n",
      "Trainable params: 22,915,990\n",
      "Non-trainable params: 8,064\n",
      "__________________________________________________________________________________________________\n"
     ]
    }
   ],
   "source": [
    "parallel_model=multi_gpu_model(model, gpus=3)\n",
    "parallel_model.compile(loss=categorical_focal_loss(),optimizer=Adam(lr=0.0001,decay=1e-06),metrics=['accuracy']) #For multi GPU\n",
    "parallel_model.summary()"
   ]
  },
  {
   "cell_type": "code",
   "execution_count": 310,
   "metadata": {},
   "outputs": [],
   "source": [
    "class MultiGPUCheckpoint(ModelCheckpoint):    \n",
    "    def set_model(self, model):\n",
    "        if isinstance(model.layers[-2], Model):\n",
    "            self.model = model.layers[-2]\n",
    "        else:\n",
    "            self.model = model"
   ]
  },
  {
   "cell_type": "code",
   "execution_count": 311,
   "metadata": {},
   "outputs": [],
   "source": [
    "if not os.path.exists('./checkpoints/ICFHR2020/'):\n",
    "    os.mkdir('./checkpoints/ICFHR2020/')\n",
    "mc=MultiGPUCheckpoint(filepath='./checkpoints/ICFHR2020/cross_attention_residual_vgg_fold_{0}.h5'.format(nb_fold),monitor='val_loss',period=1,save_best_only=True,save_weights_only=True,mode='auto',verbose=1)\n",
    "es=EarlyStopping(patience=20,monitor='val_loss',min_delta=0.0001,mode='auto')\n",
    "tb=TensorBoard(log_dir=\"./runs/cross_attention_residual_vgg_fold_{0}_{1}\".format(nb_fold,time()))"
   ]
  },
  {
   "cell_type": "markdown",
   "metadata": {},
   "source": [
    "## load weights if any"
   ]
  },
  {
   "cell_type": "code",
   "execution_count": 312,
   "metadata": {
    "scrolled": true
   },
   "outputs": [
    {
     "name": "stderr",
     "output_type": "stream",
     "text": [
      "/home/mshaikh2/anaconda3/envs/tf-gpu/lib/python3.5/site-packages/keras/engine/saving.py:1008: UserWarning: Skipping loading of weights for layer imgModel due to mismatch in shape ((3, 3, 128, 128) vs (64, 64, 2, 2)).\n",
      "  weight_values[i].shape))\n",
      "/home/mshaikh2/anaconda3/envs/tf-gpu/lib/python3.5/site-packages/keras/engine/saving.py:1008: UserWarning: Skipping loading of weights for layer imgModel due to mismatch in shape ((128,) vs (64,)).\n",
      "  weight_values[i].shape))\n",
      "/home/mshaikh2/anaconda3/envs/tf-gpu/lib/python3.5/site-packages/keras/engine/saving.py:1008: UserWarning: Skipping loading of weights for layer imgModel due to mismatch in shape ((128,) vs (3, 3, 128, 128)).\n",
      "  weight_values[i].shape))\n",
      "/home/mshaikh2/anaconda3/envs/tf-gpu/lib/python3.5/site-packages/keras/engine/saving.py:1008: UserWarning: Skipping loading of weights for layer imgModel due to mismatch in shape ((128, 3, 3, 1, 16) vs (128,)).\n",
      "  weight_values[i].shape))\n",
      "/home/mshaikh2/anaconda3/envs/tf-gpu/lib/python3.5/site-packages/keras/engine/saving.py:1008: UserWarning: Skipping loading of weights for layer imgModel due to mismatch in shape ((16,) vs (128,)).\n",
      "  weight_values[i].shape))\n",
      "/home/mshaikh2/anaconda3/envs/tf-gpu/lib/python3.5/site-packages/keras/engine/saving.py:1008: UserWarning: Skipping loading of weights for layer imgModel due to mismatch in shape ((64,) vs (128, 3, 3, 1, 16)).\n",
      "  weight_values[i].shape))\n",
      "/home/mshaikh2/anaconda3/envs/tf-gpu/lib/python3.5/site-packages/keras/engine/saving.py:1008: UserWarning: Skipping loading of weights for layer imgModel due to mismatch in shape ((64,) vs (16,)).\n",
      "  weight_values[i].shape))\n",
      "/home/mshaikh2/anaconda3/envs/tf-gpu/lib/python3.5/site-packages/keras/engine/saving.py:1008: UserWarning: Skipping loading of weights for layer imgModel due to mismatch in shape ((128,) vs (2, 2, 128, 128)).\n",
      "  weight_values[i].shape))\n",
      "/home/mshaikh2/anaconda3/envs/tf-gpu/lib/python3.5/site-packages/keras/engine/saving.py:990: UserWarning: Skipping loading of weights for layer block3_reduction_conv due to mismatch in number of weights (0 vs 2).\n",
      "  ' ({} vs {}).'.format(len(symbolic_weights), len(weight_values)))\n",
      "/home/mshaikh2/anaconda3/envs/tf-gpu/lib/python3.5/site-packages/keras/engine/saving.py:990: UserWarning: Skipping loading of weights for layer block4_reduction_conv due to mismatch in number of weights (0 vs 2).\n",
      "  ' ({} vs {}).'.format(len(symbolic_weights), len(weight_values)))\n",
      "/home/mshaikh2/anaconda3/envs/tf-gpu/lib/python3.5/site-packages/keras/engine/saving.py:990: UserWarning: Skipping loading of weights for layer block5_reduction_conv due to mismatch in number of weights (0 vs 2).\n",
      "  ' ({} vs {}).'.format(len(symbolic_weights), len(weight_values)))\n"
     ]
    }
   ],
   "source": [
    "model.load_weights('./checkpoints/ICFHR2020/cross_attention_residual_vgg_fold_1.h5',by_name=True,skip_mismatch=True)"
   ]
  },
  {
   "cell_type": "code",
   "execution_count": null,
   "metadata": {},
   "outputs": [],
   "source": []
  },
  {
   "cell_type": "markdown",
   "metadata": {},
   "source": [
    "## start the training"
   ]
  },
  {
   "cell_type": "code",
   "execution_count": null,
   "metadata": {
    "scrolled": true
   },
   "outputs": [
    {
     "name": "stdout",
     "output_type": "stream",
     "text": [
      "Epoch 48/100\n",
      "3692/5254 [====================>.........] - ETA: 7:04 - loss: 0.1402 - acc: 0.1931"
     ]
    }
   ],
   "source": [
    "Epochs=100\n",
    "h=parallel_model.fit_generator(tr_gen,initial_epoch=47,callbacks=[mc,es,tb],epochs=Epochs,steps_per_epoch=2*((df_tr.shape[0]//tr_batch_size)+1)\n",
    "                      ,validation_data=v_gen, validation_steps=2*60, verbose=1,class_weight=class_weight)"
   ]
  },
  {
   "cell_type": "markdown",
   "metadata": {},
   "source": [
    "# Evaluation"
   ]
  },
  {
   "cell_type": "code",
   "execution_count": 70,
   "metadata": {},
   "outputs": [],
   "source": [
    "model.load_weights('./checkpoints/ICFHR2020/cross_attention_residual_vgg_fold_1.h5')"
   ]
  },
  {
   "cell_type": "code",
   "execution_count": 72,
   "metadata": {},
   "outputs": [],
   "source": [
    "v_gen = datagen(df_v,batch_size=256,seq=True)\n",
    "inputs,outputs=next(v_gen)\n",
    "test_x,test_y = inputs,outputs['y']"
   ]
  },
  {
   "cell_type": "markdown",
   "metadata": {},
   "source": [
    "## Make post processing models to visualize attention maps"
   ]
  },
  {
   "cell_type": "code",
   "execution_count": 73,
   "metadata": {},
   "outputs": [],
   "source": [
    "soft_attention_1 = Model(feat_ext_A.inputs,feat_ext_A.get_layer('soft_attention_1').output)\n",
    "feats_sa1,maps_sa1 = soft_attention_1.predict(test_x['l'])\n",
    "soft_attention_2 = Model(feat_ext_A.inputs,feat_ext_A.get_layer('soft_attention_2').output)\n",
    "feats_sa2,maps_sa2 = soft_attention_2.predict(test_x['l'])\n",
    "soft_attention_3 = Model(model.inputs,model.get_layer('soft_attention_3').output)\n",
    "feats_sa3,maps_sa3 = soft_attention_3.predict(test_x)\n",
    "soft_attention_4 = Model(model.inputs,model.get_layer('soft_attention_4').output)\n",
    "feats_sa4,maps_sa4 = soft_attention_4.predict(test_x) \n",
    "soft_attention_5 = Model(model.inputs,model.get_layer('soft_attention_5').output)\n",
    "feats_sa5,maps_sa5 = soft_attention_5.predict(test_x)\n",
    "\n",
    "\n",
    "\n",
    "\n",
    "ca_l2r_comb_model = Model(model.inputs,model.get_layer('ca_l2r_comb').output)\n",
    "f_ca_l2r_comb,l2r_g1,l2r_g2 = ca_l2r_comb_model.predict(test_x)\n",
    "\n",
    "ca_r2l_comb_model = Model(model.inputs,model.get_layer('ca_r2l_comb').output)\n",
    "f_ca_r2l_comb,r2l_g1,r2l_g2 = ca_r2l_comb_model.predict(test_x)\n",
    "\n",
    "ca_l2r_1_model = Model(model.inputs,model.get_layer('ca_l2r_1').output)\n",
    "f_ca_l2r_1,maps_l2r_1 = ca_l2r_1_model.predict(test_x)\n",
    "\n",
    "ca_l2r_2_model = Model(model.inputs,model.get_layer('ca_l2r_2').output)\n",
    "f_ca_l2r_2,maps_l2r_2 = ca_l2r_2_model.predict(test_x)\n",
    "\n",
    "ca_r2l_1_model = Model(model.inputs,model.get_layer('ca_r2l_1').output)\n",
    "f_ca_r2l_1,maps_r2l_1 = ca_r2l_1_model.predict(test_x)\n",
    "\n",
    "ca_r2l_2_model = Model(model.inputs,model.get_layer('ca_r2l_2').output)\n",
    "f_ca_r2l_2,maps_r2l_2 = ca_r2l_2_model.predict(test_x)"
   ]
  },
  {
   "cell_type": "markdown",
   "metadata": {},
   "source": [
    "## check how much importance is being given to attention by the model"
   ]
  },
  {
   "cell_type": "code",
   "execution_count": 74,
   "metadata": {
    "scrolled": true
   },
   "outputs": [
    {
     "data": {
      "text/plain": [
       "(array([1.265662, 1.265662, 1.265662, 1.265662, 1.265662, 1.265662,\n",
       "        1.265662, 1.265662, 1.265662, 1.265662, 1.265662, 1.265662,\n",
       "        1.265662, 1.265662, 1.265662, 1.265662, 1.265662, 1.265662,\n",
       "        1.265662, 1.265662, 1.265662, 1.265662, 1.265662, 1.265662,\n",
       "        1.265662, 1.265662, 1.265662, 1.265662, 1.265662, 1.265662,\n",
       "        1.265662, 1.265662, 1.265662, 1.265662, 1.265662, 1.265662,\n",
       "        1.265662, 1.265662, 1.265662, 1.265662, 1.265662, 1.265662,\n",
       "        1.265662, 1.265662, 1.265662, 1.265662, 1.265662, 1.265662,\n",
       "        1.265662, 1.265662, 1.265662, 1.265662, 1.265662, 1.265662,\n",
       "        1.265662, 1.265662, 1.265662, 1.265662, 1.265662, 1.265662,\n",
       "        1.265662, 1.265662, 1.265662, 1.265662, 1.265662, 1.265662,\n",
       "        1.265662, 1.265662, 1.265662, 1.265662, 1.265662, 1.265662,\n",
       "        1.265662, 1.265662, 1.265662, 1.265662, 1.265662, 1.265662,\n",
       "        1.265662, 1.265662, 1.265662, 1.265662, 1.265662, 1.265662,\n",
       "        1.265662, 1.265662, 1.265662, 1.265662, 1.265662, 1.265662,\n",
       "        1.265662, 1.265662, 1.265662, 1.265662, 1.265662, 1.265662,\n",
       "        1.265662, 1.265662, 1.265662, 1.265662, 1.265662, 1.265662,\n",
       "        1.265662, 1.265662, 1.265662, 1.265662, 1.265662, 1.265662,\n",
       "        1.265662, 1.265662, 1.265662, 1.265662, 1.265662, 1.265662,\n",
       "        1.265662, 1.265662, 1.265662, 1.265662, 1.265662, 1.265662,\n",
       "        1.265662, 1.265662, 1.265662, 1.265662, 1.265662, 1.265662,\n",
       "        1.265662, 1.265662, 1.265662, 1.265662, 1.265662, 1.265662,\n",
       "        1.265662, 1.265662, 1.265662, 1.265662, 1.265662, 1.265662,\n",
       "        1.265662, 1.265662, 1.265662, 1.265662, 1.265662, 1.265662,\n",
       "        1.265662, 1.265662, 1.265662, 1.265662, 1.265662, 1.265662,\n",
       "        1.265662, 1.265662, 1.265662, 1.265662, 1.265662, 1.265662,\n",
       "        1.265662, 1.265662, 1.265662, 1.265662, 1.265662, 1.265662,\n",
       "        1.265662, 1.265662, 1.265662, 1.265662, 1.265662, 1.265662,\n",
       "        1.265662, 1.265662, 1.265662, 1.265662, 1.265662, 1.265662,\n",
       "        1.265662, 1.265662, 1.265662, 1.265662, 1.265662, 1.265662,\n",
       "        1.265662, 1.265662, 1.265662, 1.265662, 1.265662, 1.265662,\n",
       "        1.265662, 1.265662, 1.265662, 1.265662, 1.265662, 1.265662,\n",
       "        1.265662, 1.265662, 1.265662, 1.265662, 1.265662, 1.265662,\n",
       "        1.265662, 1.265662, 1.265662, 1.265662, 1.265662, 1.265662,\n",
       "        1.265662, 1.265662, 1.265662, 1.265662, 1.265662, 1.265662,\n",
       "        1.265662, 1.265662, 1.265662, 1.265662, 1.265662, 1.265662,\n",
       "        1.265662, 1.265662, 1.265662, 1.265662, 1.265662, 1.265662,\n",
       "        1.265662, 1.265662, 1.265662, 1.265662, 1.265662, 1.265662,\n",
       "        1.265662, 1.265662, 1.265662, 1.265662, 1.265662, 1.265662,\n",
       "        1.265662, 1.265662, 1.265662, 1.265662, 1.265662, 1.265662,\n",
       "        1.265662, 1.265662, 1.265662, 1.265662, 1.265662, 1.265662,\n",
       "        1.265662, 1.265662, 1.265662, 1.265662, 1.265662, 1.265662,\n",
       "        1.265662, 1.265662, 1.265662, 1.265662], dtype=float32),\n",
       " array([0.4553065, 0.4553065, 0.4553065, 0.4553065, 0.4553065, 0.4553065,\n",
       "        0.4553065, 0.4553065, 0.4553065, 0.4553065, 0.4553065, 0.4553065,\n",
       "        0.4553065, 0.4553065, 0.4553065, 0.4553065, 0.4553065, 0.4553065,\n",
       "        0.4553065, 0.4553065, 0.4553065, 0.4553065, 0.4553065, 0.4553065,\n",
       "        0.4553065, 0.4553065, 0.4553065, 0.4553065, 0.4553065, 0.4553065,\n",
       "        0.4553065, 0.4553065, 0.4553065, 0.4553065, 0.4553065, 0.4553065,\n",
       "        0.4553065, 0.4553065, 0.4553065, 0.4553065, 0.4553065, 0.4553065,\n",
       "        0.4553065, 0.4553065, 0.4553065, 0.4553065, 0.4553065, 0.4553065,\n",
       "        0.4553065, 0.4553065, 0.4553065, 0.4553065, 0.4553065, 0.4553065,\n",
       "        0.4553065, 0.4553065, 0.4553065, 0.4553065, 0.4553065, 0.4553065,\n",
       "        0.4553065, 0.4553065, 0.4553065, 0.4553065, 0.4553065, 0.4553065,\n",
       "        0.4553065, 0.4553065, 0.4553065, 0.4553065, 0.4553065, 0.4553065,\n",
       "        0.4553065, 0.4553065, 0.4553065, 0.4553065, 0.4553065, 0.4553065,\n",
       "        0.4553065, 0.4553065, 0.4553065, 0.4553065, 0.4553065, 0.4553065,\n",
       "        0.4553065, 0.4553065, 0.4553065, 0.4553065, 0.4553065, 0.4553065,\n",
       "        0.4553065, 0.4553065, 0.4553065, 0.4553065, 0.4553065, 0.4553065,\n",
       "        0.4553065, 0.4553065, 0.4553065, 0.4553065, 0.4553065, 0.4553065,\n",
       "        0.4553065, 0.4553065, 0.4553065, 0.4553065, 0.4553065, 0.4553065,\n",
       "        0.4553065, 0.4553065, 0.4553065, 0.4553065, 0.4553065, 0.4553065,\n",
       "        0.4553065, 0.4553065, 0.4553065, 0.4553065, 0.4553065, 0.4553065,\n",
       "        0.4553065, 0.4553065, 0.4553065, 0.4553065, 0.4553065, 0.4553065,\n",
       "        0.4553065, 0.4553065, 0.4553065, 0.4553065, 0.4553065, 0.4553065,\n",
       "        0.4553065, 0.4553065, 0.4553065, 0.4553065, 0.4553065, 0.4553065,\n",
       "        0.4553065, 0.4553065, 0.4553065, 0.4553065, 0.4553065, 0.4553065,\n",
       "        0.4553065, 0.4553065, 0.4553065, 0.4553065, 0.4553065, 0.4553065,\n",
       "        0.4553065, 0.4553065, 0.4553065, 0.4553065, 0.4553065, 0.4553065,\n",
       "        0.4553065, 0.4553065, 0.4553065, 0.4553065, 0.4553065, 0.4553065,\n",
       "        0.4553065, 0.4553065, 0.4553065, 0.4553065, 0.4553065, 0.4553065,\n",
       "        0.4553065, 0.4553065, 0.4553065, 0.4553065, 0.4553065, 0.4553065,\n",
       "        0.4553065, 0.4553065, 0.4553065, 0.4553065, 0.4553065, 0.4553065,\n",
       "        0.4553065, 0.4553065, 0.4553065, 0.4553065, 0.4553065, 0.4553065,\n",
       "        0.4553065, 0.4553065, 0.4553065, 0.4553065, 0.4553065, 0.4553065,\n",
       "        0.4553065, 0.4553065, 0.4553065, 0.4553065, 0.4553065, 0.4553065,\n",
       "        0.4553065, 0.4553065, 0.4553065, 0.4553065, 0.4553065, 0.4553065,\n",
       "        0.4553065, 0.4553065, 0.4553065, 0.4553065, 0.4553065, 0.4553065,\n",
       "        0.4553065, 0.4553065, 0.4553065, 0.4553065, 0.4553065, 0.4553065,\n",
       "        0.4553065, 0.4553065, 0.4553065, 0.4553065, 0.4553065, 0.4553065,\n",
       "        0.4553065, 0.4553065, 0.4553065, 0.4553065, 0.4553065, 0.4553065,\n",
       "        0.4553065, 0.4553065, 0.4553065, 0.4553065, 0.4553065, 0.4553065,\n",
       "        0.4553065, 0.4553065, 0.4553065, 0.4553065, 0.4553065, 0.4553065,\n",
       "        0.4553065, 0.4553065, 0.4553065, 0.4553065, 0.4553065, 0.4553065,\n",
       "        0.4553065, 0.4553065, 0.4553065, 0.4553065, 0.4553065, 0.4553065,\n",
       "        0.4553065, 0.4553065, 0.4553065, 0.4553065], dtype=float32),\n",
       " array([1.2289745, 1.2289745, 1.2289745, 1.2289745, 1.2289745, 1.2289745,\n",
       "        1.2289745, 1.2289745, 1.2289745, 1.2289745, 1.2289745, 1.2289745,\n",
       "        1.2289745, 1.2289745, 1.2289745, 1.2289745, 1.2289745, 1.2289745,\n",
       "        1.2289745, 1.2289745, 1.2289745, 1.2289745, 1.2289745, 1.2289745,\n",
       "        1.2289745, 1.2289745, 1.2289745, 1.2289745, 1.2289745, 1.2289745,\n",
       "        1.2289745, 1.2289745, 1.2289745, 1.2289745, 1.2289745, 1.2289745,\n",
       "        1.2289745, 1.2289745, 1.2289745, 1.2289745, 1.2289745, 1.2289745,\n",
       "        1.2289745, 1.2289745, 1.2289745, 1.2289745, 1.2289745, 1.2289745,\n",
       "        1.2289745, 1.2289745, 1.2289745, 1.2289745, 1.2289745, 1.2289745,\n",
       "        1.2289745, 1.2289745, 1.2289745, 1.2289745, 1.2289745, 1.2289745,\n",
       "        1.2289745, 1.2289745, 1.2289745, 1.2289745, 1.2289745, 1.2289745,\n",
       "        1.2289745, 1.2289745, 1.2289745, 1.2289745, 1.2289745, 1.2289745,\n",
       "        1.2289745, 1.2289745, 1.2289745, 1.2289745, 1.2289745, 1.2289745,\n",
       "        1.2289745, 1.2289745, 1.2289745, 1.2289745, 1.2289745, 1.2289745,\n",
       "        1.2289745, 1.2289745, 1.2289745, 1.2289745, 1.2289745, 1.2289745,\n",
       "        1.2289745, 1.2289745, 1.2289745, 1.2289745, 1.2289745, 1.2289745,\n",
       "        1.2289745, 1.2289745, 1.2289745, 1.2289745, 1.2289745, 1.2289745,\n",
       "        1.2289745, 1.2289745, 1.2289745, 1.2289745, 1.2289745, 1.2289745,\n",
       "        1.2289745, 1.2289745, 1.2289745, 1.2289745, 1.2289745, 1.2289745,\n",
       "        1.2289745, 1.2289745, 1.2289745, 1.2289745, 1.2289745, 1.2289745,\n",
       "        1.2289745, 1.2289745, 1.2289745, 1.2289745, 1.2289745, 1.2289745,\n",
       "        1.2289745, 1.2289745, 1.2289745, 1.2289745, 1.2289745, 1.2289745,\n",
       "        1.2289745, 1.2289745, 1.2289745, 1.2289745, 1.2289745, 1.2289745,\n",
       "        1.2289745, 1.2289745, 1.2289745, 1.2289745, 1.2289745, 1.2289745,\n",
       "        1.2289745, 1.2289745, 1.2289745, 1.2289745, 1.2289745, 1.2289745,\n",
       "        1.2289745, 1.2289745, 1.2289745, 1.2289745, 1.2289745, 1.2289745,\n",
       "        1.2289745, 1.2289745, 1.2289745, 1.2289745, 1.2289745, 1.2289745,\n",
       "        1.2289745, 1.2289745, 1.2289745, 1.2289745, 1.2289745, 1.2289745,\n",
       "        1.2289745, 1.2289745, 1.2289745, 1.2289745, 1.2289745, 1.2289745,\n",
       "        1.2289745, 1.2289745, 1.2289745, 1.2289745, 1.2289745, 1.2289745,\n",
       "        1.2289745, 1.2289745, 1.2289745, 1.2289745, 1.2289745, 1.2289745,\n",
       "        1.2289745, 1.2289745, 1.2289745, 1.2289745, 1.2289745, 1.2289745,\n",
       "        1.2289745, 1.2289745, 1.2289745, 1.2289745, 1.2289745, 1.2289745,\n",
       "        1.2289745, 1.2289745, 1.2289745, 1.2289745, 1.2289745, 1.2289745,\n",
       "        1.2289745, 1.2289745, 1.2289745, 1.2289745, 1.2289745, 1.2289745,\n",
       "        1.2289745, 1.2289745, 1.2289745, 1.2289745, 1.2289745, 1.2289745,\n",
       "        1.2289745, 1.2289745, 1.2289745, 1.2289745, 1.2289745, 1.2289745,\n",
       "        1.2289745, 1.2289745, 1.2289745, 1.2289745, 1.2289745, 1.2289745,\n",
       "        1.2289745, 1.2289745, 1.2289745, 1.2289745, 1.2289745, 1.2289745,\n",
       "        1.2289745, 1.2289745, 1.2289745, 1.2289745, 1.2289745, 1.2289745,\n",
       "        1.2289745, 1.2289745, 1.2289745, 1.2289745, 1.2289745, 1.2289745,\n",
       "        1.2289745, 1.2289745, 1.2289745, 1.2289745, 1.2289745, 1.2289745,\n",
       "        1.2289745, 1.2289745, 1.2289745, 1.2289745], dtype=float32),\n",
       " array([0.4131685, 0.4131685, 0.4131685, 0.4131685, 0.4131685, 0.4131685,\n",
       "        0.4131685, 0.4131685, 0.4131685, 0.4131685, 0.4131685, 0.4131685,\n",
       "        0.4131685, 0.4131685, 0.4131685, 0.4131685, 0.4131685, 0.4131685,\n",
       "        0.4131685, 0.4131685, 0.4131685, 0.4131685, 0.4131685, 0.4131685,\n",
       "        0.4131685, 0.4131685, 0.4131685, 0.4131685, 0.4131685, 0.4131685,\n",
       "        0.4131685, 0.4131685, 0.4131685, 0.4131685, 0.4131685, 0.4131685,\n",
       "        0.4131685, 0.4131685, 0.4131685, 0.4131685, 0.4131685, 0.4131685,\n",
       "        0.4131685, 0.4131685, 0.4131685, 0.4131685, 0.4131685, 0.4131685,\n",
       "        0.4131685, 0.4131685, 0.4131685, 0.4131685, 0.4131685, 0.4131685,\n",
       "        0.4131685, 0.4131685, 0.4131685, 0.4131685, 0.4131685, 0.4131685,\n",
       "        0.4131685, 0.4131685, 0.4131685, 0.4131685, 0.4131685, 0.4131685,\n",
       "        0.4131685, 0.4131685, 0.4131685, 0.4131685, 0.4131685, 0.4131685,\n",
       "        0.4131685, 0.4131685, 0.4131685, 0.4131685, 0.4131685, 0.4131685,\n",
       "        0.4131685, 0.4131685, 0.4131685, 0.4131685, 0.4131685, 0.4131685,\n",
       "        0.4131685, 0.4131685, 0.4131685, 0.4131685, 0.4131685, 0.4131685,\n",
       "        0.4131685, 0.4131685, 0.4131685, 0.4131685, 0.4131685, 0.4131685,\n",
       "        0.4131685, 0.4131685, 0.4131685, 0.4131685, 0.4131685, 0.4131685,\n",
       "        0.4131685, 0.4131685, 0.4131685, 0.4131685, 0.4131685, 0.4131685,\n",
       "        0.4131685, 0.4131685, 0.4131685, 0.4131685, 0.4131685, 0.4131685,\n",
       "        0.4131685, 0.4131685, 0.4131685, 0.4131685, 0.4131685, 0.4131685,\n",
       "        0.4131685, 0.4131685, 0.4131685, 0.4131685, 0.4131685, 0.4131685,\n",
       "        0.4131685, 0.4131685, 0.4131685, 0.4131685, 0.4131685, 0.4131685,\n",
       "        0.4131685, 0.4131685, 0.4131685, 0.4131685, 0.4131685, 0.4131685,\n",
       "        0.4131685, 0.4131685, 0.4131685, 0.4131685, 0.4131685, 0.4131685,\n",
       "        0.4131685, 0.4131685, 0.4131685, 0.4131685, 0.4131685, 0.4131685,\n",
       "        0.4131685, 0.4131685, 0.4131685, 0.4131685, 0.4131685, 0.4131685,\n",
       "        0.4131685, 0.4131685, 0.4131685, 0.4131685, 0.4131685, 0.4131685,\n",
       "        0.4131685, 0.4131685, 0.4131685, 0.4131685, 0.4131685, 0.4131685,\n",
       "        0.4131685, 0.4131685, 0.4131685, 0.4131685, 0.4131685, 0.4131685,\n",
       "        0.4131685, 0.4131685, 0.4131685, 0.4131685, 0.4131685, 0.4131685,\n",
       "        0.4131685, 0.4131685, 0.4131685, 0.4131685, 0.4131685, 0.4131685,\n",
       "        0.4131685, 0.4131685, 0.4131685, 0.4131685, 0.4131685, 0.4131685,\n",
       "        0.4131685, 0.4131685, 0.4131685, 0.4131685, 0.4131685, 0.4131685,\n",
       "        0.4131685, 0.4131685, 0.4131685, 0.4131685, 0.4131685, 0.4131685,\n",
       "        0.4131685, 0.4131685, 0.4131685, 0.4131685, 0.4131685, 0.4131685,\n",
       "        0.4131685, 0.4131685, 0.4131685, 0.4131685, 0.4131685, 0.4131685,\n",
       "        0.4131685, 0.4131685, 0.4131685, 0.4131685, 0.4131685, 0.4131685,\n",
       "        0.4131685, 0.4131685, 0.4131685, 0.4131685, 0.4131685, 0.4131685,\n",
       "        0.4131685, 0.4131685, 0.4131685, 0.4131685, 0.4131685, 0.4131685,\n",
       "        0.4131685, 0.4131685, 0.4131685, 0.4131685, 0.4131685, 0.4131685,\n",
       "        0.4131685, 0.4131685, 0.4131685, 0.4131685, 0.4131685, 0.4131685,\n",
       "        0.4131685, 0.4131685, 0.4131685, 0.4131685, 0.4131685, 0.4131685,\n",
       "        0.4131685, 0.4131685, 0.4131685, 0.4131685], dtype=float32))"
      ]
     },
     "execution_count": 74,
     "metadata": {},
     "output_type": "execute_result"
    }
   ],
   "source": [
    "l2r_g1,l2r_g2,r2l_g1,r2l_g2"
   ]
  },
  {
   "cell_type": "markdown",
   "metadata": {},
   "source": [
    "## combine the left maps and right maps respectively"
   ]
  },
  {
   "cell_type": "code",
   "execution_count": 75,
   "metadata": {},
   "outputs": [
    {
     "data": {
      "text/plain": [
       "(256, 256, 256)"
      ]
     },
     "execution_count": 75,
     "metadata": {},
     "output_type": "execute_result"
    }
   ],
   "source": [
    "mapl  = maps_l2r_1+maps_l2r_2\n",
    "mapl.shape\n",
    "mapr  = maps_r2l_1+maps_r2l_2\n",
    "mapr.shape"
   ]
  },
  {
   "cell_type": "code",
   "execution_count": 76,
   "metadata": {},
   "outputs": [
    {
     "data": {
      "text/plain": [
       "((256, 16, 16, 256), (256, 16, 16, 16), (256, 16, 16, 256), (256, 256, 256))"
      ]
     },
     "execution_count": 76,
     "metadata": {},
     "output_type": "execute_result"
    }
   ],
   "source": [
    "feats_sa3.shape,maps_sa3.shape, f_ca_l2r_1.shape,maps_l2r_1.shape"
   ]
  },
  {
   "cell_type": "code",
   "execution_count": 77,
   "metadata": {},
   "outputs": [
    {
     "name": "stdout",
     "output_type": "stream",
     "text": [
      "['0001c_num1.png' '0001b_num1.png']\n"
     ]
    }
   ],
   "source": [
    "image_index = 1\n",
    "print(outputs['names'][image_index])"
   ]
  },
  {
   "cell_type": "code",
   "execution_count": 78,
   "metadata": {},
   "outputs": [],
   "source": [
    "preds = model.predict(test_x)"
   ]
  },
  {
   "cell_type": "code",
   "execution_count": 79,
   "metadata": {},
   "outputs": [
    {
     "data": {
      "text/plain": [
       "array([0.07911112, 0.9208889 ], dtype=float32)"
      ]
     },
     "execution_count": 79,
     "metadata": {},
     "output_type": "execute_result"
    }
   ],
   "source": [
    "preds[image_index]"
   ]
  },
  {
   "cell_type": "markdown",
   "metadata": {},
   "source": [
    "## Get important pixels to query"
   ]
  },
  {
   "cell_type": "code",
   "execution_count": 80,
   "metadata": {},
   "outputs": [],
   "source": [
    "resized_left_img = cv2.resize(test_x['l'][image_index],(16,16),cv2.INTER_CUBIC)\n",
    "resized_right_img = cv2.resize(test_x['r'][image_index],(16,16),cv2.INTER_CUBIC)"
   ]
  },
  {
   "cell_type": "code",
   "execution_count": 81,
   "metadata": {
    "scrolled": true
   },
   "outputs": [
    {
     "data": {
      "image/png": "[encoded data removed]",
      "text/plain": [
       "<Figure size 432x288 with 1 Axes>"
      ]
     },
     "metadata": {
      "needs_background": "light"
     },
     "output_type": "display_data"
    },
    {
     "data": {
      "image/png": "[encoded data removed]",
      "text/plain": [
       "<Figure size 432x288 with 1 Axes>"
      ]
     },
     "metadata": {
      "needs_background": "light"
     },
     "output_type": "display_data"
    }
   ],
   "source": [
    "plt.imshow(resized_left_img)\n",
    "plt.show()\n",
    "plt.imshow(resized_right_img)\n",
    "plt.show()"
   ]
  },
  {
   "cell_type": "code",
   "execution_count": 82,
   "metadata": {},
   "outputs": [],
   "source": [
    "def getRowCol(point):\n",
    "    row = point//16\n",
    "    col = point%16\n",
    "    return row,col"
   ]
  },
  {
   "cell_type": "code",
   "execution_count": 83,
   "metadata": {},
   "outputs": [],
   "source": [
    "# right_pixel_num = (row*16)+col\n",
    "# print('right_pixel_num:',right_pixel_num)\n",
    "# max_idx,max_val=0,0\n",
    "# matches_dict={} #keys = left_pixels\n",
    "# prev = -1\n",
    "# for i in range(maps_r2l_2[image_index].shape[0]):\n",
    "#     argmax=np.argmax(maps_r2l_2[image_index][i])\n",
    "# #     print(np.around(maps_r2l_1[image_index][i],2))\n",
    "#     prob=maps_r2l_2[image_index][i][argmax]\n",
    "#     if argmax not in matches_dict.keys():\n",
    "#         matches_dict[argmax] = [i]\n",
    "#     else:\n",
    "#         matches_dict[argmax].append(i)\n",
    "#     if prob>=max_val:\n",
    "#         max_val=prob\n",
    "#         max_idx=i\n",
    "#     print('right pxl {0} --> left pxl {1} : conf {2:4f}, max_idx : {3}, max_val : {4}'.format(i,argmax,prob,max_idx,max_val))"
   ]
  },
  {
   "cell_type": "markdown",
   "metadata": {},
   "source": [
    "# Visualize Cross Attention"
   ]
  },
  {
   "cell_type": "code",
   "execution_count": 84,
   "metadata": {
    "scrolled": true
   },
   "outputs": [
    {
     "name": "stdout",
     "output_type": "stream",
     "text": [
      "# of query pixels (useful pixels from right image): 40\n",
      "matched left_points: 0\n"
     ]
    },
    {
     "data": {
      "image/png": "[encoded data removed]",
      "text/plain": [
       "<Figure size 432x8640 with 80 Axes>"
      ]
     },
     "metadata": {
      "needs_background": "light"
     },
     "output_type": "display_data"
    }
   ],
   "source": [
    "'''\n",
    "To visualize a right image query pixel (query image) 'q_pix' \n",
    "that matches with k pixels of left image (key image)\n",
    "- chose map_r2l_<x>\n",
    "- select a row 'r' in it.\n",
    "- reshap to 16x16 and resize to 64x64.\n",
    "- apply as mask on left image.\n",
    "'''\n",
    "\n",
    "shape = (16,16)\n",
    "right_useful_pixels = []\n",
    "for i in range(len(resized_right_img)):\n",
    "    for j in range(len(resized_right_img)):\n",
    "        if resized_right_img[i][j] > 0:\n",
    "            right_useful_pixels.append([i,j])\n",
    "            \n",
    "left_useful_pixels = []\n",
    "for i in range(len(resized_left_img)):\n",
    "    for j in range(len(resized_left_img)):\n",
    "        if resized_left_img[i][j] > 0:\n",
    "            left_useful_pixels.append([i,j])\n",
    "            \n",
    "print('# of query pixels (useful pixels from right image):',len(right_useful_pixels))\n",
    "f, axarr = plt.subplots(nrows=len(right_useful_pixels),ncols=2,figsize=(6,3*len(right_useful_pixels)))\n",
    "\n",
    "counter=0\n",
    "left_points = 0\n",
    "for i,j in right_useful_pixels:# no transparent/black pixels\n",
    "#     print(i,j)\n",
    "    pixel_num = (i*16)+j\n",
    "#     print('pixel_num:',pixel_num)\n",
    "    argmax=np.argmax(mapr[image_index][pixel_num])\n",
    "    prob=mapr[image_index][pixel_num][argmax]\n",
    "#     print('argmax:',argmax)\n",
    "    row,col = getRowCol(argmax)\n",
    "#     print([row,col])\n",
    "    if [row,col] in left_useful_pixels:\n",
    "        left_points += 1\n",
    "        left_useful_pixels.remove([row,col])\n",
    "    \n",
    "    key_point = np.zeros((16,16))\n",
    "    key_point[i][j] = 1.0\n",
    "    resized_key_point = cv2.resize(key_point,(64,64),cv2.INTER_CUBIC)\n",
    "    axarr[counter,0].imshow(resized_key_point,cmap='gray')\n",
    "    axarr[counter,0].imshow(np.squeeze(test_x['r'][image_index],-1),alpha=0.3,cmap='gray')\n",
    "    \n",
    "    axarr[counter,1].imshow(cv2.resize(mapr[image_index][pixel_num].reshape(shape),(64,64),interpolation=cv2.INTER_CUBIC),cmap='gray')\n",
    "    axarr[counter,1].imshow(np.squeeze(test_x['l'][image_index],-1),alpha=0.3,cmap='gray')\n",
    "    axarr[counter,0].set_title('right pxl:{0},{1}'.format(i,j))\n",
    "    axarr[counter,1].set_title('left pxl:{0},{1}, prob:{2:.4f}'.format(row,col,prob))\n",
    "    axarr[counter,0].axis('off')\n",
    "    axarr[counter,1].axis('off')\n",
    "    counter+=1\n",
    "    \n",
    "print('matched left_points:',left_points)"
   ]
  },
  {
   "cell_type": "markdown",
   "metadata": {},
   "source": [
    "## See all CA maps"
   ]
  },
  {
   "cell_type": "code",
   "execution_count": 85,
   "metadata": {
    "scrolled": true
   },
   "outputs": [
    {
     "data": {
      "image/png": "[encoded data removed]",
      "text/plain": [
       "<Figure size 432x288 with 1 Axes>"
      ]
     },
     "metadata": {
      "needs_background": "light"
     },
     "output_type": "display_data"
    },
    {
     "data": {
      "image/png": "[encoded data removed]",
      "text/plain": [
       "<Figure size 432x288 with 1 Axes>"
      ]
     },
     "metadata": {
      "needs_background": "light"
     },
     "output_type": "display_data"
    },
    {
     "data": {
      "image/png": "[encoded data removed]",
      "text/plain": [
       "<Figure size 432x288 with 1 Axes>"
      ]
     },
     "metadata": {
      "needs_background": "light"
     },
     "output_type": "display_data"
    },
    {
     "data": {
      "image/png": "[encoded data removed]",
      "text/plain": [
       "<Figure size 432x288 with 1 Axes>"
      ]
     },
     "metadata": {
      "needs_background": "light"
     },
     "output_type": "display_data"
    }
   ],
   "source": [
    "plt.imshow(maps_l2r_1[image_index],cmap='jet')\n",
    "plt.show()\n",
    "plt.imshow(maps_l2r_2[image_index],cmap='jet')\n",
    "plt.show()\n",
    "plt.imshow(maps_r2l_1[image_index],cmap='jet')\n",
    "plt.show()\n",
    "plt.imshow(maps_r2l_2[image_index],cmap='jet')\n",
    "plt.show()"
   ]
  },
  {
   "cell_type": "code",
   "execution_count": 86,
   "metadata": {
    "scrolled": true
   },
   "outputs": [
    {
     "name": "stdout",
     "output_type": "stream",
     "text": [
      "-----**********visualize SA1 maps************-----\n"
     ]
    },
    {
     "data": {
      "image/png": "[encoded data removed]",
      "text/plain": [
       "<Figure size 432x288 with 1 Axes>"
      ]
     },
     "metadata": {
      "needs_background": "light"
     },
     "output_type": "display_data"
    },
    {
     "name": "stdout",
     "output_type": "stream",
     "text": [
      "================================\n"
     ]
    },
    {
     "data": {
      "image/png": "[encoded data removed]",
      "text/plain": [
       "<Figure size 432x288 with 1 Axes>"
      ]
     },
     "metadata": {
      "needs_background": "light"
     },
     "output_type": "display_data"
    },
    {
     "name": "stdout",
     "output_type": "stream",
     "text": [
      "-----**********visualize SA2 maps************-----\n"
     ]
    },
    {
     "data": {
      "image/png": "[encoded data removed]",
      "text/plain": [
       "<Figure size 432x288 with 1 Axes>"
      ]
     },
     "metadata": {
      "needs_background": "light"
     },
     "output_type": "display_data"
    },
    {
     "name": "stdout",
     "output_type": "stream",
     "text": [
      "================================\n"
     ]
    },
    {
     "data": {
      "image/png": "[encoded data removed]",
      "text/plain": [
       "<Figure size 432x288 with 1 Axes>"
      ]
     },
     "metadata": {
      "needs_background": "light"
     },
     "output_type": "display_data"
    },
    {
     "name": "stdout",
     "output_type": "stream",
     "text": [
      "-----**********visualize SA3 maps************-----\n"
     ]
    },
    {
     "data": {
      "image/png": "[encoded data removed]",
      "text/plain": [
       "<Figure size 432x288 with 1 Axes>"
      ]
     },
     "metadata": {
      "needs_background": "light"
     },
     "output_type": "display_data"
    },
    {
     "name": "stdout",
     "output_type": "stream",
     "text": [
      "================================\n"
     ]
    },
    {
     "data": {
      "image/png": "[encoded data removed]",
      "text/plain": [
       "<Figure size 432x288 with 1 Axes>"
      ]
     },
     "metadata": {
      "needs_background": "light"
     },
     "output_type": "display_data"
    },
    {
     "name": "stdout",
     "output_type": "stream",
     "text": [
      "-----**********visualize SA4 maps************-----\n"
     ]
    },
    {
     "data": {
      "image/png": "[encoded data removed]",
      "text/plain": [
       "<Figure size 432x288 with 1 Axes>"
      ]
     },
     "metadata": {
      "needs_background": "light"
     },
     "output_type": "display_data"
    },
    {
     "name": "stdout",
     "output_type": "stream",
     "text": [
      "================================\n"
     ]
    },
    {
     "data": {
      "image/png": "[encoded data removed]",
      "text/plain": [
       "<Figure size 432x288 with 1 Axes>"
      ]
     },
     "metadata": {
      "needs_background": "light"
     },
     "output_type": "display_data"
    },
    {
     "name": "stdout",
     "output_type": "stream",
     "text": [
      "-----**********visualize SA5 maps************-----\n"
     ]
    },
    {
     "data": {
      "image/png": "[encoded data removed]",
      "text/plain": [
       "<Figure size 432x288 with 1 Axes>"
      ]
     },
     "metadata": {
      "needs_background": "light"
     },
     "output_type": "display_data"
    },
    {
     "name": "stdout",
     "output_type": "stream",
     "text": [
      "================================\n"
     ]
    },
    {
     "data": {
      "image/png": "[encoded data removed]",
      "text/plain": [
       "<Figure size 432x288 with 1 Axes>"
      ]
     },
     "metadata": {
      "needs_background": "light"
     },
     "output_type": "display_data"
    }
   ],
   "source": [
    "print('-----**********visualize SA1 maps************-----')\n",
    "plt.axis('off')\n",
    "plt.imshow(cv2.resize(maps_sa1[image_index].sum(axis=0),(64,64),interpolation=cv2.INTER_CUBIC),cmap='jet')\n",
    "plt.imshow(np.squeeze(test_x['l'][image_index],-1),cmap='gray',alpha=0.3)\n",
    "plt.show()\n",
    "print(\"================================\")\n",
    "plt.axis('off')\n",
    "plt.imshow(cv2.resize(maps_sa1[image_index].sum(axis=0),(64,64),interpolation=cv2.INTER_CUBIC),cmap='jet')\n",
    "plt.imshow(np.squeeze(test_x['r'][image_index],-1),cmap='gray',alpha=0.3)\n",
    "plt.show()\n",
    "\n",
    "print('-----**********visualize SA2 maps************-----')\n",
    "plt.axis('off')\n",
    "plt.imshow(np.squeeze(test_x['l'][image_index],-1))\n",
    "plt.imshow(cv2.resize(maps_sa2[image_index].sum(axis=0),(64,64),interpolation=cv2.INTER_CUBIC),cmap='jet',alpha=0.5)\n",
    "plt.show()\n",
    "print(\"================================\")\n",
    "plt.axis('off')\n",
    "plt.imshow(np.squeeze(test_x['r'][image_index],-1))\n",
    "plt.imshow(cv2.resize(maps_sa2[image_index].sum(axis=0),(64,64),interpolation=cv2.INTER_CUBIC),cmap='jet',alpha=0.5)\n",
    "plt.show()\n",
    "\n",
    "print('-----**********visualize SA3 maps************-----')\n",
    "plt.axis('off')\n",
    "\n",
    "plt.imshow(cv2.resize(maps_sa3[image_index].sum(axis=0),(64,64),interpolation=cv2.INTER_LINEAR),cmap='jet')\n",
    "plt.imshow(np.squeeze(test_x['l'][image_index],-1),cmap='gray',alpha=0.3)\n",
    "plt.show()\n",
    "print(\"================================\")\n",
    "plt.axis('off')\n",
    "\n",
    "plt.imshow(cv2.resize(maps_sa3[image_index].sum(axis=0),(64,64),interpolation=cv2.INTER_LINEAR),cmap='jet')\n",
    "plt.imshow(np.squeeze(test_x['r'][image_index],-1),cmap='gray',alpha=0.3)\n",
    "plt.show()\n",
    "\n",
    "\n",
    "\n",
    "print('-----**********visualize SA4 maps************-----')\n",
    "plt.axis('off')\n",
    "plt.imshow(np.squeeze(test_x['l'][image_index],-1))\n",
    "plt.imshow(cv2.resize(maps_sa4[image_index].sum(axis=0),(64,64),interpolation=cv2.INTER_LINEAR),cmap='jet',alpha=0.5)\n",
    "plt.show()\n",
    "print(\"================================\")\n",
    "plt.axis('off')\n",
    "plt.imshow(np.squeeze(test_x['r'][image_index],-1))\n",
    "plt.imshow(cv2.resize(maps_sa4[image_index].sum(axis=0),(64,64),interpolation=cv2.INTER_LINEAR),cmap='jet',alpha=0.5)\n",
    "plt.show()\n",
    "\n",
    "print('-----**********visualize SA5 maps************-----')\n",
    "plt.axis('off')\n",
    "plt.imshow(np.squeeze(test_x['l'][image_index],-1))\n",
    "plt.imshow(cv2.resize(maps_sa5[image_index].sum(axis=0),(64,64),interpolation=cv2.INTER_CUBIC),cmap='jet',alpha=0.5)\n",
    "plt.show()\n",
    "print(\"================================\")\n",
    "plt.axis('off')\n",
    "plt.imshow(np.squeeze(test_x['r'][image_index],-1))\n",
    "plt.imshow(cv2.resize(maps_sa5[image_index].sum(axis=0),(64,64),interpolation=cv2.INTER_LINEAR),cmap='jet',alpha=0.5)\n",
    "plt.show()"
   ]
  },
  {
   "cell_type": "code",
   "execution_count": null,
   "metadata": {},
   "outputs": [],
   "source": [
    "mapr[image_index].min(),mapr[image_index].max()"
   ]
  },
  {
   "cell_type": "code",
   "execution_count": null,
   "metadata": {},
   "outputs": [],
   "source": [
    "# sn.heatmap(maps2_r[image_index][j+i*26].reshape((26,26)),cmap='jet')\n",
    "image_idx = [0,11,60,80,100,120]\n",
    "for image_index in image_idx:\n",
    "    sn.heatmap(cv2.resize(maps_sa3[image_index].sum(axis=0),(64,64),interpolation=cv2.INTER_CUBIC),cmap='jet')\n",
    "    "
   ]
  },
  {
   "cell_type": "markdown",
   "metadata": {},
   "source": [
    "# Evaluate the network\n",
    "- Evaluating network VGG Cross and Soft Attention"
   ]
  },
  {
   "cell_type": "code",
   "execution_count": null,
   "metadata": {},
   "outputs": [],
   "source": [
    "classnames=['Inter','Intra']"
   ]
  },
  {
   "cell_type": "code",
   "execution_count": null,
   "metadata": {},
   "outputs": [],
   "source": [
    "v_gen = datagen(df_v,batch_size=512,seq=True)\n",
    "arr_test_y = []\n",
    "arr_preds = []\n",
    "for i in tqdm_notebook(range(1+int(df_v.shape[0]/val_batch_size))):\n",
    "    inputs,outputs=next(v_gen)\n",
    "    test_x,test_y = inputs,outputs['y']\n",
    "    predictions = parallel_model.predict(test_x)\n",
    "    arr_test_y+=list(test_y)\n",
    "    arr_preds+=list(predictions)\n",
    "arr_test_y = np.array(arr_test_y)\n",
    "arr_preds = np.array(arr_preds)\n",
    "print(arr_test_y.shape)\n",
    "print(arr_preds.shape)"
   ]
  },
  {
   "cell_type": "code",
   "execution_count": null,
   "metadata": {},
   "outputs": [],
   "source": [
    "arr_preds_logits = arr_preds.argmax(-1)\n",
    "print(arr_preds[image_index],arr_preds_logits[image_index],arr_test_y[image_index])\n",
    "# arr_preds_logits = np.array([1 if a>0.5 else 0 for a in arr_preds])\n",
    "# arr_preds_logits,arr_test_y.argmax(-1)\n"
   ]
  },
  {
   "cell_type": "code",
   "execution_count": null,
   "metadata": {},
   "outputs": [],
   "source": [
    "df = pd.DataFrame()\n",
    "f = classification_report(arr_test_y.argmax(-1),arr_preds_logits,target_names=classnames,output_dict=True)\n",
    "df = df.from_dict(f)\n",
    "display(df.T)"
   ]
  },
  {
   "cell_type": "code",
   "execution_count": null,
   "metadata": {},
   "outputs": [],
   "source": [
    "# true negatives is:math:`C_{0,0}`, false negatives is :math:`C_{1,0}`, true positives is\n",
    "# :math:`C_{1,1}` and false positives is :math:`C_{0,1}`"
   ]
  },
  {
   "cell_type": "code",
   "execution_count": null,
   "metadata": {},
   "outputs": [],
   "source": [
    "cm=metrics.confusion_matrix(arr_test_y.argmax(-1),arr_preds_logits)\n",
    "cm"
   ]
  },
  {
   "cell_type": "code",
   "execution_count": null,
   "metadata": {},
   "outputs": [],
   "source": [
    "\n",
    "def get_FPR_intra(cm):\n",
    "    FP = cm[0][1]\n",
    "    TN = cm[0][0]\n",
    "    return FP/(FP+TN)\n",
    "def get_FNR_intra(cm):\n",
    "    FN = cm[1][0]\n",
    "    TP = cm[1][1]\n",
    "    return FN/(FN+TP)"
   ]
  },
  {
   "cell_type": "code",
   "execution_count": null,
   "metadata": {},
   "outputs": [],
   "source": [
    "get_FPR_intra(cm)*100,get_FNR_intra(cm)*100"
   ]
  },
  {
   "cell_type": "code",
   "execution_count": null,
   "metadata": {},
   "outputs": [],
   "source": [
    "def plot_confusion_matrix(cm,\n",
    "                          target_names,\n",
    "                          title='Confusion matrix',\n",
    "                          cmap=None,\n",
    "                          normalize=True):\n",
    "    \"\"\"\n",
    "    given a sklearn confusion matrix (cm), make a nice plot\n",
    "\n",
    "    Arguments\n",
    "    ---------\n",
    "    cm:           confusion matrix from sklearn.metrics.confusion_matrix\n",
    "\n",
    "    target_names: given classification classes such as [0, 1, 2]\n",
    "                  the class names, for example: ['high', 'medium', 'low']\n",
    "\n",
    "    title:        the text to display at the top of the matrix\n",
    "\n",
    "    cmap:         the gradient of the values displayed from matplotlib.pyplot.cm\n",
    "                  see http://matplotlib.org/examples/color/colormaps_reference.html\n",
    "                  plt.get_cmap('jet') or plt.cm.Blues\n",
    "\n",
    "    normalize:    If False, plot the raw numbers\n",
    "                  If True, plot the proportions\n",
    "\n",
    "    Usage\n",
    "    -----\n",
    "    plot_confusion_matrix(cm           = cm,                  # confusion matrix created by\n",
    "                                                              # sklearn.metrics.confusion_matrix\n",
    "                          normalize    = True,                # show proportions\n",
    "                          target_names = y_labels_vals,       # list of names of the classes\n",
    "                          title        = best_estimator_name) # title of graph\n",
    "\n",
    "    Citiation\n",
    "    ---------\n",
    "    http://scikit-learn.org/stable/auto_examples/model_selection/plot_confusion_matrix.html\n",
    "\n",
    "    \"\"\"\n",
    "    import matplotlib.pyplot as plt\n",
    "    import numpy as np\n",
    "    import itertools\n",
    "\n",
    "    accuracy = np.trace(cm) / float(np.sum(cm))\n",
    "    misclass = 1 - accuracy\n",
    "\n",
    "    if cmap is None:\n",
    "        cmap = plt.get_cmap('Blues')\n",
    "\n",
    "    plt.figure(figsize=(3, 3))\n",
    "    plt.imshow(cm, interpolation='nearest', cmap=cmap)\n",
    "    plt.title(title)\n",
    "    plt.colorbar()\n",
    "\n",
    "    if target_names is not None:\n",
    "        tick_marks = np.arange(len(target_names))\n",
    "        plt.xticks(tick_marks, target_names, rotation=45)\n",
    "        plt.yticks(tick_marks, target_names)\n",
    "\n",
    "    if normalize:\n",
    "        cm = cm.astype('float') / cm.sum(axis=1)[:, np.newaxis]\n",
    "\n",
    "\n",
    "    thresh = cm.max() / 1.5 if normalize else cm.max() / 2\n",
    "    for i, j in itertools.product(range(cm.shape[0]), range(cm.shape[1])):\n",
    "        if normalize:\n",
    "            plt.text(j, i, \"{:0.4f}\".format(cm[i, j]),\n",
    "                     horizontalalignment=\"center\",\n",
    "                     color=\"white\" if cm[i, j] > thresh else \"black\")\n",
    "        else:\n",
    "            plt.text(j, i, \"{:,}\".format(cm[i, j]),\n",
    "                     horizontalalignment=\"center\",\n",
    "                     color=\"white\" if cm[i, j] > thresh else \"black\")\n",
    "\n",
    "\n",
    "    plt.tight_layout()\n",
    "    plt.ylabel('True label')\n",
    "    plt.xlabel('Predicted label\\naccuracy={:0.4f}; misclass={:0.4f}'.format(accuracy, misclass))\n",
    "    plt.show()"
   ]
  },
  {
   "cell_type": "code",
   "execution_count": null,
   "metadata": {},
   "outputs": [],
   "source": [
    "plot_confusion_matrix(cm=cm,cmap='YlOrBr',target_names=classnames, normalize=False)"
   ]
  },
  {
   "cell_type": "code",
   "execution_count": null,
   "metadata": {
    "scrolled": true
   },
   "outputs": [],
   "source": [
    "# try:\n",
    "#     f,ax=plt.subplots(8,8)    \n",
    "#     f.subplots_adjust(hspace=.20,wspace=.1)\n",
    "#     f.set_size_inches(20,20)\n",
    "#     for i in range(8):\n",
    "#         for j in range(8):\n",
    "# #             print(feats[j+i*8].shape)\n",
    "#             ax[i,j].imshow(test_x[j+i*8][:,:,0],cmap=plt.get_cmap('gray'),alpha=0.8)\n",
    "#             ax[i,j].imshow(test_x[j+i*8][:,:,1],cmap=plt.get_cmap('gray'),alpha=0.5)\n",
    "#             ax[i,j].axis('off')\n",
    "#             ax[i,j].set_title(str(j+i*8)+'-a:'+classnames[np.argmax(test_y[j+i*8])]+',p:'+classnames[np.argmax(predictions[j+i*8])])\n",
    "#     #         print(np.argmax(y[j+i*8]), end=',')\n",
    "# except Exception as ex:\n",
    "#     print(ex)"
   ]
  }
 ],
 "metadata": {
  "kernelspec": {
   "display_name": "Python (tf-gpu)",
   "language": "python",
   "name": "tf-gpu"
  },
  "language_info": {
   "codemirror_mode": {
    "name": "ipython",
    "version": 3
   },
   "file_extension": ".py",
   "mimetype": "text/x-python",
   "name": "python",
   "nbconvert_exporter": "python",
   "pygments_lexer": "ipython3",
   "version": "3.5.6"
  },
  "widgets": {
   "application/vnd.jupyter.widget-state+json": {
    "state": {
     "28b6ba745564447ab6e5ae0433c9a19a": {
      "model_module": "@jupyter-widgets/base",
      "model_module_version": "1.1.0",
      "model_name": "LayoutModel",
      "state": {}
     },
     "35db2078181a403e80b89e72fa50b929": {
      "model_module": "@jupyter-widgets/controls",
      "model_module_version": "1.4.0",
      "model_name": "ProgressStyleModel",
      "state": {
       "description_width": ""
      }
     },
     "5e855b8d1d164caa9974e5d880b8b7b3": {
      "model_module": "@jupyter-widgets/base",
      "model_module_version": "1.1.0",
      "model_name": "LayoutModel",
      "state": {}
     },
     "73452c70845b4d3eb57ee977595d31f8": {
      "model_module": "@jupyter-widgets/base",
      "model_module_version": "1.1.0",
      "model_name": "LayoutModel",
      "state": {}
     },
     "8e04383120e94a28bb1841128cead4cd": {
      "model_module": "@jupyter-widgets/controls",
      "model_module_version": "1.4.0",
      "model_name": "HBoxModel",
      "state": {
       "children": [
        "IPY_MODEL_eb3cc38356ad4c66b7eb86a76373914a",
        "IPY_MODEL_db8f546cff564972ad6be276c88e7d64"
       ],
       "layout": "IPY_MODEL_28b6ba745564447ab6e5ae0433c9a19a"
      }
     },
     "911d6fcfb80f4e549e8345e5c92fc70d": {
      "model_module": "@jupyter-widgets/controls",
      "model_module_version": "1.4.0",
      "model_name": "DescriptionStyleModel",
      "state": {
       "description_width": ""
      }
     },
     "db8f546cff564972ad6be276c88e7d64": {
      "model_module": "@jupyter-widgets/controls",
      "model_module_version": "1.4.0",
      "model_name": "HTMLModel",
      "state": {
       "layout": "IPY_MODEL_73452c70845b4d3eb57ee977595d31f8",
       "style": "IPY_MODEL_911d6fcfb80f4e549e8345e5c92fc70d",
       "value": "100% 60/60 [00:48&lt;00:00,  1.26it/s]"
      }
     },
     "eb3cc38356ad4c66b7eb86a76373914a": {
      "model_module": "@jupyter-widgets/controls",
      "model_module_version": "1.4.0",
      "model_name": "IntProgressModel",
      "state": {
       "bar_style": "success",
       "layout": "IPY_MODEL_5e855b8d1d164caa9974e5d880b8b7b3",
       "max": 60,
       "style": "IPY_MODEL_35db2078181a403e80b89e72fa50b929",
       "value": 60
      }
     }
    },
    "version_major": 2,
    "version_minor": 0
   }
  }
 },
 "nbformat": 4,
 "nbformat_minor": 2
}
