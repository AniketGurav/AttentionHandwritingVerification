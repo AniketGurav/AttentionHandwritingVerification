{
 "cells": [
  {
   "cell_type": "code",
   "execution_count": 1,
   "metadata": {},
   "outputs": [
    {
     "name": "stderr",
     "output_type": "stream",
     "text": [
      "Using TensorFlow backend.\n"
     ]
    }
   ],
   "source": [
    "from keras.applications.vgg16 import VGG16\n",
    "import matplotlib.pyplot as plt\n",
    "from keras.utils import plot_model,multi_gpu_model\n",
    "from IPython.display import SVG\n",
    "from keras.utils.vis_utils import model_to_dot\n",
    "from keras.models import Model\n",
    "from keras.models import load_model\n",
    "from keras.layers import Input,GlobalAveragePooling2D,Layer,InputSpec\n",
    "from keras.layers.core import Dense,Flatten,Dropout\n",
    "from keras.optimizers import Adam\n",
    "from keras.callbacks import ModelCheckpoint, EarlyStopping, TensorBoard\n",
    "from keras.utils import np_utils\n",
    "import keras.backend as K\n",
    "import keras.layers as kl\n",
    "import tensorflow as tf\n",
    "from tensorflow.python.client import device_lib\n",
    "from sklearn.metrics import classification_report\n",
    "import pandas as pd\n",
    "import numpy as np\n",
    "from time import time\n",
    "import pickle\n",
    "from AttentionModule import CrossAttention, SoftAttention, ResidualCombine2D\n",
    "import os, sys, shutil\n",
    "os.environ[\"CUDA_VISIBLE_DEVICES\"]=\"0,1,2\"\n",
    "import cv2\n",
    "from tqdm import tqdm_notebook\n",
    "from coord import CoordinateChannel2D\n",
    "from sklearn.model_selection import KFold\n",
    "from scipy import misc\n",
    "from itertools import combinations\n",
    "pd.options.display.max_colwidth = 100\n",
    "import seaborn as sn\n",
    "import pandas as pd\n",
    "import matplotlib.pyplot as plt\n",
    "import sklearn.metrics as metrics"
   ]
  },
  {
   "cell_type": "code",
   "execution_count": 2,
   "metadata": {},
   "outputs": [],
   "source": [
    "n_gpu=3\n",
    "n_cpu=1\n",
    "tf_config= tf.ConfigProto(device_count = {'GPU': n_gpu , 'CPU': n_cpu})\n",
    "tf_config.gpu_options.allow_growth=True\n",
    "s=tf.Session(config=tf_config)\n",
    "K.set_session(s)"
   ]
  },
  {
   "cell_type": "code",
   "execution_count": 3,
   "metadata": {},
   "outputs": [
    {
     "data": {
      "text/plain": [
       "array(['0914a_num1.png', '0905c_num3.png', '0471b_num3.png',\n",
       "       '0477c_num5.png', '0511c_num1.png', '0194a_num4.png',\n",
       "       '1469c_num1.png', '0770a_num3.png', '1554a_num3.png',\n",
       "       '0597b_num4.png'], dtype='<U15')"
      ]
     },
     "execution_count": 3,
     "metadata": {},
     "output_type": "execute_result"
    }
   ],
   "source": [
    "ds_folder = 'dataset/all'\n",
    "ds = np.array(os.listdir(ds_folder))\n",
    "np.random.shuffle(ds)\n",
    "ds[:10]"
   ]
  },
  {
   "cell_type": "code",
   "execution_count": 4,
   "metadata": {},
   "outputs": [],
   "source": [
    "# kf = KFold(n_splits=5, shuffle=False)\n",
    "# kf.get_n_splits(ds)"
   ]
  },
  {
   "cell_type": "code",
   "execution_count": 5,
   "metadata": {},
   "outputs": [],
   "source": [
    "# def generateDatasetAndSave(ids, fold_count, mode):\n",
    "#     label = []\n",
    "#     left_path = []\n",
    "#     right_path = []\n",
    "#     simCounter = 0\n",
    "#     diffCounter = 0\n",
    "#     x = ds[ids]\n",
    "#     combs = combinations(x,2)\n",
    "#     combs = list(combs)\n",
    "#     np.random.shuffle(combs)\n",
    "#     for l,r in tqdm_notebook(combs):\n",
    "#         if(int(l[:4]) == int(r[:4])):\n",
    "#             label.append(1)\n",
    "#             left_path.append(l)\n",
    "#             right_path.append(r)\n",
    "#             simCounter+=1 \n",
    "#     for l,r in tqdm_notebook(combs):\n",
    "#         if(int(l[:4]) != int(r[:4])):\n",
    "#             label.append(0)\n",
    "#             left_path.append(l)\n",
    "#             right_path.append(r)\n",
    "#             diffCounter+=1\n",
    "#         if(diffCounter==simCounter*10):\n",
    "#             break\n",
    "#     df = pd.DataFrame()\n",
    "#     df['left'] = left_path\n",
    "#     df['right'] = right_path\n",
    "#     df['label'] = label\n",
    "#     if not os.path.exists('dataset/kfold_csvs/fold_'+str(fold_count)):\n",
    "#         os.mkdir('dataset/kfold_csvs/fold_'+str(fold_count))\n",
    "#     df.to_csv('dataset/kfold_csvs/fold_'+str(fold_count)+'/'+mode+'.csv')"
   ]
  },
  {
   "cell_type": "code",
   "execution_count": null,
   "metadata": {},
   "outputs": [],
   "source": []
  },
  {
   "cell_type": "code",
   "execution_count": null,
   "metadata": {},
   "outputs": [],
   "source": [
    "\n",
    "    "
   ]
  },
  {
   "cell_type": "code",
   "execution_count": 6,
   "metadata": {},
   "outputs": [],
   "source": [
    "def VGGNet():\n",
    "    image_input = Input(shape=(64,64,1),name='image_input')\n",
    "#     x = CoordinateChannel2D()(image_input)\n",
    "    x = kl.Conv2D(filters=64, kernel_size=(3,3), activation='relu', padding='same', name='block1_conv1')(image_input)\n",
    "    x = kl.Conv2D(filters=64, kernel_size=(3,3), activation='relu', padding='same', name='block1_conv2')(x)\n",
    "    x = kl.BatchNormalization()(x)\n",
    "    x_red = kl.MaxPooling2D(pool_size=(2,2), padding='same', name='block1_reduction_conv')(x)    \n",
    "    xsa1,samap1 = SoftAttention(aggregate=True,m=16,concat_with_x=False,ch=int(x.shape[-1]),name='soft_attention_1')(x)\n",
    "    xsa1 = kl.MaxPooling2D(pool_size=(2,2),padding='same')(xsa1)\n",
    "    x = kl.Concatenate()([x_red,xsa1])\n",
    "#     x,sa1g1,sa1g2=ResidualCombine2D(ch_in=int(sa1.shape[-1]),ch_out=64)([x,sa1])\n",
    "#     x = kl.BatchNormalization()(x)\n",
    "    x = kl.Activation('relu')(x)\n",
    "    x = kl.Dropout(0.5)(x)\n",
    "\n",
    "    x = kl.Conv2D(filters=128, kernel_size=(3,3), activation='relu', padding='same', name='block2_conv1')(x)\n",
    "    x = kl.Conv2D(filters=128, kernel_size=(3,3), activation='relu', padding='same', name='block2_conv2')(x)\n",
    "    x = kl.BatchNormalization()(x)\n",
    "    x_red = kl.MaxPooling2D(pool_size=(2,2), padding='same', name='block2_reduction_conv')(x)\n",
    "    xsa2,samap2 = SoftAttention(aggregate=True,m=16,concat_with_x=False,ch=int(x.shape[-1]),name='soft_attention_2')(x)\n",
    "    xsa2 = kl.MaxPooling2D(pool_size=(2,2),padding='same')(xsa2)\n",
    "    x = kl.Concatenate()([x_red,xsa2])\n",
    "#     x = kl.BatchNormalization()(x)\n",
    "    x = kl.Activation('relu')(x)\n",
    "    x = kl.Dropout(0.5)(x)\n",
    "\n",
    "#     x = kl.Conv2D(filters=256, kernel_size=(3,3), activation='relu', padding='same', name='block3_conv1')(x)\n",
    "#     x = kl.Conv2D(filters=256, kernel_size=(3,3), activation='relu', padding='same', name='block3_conv2')(x)\n",
    "#     x = kl.Conv2D(filters=256, kernel_size=(3,3), activation='relu', padding='same', name='block3_conv3')(x)\n",
    "#     x = kl.Conv2D(filters=256, kernel_size=2, strides=2, activation='relu', padding='same', name='block3_reduction_conv')(x)\n",
    "# #     sa3,samap3 = SoftAttention(aggregate=True,m=16,concat_with_x=False,ch=int(x.shape[-1]))(x)\n",
    "# #     x,sa3g1,sa3g2=ResidualCombine2D(ch_in=int(sa3.shape[-1]),ch_out=256)([x,sa3])\n",
    "# #     x = kl.BatchNormalization()(x)\n",
    "#     x = kl.Dropout(0.5)(x)\n",
    "\n",
    "#     x = kl.Conv2D(filters=512, kernel_size=(3,3), activation='relu', padding='same', name='block4_conv1')(x)\n",
    "#     x = kl.Conv2D(filters=512, kernel_size=(3,3), activation='relu', padding='same', name='block4_conv2')(x)\n",
    "#     x = kl.Conv2D(filters=512, kernel_size=(3,3), activation='relu', padding='same', name='block4_conv3')(x)\n",
    "#     # x = CoordinateChannel2D(use_radius=True)(x)\n",
    "# #     x, samap, g = SelfAttention(ch=512, name='self_attention')(x)\n",
    "#     x = kl.Conv2D(filters=512, kernel_size=2, strides=2, activation='relu', padding='same', name='block4_reduction_conv')(x)\n",
    "#     x = kl.BatchNormalization()(x)\n",
    "#     x = kl.Dropout(0.5)(x)\n",
    "\n",
    "#     x = kl.Conv2D(filters=512, kernel_size=(3,3), activation='relu', padding='same', name='block5_conv1')(x)\n",
    "#     x = kl.Conv2D(filters=512, kernel_size=(3,3), activation='relu', padding='same', name='block5_conv2')(x)\n",
    "#     x = kl.Conv2D(filters=512, kernel_size=(3,3), activation='relu', padding='same', name='block5_conv3')(x)\n",
    "# #     x, amaps = SoftAttention(ch=512, m=32, name='soft_attention')(x)\n",
    "#     x = kl.Conv2D(filters=512, kernel_size=2, strides=2, activation='relu', padding='same', name='block5_reduction_conv')(x)\n",
    "    return Model(image_input,x,name='imgModel')"
   ]
  },
  {
   "cell_type": "code",
   "execution_count": 7,
   "metadata": {
    "scrolled": true
   },
   "outputs": [
    {
     "name": "stdout",
     "output_type": "stream",
     "text": [
      "__________________________________________________________________________________________________\n",
      "Layer (type)                    Output Shape         Param #     Connected to                     \n",
      "==================================================================================================\n",
      "image_input (InputLayer)        (None, 64, 64, 1)    0                                            \n",
      "__________________________________________________________________________________________________\n",
      "block1_conv1 (Conv2D)           (None, 64, 64, 64)   640         image_input[0][0]                \n",
      "__________________________________________________________________________________________________\n",
      "block1_conv2 (Conv2D)           (None, 64, 64, 64)   36928       block1_conv1[0][0]               \n",
      "__________________________________________________________________________________________________\n",
      "batch_normalization_1 (BatchNor (None, 64, 64, 64)   256         block1_conv2[0][0]               \n",
      "__________________________________________________________________________________________________\n",
      "soft_attention_1 (SoftAttention [(None, 64, 64, 64), 9232        batch_normalization_1[0][0]      \n",
      "__________________________________________________________________________________________________\n",
      "block1_reduction_conv (MaxPooli (None, 32, 32, 64)   0           batch_normalization_1[0][0]      \n",
      "__________________________________________________________________________________________________\n",
      "max_pooling2d_1 (MaxPooling2D)  (None, 32, 32, 64)   0           soft_attention_1[0][0]           \n",
      "__________________________________________________________________________________________________\n",
      "concatenate_1 (Concatenate)     (None, 32, 32, 128)  0           block1_reduction_conv[0][0]      \n",
      "                                                                 max_pooling2d_1[0][0]            \n",
      "__________________________________________________________________________________________________\n",
      "activation_2 (Activation)       (None, 32, 32, 128)  0           concatenate_1[0][0]              \n",
      "__________________________________________________________________________________________________\n",
      "dropout_1 (Dropout)             (None, 32, 32, 128)  0           activation_2[0][0]               \n",
      "__________________________________________________________________________________________________\n",
      "block2_conv1 (Conv2D)           (None, 32, 32, 128)  147584      dropout_1[0][0]                  \n",
      "__________________________________________________________________________________________________\n",
      "block2_conv2 (Conv2D)           (None, 32, 32, 128)  147584      block2_conv1[0][0]               \n",
      "__________________________________________________________________________________________________\n",
      "batch_normalization_2 (BatchNor (None, 32, 32, 128)  512         block2_conv2[0][0]               \n",
      "__________________________________________________________________________________________________\n",
      "soft_attention_2 (SoftAttention [(None, 32, 32, 128) 18448       batch_normalization_2[0][0]      \n",
      "__________________________________________________________________________________________________\n",
      "block2_reduction_conv (MaxPooli (None, 16, 16, 128)  0           batch_normalization_2[0][0]      \n",
      "__________________________________________________________________________________________________\n",
      "max_pooling2d_2 (MaxPooling2D)  (None, 16, 16, 128)  0           soft_attention_2[0][0]           \n",
      "__________________________________________________________________________________________________\n",
      "concatenate_2 (Concatenate)     (None, 16, 16, 256)  0           block2_reduction_conv[0][0]      \n",
      "                                                                 max_pooling2d_2[0][0]            \n",
      "__________________________________________________________________________________________________\n",
      "activation_4 (Activation)       (None, 16, 16, 256)  0           concatenate_2[0][0]              \n",
      "__________________________________________________________________________________________________\n",
      "dropout_2 (Dropout)             (None, 16, 16, 256)  0           activation_4[0][0]               \n",
      "==================================================================================================\n",
      "Total params: 361,184\n",
      "Trainable params: 360,800\n",
      "Non-trainable params: 384\n",
      "__________________________________________________________________________________________________\n"
     ]
    }
   ],
   "source": [
    "feat_ext_A = VGGNet()\n",
    "feat_ext_A.summary()"
   ]
  },
  {
   "cell_type": "code",
   "execution_count": 8,
   "metadata": {},
   "outputs": [
    {
     "data": {
      "image/svg+xml": [
       "<svg height=\"1383pt\" viewBox=\"0.00 0.00 829.50 1383.00\" width=\"830pt\" xmlns=\"http://www.w3.org/2000/svg\" xmlns:xlink=\"http://www.w3.org/1999/xlink\">\n",
       "<g class=\"graph\" id=\"graph0\" transform=\"scale(1 1) rotate(0) translate(4 1379)\">\n",
       "<title>G</title>\n",
       "<polygon fill=\"#ffffff\" points=\"-4,4 -4,-1379 825.5,-1379 825.5,4 -4,4\" stroke=\"transparent\"/>\n",
       "<!-- 140053499727488 -->\n",
       "<g class=\"node\" id=\"node1\">\n",
       "<title>140053499727488</title>\n",
       "<polygon fill=\"none\" points=\"243.5,-1328.5 243.5,-1374.5 561.5,-1374.5 561.5,-1328.5 243.5,-1328.5\" stroke=\"#000000\"/>\n",
       "<text fill=\"#000000\" font-family=\"Times,serif\" font-size=\"14.00\" text-anchor=\"middle\" x=\"319.5\" y=\"-1347.8\">image_input: InputLayer</text>\n",
       "<polyline fill=\"none\" points=\"395.5,-1328.5 395.5,-1374.5 \" stroke=\"#000000\"/>\n",
       "<text fill=\"#000000\" font-family=\"Times,serif\" font-size=\"14.00\" text-anchor=\"middle\" x=\"423\" y=\"-1359.3\">input:</text>\n",
       "<polyline fill=\"none\" points=\"395.5,-1351.5 450.5,-1351.5 \" stroke=\"#000000\"/>\n",
       "<text fill=\"#000000\" font-family=\"Times,serif\" font-size=\"14.00\" text-anchor=\"middle\" x=\"423\" y=\"-1336.3\">output:</text>\n",
       "<polyline fill=\"none\" points=\"450.5,-1328.5 450.5,-1374.5 \" stroke=\"#000000\"/>\n",
       "<text fill=\"#000000\" font-family=\"Times,serif\" font-size=\"14.00\" text-anchor=\"middle\" x=\"506\" y=\"-1359.3\">(None, 64, 64, 1)</text>\n",
       "<polyline fill=\"none\" points=\"450.5,-1351.5 561.5,-1351.5 \" stroke=\"#000000\"/>\n",
       "<text fill=\"#000000\" font-family=\"Times,serif\" font-size=\"14.00\" text-anchor=\"middle\" x=\"506\" y=\"-1336.3\">(None, 64, 64, 1)</text>\n",
       "</g>\n",
       "<!-- 140053499723960 -->\n",
       "<g class=\"node\" id=\"node2\">\n",
       "<title>140053499723960</title>\n",
       "<polygon fill=\"none\" points=\"243,-1245.5 243,-1291.5 562,-1291.5 562,-1245.5 243,-1245.5\" stroke=\"#000000\"/>\n",
       "<text fill=\"#000000\" font-family=\"Times,serif\" font-size=\"14.00\" text-anchor=\"middle\" x=\"316\" y=\"-1264.8\">block1_conv1: Conv2D</text>\n",
       "<polyline fill=\"none\" points=\"389,-1245.5 389,-1291.5 \" stroke=\"#000000\"/>\n",
       "<text fill=\"#000000\" font-family=\"Times,serif\" font-size=\"14.00\" text-anchor=\"middle\" x=\"416.5\" y=\"-1276.3\">input:</text>\n",
       "<polyline fill=\"none\" points=\"389,-1268.5 444,-1268.5 \" stroke=\"#000000\"/>\n",
       "<text fill=\"#000000\" font-family=\"Times,serif\" font-size=\"14.00\" text-anchor=\"middle\" x=\"416.5\" y=\"-1253.3\">output:</text>\n",
       "<polyline fill=\"none\" points=\"444,-1245.5 444,-1291.5 \" stroke=\"#000000\"/>\n",
       "<text fill=\"#000000\" font-family=\"Times,serif\" font-size=\"14.00\" text-anchor=\"middle\" x=\"503\" y=\"-1276.3\">(None, 64, 64, 1)</text>\n",
       "<polyline fill=\"none\" points=\"444,-1268.5 562,-1268.5 \" stroke=\"#000000\"/>\n",
       "<text fill=\"#000000\" font-family=\"Times,serif\" font-size=\"14.00\" text-anchor=\"middle\" x=\"503\" y=\"-1253.3\">(None, 64, 64, 64)</text>\n",
       "</g>\n",
       "<!-- 140053499727488&#45;&gt;140053499723960 -->\n",
       "<g class=\"edge\" id=\"edge1\">\n",
       "<title>140053499727488-&gt;140053499723960</title>\n",
       "<path d=\"M402.5,-1328.3799C402.5,-1320.1745 402.5,-1310.7679 402.5,-1301.8786\" fill=\"none\" stroke=\"#000000\"/>\n",
       "<polygon fill=\"#000000\" points=\"406.0001,-1301.784 402.5,-1291.784 399.0001,-1301.784 406.0001,-1301.784\" stroke=\"#000000\"/>\n",
       "</g>\n",
       "<!-- 140053499725472 -->\n",
       "<g class=\"node\" id=\"node3\">\n",
       "<title>140053499725472</title>\n",
       "<polygon fill=\"none\" points=\"243,-1162.5 243,-1208.5 562,-1208.5 562,-1162.5 243,-1162.5\" stroke=\"#000000\"/>\n",
       "<text fill=\"#000000\" font-family=\"Times,serif\" font-size=\"14.00\" text-anchor=\"middle\" x=\"316\" y=\"-1181.8\">block1_conv2: Conv2D</text>\n",
       "<polyline fill=\"none\" points=\"389,-1162.5 389,-1208.5 \" stroke=\"#000000\"/>\n",
       "<text fill=\"#000000\" font-family=\"Times,serif\" font-size=\"14.00\" text-anchor=\"middle\" x=\"416.5\" y=\"-1193.3\">input:</text>\n",
       "<polyline fill=\"none\" points=\"389,-1185.5 444,-1185.5 \" stroke=\"#000000\"/>\n",
       "<text fill=\"#000000\" font-family=\"Times,serif\" font-size=\"14.00\" text-anchor=\"middle\" x=\"416.5\" y=\"-1170.3\">output:</text>\n",
       "<polyline fill=\"none\" points=\"444,-1162.5 444,-1208.5 \" stroke=\"#000000\"/>\n",
       "<text fill=\"#000000\" font-family=\"Times,serif\" font-size=\"14.00\" text-anchor=\"middle\" x=\"503\" y=\"-1193.3\">(None, 64, 64, 64)</text>\n",
       "<polyline fill=\"none\" points=\"444,-1185.5 562,-1185.5 \" stroke=\"#000000\"/>\n",
       "<text fill=\"#000000\" font-family=\"Times,serif\" font-size=\"14.00\" text-anchor=\"middle\" x=\"503\" y=\"-1170.3\">(None, 64, 64, 64)</text>\n",
       "</g>\n",
       "<!-- 140053499723960&#45;&gt;140053499725472 -->\n",
       "<g class=\"edge\" id=\"edge2\">\n",
       "<title>140053499723960-&gt;140053499725472</title>\n",
       "<path d=\"M402.5,-1245.3799C402.5,-1237.1745 402.5,-1227.7679 402.5,-1218.8786\" fill=\"none\" stroke=\"#000000\"/>\n",
       "<polygon fill=\"#000000\" points=\"406.0001,-1218.784 402.5,-1208.784 399.0001,-1218.784 406.0001,-1218.784\" stroke=\"#000000\"/>\n",
       "</g>\n",
       "<!-- 140053448872176 -->\n",
       "<g class=\"node\" id=\"node4\">\n",
       "<title>140053448872176</title>\n",
       "<polygon fill=\"none\" points=\"186,-1079.5 186,-1125.5 619,-1125.5 619,-1079.5 186,-1079.5\" stroke=\"#000000\"/>\n",
       "<text fill=\"#000000\" font-family=\"Times,serif\" font-size=\"14.00\" text-anchor=\"middle\" x=\"316\" y=\"-1098.8\">batch_normalization_1: BatchNormalization</text>\n",
       "<polyline fill=\"none\" points=\"446,-1079.5 446,-1125.5 \" stroke=\"#000000\"/>\n",
       "<text fill=\"#000000\" font-family=\"Times,serif\" font-size=\"14.00\" text-anchor=\"middle\" x=\"473.5\" y=\"-1110.3\">input:</text>\n",
       "<polyline fill=\"none\" points=\"446,-1102.5 501,-1102.5 \" stroke=\"#000000\"/>\n",
       "<text fill=\"#000000\" font-family=\"Times,serif\" font-size=\"14.00\" text-anchor=\"middle\" x=\"473.5\" y=\"-1087.3\">output:</text>\n",
       "<polyline fill=\"none\" points=\"501,-1079.5 501,-1125.5 \" stroke=\"#000000\"/>\n",
       "<text fill=\"#000000\" font-family=\"Times,serif\" font-size=\"14.00\" text-anchor=\"middle\" x=\"560\" y=\"-1110.3\">(None, 64, 64, 64)</text>\n",
       "<polyline fill=\"none\" points=\"501,-1102.5 619,-1102.5 \" stroke=\"#000000\"/>\n",
       "<text fill=\"#000000\" font-family=\"Times,serif\" font-size=\"14.00\" text-anchor=\"middle\" x=\"560\" y=\"-1087.3\">(None, 64, 64, 64)</text>\n",
       "</g>\n",
       "<!-- 140053499725472&#45;&gt;140053448872176 -->\n",
       "<g class=\"edge\" id=\"edge3\">\n",
       "<title>140053499725472-&gt;140053448872176</title>\n",
       "<path d=\"M402.5,-1162.3799C402.5,-1154.1745 402.5,-1144.7679 402.5,-1135.8786\" fill=\"none\" stroke=\"#000000\"/>\n",
       "<polygon fill=\"#000000\" points=\"406.0001,-1135.784 402.5,-1125.784 399.0001,-1135.784 406.0001,-1135.784\" stroke=\"#000000\"/>\n",
       "</g>\n",
       "<!-- 140053448556896 -->\n",
       "<g class=\"node\" id=\"node5\">\n",
       "<title>140053448556896</title>\n",
       "<polygon fill=\"none\" points=\"31.5,-996.5 31.5,-1042.5 507.5,-1042.5 507.5,-996.5 31.5,-996.5\" stroke=\"#000000\"/>\n",
       "<text fill=\"#000000\" font-family=\"Times,serif\" font-size=\"14.00\" text-anchor=\"middle\" x=\"124\" y=\"-1015.8\">soft_attention_1: SoftAttention</text>\n",
       "<polyline fill=\"none\" points=\"216.5,-996.5 216.5,-1042.5 \" stroke=\"#000000\"/>\n",
       "<text fill=\"#000000\" font-family=\"Times,serif\" font-size=\"14.00\" text-anchor=\"middle\" x=\"244\" y=\"-1027.3\">input:</text>\n",
       "<polyline fill=\"none\" points=\"216.5,-1019.5 271.5,-1019.5 \" stroke=\"#000000\"/>\n",
       "<text fill=\"#000000\" font-family=\"Times,serif\" font-size=\"14.00\" text-anchor=\"middle\" x=\"244\" y=\"-1004.3\">output:</text>\n",
       "<polyline fill=\"none\" points=\"271.5,-996.5 271.5,-1042.5 \" stroke=\"#000000\"/>\n",
       "<text fill=\"#000000\" font-family=\"Times,serif\" font-size=\"14.00\" text-anchor=\"middle\" x=\"389.5\" y=\"-1027.3\">(None, 64, 64, 64)</text>\n",
       "<polyline fill=\"none\" points=\"271.5,-1019.5 507.5,-1019.5 \" stroke=\"#000000\"/>\n",
       "<text fill=\"#000000\" font-family=\"Times,serif\" font-size=\"14.00\" text-anchor=\"middle\" x=\"389.5\" y=\"-1004.3\">[(None, 64, 64, 64), (None, 16, 64, 64)]</text>\n",
       "</g>\n",
       "<!-- 140053448872176&#45;&gt;140053448556896 -->\n",
       "<g class=\"edge\" id=\"edge4\">\n",
       "<title>140053448872176-&gt;140053448556896</title>\n",
       "<path d=\"M365.4521,-1079.3799C350.0171,-1069.7475 331.9294,-1058.4597 315.6441,-1048.2967\" fill=\"none\" stroke=\"#000000\"/>\n",
       "<polygon fill=\"#000000\" points=\"317.1471,-1045.1091 306.8105,-1042.784 313.4411,-1051.0476 317.1471,-1045.1091\" stroke=\"#000000\"/>\n",
       "</g>\n",
       "<!-- 140053448969576 -->\n",
       "<g class=\"node\" id=\"node6\">\n",
       "<title>140053448969576</title>\n",
       "<polygon fill=\"none\" points=\"405,-913.5 405,-959.5 814,-959.5 814,-913.5 405,-913.5\" stroke=\"#000000\"/>\n",
       "<text fill=\"#000000\" font-family=\"Times,serif\" font-size=\"14.00\" text-anchor=\"middle\" x=\"523\" y=\"-932.8\">block1_reduction_conv: MaxPooling2D</text>\n",
       "<polyline fill=\"none\" points=\"641,-913.5 641,-959.5 \" stroke=\"#000000\"/>\n",
       "<text fill=\"#000000\" font-family=\"Times,serif\" font-size=\"14.00\" text-anchor=\"middle\" x=\"668.5\" y=\"-944.3\">input:</text>\n",
       "<polyline fill=\"none\" points=\"641,-936.5 696,-936.5 \" stroke=\"#000000\"/>\n",
       "<text fill=\"#000000\" font-family=\"Times,serif\" font-size=\"14.00\" text-anchor=\"middle\" x=\"668.5\" y=\"-921.3\">output:</text>\n",
       "<polyline fill=\"none\" points=\"696,-913.5 696,-959.5 \" stroke=\"#000000\"/>\n",
       "<text fill=\"#000000\" font-family=\"Times,serif\" font-size=\"14.00\" text-anchor=\"middle\" x=\"755\" y=\"-944.3\">(None, 64, 64, 64)</text>\n",
       "<polyline fill=\"none\" points=\"696,-936.5 814,-936.5 \" stroke=\"#000000\"/>\n",
       "<text fill=\"#000000\" font-family=\"Times,serif\" font-size=\"14.00\" text-anchor=\"middle\" x=\"755\" y=\"-921.3\">(None, 32, 32, 64)</text>\n",
       "</g>\n",
       "<!-- 140053448872176&#45;&gt;140053448969576 -->\n",
       "<g class=\"edge\" id=\"edge5\">\n",
       "<title>140053448872176-&gt;140053448969576</title>\n",
       "<path d=\"M456.627,-1079.3887C476.4502,-1069.6357 498.4333,-1057.2254 516.5,-1043 544.1544,-1021.2254 570.0065,-990.4309 587.3992,-967.5523\" fill=\"none\" stroke=\"#000000\"/>\n",
       "<polygon fill=\"#000000\" points=\"590.2255,-969.6172 593.412,-959.5129 584.6198,-965.4247 590.2255,-969.6172\" stroke=\"#000000\"/>\n",
       "</g>\n",
       "<!-- 140053448559136 -->\n",
       "<g class=\"node\" id=\"node7\">\n",
       "<title>140053448559136</title>\n",
       "<polygon fill=\"none\" points=\"6.5,-913.5 6.5,-959.5 386.5,-959.5 386.5,-913.5 6.5,-913.5\" stroke=\"#000000\"/>\n",
       "<text fill=\"#000000\" font-family=\"Times,serif\" font-size=\"14.00\" text-anchor=\"middle\" x=\"110\" y=\"-932.8\">max_pooling2d_1: MaxPooling2D</text>\n",
       "<polyline fill=\"none\" points=\"213.5,-913.5 213.5,-959.5 \" stroke=\"#000000\"/>\n",
       "<text fill=\"#000000\" font-family=\"Times,serif\" font-size=\"14.00\" text-anchor=\"middle\" x=\"241\" y=\"-944.3\">input:</text>\n",
       "<polyline fill=\"none\" points=\"213.5,-936.5 268.5,-936.5 \" stroke=\"#000000\"/>\n",
       "<text fill=\"#000000\" font-family=\"Times,serif\" font-size=\"14.00\" text-anchor=\"middle\" x=\"241\" y=\"-921.3\">output:</text>\n",
       "<polyline fill=\"none\" points=\"268.5,-913.5 268.5,-959.5 \" stroke=\"#000000\"/>\n",
       "<text fill=\"#000000\" font-family=\"Times,serif\" font-size=\"14.00\" text-anchor=\"middle\" x=\"327.5\" y=\"-944.3\">(None, 64, 64, 64)</text>\n",
       "<polyline fill=\"none\" points=\"268.5,-936.5 386.5,-936.5 \" stroke=\"#000000\"/>\n",
       "<text fill=\"#000000\" font-family=\"Times,serif\" font-size=\"14.00\" text-anchor=\"middle\" x=\"327.5\" y=\"-921.3\">(None, 32, 32, 64)</text>\n",
       "</g>\n",
       "<!-- 140053448556896&#45;&gt;140053448559136 -->\n",
       "<g class=\"edge\" id=\"edge6\">\n",
       "<title>140053448556896-&gt;140053448559136</title>\n",
       "<path d=\"M249.1654,-996.3799C241.3212,-987.461 232.2286,-977.1229 223.8289,-967.5725\" fill=\"none\" stroke=\"#000000\"/>\n",
       "<polygon fill=\"#000000\" points=\"226.2111,-964.9815 216.9787,-959.784 220.9548,-969.6045 226.2111,-964.9815\" stroke=\"#000000\"/>\n",
       "</g>\n",
       "<!-- 140053448412128 -->\n",
       "<g class=\"node\" id=\"node8\">\n",
       "<title>140053448412128</title>\n",
       "<polygon fill=\"none\" points=\"173,-830.5 173,-876.5 632,-876.5 632,-830.5 173,-830.5\" stroke=\"#000000\"/>\n",
       "<text fill=\"#000000\" font-family=\"Times,serif\" font-size=\"14.00\" text-anchor=\"middle\" x=\"257\" y=\"-849.8\">concatenate_1: Concatenate</text>\n",
       "<polyline fill=\"none\" points=\"341,-830.5 341,-876.5 \" stroke=\"#000000\"/>\n",
       "<text fill=\"#000000\" font-family=\"Times,serif\" font-size=\"14.00\" text-anchor=\"middle\" x=\"368.5\" y=\"-861.3\">input:</text>\n",
       "<polyline fill=\"none\" points=\"341,-853.5 396,-853.5 \" stroke=\"#000000\"/>\n",
       "<text fill=\"#000000\" font-family=\"Times,serif\" font-size=\"14.00\" text-anchor=\"middle\" x=\"368.5\" y=\"-838.3\">output:</text>\n",
       "<polyline fill=\"none\" points=\"396,-830.5 396,-876.5 \" stroke=\"#000000\"/>\n",
       "<text fill=\"#000000\" font-family=\"Times,serif\" font-size=\"14.00\" text-anchor=\"middle\" x=\"514\" y=\"-861.3\">[(None, 32, 32, 64), (None, 32, 32, 64)]</text>\n",
       "<polyline fill=\"none\" points=\"396,-853.5 632,-853.5 \" stroke=\"#000000\"/>\n",
       "<text fill=\"#000000\" font-family=\"Times,serif\" font-size=\"14.00\" text-anchor=\"middle\" x=\"514\" y=\"-838.3\">(None, 32, 32, 128)</text>\n",
       "</g>\n",
       "<!-- 140053448969576&#45;&gt;140053448412128 -->\n",
       "<g class=\"edge\" id=\"edge7\">\n",
       "<title>140053448969576-&gt;140053448412128</title>\n",
       "<path d=\"M552.1139,-913.4901C526.5388,-903.2353 496.2417,-891.0872 469.6228,-880.414\" fill=\"none\" stroke=\"#000000\"/>\n",
       "<polygon fill=\"#000000\" points=\"470.5821,-877.0278 459.9978,-876.5547 467.9769,-883.5249 470.5821,-877.0278\" stroke=\"#000000\"/>\n",
       "</g>\n",
       "<!-- 140053448559136&#45;&gt;140053448412128 -->\n",
       "<g class=\"edge\" id=\"edge8\">\n",
       "<title>140053448559136-&gt;140053448412128</title>\n",
       "<path d=\"M253.6089,-913.4901C279.0605,-903.2353 309.2112,-891.0872 335.7015,-880.414\" fill=\"none\" stroke=\"#000000\"/>\n",
       "<polygon fill=\"#000000\" points=\"337.3126,-883.5383 345.28,-876.5547 334.6965,-877.0455 337.3126,-883.5383\" stroke=\"#000000\"/>\n",
       "</g>\n",
       "<!-- 140053448413136 -->\n",
       "<g class=\"node\" id=\"node9\">\n",
       "<title>140053448413136</title>\n",
       "<polygon fill=\"none\" points=\"238.5,-747.5 238.5,-793.5 566.5,-793.5 566.5,-747.5 238.5,-747.5\" stroke=\"#000000\"/>\n",
       "<text fill=\"#000000\" font-family=\"Times,serif\" font-size=\"14.00\" text-anchor=\"middle\" x=\"312.5\" y=\"-766.8\">activation_2: Activation</text>\n",
       "<polyline fill=\"none\" points=\"386.5,-747.5 386.5,-793.5 \" stroke=\"#000000\"/>\n",
       "<text fill=\"#000000\" font-family=\"Times,serif\" font-size=\"14.00\" text-anchor=\"middle\" x=\"414\" y=\"-778.3\">input:</text>\n",
       "<polyline fill=\"none\" points=\"386.5,-770.5 441.5,-770.5 \" stroke=\"#000000\"/>\n",
       "<text fill=\"#000000\" font-family=\"Times,serif\" font-size=\"14.00\" text-anchor=\"middle\" x=\"414\" y=\"-755.3\">output:</text>\n",
       "<polyline fill=\"none\" points=\"441.5,-747.5 441.5,-793.5 \" stroke=\"#000000\"/>\n",
       "<text fill=\"#000000\" font-family=\"Times,serif\" font-size=\"14.00\" text-anchor=\"middle\" x=\"504\" y=\"-778.3\">(None, 32, 32, 128)</text>\n",
       "<polyline fill=\"none\" points=\"441.5,-770.5 566.5,-770.5 \" stroke=\"#000000\"/>\n",
       "<text fill=\"#000000\" font-family=\"Times,serif\" font-size=\"14.00\" text-anchor=\"middle\" x=\"504\" y=\"-755.3\">(None, 32, 32, 128)</text>\n",
       "</g>\n",
       "<!-- 140053448412128&#45;&gt;140053448413136 -->\n",
       "<g class=\"edge\" id=\"edge9\">\n",
       "<title>140053448412128-&gt;140053448413136</title>\n",
       "<path d=\"M402.5,-830.3799C402.5,-822.1745 402.5,-812.7679 402.5,-803.8786\" fill=\"none\" stroke=\"#000000\"/>\n",
       "<polygon fill=\"#000000\" points=\"406.0001,-803.784 402.5,-793.784 399.0001,-803.784 406.0001,-803.784\" stroke=\"#000000\"/>\n",
       "</g>\n",
       "<!-- 140053053315616 -->\n",
       "<g class=\"node\" id=\"node10\">\n",
       "<title>140053053315616</title>\n",
       "<polygon fill=\"none\" points=\"250,-664.5 250,-710.5 555,-710.5 555,-664.5 250,-664.5\" stroke=\"#000000\"/>\n",
       "<text fill=\"#000000\" font-family=\"Times,serif\" font-size=\"14.00\" text-anchor=\"middle\" x=\"312.5\" y=\"-683.8\">dropout_1: Dropout</text>\n",
       "<polyline fill=\"none\" points=\"375,-664.5 375,-710.5 \" stroke=\"#000000\"/>\n",
       "<text fill=\"#000000\" font-family=\"Times,serif\" font-size=\"14.00\" text-anchor=\"middle\" x=\"402.5\" y=\"-695.3\">input:</text>\n",
       "<polyline fill=\"none\" points=\"375,-687.5 430,-687.5 \" stroke=\"#000000\"/>\n",
       "<text fill=\"#000000\" font-family=\"Times,serif\" font-size=\"14.00\" text-anchor=\"middle\" x=\"402.5\" y=\"-672.3\">output:</text>\n",
       "<polyline fill=\"none\" points=\"430,-664.5 430,-710.5 \" stroke=\"#000000\"/>\n",
       "<text fill=\"#000000\" font-family=\"Times,serif\" font-size=\"14.00\" text-anchor=\"middle\" x=\"492.5\" y=\"-695.3\">(None, 32, 32, 128)</text>\n",
       "<polyline fill=\"none\" points=\"430,-687.5 555,-687.5 \" stroke=\"#000000\"/>\n",
       "<text fill=\"#000000\" font-family=\"Times,serif\" font-size=\"14.00\" text-anchor=\"middle\" x=\"492.5\" y=\"-672.3\">(None, 32, 32, 128)</text>\n",
       "</g>\n",
       "<!-- 140053448413136&#45;&gt;140053053315616 -->\n",
       "<g class=\"edge\" id=\"edge10\">\n",
       "<title>140053448413136-&gt;140053053315616</title>\n",
       "<path d=\"M402.5,-747.3799C402.5,-739.1745 402.5,-729.7679 402.5,-720.8786\" fill=\"none\" stroke=\"#000000\"/>\n",
       "<polygon fill=\"#000000\" points=\"406.0001,-720.784 402.5,-710.784 399.0001,-720.784 406.0001,-720.784\" stroke=\"#000000\"/>\n",
       "</g>\n",
       "<!-- 140053053316512 -->\n",
       "<g class=\"node\" id=\"node11\">\n",
       "<title>140053053316512</title>\n",
       "<polygon fill=\"none\" points=\"239.5,-581.5 239.5,-627.5 565.5,-627.5 565.5,-581.5 239.5,-581.5\" stroke=\"#000000\"/>\n",
       "<text fill=\"#000000\" font-family=\"Times,serif\" font-size=\"14.00\" text-anchor=\"middle\" x=\"312.5\" y=\"-600.8\">block2_conv1: Conv2D</text>\n",
       "<polyline fill=\"none\" points=\"385.5,-581.5 385.5,-627.5 \" stroke=\"#000000\"/>\n",
       "<text fill=\"#000000\" font-family=\"Times,serif\" font-size=\"14.00\" text-anchor=\"middle\" x=\"413\" y=\"-612.3\">input:</text>\n",
       "<polyline fill=\"none\" points=\"385.5,-604.5 440.5,-604.5 \" stroke=\"#000000\"/>\n",
       "<text fill=\"#000000\" font-family=\"Times,serif\" font-size=\"14.00\" text-anchor=\"middle\" x=\"413\" y=\"-589.3\">output:</text>\n",
       "<polyline fill=\"none\" points=\"440.5,-581.5 440.5,-627.5 \" stroke=\"#000000\"/>\n",
       "<text fill=\"#000000\" font-family=\"Times,serif\" font-size=\"14.00\" text-anchor=\"middle\" x=\"503\" y=\"-612.3\">(None, 32, 32, 128)</text>\n",
       "<polyline fill=\"none\" points=\"440.5,-604.5 565.5,-604.5 \" stroke=\"#000000\"/>\n",
       "<text fill=\"#000000\" font-family=\"Times,serif\" font-size=\"14.00\" text-anchor=\"middle\" x=\"503\" y=\"-589.3\">(None, 32, 32, 128)</text>\n",
       "</g>\n",
       "<!-- 140053053315616&#45;&gt;140053053316512 -->\n",
       "<g class=\"edge\" id=\"edge11\">\n",
       "<title>140053053315616-&gt;140053053316512</title>\n",
       "<path d=\"M402.5,-664.3799C402.5,-656.1745 402.5,-646.7679 402.5,-637.8786\" fill=\"none\" stroke=\"#000000\"/>\n",
       "<polygon fill=\"#000000\" points=\"406.0001,-637.784 402.5,-627.784 399.0001,-637.784 406.0001,-637.784\" stroke=\"#000000\"/>\n",
       "</g>\n",
       "<!-- 140053052917016 -->\n",
       "<g class=\"node\" id=\"node12\">\n",
       "<title>140053052917016</title>\n",
       "<polygon fill=\"none\" points=\"239.5,-498.5 239.5,-544.5 565.5,-544.5 565.5,-498.5 239.5,-498.5\" stroke=\"#000000\"/>\n",
       "<text fill=\"#000000\" font-family=\"Times,serif\" font-size=\"14.00\" text-anchor=\"middle\" x=\"312.5\" y=\"-517.8\">block2_conv2: Conv2D</text>\n",
       "<polyline fill=\"none\" points=\"385.5,-498.5 385.5,-544.5 \" stroke=\"#000000\"/>\n",
       "<text fill=\"#000000\" font-family=\"Times,serif\" font-size=\"14.00\" text-anchor=\"middle\" x=\"413\" y=\"-529.3\">input:</text>\n",
       "<polyline fill=\"none\" points=\"385.5,-521.5 440.5,-521.5 \" stroke=\"#000000\"/>\n",
       "<text fill=\"#000000\" font-family=\"Times,serif\" font-size=\"14.00\" text-anchor=\"middle\" x=\"413\" y=\"-506.3\">output:</text>\n",
       "<polyline fill=\"none\" points=\"440.5,-498.5 440.5,-544.5 \" stroke=\"#000000\"/>\n",
       "<text fill=\"#000000\" font-family=\"Times,serif\" font-size=\"14.00\" text-anchor=\"middle\" x=\"503\" y=\"-529.3\">(None, 32, 32, 128)</text>\n",
       "<polyline fill=\"none\" points=\"440.5,-521.5 565.5,-521.5 \" stroke=\"#000000\"/>\n",
       "<text fill=\"#000000\" font-family=\"Times,serif\" font-size=\"14.00\" text-anchor=\"middle\" x=\"503\" y=\"-506.3\">(None, 32, 32, 128)</text>\n",
       "</g>\n",
       "<!-- 140053053316512&#45;&gt;140053052917016 -->\n",
       "<g class=\"edge\" id=\"edge12\">\n",
       "<title>140053053316512-&gt;140053052917016</title>\n",
       "<path d=\"M402.5,-581.3799C402.5,-573.1745 402.5,-563.7679 402.5,-554.8786\" fill=\"none\" stroke=\"#000000\"/>\n",
       "<polygon fill=\"#000000\" points=\"406.0001,-554.784 402.5,-544.784 399.0001,-554.784 406.0001,-554.784\" stroke=\"#000000\"/>\n",
       "</g>\n",
       "<!-- 140053052650720 -->\n",
       "<g class=\"node\" id=\"node13\">\n",
       "<title>140053052650720</title>\n",
       "<polygon fill=\"none\" points=\"182.5,-415.5 182.5,-461.5 622.5,-461.5 622.5,-415.5 182.5,-415.5\" stroke=\"#000000\"/>\n",
       "<text fill=\"#000000\" font-family=\"Times,serif\" font-size=\"14.00\" text-anchor=\"middle\" x=\"312.5\" y=\"-434.8\">batch_normalization_2: BatchNormalization</text>\n",
       "<polyline fill=\"none\" points=\"442.5,-415.5 442.5,-461.5 \" stroke=\"#000000\"/>\n",
       "<text fill=\"#000000\" font-family=\"Times,serif\" font-size=\"14.00\" text-anchor=\"middle\" x=\"470\" y=\"-446.3\">input:</text>\n",
       "<polyline fill=\"none\" points=\"442.5,-438.5 497.5,-438.5 \" stroke=\"#000000\"/>\n",
       "<text fill=\"#000000\" font-family=\"Times,serif\" font-size=\"14.00\" text-anchor=\"middle\" x=\"470\" y=\"-423.3\">output:</text>\n",
       "<polyline fill=\"none\" points=\"497.5,-415.5 497.5,-461.5 \" stroke=\"#000000\"/>\n",
       "<text fill=\"#000000\" font-family=\"Times,serif\" font-size=\"14.00\" text-anchor=\"middle\" x=\"560\" y=\"-446.3\">(None, 32, 32, 128)</text>\n",
       "<polyline fill=\"none\" points=\"497.5,-438.5 622.5,-438.5 \" stroke=\"#000000\"/>\n",
       "<text fill=\"#000000\" font-family=\"Times,serif\" font-size=\"14.00\" text-anchor=\"middle\" x=\"560\" y=\"-423.3\">(None, 32, 32, 128)</text>\n",
       "</g>\n",
       "<!-- 140053052917016&#45;&gt;140053052650720 -->\n",
       "<g class=\"edge\" id=\"edge13\">\n",
       "<title>140053052917016-&gt;140053052650720</title>\n",
       "<path d=\"M402.5,-498.3799C402.5,-490.1745 402.5,-480.7679 402.5,-471.8786\" fill=\"none\" stroke=\"#000000\"/>\n",
       "<polygon fill=\"#000000\" points=\"406.0001,-471.784 402.5,-461.784 399.0001,-471.784 406.0001,-471.784\" stroke=\"#000000\"/>\n",
       "</g>\n",
       "<!-- 140053052757104 -->\n",
       "<g class=\"node\" id=\"node14\">\n",
       "<title>140053052757104</title>\n",
       "<polygon fill=\"none\" points=\"27.5,-332.5 27.5,-378.5 509.5,-378.5 509.5,-332.5 27.5,-332.5\" stroke=\"#000000\"/>\n",
       "<text fill=\"#000000\" font-family=\"Times,serif\" font-size=\"14.00\" text-anchor=\"middle\" x=\"120\" y=\"-351.8\">soft_attention_2: SoftAttention</text>\n",
       "<polyline fill=\"none\" points=\"212.5,-332.5 212.5,-378.5 \" stroke=\"#000000\"/>\n",
       "<text fill=\"#000000\" font-family=\"Times,serif\" font-size=\"14.00\" text-anchor=\"middle\" x=\"240\" y=\"-363.3\">input:</text>\n",
       "<polyline fill=\"none\" points=\"212.5,-355.5 267.5,-355.5 \" stroke=\"#000000\"/>\n",
       "<text fill=\"#000000\" font-family=\"Times,serif\" font-size=\"14.00\" text-anchor=\"middle\" x=\"240\" y=\"-340.3\">output:</text>\n",
       "<polyline fill=\"none\" points=\"267.5,-332.5 267.5,-378.5 \" stroke=\"#000000\"/>\n",
       "<text fill=\"#000000\" font-family=\"Times,serif\" font-size=\"14.00\" text-anchor=\"middle\" x=\"388.5\" y=\"-363.3\">(None, 32, 32, 128)</text>\n",
       "<polyline fill=\"none\" points=\"267.5,-355.5 509.5,-355.5 \" stroke=\"#000000\"/>\n",
       "<text fill=\"#000000\" font-family=\"Times,serif\" font-size=\"14.00\" text-anchor=\"middle\" x=\"388.5\" y=\"-340.3\">[(None, 32, 32, 128), (None, 16, 32, 32)]</text>\n",
       "</g>\n",
       "<!-- 140053052650720&#45;&gt;140053052757104 -->\n",
       "<g class=\"edge\" id=\"edge14\">\n",
       "<title>140053052650720-&gt;140053052757104</title>\n",
       "<path d=\"M365.1735,-415.3799C349.6225,-405.7475 331.3988,-394.4597 314.9911,-384.2967\" fill=\"none\" stroke=\"#000000\"/>\n",
       "<polygon fill=\"#000000\" points=\"316.4354,-381.0743 306.091,-378.784 312.7493,-387.0252 316.4354,-381.0743\" stroke=\"#000000\"/>\n",
       "</g>\n",
       "<!-- 140053052651056 -->\n",
       "<g class=\"node\" id=\"node15\">\n",
       "<title>140053052651056</title>\n",
       "<polygon fill=\"none\" points=\"405.5,-249.5 405.5,-295.5 821.5,-295.5 821.5,-249.5 405.5,-249.5\" stroke=\"#000000\"/>\n",
       "<text fill=\"#000000\" font-family=\"Times,serif\" font-size=\"14.00\" text-anchor=\"middle\" x=\"523.5\" y=\"-268.8\">block2_reduction_conv: MaxPooling2D</text>\n",
       "<polyline fill=\"none\" points=\"641.5,-249.5 641.5,-295.5 \" stroke=\"#000000\"/>\n",
       "<text fill=\"#000000\" font-family=\"Times,serif\" font-size=\"14.00\" text-anchor=\"middle\" x=\"669\" y=\"-280.3\">input:</text>\n",
       "<polyline fill=\"none\" points=\"641.5,-272.5 696.5,-272.5 \" stroke=\"#000000\"/>\n",
       "<text fill=\"#000000\" font-family=\"Times,serif\" font-size=\"14.00\" text-anchor=\"middle\" x=\"669\" y=\"-257.3\">output:</text>\n",
       "<polyline fill=\"none\" points=\"696.5,-249.5 696.5,-295.5 \" stroke=\"#000000\"/>\n",
       "<text fill=\"#000000\" font-family=\"Times,serif\" font-size=\"14.00\" text-anchor=\"middle\" x=\"759\" y=\"-280.3\">(None, 32, 32, 128)</text>\n",
       "<polyline fill=\"none\" points=\"696.5,-272.5 821.5,-272.5 \" stroke=\"#000000\"/>\n",
       "<text fill=\"#000000\" font-family=\"Times,serif\" font-size=\"14.00\" text-anchor=\"middle\" x=\"759\" y=\"-257.3\">(None, 16, 16, 128)</text>\n",
       "</g>\n",
       "<!-- 140053052650720&#45;&gt;140053052651056 -->\n",
       "<g class=\"edge\" id=\"edge15\">\n",
       "<title>140053052650720-&gt;140053052651056</title>\n",
       "<path d=\"M457.5131,-415.4254C477.6769,-405.6767 500.0571,-393.2597 518.5,-379 546.6062,-357.2688 573.0314,-326.4691 590.841,-303.5776\" fill=\"none\" stroke=\"#000000\"/>\n",
       "<polygon fill=\"#000000\" points=\"593.6998,-305.6009 596.9997,-295.5331 588.1417,-301.3457 593.6998,-305.6009\" stroke=\"#000000\"/>\n",
       "</g>\n",
       "<!-- 140053052759680 -->\n",
       "<g class=\"node\" id=\"node16\">\n",
       "<title>140053052759680</title>\n",
       "<polygon fill=\"none\" points=\"0,-249.5 0,-295.5 387,-295.5 387,-249.5 0,-249.5\" stroke=\"#000000\"/>\n",
       "<text fill=\"#000000\" font-family=\"Times,serif\" font-size=\"14.00\" text-anchor=\"middle\" x=\"103.5\" y=\"-268.8\">max_pooling2d_2: MaxPooling2D</text>\n",
       "<polyline fill=\"none\" points=\"207,-249.5 207,-295.5 \" stroke=\"#000000\"/>\n",
       "<text fill=\"#000000\" font-family=\"Times,serif\" font-size=\"14.00\" text-anchor=\"middle\" x=\"234.5\" y=\"-280.3\">input:</text>\n",
       "<polyline fill=\"none\" points=\"207,-272.5 262,-272.5 \" stroke=\"#000000\"/>\n",
       "<text fill=\"#000000\" font-family=\"Times,serif\" font-size=\"14.00\" text-anchor=\"middle\" x=\"234.5\" y=\"-257.3\">output:</text>\n",
       "<polyline fill=\"none\" points=\"262,-249.5 262,-295.5 \" stroke=\"#000000\"/>\n",
       "<text fill=\"#000000\" font-family=\"Times,serif\" font-size=\"14.00\" text-anchor=\"middle\" x=\"324.5\" y=\"-280.3\">(None, 32, 32, 128)</text>\n",
       "<polyline fill=\"none\" points=\"262,-272.5 387,-272.5 \" stroke=\"#000000\"/>\n",
       "<text fill=\"#000000\" font-family=\"Times,serif\" font-size=\"14.00\" text-anchor=\"middle\" x=\"324.5\" y=\"-257.3\">(None, 16, 16, 128)</text>\n",
       "</g>\n",
       "<!-- 140053052757104&#45;&gt;140053052759680 -->\n",
       "<g class=\"edge\" id=\"edge16\">\n",
       "<title>140053052757104-&gt;140053052759680</title>\n",
       "<path d=\"M247.6083,-332.3799C239.4685,-323.3718 230.0205,-312.916 221.3189,-303.2863\" fill=\"none\" stroke=\"#000000\"/>\n",
       "<polygon fill=\"#000000\" points=\"223.8411,-300.8571 214.5398,-295.784 218.6474,-305.5502 223.8411,-300.8571\" stroke=\"#000000\"/>\n",
       "</g>\n",
       "<!-- 140053052843232 -->\n",
       "<g class=\"node\" id=\"node17\">\n",
       "<title>140053052843232</title>\n",
       "<polygon fill=\"none\" points=\"167.5,-166.5 167.5,-212.5 639.5,-212.5 639.5,-166.5 167.5,-166.5\" stroke=\"#000000\"/>\n",
       "<text fill=\"#000000\" font-family=\"Times,serif\" font-size=\"14.00\" text-anchor=\"middle\" x=\"251.5\" y=\"-185.8\">concatenate_2: Concatenate</text>\n",
       "<polyline fill=\"none\" points=\"335.5,-166.5 335.5,-212.5 \" stroke=\"#000000\"/>\n",
       "<text fill=\"#000000\" font-family=\"Times,serif\" font-size=\"14.00\" text-anchor=\"middle\" x=\"363\" y=\"-197.3\">input:</text>\n",
       "<polyline fill=\"none\" points=\"335.5,-189.5 390.5,-189.5 \" stroke=\"#000000\"/>\n",
       "<text fill=\"#000000\" font-family=\"Times,serif\" font-size=\"14.00\" text-anchor=\"middle\" x=\"363\" y=\"-174.3\">output:</text>\n",
       "<polyline fill=\"none\" points=\"390.5,-166.5 390.5,-212.5 \" stroke=\"#000000\"/>\n",
       "<text fill=\"#000000\" font-family=\"Times,serif\" font-size=\"14.00\" text-anchor=\"middle\" x=\"515\" y=\"-197.3\">[(None, 16, 16, 128), (None, 16, 16, 128)]</text>\n",
       "<polyline fill=\"none\" points=\"390.5,-189.5 639.5,-189.5 \" stroke=\"#000000\"/>\n",
       "<text fill=\"#000000\" font-family=\"Times,serif\" font-size=\"14.00\" text-anchor=\"middle\" x=\"515\" y=\"-174.3\">(None, 16, 16, 256)</text>\n",
       "</g>\n",
       "<!-- 140053052651056&#45;&gt;140053052843232 -->\n",
       "<g class=\"edge\" id=\"edge17\">\n",
       "<title>140053052651056-&gt;140053052843232</title>\n",
       "<path d=\"M555.2822,-249.4901C529.2226,-239.1904 498.3305,-226.9806 471.2405,-216.2736\" fill=\"none\" stroke=\"#000000\"/>\n",
       "<polygon fill=\"#000000\" points=\"472.4176,-212.9754 461.8311,-212.5547 469.8445,-219.4854 472.4176,-212.9754\" stroke=\"#000000\"/>\n",
       "</g>\n",
       "<!-- 140053052759680&#45;&gt;140053052843232 -->\n",
       "<g class=\"edge\" id=\"edge18\">\n",
       "<title>140053052759680-&gt;140053052843232</title>\n",
       "<path d=\"M251.7178,-249.4901C277.7774,-239.1904 308.6695,-226.9806 335.7595,-216.2736\" fill=\"none\" stroke=\"#000000\"/>\n",
       "<polygon fill=\"#000000\" points=\"337.1555,-219.4854 345.1689,-212.5547 334.5824,-212.9754 337.1555,-219.4854\" stroke=\"#000000\"/>\n",
       "</g>\n",
       "<!-- 140053052845696 -->\n",
       "<g class=\"node\" id=\"node18\">\n",
       "<title>140053052845696</title>\n",
       "<polygon fill=\"none\" points=\"239.5,-83.5 239.5,-129.5 567.5,-129.5 567.5,-83.5 239.5,-83.5\" stroke=\"#000000\"/>\n",
       "<text fill=\"#000000\" font-family=\"Times,serif\" font-size=\"14.00\" text-anchor=\"middle\" x=\"313.5\" y=\"-102.8\">activation_4: Activation</text>\n",
       "<polyline fill=\"none\" points=\"387.5,-83.5 387.5,-129.5 \" stroke=\"#000000\"/>\n",
       "<text fill=\"#000000\" font-family=\"Times,serif\" font-size=\"14.00\" text-anchor=\"middle\" x=\"415\" y=\"-114.3\">input:</text>\n",
       "<polyline fill=\"none\" points=\"387.5,-106.5 442.5,-106.5 \" stroke=\"#000000\"/>\n",
       "<text fill=\"#000000\" font-family=\"Times,serif\" font-size=\"14.00\" text-anchor=\"middle\" x=\"415\" y=\"-91.3\">output:</text>\n",
       "<polyline fill=\"none\" points=\"442.5,-83.5 442.5,-129.5 \" stroke=\"#000000\"/>\n",
       "<text fill=\"#000000\" font-family=\"Times,serif\" font-size=\"14.00\" text-anchor=\"middle\" x=\"505\" y=\"-114.3\">(None, 16, 16, 256)</text>\n",
       "<polyline fill=\"none\" points=\"442.5,-106.5 567.5,-106.5 \" stroke=\"#000000\"/>\n",
       "<text fill=\"#000000\" font-family=\"Times,serif\" font-size=\"14.00\" text-anchor=\"middle\" x=\"505\" y=\"-91.3\">(None, 16, 16, 256)</text>\n",
       "</g>\n",
       "<!-- 140053052843232&#45;&gt;140053052845696 -->\n",
       "<g class=\"edge\" id=\"edge19\">\n",
       "<title>140053052843232-&gt;140053052845696</title>\n",
       "<path d=\"M403.5,-166.3799C403.5,-158.1745 403.5,-148.7679 403.5,-139.8786\" fill=\"none\" stroke=\"#000000\"/>\n",
       "<polygon fill=\"#000000\" points=\"407.0001,-139.784 403.5,-129.784 400.0001,-139.784 407.0001,-139.784\" stroke=\"#000000\"/>\n",
       "</g>\n",
       "<!-- 140053051656288 -->\n",
       "<g class=\"node\" id=\"node19\">\n",
       "<title>140053051656288</title>\n",
       "<polygon fill=\"none\" points=\"251,-.5 251,-46.5 556,-46.5 556,-.5 251,-.5\" stroke=\"#000000\"/>\n",
       "<text fill=\"#000000\" font-family=\"Times,serif\" font-size=\"14.00\" text-anchor=\"middle\" x=\"313.5\" y=\"-19.8\">dropout_2: Dropout</text>\n",
       "<polyline fill=\"none\" points=\"376,-.5 376,-46.5 \" stroke=\"#000000\"/>\n",
       "<text fill=\"#000000\" font-family=\"Times,serif\" font-size=\"14.00\" text-anchor=\"middle\" x=\"403.5\" y=\"-31.3\">input:</text>\n",
       "<polyline fill=\"none\" points=\"376,-23.5 431,-23.5 \" stroke=\"#000000\"/>\n",
       "<text fill=\"#000000\" font-family=\"Times,serif\" font-size=\"14.00\" text-anchor=\"middle\" x=\"403.5\" y=\"-8.3\">output:</text>\n",
       "<polyline fill=\"none\" points=\"431,-.5 431,-46.5 \" stroke=\"#000000\"/>\n",
       "<text fill=\"#000000\" font-family=\"Times,serif\" font-size=\"14.00\" text-anchor=\"middle\" x=\"493.5\" y=\"-31.3\">(None, 16, 16, 256)</text>\n",
       "<polyline fill=\"none\" points=\"431,-23.5 556,-23.5 \" stroke=\"#000000\"/>\n",
       "<text fill=\"#000000\" font-family=\"Times,serif\" font-size=\"14.00\" text-anchor=\"middle\" x=\"493.5\" y=\"-8.3\">(None, 16, 16, 256)</text>\n",
       "</g>\n",
       "<!-- 140053052845696&#45;&gt;140053051656288 -->\n",
       "<g class=\"edge\" id=\"edge20\">\n",
       "<title>140053052845696-&gt;140053051656288</title>\n",
       "<path d=\"M403.5,-83.3799C403.5,-75.1745 403.5,-65.7679 403.5,-56.8786\" fill=\"none\" stroke=\"#000000\"/>\n",
       "<polygon fill=\"#000000\" points=\"407.0001,-56.784 403.5,-46.784 400.0001,-56.784 407.0001,-56.784\" stroke=\"#000000\"/>\n",
       "</g>\n",
       "</g>\n",
       "</svg>"
      ],
      "text/plain": [
       "<IPython.core.display.SVG object>"
      ]
     },
     "execution_count": 8,
     "metadata": {},
     "output_type": "execute_result"
    }
   ],
   "source": [
    "SVG(model_to_dot(feat_ext_A,show_layer_names=True, show_shapes=True).create(prog='dot', format='svg'))"
   ]
  },
  {
   "cell_type": "markdown",
   "metadata": {},
   "source": [
    "## extract features from the stem model"
   ]
  },
  {
   "cell_type": "code",
   "execution_count": 9,
   "metadata": {
    "scrolled": true
   },
   "outputs": [],
   "source": [
    "l_inp = kl.Input(shape=(64,64,1),name='l')\n",
    "r_inp = kl.Input(shape=(64,64,1),name='r')\n",
    "left_feats = feat_ext_A(l_inp)\n",
    "right_feats = feat_ext_A(r_inp)\n"
   ]
  },
  {
   "cell_type": "markdown",
   "metadata": {},
   "source": [
    "## apply cross attention between the extracted features"
   ]
  },
  {
   "cell_type": "code",
   "execution_count": 10,
   "metadata": {},
   "outputs": [],
   "source": [
    "att_l_1,l_map_1 = CrossAttention(ch=int(left_feats.shape[-1]),name='ca_l2r_1')([left_feats,right_feats]) #[k,q]\n",
    "att_l_1 = kl.BatchNormalization()(att_l_1)\n",
    "att_l_2,l_map_2 = CrossAttention(ch=int(left_feats.shape[-1]),name='ca_l2r_2')([left_feats,right_feats]) #[k,q]\n",
    "att_l_2 = kl.BatchNormalization()(att_l_2)\n",
    "att_l_conc = kl.Concatenate(name='ca_l2r_concat')([att_l_1,att_l_2])\n",
    "att_l_conc = kl.Activation('relu')(att_l_conc)\n",
    "l2r_comb,l2r_g1,l2r_g2 = ResidualCombine2D(ch_in=int(att_l_conc.shape[-1]),ch_out=512,name='ca_l2r_comb')([left_feats,att_l_conc])\n",
    "l2r_comb = kl.BatchNormalization()(l2r_comb)\n",
    "\n",
    "att_r_1,r_map_1 = CrossAttention(ch=int(right_feats.shape[-1]),name='ca_r2l_1')([right_feats,left_feats])#[k,q]\n",
    "att_r_1 = kl.BatchNormalization()(att_r_1)\n",
    "att_r_2,r_map_2 = CrossAttention(ch=int(right_feats.shape[-1]),name='ca_r2l_2')([right_feats,left_feats])#[k,q]\n",
    "att_r_2 = kl.BatchNormalization()(att_r_2)\n",
    "att_r_conc = kl.Concatenate(name='ca_r2l_concat')([att_r_1,att_r_2])\n",
    "att_r_conc = kl.Activation('relu')(att_r_conc)\n",
    "r2l_comb,r2l_g1,r2l_g2 = ResidualCombine2D(ch_in=int(att_r_conc.shape[-1]),ch_out=512,name='ca_r2l_comb')([right_feats,att_r_conc])\n",
    "r2l_comb = kl.BatchNormalization()(r2l_comb)"
   ]
  },
  {
   "cell_type": "markdown",
   "metadata": {},
   "source": [
    "## combine the attended features"
   ]
  },
  {
   "cell_type": "code",
   "execution_count": 11,
   "metadata": {},
   "outputs": [],
   "source": [
    "all_concat = kl.Concatenate()([l2r_comb,r2l_comb])\n",
    "all_concat = kl.Activation('relu')(all_concat)"
   ]
  },
  {
   "cell_type": "markdown",
   "metadata": {},
   "source": [
    "## futher joint feature extraction"
   ]
  },
  {
   "cell_type": "code",
   "execution_count": 12,
   "metadata": {
    "scrolled": true
   },
   "outputs": [
    {
     "name": "stdout",
     "output_type": "stream",
     "text": [
      "__________________________________________________________________________________________________\n",
      "Layer (type)                    Output Shape         Param #     Connected to                     \n",
      "==================================================================================================\n",
      "l (InputLayer)                  (None, 64, 64, 1)    0                                            \n",
      "__________________________________________________________________________________________________\n",
      "r (InputLayer)                  (None, 64, 64, 1)    0                                            \n",
      "__________________________________________________________________________________________________\n",
      "imgModel (Model)                (None, 16, 16, 256)  361184      l[0][0]                          \n",
      "                                                                 r[0][0]                          \n",
      "__________________________________________________________________________________________________\n",
      "ca_l2r_1 (CrossAttention)       [(None, 16, 16, 256) 148032      imgModel[1][0]                   \n",
      "                                                                 imgModel[2][0]                   \n",
      "__________________________________________________________________________________________________\n",
      "ca_l2r_2 (CrossAttention)       [(None, 16, 16, 256) 148032      imgModel[1][0]                   \n",
      "                                                                 imgModel[2][0]                   \n",
      "__________________________________________________________________________________________________\n",
      "ca_r2l_1 (CrossAttention)       [(None, 16, 16, 256) 148032      imgModel[2][0]                   \n",
      "                                                                 imgModel[1][0]                   \n",
      "__________________________________________________________________________________________________\n",
      "ca_r2l_2 (CrossAttention)       [(None, 16, 16, 256) 148032      imgModel[2][0]                   \n",
      "                                                                 imgModel[1][0]                   \n",
      "__________________________________________________________________________________________________\n",
      "batch_normalization_3 (BatchNor (None, 16, 16, 256)  1024        ca_l2r_1[0][0]                   \n",
      "__________________________________________________________________________________________________\n",
      "batch_normalization_4 (BatchNor (None, 16, 16, 256)  1024        ca_l2r_2[0][0]                   \n",
      "__________________________________________________________________________________________________\n",
      "batch_normalization_6 (BatchNor (None, 16, 16, 256)  1024        ca_r2l_1[0][0]                   \n",
      "__________________________________________________________________________________________________\n",
      "batch_normalization_7 (BatchNor (None, 16, 16, 256)  1024        ca_r2l_2[0][0]                   \n",
      "__________________________________________________________________________________________________\n",
      "ca_l2r_concat (Concatenate)     (None, 16, 16, 512)  0           batch_normalization_3[0][0]      \n",
      "                                                                 batch_normalization_4[0][0]      \n",
      "__________________________________________________________________________________________________\n",
      "ca_r2l_concat (Concatenate)     (None, 16, 16, 512)  0           batch_normalization_6[0][0]      \n",
      "                                                                 batch_normalization_7[0][0]      \n",
      "__________________________________________________________________________________________________\n",
      "activation_17 (Activation)      (None, 16, 16, 512)  0           ca_l2r_concat[0][0]              \n",
      "__________________________________________________________________________________________________\n",
      "activation_28 (Activation)      (None, 16, 16, 512)  0           ca_r2l_concat[0][0]              \n",
      "__________________________________________________________________________________________________\n",
      "ca_l2r_comb (ResidualCombine2D) [(None, 16, 16, 768) 262658      imgModel[1][0]                   \n",
      "                                                                 activation_17[0][0]              \n",
      "__________________________________________________________________________________________________\n",
      "ca_r2l_comb (ResidualCombine2D) [(None, 16, 16, 768) 262658      imgModel[2][0]                   \n",
      "                                                                 activation_28[0][0]              \n",
      "__________________________________________________________________________________________________\n",
      "batch_normalization_5 (BatchNor (None, 16, 16, 768)  3072        ca_l2r_comb[0][0]                \n",
      "__________________________________________________________________________________________________\n",
      "batch_normalization_8 (BatchNor (None, 16, 16, 768)  3072        ca_r2l_comb[0][0]                \n",
      "__________________________________________________________________________________________________\n",
      "concatenate_3 (Concatenate)     (None, 16, 16, 1536) 0           batch_normalization_5[0][0]      \n",
      "                                                                 batch_normalization_8[0][0]      \n",
      "__________________________________________________________________________________________________\n",
      "activation_31 (Activation)      (None, 16, 16, 1536) 0           concatenate_3[0][0]              \n",
      "__________________________________________________________________________________________________\n",
      "block3_conv1 (Conv2D)           (None, 16, 16, 256)  3539200     activation_31[0][0]              \n",
      "__________________________________________________________________________________________________\n",
      "block3_conv2 (Conv2D)           (None, 16, 16, 256)  590080      block3_conv1[0][0]               \n",
      "__________________________________________________________________________________________________\n",
      "block3_conv3 (Conv2D)           (None, 16, 16, 256)  590080      block3_conv2[0][0]               \n",
      "__________________________________________________________________________________________________\n",
      "batch_normalization_9 (BatchNor (None, 16, 16, 256)  1024        block3_conv3[0][0]               \n",
      "__________________________________________________________________________________________________\n",
      "soft_attention_3 (SoftAttention [(None, 16, 16, 256) 36880       batch_normalization_9[0][0]      \n",
      "__________________________________________________________________________________________________\n",
      "block3_reduction_conv (MaxPooli (None, 8, 8, 256)    0           batch_normalization_9[0][0]      \n",
      "__________________________________________________________________________________________________\n",
      "max_pooling2d_3 (MaxPooling2D)  (None, 8, 8, 256)    0           soft_attention_3[0][0]           \n",
      "__________________________________________________________________________________________________\n",
      "concatenate_4 (Concatenate)     (None, 8, 8, 512)    0           block3_reduction_conv[0][0]      \n",
      "                                                                 max_pooling2d_3[0][0]            \n",
      "__________________________________________________________________________________________________\n",
      "activation_33 (Activation)      (None, 8, 8, 512)    0           concatenate_4[0][0]              \n",
      "__________________________________________________________________________________________________\n",
      "dropout_3 (Dropout)             (None, 8, 8, 512)    0           activation_33[0][0]              \n",
      "__________________________________________________________________________________________________\n",
      "block4_conv1 (Conv2D)           (None, 8, 8, 512)    2359808     dropout_3[0][0]                  \n",
      "__________________________________________________________________________________________________\n",
      "block4_conv2 (Conv2D)           (None, 8, 8, 512)    2359808     block4_conv1[0][0]               \n",
      "__________________________________________________________________________________________________\n",
      "block4_conv3 (Conv2D)           (None, 8, 8, 512)    2359808     block4_conv2[0][0]               \n",
      "__________________________________________________________________________________________________\n",
      "batch_normalization_10 (BatchNo (None, 8, 8, 512)    2048        block4_conv3[0][0]               \n",
      "__________________________________________________________________________________________________\n",
      "soft_attention_4 (SoftAttention [(None, 8, 8, 512),  73744       batch_normalization_10[0][0]     \n",
      "__________________________________________________________________________________________________\n",
      "block4_reduction_conv (MaxPooli (None, 4, 4, 512)    0           batch_normalization_10[0][0]     \n",
      "__________________________________________________________________________________________________\n",
      "max_pooling2d_4 (MaxPooling2D)  (None, 4, 4, 512)    0           soft_attention_4[0][0]           \n",
      "__________________________________________________________________________________________________\n",
      "concatenate_5 (Concatenate)     (None, 4, 4, 1024)   0           block4_reduction_conv[0][0]      \n",
      "                                                                 max_pooling2d_4[0][0]            \n",
      "__________________________________________________________________________________________________\n",
      "activation_35 (Activation)      (None, 4, 4, 1024)   0           concatenate_5[0][0]              \n",
      "__________________________________________________________________________________________________\n",
      "dropout_4 (Dropout)             (None, 4, 4, 1024)   0           activation_35[0][0]              \n",
      "__________________________________________________________________________________________________\n",
      "block5_conv1 (Conv2D)           (None, 4, 4, 512)    4719104     dropout_4[0][0]                  \n",
      "__________________________________________________________________________________________________\n",
      "block5_conv2 (Conv2D)           (None, 4, 4, 512)    2359808     block5_conv1[0][0]               \n",
      "__________________________________________________________________________________________________\n",
      "block5_conv3 (Conv2D)           (None, 4, 4, 512)    2359808     block5_conv2[0][0]               \n",
      "__________________________________________________________________________________________________\n",
      "batch_normalization_11 (BatchNo (None, 4, 4, 512)    2048        block5_conv3[0][0]               \n",
      "__________________________________________________________________________________________________\n",
      "soft_attention_5 (SoftAttention [(None, 4, 4, 512),  73744       batch_normalization_11[0][0]     \n",
      "__________________________________________________________________________________________________\n",
      "block5_reduction_conv (MaxPooli (None, 2, 2, 512)    0           batch_normalization_11[0][0]     \n",
      "__________________________________________________________________________________________________\n",
      "max_pooling2d_5 (MaxPooling2D)  (None, 2, 2, 512)    0           soft_attention_5[0][0]           \n",
      "__________________________________________________________________________________________________\n",
      "concatenate_6 (Concatenate)     (None, 2, 2, 1024)   0           block5_reduction_conv[0][0]      \n",
      "                                                                 max_pooling2d_5[0][0]            \n",
      "__________________________________________________________________________________________________\n",
      "activation_37 (Activation)      (None, 2, 2, 1024)   0           concatenate_6[0][0]              \n",
      "__________________________________________________________________________________________________\n",
      "dropout_5 (Dropout)             (None, 2, 2, 1024)   0           activation_37[0][0]              \n",
      "__________________________________________________________________________________________________\n",
      "flatten_1 (Flatten)             (None, 4096)         0           dropout_5[0][0]                  \n",
      "__________________________________________________________________________________________________\n",
      "dropout_6 (Dropout)             (None, 4096)         0           flatten_1[0][0]                  \n",
      "__________________________________________________________________________________________________\n",
      "y (Dense)                       (None, 2)            8194        dropout_6[0][0]                  \n",
      "==================================================================================================\n",
      "Total params: 22,924,054\n",
      "Trainable params: 22,915,990\n",
      "Non-trainable params: 8,064\n",
      "__________________________________________________________________________________________________\n"
     ]
    }
   ],
   "source": [
    "\n",
    "x = kl.Conv2D(filters=256, kernel_size=(3,3), activation='relu', padding='same', name='block3_conv1')(all_concat)\n",
    "x = kl.Conv2D(filters=256, kernel_size=(3,3), activation='relu', padding='same', name='block3_conv2')(x)\n",
    "x = kl.Conv2D(filters=256, kernel_size=(3,3), activation='relu', padding='same', name='block3_conv3')(x)\n",
    "x = kl.BatchNormalization()(x)\n",
    "x_red = kl.MaxPooling2D(pool_size=(2,2),padding='same', name='block3_reduction_conv')(x)\n",
    "xsa3,samap3 = SoftAttention(aggregate=True,m=16,concat_with_x=False,ch=int(x.shape[-1]),name='soft_attention_3')(x)\n",
    "xsa3 = kl.MaxPooling2D(pool_size=(2,2),padding='same')(xsa3)\n",
    "x = kl.Concatenate()([x_red,xsa3])\n",
    "x = kl.Activation('relu')(x)\n",
    "x = kl.Dropout(0.5)(x)\n",
    "\n",
    "x = kl.Conv2D(filters=512, kernel_size=(3,3), activation='relu', padding='same', name='block4_conv1')(x)\n",
    "x = kl.Conv2D(filters=512, kernel_size=(3,3), activation='relu', padding='same', name='block4_conv2')(x)\n",
    "x = kl.Conv2D(filters=512, kernel_size=(3,3), activation='relu', padding='same', name='block4_conv3')(x)\n",
    "x = kl.BatchNormalization()(x)\n",
    "x_red = kl.MaxPooling2D(pool_size=(2,2),padding='same', name='block4_reduction_conv')(x)\n",
    "xsa4,samap4 = SoftAttention(aggregate=True,m=16,concat_with_x=False,ch=int(x.shape[-1]),name='soft_attention_4')(x)\n",
    "xsa4 = kl.MaxPooling2D(pool_size=(2,2),padding='same')(xsa4)\n",
    "x = kl.Concatenate()([x_red,xsa4])\n",
    "x = kl.Activation('relu')(x)\n",
    "x = kl.Dropout(0.5)(x)\n",
    "\n",
    "x = kl.Conv2D(filters=512, kernel_size=(3,3), activation='relu', padding='same', name='block5_conv1')(x)\n",
    "x = kl.Conv2D(filters=512, kernel_size=(3,3), activation='relu', padding='same', name='block5_conv2')(x)\n",
    "x = kl.Conv2D(filters=512, kernel_size=(3,3), activation='relu', padding='same', name='block5_conv3')(x)\n",
    "x = kl.BatchNormalization()(x)\n",
    "x_red = kl.MaxPooling2D(pool_size=(2,2), padding='same', name='block5_reduction_conv')(x)\n",
    "xsa5,samap5 = SoftAttention(aggregate=True,m=16,concat_with_x=False,ch=int(x.shape[-1]),name='soft_attention_5')(x)\n",
    "xsa5 = kl.MaxPooling2D(pool_size=(2,2),padding='same')(xsa5)\n",
    "x = kl.Concatenate()([x_red,xsa5])\n",
    "x = kl.Activation('relu')(x)\n",
    "x = kl.Dropout(0.5)(x)\n",
    "\n",
    "g = kl.Flatten()(x)\n",
    "g = kl.Dropout(0.5)(g)\n",
    "g = kl.Dense(2,activation='softmax',name='y')(g)\n",
    "model = Model(inputs = [l_inp,r_inp],outputs = g)\n",
    "model.summary()"
   ]
  },
  {
   "cell_type": "markdown",
   "metadata": {},
   "source": [
    "## view the model in SVG mode"
   ]
  },
  {
   "cell_type": "code",
   "execution_count": 13,
   "metadata": {
    "scrolled": true
   },
   "outputs": [
    {
     "data": {
      "image/svg+xml": [
       "<svg height=\"3292pt\" viewBox=\"0.00 0.00 1955.24 3292.00\" width=\"1955pt\" xmlns=\"http://www.w3.org/2000/svg\" xmlns:xlink=\"http://www.w3.org/1999/xlink\">\n",
       "<g class=\"graph\" id=\"graph0\" transform=\"scale(1 1) rotate(0) translate(4 3288)\">\n",
       "<title>G</title>\n",
       "<polygon fill=\"#ffffff\" points=\"-4,4 -4,-3288 1951.2411,-3288 1951.2411,4 -4,4\" stroke=\"transparent\"/>\n",
       "<!-- 140054427752936 -->\n",
       "<g class=\"node\" id=\"node1\">\n",
       "<title>140054427752936</title>\n",
       "<polygon fill=\"none\" points=\"710.2199,-3237.5 710.2199,-3283.5 964.2199,-3283.5 964.2199,-3237.5 710.2199,-3237.5\" stroke=\"#000000\"/>\n",
       "<text fill=\"#000000\" font-family=\"Times,serif\" font-size=\"14.00\" text-anchor=\"middle\" x=\"754.2199\" y=\"-3256.8\">l: InputLayer</text>\n",
       "<polyline fill=\"none\" points=\"798.2199,-3237.5 798.2199,-3283.5 \" stroke=\"#000000\"/>\n",
       "<text fill=\"#000000\" font-family=\"Times,serif\" font-size=\"14.00\" text-anchor=\"middle\" x=\"825.7199\" y=\"-3268.3\">input:</text>\n",
       "<polyline fill=\"none\" points=\"798.2199,-3260.5 853.2199,-3260.5 \" stroke=\"#000000\"/>\n",
       "<text fill=\"#000000\" font-family=\"Times,serif\" font-size=\"14.00\" text-anchor=\"middle\" x=\"825.7199\" y=\"-3245.3\">output:</text>\n",
       "<polyline fill=\"none\" points=\"853.2199,-3237.5 853.2199,-3283.5 \" stroke=\"#000000\"/>\n",
       "<text fill=\"#000000\" font-family=\"Times,serif\" font-size=\"14.00\" text-anchor=\"middle\" x=\"908.7199\" y=\"-3268.3\">(None, 64, 64, 1)</text>\n",
       "<polyline fill=\"none\" points=\"853.2199,-3260.5 964.2199,-3260.5 \" stroke=\"#000000\"/>\n",
       "<text fill=\"#000000\" font-family=\"Times,serif\" font-size=\"14.00\" text-anchor=\"middle\" x=\"908.7199\" y=\"-3245.3\">(None, 64, 64, 1)</text>\n",
       "</g>\n",
       "<!-- 140053051655336 -->\n",
       "<g class=\"node\" id=\"node3\">\n",
       "<title>140053051655336</title>\n",
       "<polygon fill=\"none\" points=\"824.2199,-3154.5 824.2199,-3200.5 1122.2199,-3200.5 1122.2199,-3154.5 824.2199,-3154.5\" stroke=\"#000000\"/>\n",
       "<text fill=\"#000000\" font-family=\"Times,serif\" font-size=\"14.00\" text-anchor=\"middle\" x=\"883.2199\" y=\"-3173.8\">imgModel: Model</text>\n",
       "<polyline fill=\"none\" points=\"942.2199,-3154.5 942.2199,-3200.5 \" stroke=\"#000000\"/>\n",
       "<text fill=\"#000000\" font-family=\"Times,serif\" font-size=\"14.00\" text-anchor=\"middle\" x=\"969.7199\" y=\"-3185.3\">input:</text>\n",
       "<polyline fill=\"none\" points=\"942.2199,-3177.5 997.2199,-3177.5 \" stroke=\"#000000\"/>\n",
       "<text fill=\"#000000\" font-family=\"Times,serif\" font-size=\"14.00\" text-anchor=\"middle\" x=\"969.7199\" y=\"-3162.3\">output:</text>\n",
       "<polyline fill=\"none\" points=\"997.2199,-3154.5 997.2199,-3200.5 \" stroke=\"#000000\"/>\n",
       "<text fill=\"#000000\" font-family=\"Times,serif\" font-size=\"14.00\" text-anchor=\"middle\" x=\"1059.7199\" y=\"-3185.3\">(None, 64, 64, 1)</text>\n",
       "<polyline fill=\"none\" points=\"997.2199,-3177.5 1122.2199,-3177.5 \" stroke=\"#000000\"/>\n",
       "<text fill=\"#000000\" font-family=\"Times,serif\" font-size=\"14.00\" text-anchor=\"middle\" x=\"1059.7199\" y=\"-3162.3\">(None, 16, 16, 256)</text>\n",
       "</g>\n",
       "<!-- 140054427752936&#45;&gt;140053051655336 -->\n",
       "<g class=\"edge\" id=\"edge1\">\n",
       "<title>140054427752936-&gt;140053051655336</title>\n",
       "<path d=\"M875.1035,-3237.3799C891.0328,-3227.6583 909.7251,-3216.2505 926.497,-3206.0147\" fill=\"none\" stroke=\"#000000\"/>\n",
       "<polygon fill=\"#000000\" points=\"928.3552,-3208.9811 935.0678,-3200.784 924.7086,-3203.0059 928.3552,-3208.9811\" stroke=\"#000000\"/>\n",
       "</g>\n",
       "<!-- 140054427752656 -->\n",
       "<g class=\"node\" id=\"node2\">\n",
       "<title>140054427752656</title>\n",
       "<polygon fill=\"none\" points=\"982.7199,-3237.5 982.7199,-3283.5 1237.7199,-3283.5 1237.7199,-3237.5 982.7199,-3237.5\" stroke=\"#000000\"/>\n",
       "<text fill=\"#000000\" font-family=\"Times,serif\" font-size=\"14.00\" text-anchor=\"middle\" x=\"1027.2199\" y=\"-3256.8\">r: InputLayer</text>\n",
       "<polyline fill=\"none\" points=\"1071.7199,-3237.5 1071.7199,-3283.5 \" stroke=\"#000000\"/>\n",
       "<text fill=\"#000000\" font-family=\"Times,serif\" font-size=\"14.00\" text-anchor=\"middle\" x=\"1099.2199\" y=\"-3268.3\">input:</text>\n",
       "<polyline fill=\"none\" points=\"1071.7199,-3260.5 1126.7199,-3260.5 \" stroke=\"#000000\"/>\n",
       "<text fill=\"#000000\" font-family=\"Times,serif\" font-size=\"14.00\" text-anchor=\"middle\" x=\"1099.2199\" y=\"-3245.3\">output:</text>\n",
       "<polyline fill=\"none\" points=\"1126.7199,-3237.5 1126.7199,-3283.5 \" stroke=\"#000000\"/>\n",
       "<text fill=\"#000000\" font-family=\"Times,serif\" font-size=\"14.00\" text-anchor=\"middle\" x=\"1182.2199\" y=\"-3268.3\">(None, 64, 64, 1)</text>\n",
       "<polyline fill=\"none\" points=\"1126.7199,-3260.5 1237.7199,-3260.5 \" stroke=\"#000000\"/>\n",
       "<text fill=\"#000000\" font-family=\"Times,serif\" font-size=\"14.00\" text-anchor=\"middle\" x=\"1182.2199\" y=\"-3245.3\">(None, 64, 64, 1)</text>\n",
       "</g>\n",
       "<!-- 140054427752656&#45;&gt;140053051655336 -->\n",
       "<g class=\"edge\" id=\"edge2\">\n",
       "<title>140054427752656-&gt;140053051655336</title>\n",
       "<path d=\"M1072.0578,-3237.3799C1056.0114,-3227.6583 1037.1816,-3216.2505 1020.2864,-3206.0147\" fill=\"none\" stroke=\"#000000\"/>\n",
       "<polygon fill=\"#000000\" points=\"1022.019,-3202.9722 1011.6526,-3200.784 1018.3918,-3208.9592 1022.019,-3202.9722\" stroke=\"#000000\"/>\n",
       "</g>\n",
       "<!-- 140054422678608 -->\n",
       "<g class=\"node\" id=\"node4\">\n",
       "<title>140054422678608</title>\n",
       "<polygon fill=\"none\" points=\"32.7199,-3071.5 32.7199,-3117.5 489.7199,-3117.5 489.7199,-3071.5 32.7199,-3071.5\" stroke=\"#000000\"/>\n",
       "<text fill=\"#000000\" font-family=\"Times,serif\" font-size=\"14.00\" text-anchor=\"middle\" x=\"109.2199\" y=\"-3090.8\">ca_l2r_1: CrossAttention</text>\n",
       "<polyline fill=\"none\" points=\"185.7199,-3071.5 185.7199,-3117.5 \" stroke=\"#000000\"/>\n",
       "<text fill=\"#000000\" font-family=\"Times,serif\" font-size=\"14.00\" text-anchor=\"middle\" x=\"213.2199\" y=\"-3102.3\">input:</text>\n",
       "<polyline fill=\"none\" points=\"185.7199,-3094.5 240.7199,-3094.5 \" stroke=\"#000000\"/>\n",
       "<text fill=\"#000000\" font-family=\"Times,serif\" font-size=\"14.00\" text-anchor=\"middle\" x=\"213.2199\" y=\"-3079.3\">output:</text>\n",
       "<polyline fill=\"none\" points=\"240.7199,-3071.5 240.7199,-3117.5 \" stroke=\"#000000\"/>\n",
       "<text fill=\"#000000\" font-family=\"Times,serif\" font-size=\"14.00\" text-anchor=\"middle\" x=\"365.2199\" y=\"-3102.3\">[(None, 16, 16, 256), (None, 16, 16, 256)]</text>\n",
       "<polyline fill=\"none\" points=\"240.7199,-3094.5 489.7199,-3094.5 \" stroke=\"#000000\"/>\n",
       "<text fill=\"#000000\" font-family=\"Times,serif\" font-size=\"14.00\" text-anchor=\"middle\" x=\"365.2199\" y=\"-3079.3\">[(None, 16, 16, 256), (256, 256)]</text>\n",
       "</g>\n",
       "<!-- 140053051655336&#45;&gt;140054422678608 -->\n",
       "<g class=\"edge\" id=\"edge3\">\n",
       "<title>140053051655336-&gt;140054422678608</title>\n",
       "<path d=\"M823.9614,-3160.1005C720.9468,-3148.0918 582.5881,-3131.9629 468.8426,-3118.7032\" fill=\"none\" stroke=\"#000000\"/>\n",
       "<polygon fill=\"#000000\" points=\"468.9506,-3115.1922 458.6126,-3117.5107 468.14,-3122.1451 468.9506,-3115.1922\" stroke=\"#000000\"/>\n",
       "</g>\n",
       "<!-- 140054422679112 -->\n",
       "<g class=\"node\" id=\"node5\">\n",
       "<title>140054422679112</title>\n",
       "<polygon fill=\"none\" points=\"507.7199,-3071.5 507.7199,-3117.5 964.7199,-3117.5 964.7199,-3071.5 507.7199,-3071.5\" stroke=\"#000000\"/>\n",
       "<text fill=\"#000000\" font-family=\"Times,serif\" font-size=\"14.00\" text-anchor=\"middle\" x=\"584.2199\" y=\"-3090.8\">ca_l2r_2: CrossAttention</text>\n",
       "<polyline fill=\"none\" points=\"660.7199,-3071.5 660.7199,-3117.5 \" stroke=\"#000000\"/>\n",
       "<text fill=\"#000000\" font-family=\"Times,serif\" font-size=\"14.00\" text-anchor=\"middle\" x=\"688.2199\" y=\"-3102.3\">input:</text>\n",
       "<polyline fill=\"none\" points=\"660.7199,-3094.5 715.7199,-3094.5 \" stroke=\"#000000\"/>\n",
       "<text fill=\"#000000\" font-family=\"Times,serif\" font-size=\"14.00\" text-anchor=\"middle\" x=\"688.2199\" y=\"-3079.3\">output:</text>\n",
       "<polyline fill=\"none\" points=\"715.7199,-3071.5 715.7199,-3117.5 \" stroke=\"#000000\"/>\n",
       "<text fill=\"#000000\" font-family=\"Times,serif\" font-size=\"14.00\" text-anchor=\"middle\" x=\"840.2199\" y=\"-3102.3\">[(None, 16, 16, 256), (None, 16, 16, 256)]</text>\n",
       "<polyline fill=\"none\" points=\"715.7199,-3094.5 964.7199,-3094.5 \" stroke=\"#000000\"/>\n",
       "<text fill=\"#000000\" font-family=\"Times,serif\" font-size=\"14.00\" text-anchor=\"middle\" x=\"840.2199\" y=\"-3079.3\">[(None, 16, 16, 256), (256, 256)]</text>\n",
       "</g>\n",
       "<!-- 140053051655336&#45;&gt;140054422679112 -->\n",
       "<g class=\"edge\" id=\"edge5\">\n",
       "<title>140053051655336-&gt;140054422679112</title>\n",
       "<path d=\"M907.517,-3154.4901C877.85,-3144.1004 842.6336,-3131.7672 811.8698,-3120.9934\" fill=\"none\" stroke=\"#000000\"/>\n",
       "<polygon fill=\"#000000\" points=\"812.6456,-3117.5567 802.0507,-3117.5547 810.3318,-3124.1633 812.6456,-3117.5567\" stroke=\"#000000\"/>\n",
       "</g>\n",
       "<!-- 140054419782848 -->\n",
       "<g class=\"node\" id=\"node6\">\n",
       "<title>140054419782848</title>\n",
       "<polygon fill=\"none\" points=\"982.7199,-3071.5 982.7199,-3117.5 1439.7199,-3117.5 1439.7199,-3071.5 982.7199,-3071.5\" stroke=\"#000000\"/>\n",
       "<text fill=\"#000000\" font-family=\"Times,serif\" font-size=\"14.00\" text-anchor=\"middle\" x=\"1059.2199\" y=\"-3090.8\">ca_r2l_1: CrossAttention</text>\n",
       "<polyline fill=\"none\" points=\"1135.7199,-3071.5 1135.7199,-3117.5 \" stroke=\"#000000\"/>\n",
       "<text fill=\"#000000\" font-family=\"Times,serif\" font-size=\"14.00\" text-anchor=\"middle\" x=\"1163.2199\" y=\"-3102.3\">input:</text>\n",
       "<polyline fill=\"none\" points=\"1135.7199,-3094.5 1190.7199,-3094.5 \" stroke=\"#000000\"/>\n",
       "<text fill=\"#000000\" font-family=\"Times,serif\" font-size=\"14.00\" text-anchor=\"middle\" x=\"1163.2199\" y=\"-3079.3\">output:</text>\n",
       "<polyline fill=\"none\" points=\"1190.7199,-3071.5 1190.7199,-3117.5 \" stroke=\"#000000\"/>\n",
       "<text fill=\"#000000\" font-family=\"Times,serif\" font-size=\"14.00\" text-anchor=\"middle\" x=\"1315.2199\" y=\"-3102.3\">[(None, 16, 16, 256), (None, 16, 16, 256)]</text>\n",
       "<polyline fill=\"none\" points=\"1190.7199,-3094.5 1439.7199,-3094.5 \" stroke=\"#000000\"/>\n",
       "<text fill=\"#000000\" font-family=\"Times,serif\" font-size=\"14.00\" text-anchor=\"middle\" x=\"1315.2199\" y=\"-3079.3\">[(None, 16, 16, 256), (256, 256)]</text>\n",
       "</g>\n",
       "<!-- 140053051655336&#45;&gt;140054419782848 -->\n",
       "<g class=\"edge\" id=\"edge7\">\n",
       "<title>140053051655336-&gt;140054419782848</title>\n",
       "<path d=\"M1039.2001,-3154.4901C1069.1212,-3144.0554 1104.6636,-3131.6604 1135.6518,-3120.8536\" fill=\"none\" stroke=\"#000000\"/>\n",
       "<polygon fill=\"#000000\" points=\"1136.8216,-3124.1524 1145.1114,-3117.5547 1134.5165,-3117.5428 1136.8216,-3124.1524\" stroke=\"#000000\"/>\n",
       "</g>\n",
       "<!-- 140054419651384 -->\n",
       "<g class=\"node\" id=\"node7\">\n",
       "<title>140054419651384</title>\n",
       "<polygon fill=\"none\" points=\"1457.7199,-3071.5 1457.7199,-3117.5 1914.7199,-3117.5 1914.7199,-3071.5 1457.7199,-3071.5\" stroke=\"#000000\"/>\n",
       "<text fill=\"#000000\" font-family=\"Times,serif\" font-size=\"14.00\" text-anchor=\"middle\" x=\"1534.2199\" y=\"-3090.8\">ca_r2l_2: CrossAttention</text>\n",
       "<polyline fill=\"none\" points=\"1610.7199,-3071.5 1610.7199,-3117.5 \" stroke=\"#000000\"/>\n",
       "<text fill=\"#000000\" font-family=\"Times,serif\" font-size=\"14.00\" text-anchor=\"middle\" x=\"1638.2199\" y=\"-3102.3\">input:</text>\n",
       "<polyline fill=\"none\" points=\"1610.7199,-3094.5 1665.7199,-3094.5 \" stroke=\"#000000\"/>\n",
       "<text fill=\"#000000\" font-family=\"Times,serif\" font-size=\"14.00\" text-anchor=\"middle\" x=\"1638.2199\" y=\"-3079.3\">output:</text>\n",
       "<polyline fill=\"none\" points=\"1665.7199,-3071.5 1665.7199,-3117.5 \" stroke=\"#000000\"/>\n",
       "<text fill=\"#000000\" font-family=\"Times,serif\" font-size=\"14.00\" text-anchor=\"middle\" x=\"1790.2199\" y=\"-3102.3\">[(None, 16, 16, 256), (None, 16, 16, 256)]</text>\n",
       "<polyline fill=\"none\" points=\"1665.7199,-3094.5 1914.7199,-3094.5 \" stroke=\"#000000\"/>\n",
       "<text fill=\"#000000\" font-family=\"Times,serif\" font-size=\"14.00\" text-anchor=\"middle\" x=\"1790.2199\" y=\"-3079.3\">[(None, 16, 16, 256), (256, 256)]</text>\n",
       "</g>\n",
       "<!-- 140053051655336&#45;&gt;140054419651384 -->\n",
       "<g class=\"edge\" id=\"edge9\">\n",
       "<title>140053051655336-&gt;140054419651384</title>\n",
       "<path d=\"M1122.2539,-3160.151C1225.3851,-3148.1456 1364.0435,-3132.0044 1478.0627,-3118.7315\" fill=\"none\" stroke=\"#000000\"/>\n",
       "<polygon fill=\"#000000\" points=\"1478.7892,-3122.1706 1488.3174,-3117.5377 1477.9797,-3115.2176 1478.7892,-3122.1706\" stroke=\"#000000\"/>\n",
       "</g>\n",
       "<!-- 140054420328520 -->\n",
       "<g class=\"node\" id=\"node16\">\n",
       "<title>140054420328520</title>\n",
       "<polygon fill=\"none\" points=\"72.7199,-2739.5 72.7199,-2785.5 585.7199,-2785.5 585.7199,-2739.5 72.7199,-2739.5\" stroke=\"#000000\"/>\n",
       "<text fill=\"#000000\" font-family=\"Times,serif\" font-size=\"14.00\" text-anchor=\"middle\" x=\"177.2199\" y=\"-2758.8\">ca_l2r_comb: ResidualCombine2D</text>\n",
       "<polyline fill=\"none\" points=\"281.7199,-2739.5 281.7199,-2785.5 \" stroke=\"#000000\"/>\n",
       "<text fill=\"#000000\" font-family=\"Times,serif\" font-size=\"14.00\" text-anchor=\"middle\" x=\"309.2199\" y=\"-2770.3\">input:</text>\n",
       "<polyline fill=\"none\" points=\"281.7199,-2762.5 336.7199,-2762.5 \" stroke=\"#000000\"/>\n",
       "<text fill=\"#000000\" font-family=\"Times,serif\" font-size=\"14.00\" text-anchor=\"middle\" x=\"309.2199\" y=\"-2747.3\">output:</text>\n",
       "<polyline fill=\"none\" points=\"336.7199,-2739.5 336.7199,-2785.5 \" stroke=\"#000000\"/>\n",
       "<text fill=\"#000000\" font-family=\"Times,serif\" font-size=\"14.00\" text-anchor=\"middle\" x=\"461.2199\" y=\"-2770.3\">[(None, 16, 16, 256), (None, 16, 16, 512)]</text>\n",
       "<polyline fill=\"none\" points=\"336.7199,-2762.5 585.7199,-2762.5 \" stroke=\"#000000\"/>\n",
       "<text fill=\"#000000\" font-family=\"Times,serif\" font-size=\"14.00\" text-anchor=\"middle\" x=\"461.2199\" y=\"-2747.3\">[(None, 16, 16, 768), (1,), (1,)]</text>\n",
       "</g>\n",
       "<!-- 140053051655336&#45;&gt;140054420328520 -->\n",
       "<g class=\"edge\" id=\"edge21\">\n",
       "<title>140053051655336-&gt;140054420328520</title>\n",
       "<path d=\"M823.9829,-3172.9439C563.969,-3164.3391 52.5756,-3144.1865 23.2199,-3118 -12.6598,-3085.9938 4.2199,-3059.5807 4.2199,-3011.5 4.2199,-3011.5 4.2199,-3011.5 4.2199,-2928.5 4.2199,-2851.7918 76.9124,-2810.5108 153.5394,-2788.3046\" fill=\"none\" stroke=\"#000000\"/>\n",
       "<polygon fill=\"#000000\" points=\"154.6951,-2791.6159 163.3876,-2785.5587 152.815,-2784.8731 154.6951,-2791.6159\" stroke=\"#000000\"/>\n",
       "</g>\n",
       "<!-- 140053051139016 -->\n",
       "<g class=\"node\" id=\"node17\">\n",
       "<title>140053051139016</title>\n",
       "<polygon fill=\"none\" points=\"1191.7199,-2739.5 1191.7199,-2785.5 1704.7199,-2785.5 1704.7199,-2739.5 1191.7199,-2739.5\" stroke=\"#000000\"/>\n",
       "<text fill=\"#000000\" font-family=\"Times,serif\" font-size=\"14.00\" text-anchor=\"middle\" x=\"1296.2199\" y=\"-2758.8\">ca_r2l_comb: ResidualCombine2D</text>\n",
       "<polyline fill=\"none\" points=\"1400.7199,-2739.5 1400.7199,-2785.5 \" stroke=\"#000000\"/>\n",
       "<text fill=\"#000000\" font-family=\"Times,serif\" font-size=\"14.00\" text-anchor=\"middle\" x=\"1428.2199\" y=\"-2770.3\">input:</text>\n",
       "<polyline fill=\"none\" points=\"1400.7199,-2762.5 1455.7199,-2762.5 \" stroke=\"#000000\"/>\n",
       "<text fill=\"#000000\" font-family=\"Times,serif\" font-size=\"14.00\" text-anchor=\"middle\" x=\"1428.2199\" y=\"-2747.3\">output:</text>\n",
       "<polyline fill=\"none\" points=\"1455.7199,-2739.5 1455.7199,-2785.5 \" stroke=\"#000000\"/>\n",
       "<text fill=\"#000000\" font-family=\"Times,serif\" font-size=\"14.00\" text-anchor=\"middle\" x=\"1580.2199\" y=\"-2770.3\">[(None, 16, 16, 256), (None, 16, 16, 512)]</text>\n",
       "<polyline fill=\"none\" points=\"1455.7199,-2762.5 1704.7199,-2762.5 \" stroke=\"#000000\"/>\n",
       "<text fill=\"#000000\" font-family=\"Times,serif\" font-size=\"14.00\" text-anchor=\"middle\" x=\"1580.2199\" y=\"-2747.3\">[(None, 16, 16, 768), (1,), (1,)]</text>\n",
       "</g>\n",
       "<!-- 140053051655336&#45;&gt;140053051139016 -->\n",
       "<g class=\"edge\" id=\"edge23\">\n",
       "<title>140053051655336-&gt;140053051139016</title>\n",
       "<path d=\"M1122.4336,-3172.9176C1382.4101,-3164.2707 1893.7456,-3144.0529 1923.2199,-3118 1959.3047,-3086.1041 1943.2199,-3059.6607 1943.2199,-3011.5 1943.2199,-3011.5 1943.2199,-3011.5 1943.2199,-2928.5 1943.2199,-2858.7378 1764.2519,-2812.8528 1621.5397,-2787.3534\" fill=\"none\" stroke=\"#000000\"/>\n",
       "<polygon fill=\"#000000\" points=\"1621.7861,-2783.8429 1611.3301,-2785.5527 1620.5701,-2790.7365 1621.7861,-2783.8429\" stroke=\"#000000\"/>\n",
       "</g>\n",
       "<!-- 140054422678496 -->\n",
       "<g class=\"node\" id=\"node8\">\n",
       "<title>140054422678496</title>\n",
       "<polygon fill=\"none\" points=\"45.2199,-2988.5 45.2199,-3034.5 485.2199,-3034.5 485.2199,-2988.5 45.2199,-2988.5\" stroke=\"#000000\"/>\n",
       "<text fill=\"#000000\" font-family=\"Times,serif\" font-size=\"14.00\" text-anchor=\"middle\" x=\"175.2199\" y=\"-3007.8\">batch_normalization_3: BatchNormalization</text>\n",
       "<polyline fill=\"none\" points=\"305.2199,-2988.5 305.2199,-3034.5 \" stroke=\"#000000\"/>\n",
       "<text fill=\"#000000\" font-family=\"Times,serif\" font-size=\"14.00\" text-anchor=\"middle\" x=\"332.7199\" y=\"-3019.3\">input:</text>\n",
       "<polyline fill=\"none\" points=\"305.2199,-3011.5 360.2199,-3011.5 \" stroke=\"#000000\"/>\n",
       "<text fill=\"#000000\" font-family=\"Times,serif\" font-size=\"14.00\" text-anchor=\"middle\" x=\"332.7199\" y=\"-2996.3\">output:</text>\n",
       "<polyline fill=\"none\" points=\"360.2199,-2988.5 360.2199,-3034.5 \" stroke=\"#000000\"/>\n",
       "<text fill=\"#000000\" font-family=\"Times,serif\" font-size=\"14.00\" text-anchor=\"middle\" x=\"422.7199\" y=\"-3019.3\">(None, 16, 16, 256)</text>\n",
       "<polyline fill=\"none\" points=\"360.2199,-3011.5 485.2199,-3011.5 \" stroke=\"#000000\"/>\n",
       "<text fill=\"#000000\" font-family=\"Times,serif\" font-size=\"14.00\" text-anchor=\"middle\" x=\"422.7199\" y=\"-2996.3\">(None, 16, 16, 256)</text>\n",
       "</g>\n",
       "<!-- 140054422678608&#45;&gt;140054422678496 -->\n",
       "<g class=\"edge\" id=\"edge11\">\n",
       "<title>140054422678608-&gt;140054422678496</title>\n",
       "<path d=\"M262.3342,-3071.3799C262.7296,-3063.1745 263.1829,-3053.7679 263.6113,-3044.8786\" fill=\"none\" stroke=\"#000000\"/>\n",
       "<polygon fill=\"#000000\" points=\"267.1123,-3044.9409 264.0978,-3034.784 260.1204,-3044.6039 267.1123,-3044.9409\" stroke=\"#000000\"/>\n",
       "</g>\n",
       "<!-- 140054422679056 -->\n",
       "<g class=\"node\" id=\"node9\">\n",
       "<title>140054422679056</title>\n",
       "<polygon fill=\"none\" points=\"508.2199,-2988.5 508.2199,-3034.5 948.2199,-3034.5 948.2199,-2988.5 508.2199,-2988.5\" stroke=\"#000000\"/>\n",
       "<text fill=\"#000000\" font-family=\"Times,serif\" font-size=\"14.00\" text-anchor=\"middle\" x=\"638.2199\" y=\"-3007.8\">batch_normalization_4: BatchNormalization</text>\n",
       "<polyline fill=\"none\" points=\"768.2199,-2988.5 768.2199,-3034.5 \" stroke=\"#000000\"/>\n",
       "<text fill=\"#000000\" font-family=\"Times,serif\" font-size=\"14.00\" text-anchor=\"middle\" x=\"795.7199\" y=\"-3019.3\">input:</text>\n",
       "<polyline fill=\"none\" points=\"768.2199,-3011.5 823.2199,-3011.5 \" stroke=\"#000000\"/>\n",
       "<text fill=\"#000000\" font-family=\"Times,serif\" font-size=\"14.00\" text-anchor=\"middle\" x=\"795.7199\" y=\"-2996.3\">output:</text>\n",
       "<polyline fill=\"none\" points=\"823.2199,-2988.5 823.2199,-3034.5 \" stroke=\"#000000\"/>\n",
       "<text fill=\"#000000\" font-family=\"Times,serif\" font-size=\"14.00\" text-anchor=\"middle\" x=\"885.7199\" y=\"-3019.3\">(None, 16, 16, 256)</text>\n",
       "<polyline fill=\"none\" points=\"823.2199,-3011.5 948.2199,-3011.5 \" stroke=\"#000000\"/>\n",
       "<text fill=\"#000000\" font-family=\"Times,serif\" font-size=\"14.00\" text-anchor=\"middle\" x=\"885.7199\" y=\"-2996.3\">(None, 16, 16, 256)</text>\n",
       "</g>\n",
       "<!-- 140054422679112&#45;&gt;140054422679056 -->\n",
       "<g class=\"edge\" id=\"edge12\">\n",
       "<title>140054422679112-&gt;140054422679056</title>\n",
       "<path d=\"M733.9915,-3071.3799C733.2006,-3063.1745 732.294,-3053.7679 731.4372,-3044.8786\" fill=\"none\" stroke=\"#000000\"/>\n",
       "<polygon fill=\"#000000\" points=\"734.9075,-3044.4021 730.4642,-3034.784 727.9398,-3045.0737 734.9075,-3044.4021\" stroke=\"#000000\"/>\n",
       "</g>\n",
       "<!-- 140054419780384 -->\n",
       "<g class=\"node\" id=\"node10\">\n",
       "<title>140054419780384</title>\n",
       "<polygon fill=\"none\" points=\"995.2199,-2988.5 995.2199,-3034.5 1435.2199,-3034.5 1435.2199,-2988.5 995.2199,-2988.5\" stroke=\"#000000\"/>\n",
       "<text fill=\"#000000\" font-family=\"Times,serif\" font-size=\"14.00\" text-anchor=\"middle\" x=\"1125.2199\" y=\"-3007.8\">batch_normalization_6: BatchNormalization</text>\n",
       "<polyline fill=\"none\" points=\"1255.2199,-2988.5 1255.2199,-3034.5 \" stroke=\"#000000\"/>\n",
       "<text fill=\"#000000\" font-family=\"Times,serif\" font-size=\"14.00\" text-anchor=\"middle\" x=\"1282.7199\" y=\"-3019.3\">input:</text>\n",
       "<polyline fill=\"none\" points=\"1255.2199,-3011.5 1310.2199,-3011.5 \" stroke=\"#000000\"/>\n",
       "<text fill=\"#000000\" font-family=\"Times,serif\" font-size=\"14.00\" text-anchor=\"middle\" x=\"1282.7199\" y=\"-2996.3\">output:</text>\n",
       "<polyline fill=\"none\" points=\"1310.2199,-2988.5 1310.2199,-3034.5 \" stroke=\"#000000\"/>\n",
       "<text fill=\"#000000\" font-family=\"Times,serif\" font-size=\"14.00\" text-anchor=\"middle\" x=\"1372.7199\" y=\"-3019.3\">(None, 16, 16, 256)</text>\n",
       "<polyline fill=\"none\" points=\"1310.2199,-3011.5 1435.2199,-3011.5 \" stroke=\"#000000\"/>\n",
       "<text fill=\"#000000\" font-family=\"Times,serif\" font-size=\"14.00\" text-anchor=\"middle\" x=\"1372.7199\" y=\"-2996.3\">(None, 16, 16, 256)</text>\n",
       "</g>\n",
       "<!-- 140054419782848&#45;&gt;140054419780384 -->\n",
       "<g class=\"edge\" id=\"edge13\">\n",
       "<title>140054419782848-&gt;140054419780384</title>\n",
       "<path d=\"M1212.3342,-3071.3799C1212.7296,-3063.1745 1213.1829,-3053.7679 1213.6113,-3044.8786\" fill=\"none\" stroke=\"#000000\"/>\n",
       "<polygon fill=\"#000000\" points=\"1217.1123,-3044.9409 1214.0978,-3034.784 1210.1204,-3044.6039 1217.1123,-3044.9409\" stroke=\"#000000\"/>\n",
       "</g>\n",
       "<!-- 140054419651272 -->\n",
       "<g class=\"node\" id=\"node11\">\n",
       "<title>140054419651272</title>\n",
       "<polygon fill=\"none\" points=\"1458.2199,-2988.5 1458.2199,-3034.5 1898.2199,-3034.5 1898.2199,-2988.5 1458.2199,-2988.5\" stroke=\"#000000\"/>\n",
       "<text fill=\"#000000\" font-family=\"Times,serif\" font-size=\"14.00\" text-anchor=\"middle\" x=\"1588.2199\" y=\"-3007.8\">batch_normalization_7: BatchNormalization</text>\n",
       "<polyline fill=\"none\" points=\"1718.2199,-2988.5 1718.2199,-3034.5 \" stroke=\"#000000\"/>\n",
       "<text fill=\"#000000\" font-family=\"Times,serif\" font-size=\"14.00\" text-anchor=\"middle\" x=\"1745.7199\" y=\"-3019.3\">input:</text>\n",
       "<polyline fill=\"none\" points=\"1718.2199,-3011.5 1773.2199,-3011.5 \" stroke=\"#000000\"/>\n",
       "<text fill=\"#000000\" font-family=\"Times,serif\" font-size=\"14.00\" text-anchor=\"middle\" x=\"1745.7199\" y=\"-2996.3\">output:</text>\n",
       "<polyline fill=\"none\" points=\"1773.2199,-2988.5 1773.2199,-3034.5 \" stroke=\"#000000\"/>\n",
       "<text fill=\"#000000\" font-family=\"Times,serif\" font-size=\"14.00\" text-anchor=\"middle\" x=\"1835.7199\" y=\"-3019.3\">(None, 16, 16, 256)</text>\n",
       "<polyline fill=\"none\" points=\"1773.2199,-3011.5 1898.2199,-3011.5 \" stroke=\"#000000\"/>\n",
       "<text fill=\"#000000\" font-family=\"Times,serif\" font-size=\"14.00\" text-anchor=\"middle\" x=\"1835.7199\" y=\"-2996.3\">(None, 16, 16, 256)</text>\n",
       "</g>\n",
       "<!-- 140054419651384&#45;&gt;140054419651272 -->\n",
       "<g class=\"edge\" id=\"edge14\">\n",
       "<title>140054419651384-&gt;140054419651272</title>\n",
       "<path d=\"M1683.9915,-3071.3799C1683.2006,-3063.1745 1682.294,-3053.7679 1681.4372,-3044.8786\" fill=\"none\" stroke=\"#000000\"/>\n",
       "<polygon fill=\"#000000\" points=\"1684.9075,-3044.4021 1680.4642,-3034.784 1677.9398,-3045.0737 1684.9075,-3044.4021\" stroke=\"#000000\"/>\n",
       "</g>\n",
       "<!-- 140054421902392 -->\n",
       "<g class=\"node\" id=\"node12\">\n",
       "<title>140054421902392</title>\n",
       "<polygon fill=\"none\" points=\"93.7199,-2905.5 93.7199,-2951.5 564.7199,-2951.5 564.7199,-2905.5 93.7199,-2905.5\" stroke=\"#000000\"/>\n",
       "<text fill=\"#000000\" font-family=\"Times,serif\" font-size=\"14.00\" text-anchor=\"middle\" x=\"177.2199\" y=\"-2924.8\">ca_l2r_concat: Concatenate</text>\n",
       "<polyline fill=\"none\" points=\"260.7199,-2905.5 260.7199,-2951.5 \" stroke=\"#000000\"/>\n",
       "<text fill=\"#000000\" font-family=\"Times,serif\" font-size=\"14.00\" text-anchor=\"middle\" x=\"288.2199\" y=\"-2936.3\">input:</text>\n",
       "<polyline fill=\"none\" points=\"260.7199,-2928.5 315.7199,-2928.5 \" stroke=\"#000000\"/>\n",
       "<text fill=\"#000000\" font-family=\"Times,serif\" font-size=\"14.00\" text-anchor=\"middle\" x=\"288.2199\" y=\"-2913.3\">output:</text>\n",
       "<polyline fill=\"none\" points=\"315.7199,-2905.5 315.7199,-2951.5 \" stroke=\"#000000\"/>\n",
       "<text fill=\"#000000\" font-family=\"Times,serif\" font-size=\"14.00\" text-anchor=\"middle\" x=\"440.2199\" y=\"-2936.3\">[(None, 16, 16, 256), (None, 16, 16, 256)]</text>\n",
       "<polyline fill=\"none\" points=\"315.7199,-2928.5 564.7199,-2928.5 \" stroke=\"#000000\"/>\n",
       "<text fill=\"#000000\" font-family=\"Times,serif\" font-size=\"14.00\" text-anchor=\"middle\" x=\"440.2199\" y=\"-2913.3\">(None, 16, 16, 512)</text>\n",
       "</g>\n",
       "<!-- 140054422678496&#45;&gt;140054421902392 -->\n",
       "<g class=\"edge\" id=\"edge15\">\n",
       "<title>140054422678496-&gt;140054421902392</title>\n",
       "<path d=\"M283.0475,-2988.3799C289.8559,-2979.5502 297.7369,-2969.3295 305.0393,-2959.8593\" fill=\"none\" stroke=\"#000000\"/>\n",
       "<polygon fill=\"#000000\" points=\"307.9314,-2961.8404 311.266,-2951.784 302.3879,-2957.5659 307.9314,-2961.8404\" stroke=\"#000000\"/>\n",
       "</g>\n",
       "<!-- 140054422679056&#45;&gt;140054421902392 -->\n",
       "<g class=\"edge\" id=\"edge16\">\n",
       "<title>140054422679056-&gt;140054421902392</title>\n",
       "<path d=\"M617.6061,-2988.4901C565.4984,-2977.6506 503.2213,-2964.6958 449.8971,-2953.6033\" fill=\"none\" stroke=\"#000000\"/>\n",
       "<polygon fill=\"#000000\" points=\"450.5523,-2950.1647 440.049,-2951.5547 449.1266,-2957.018 450.5523,-2950.1647\" stroke=\"#000000\"/>\n",
       "</g>\n",
       "<!-- 140054418121504 -->\n",
       "<g class=\"node\" id=\"node13\">\n",
       "<title>140054418121504</title>\n",
       "<polygon fill=\"none\" points=\"1212.7199,-2905.5 1212.7199,-2951.5 1683.7199,-2951.5 1683.7199,-2905.5 1212.7199,-2905.5\" stroke=\"#000000\"/>\n",
       "<text fill=\"#000000\" font-family=\"Times,serif\" font-size=\"14.00\" text-anchor=\"middle\" x=\"1296.2199\" y=\"-2924.8\">ca_r2l_concat: Concatenate</text>\n",
       "<polyline fill=\"none\" points=\"1379.7199,-2905.5 1379.7199,-2951.5 \" stroke=\"#000000\"/>\n",
       "<text fill=\"#000000\" font-family=\"Times,serif\" font-size=\"14.00\" text-anchor=\"middle\" x=\"1407.2199\" y=\"-2936.3\">input:</text>\n",
       "<polyline fill=\"none\" points=\"1379.7199,-2928.5 1434.7199,-2928.5 \" stroke=\"#000000\"/>\n",
       "<text fill=\"#000000\" font-family=\"Times,serif\" font-size=\"14.00\" text-anchor=\"middle\" x=\"1407.2199\" y=\"-2913.3\">output:</text>\n",
       "<polyline fill=\"none\" points=\"1434.7199,-2905.5 1434.7199,-2951.5 \" stroke=\"#000000\"/>\n",
       "<text fill=\"#000000\" font-family=\"Times,serif\" font-size=\"14.00\" text-anchor=\"middle\" x=\"1559.2199\" y=\"-2936.3\">[(None, 16, 16, 256), (None, 16, 16, 256)]</text>\n",
       "<polyline fill=\"none\" points=\"1434.7199,-2928.5 1683.7199,-2928.5 \" stroke=\"#000000\"/>\n",
       "<text fill=\"#000000\" font-family=\"Times,serif\" font-size=\"14.00\" text-anchor=\"middle\" x=\"1559.2199\" y=\"-2913.3\">(None, 16, 16, 512)</text>\n",
       "</g>\n",
       "<!-- 140054419780384&#45;&gt;140054418121504 -->\n",
       "<g class=\"edge\" id=\"edge17\">\n",
       "<title>140054419780384-&gt;140054418121504</title>\n",
       "<path d=\"M1279.814,-2988.4901C1308.9802,-2978.1004 1343.6023,-2965.7672 1373.8468,-2954.9934\" fill=\"none\" stroke=\"#000000\"/>\n",
       "<polygon fill=\"#000000\" points=\"1375.2546,-2958.2075 1383.5002,-2951.5547 1372.9055,-2951.6134 1375.2546,-2958.2075\" stroke=\"#000000\"/>\n",
       "</g>\n",
       "<!-- 140054419651272&#45;&gt;140054418121504 -->\n",
       "<g class=\"edge\" id=\"edge18\">\n",
       "<title>140054419651272-&gt;140054418121504</title>\n",
       "<path d=\"M1614.4576,-2988.4901C1585.6669,-2978.1004 1551.4906,-2965.7672 1521.6354,-2954.9934\" fill=\"none\" stroke=\"#000000\"/>\n",
       "<polygon fill=\"#000000\" points=\"1522.7007,-2951.657 1512.1064,-2951.5547 1520.3246,-2958.2414 1522.7007,-2951.657\" stroke=\"#000000\"/>\n",
       "</g>\n",
       "<!-- 140054421902448 -->\n",
       "<g class=\"node\" id=\"node14\">\n",
       "<title>140054421902448</title>\n",
       "<polygon fill=\"none\" points=\"161.7199,-2822.5 161.7199,-2868.5 496.7199,-2868.5 496.7199,-2822.5 161.7199,-2822.5\" stroke=\"#000000\"/>\n",
       "<text fill=\"#000000\" font-family=\"Times,serif\" font-size=\"14.00\" text-anchor=\"middle\" x=\"239.2199\" y=\"-2841.8\">activation_17: Activation</text>\n",
       "<polyline fill=\"none\" points=\"316.7199,-2822.5 316.7199,-2868.5 \" stroke=\"#000000\"/>\n",
       "<text fill=\"#000000\" font-family=\"Times,serif\" font-size=\"14.00\" text-anchor=\"middle\" x=\"344.2199\" y=\"-2853.3\">input:</text>\n",
       "<polyline fill=\"none\" points=\"316.7199,-2845.5 371.7199,-2845.5 \" stroke=\"#000000\"/>\n",
       "<text fill=\"#000000\" font-family=\"Times,serif\" font-size=\"14.00\" text-anchor=\"middle\" x=\"344.2199\" y=\"-2830.3\">output:</text>\n",
       "<polyline fill=\"none\" points=\"371.7199,-2822.5 371.7199,-2868.5 \" stroke=\"#000000\"/>\n",
       "<text fill=\"#000000\" font-family=\"Times,serif\" font-size=\"14.00\" text-anchor=\"middle\" x=\"434.2199\" y=\"-2853.3\">(None, 16, 16, 512)</text>\n",
       "<polyline fill=\"none\" points=\"371.7199,-2845.5 496.7199,-2845.5 \" stroke=\"#000000\"/>\n",
       "<text fill=\"#000000\" font-family=\"Times,serif\" font-size=\"14.00\" text-anchor=\"middle\" x=\"434.2199\" y=\"-2830.3\">(None, 16, 16, 512)</text>\n",
       "</g>\n",
       "<!-- 140054421902392&#45;&gt;140054421902448 -->\n",
       "<g class=\"edge\" id=\"edge19\">\n",
       "<title>140054421902392-&gt;140054421902448</title>\n",
       "<path d=\"M329.2199,-2905.3799C329.2199,-2897.1745 329.2199,-2887.7679 329.2199,-2878.8786\" fill=\"none\" stroke=\"#000000\"/>\n",
       "<polygon fill=\"#000000\" points=\"332.72,-2878.784 329.2199,-2868.784 325.72,-2878.784 332.72,-2878.784\" stroke=\"#000000\"/>\n",
       "</g>\n",
       "<!-- 140054418121560 -->\n",
       "<g class=\"node\" id=\"node15\">\n",
       "<title>140054418121560</title>\n",
       "<polygon fill=\"none\" points=\"1280.7199,-2822.5 1280.7199,-2868.5 1615.7199,-2868.5 1615.7199,-2822.5 1280.7199,-2822.5\" stroke=\"#000000\"/>\n",
       "<text fill=\"#000000\" font-family=\"Times,serif\" font-size=\"14.00\" text-anchor=\"middle\" x=\"1358.2199\" y=\"-2841.8\">activation_28: Activation</text>\n",
       "<polyline fill=\"none\" points=\"1435.7199,-2822.5 1435.7199,-2868.5 \" stroke=\"#000000\"/>\n",
       "<text fill=\"#000000\" font-family=\"Times,serif\" font-size=\"14.00\" text-anchor=\"middle\" x=\"1463.2199\" y=\"-2853.3\">input:</text>\n",
       "<polyline fill=\"none\" points=\"1435.7199,-2845.5 1490.7199,-2845.5 \" stroke=\"#000000\"/>\n",
       "<text fill=\"#000000\" font-family=\"Times,serif\" font-size=\"14.00\" text-anchor=\"middle\" x=\"1463.2199\" y=\"-2830.3\">output:</text>\n",
       "<polyline fill=\"none\" points=\"1490.7199,-2822.5 1490.7199,-2868.5 \" stroke=\"#000000\"/>\n",
       "<text fill=\"#000000\" font-family=\"Times,serif\" font-size=\"14.00\" text-anchor=\"middle\" x=\"1553.2199\" y=\"-2853.3\">(None, 16, 16, 512)</text>\n",
       "<polyline fill=\"none\" points=\"1490.7199,-2845.5 1615.7199,-2845.5 \" stroke=\"#000000\"/>\n",
       "<text fill=\"#000000\" font-family=\"Times,serif\" font-size=\"14.00\" text-anchor=\"middle\" x=\"1553.2199\" y=\"-2830.3\">(None, 16, 16, 512)</text>\n",
       "</g>\n",
       "<!-- 140054418121504&#45;&gt;140054418121560 -->\n",
       "<g class=\"edge\" id=\"edge20\">\n",
       "<title>140054418121504-&gt;140054418121560</title>\n",
       "<path d=\"M1448.2199,-2905.3799C1448.2199,-2897.1745 1448.2199,-2887.7679 1448.2199,-2878.8786\" fill=\"none\" stroke=\"#000000\"/>\n",
       "<polygon fill=\"#000000\" points=\"1451.72,-2878.784 1448.2199,-2868.784 1444.72,-2878.784 1451.72,-2878.784\" stroke=\"#000000\"/>\n",
       "</g>\n",
       "<!-- 140054421902448&#45;&gt;140054420328520 -->\n",
       "<g class=\"edge\" id=\"edge22\">\n",
       "<title>140054421902448-&gt;140054420328520</title>\n",
       "<path d=\"M329.2199,-2822.3799C329.2199,-2814.1745 329.2199,-2804.7679 329.2199,-2795.8786\" fill=\"none\" stroke=\"#000000\"/>\n",
       "<polygon fill=\"#000000\" points=\"332.72,-2795.784 329.2199,-2785.784 325.72,-2795.784 332.72,-2795.784\" stroke=\"#000000\"/>\n",
       "</g>\n",
       "<!-- 140054418121560&#45;&gt;140053051139016 -->\n",
       "<g class=\"edge\" id=\"edge24\">\n",
       "<title>140054418121560-&gt;140053051139016</title>\n",
       "<path d=\"M1448.2199,-2822.3799C1448.2199,-2814.1745 1448.2199,-2804.7679 1448.2199,-2795.8786\" fill=\"none\" stroke=\"#000000\"/>\n",
       "<polygon fill=\"#000000\" points=\"1451.72,-2795.784 1448.2199,-2785.784 1444.72,-2795.784 1451.72,-2795.784\" stroke=\"#000000\"/>\n",
       "</g>\n",
       "<!-- 140054420766392 -->\n",
       "<g class=\"node\" id=\"node18\">\n",
       "<title>140054420766392</title>\n",
       "<polygon fill=\"none\" points=\"351.2199,-2656.5 351.2199,-2702.5 791.2199,-2702.5 791.2199,-2656.5 351.2199,-2656.5\" stroke=\"#000000\"/>\n",
       "<text fill=\"#000000\" font-family=\"Times,serif\" font-size=\"14.00\" text-anchor=\"middle\" x=\"481.2199\" y=\"-2675.8\">batch_normalization_5: BatchNormalization</text>\n",
       "<polyline fill=\"none\" points=\"611.2199,-2656.5 611.2199,-2702.5 \" stroke=\"#000000\"/>\n",
       "<text fill=\"#000000\" font-family=\"Times,serif\" font-size=\"14.00\" text-anchor=\"middle\" x=\"638.7199\" y=\"-2687.3\">input:</text>\n",
       "<polyline fill=\"none\" points=\"611.2199,-2679.5 666.2199,-2679.5 \" stroke=\"#000000\"/>\n",
       "<text fill=\"#000000\" font-family=\"Times,serif\" font-size=\"14.00\" text-anchor=\"middle\" x=\"638.7199\" y=\"-2664.3\">output:</text>\n",
       "<polyline fill=\"none\" points=\"666.2199,-2656.5 666.2199,-2702.5 \" stroke=\"#000000\"/>\n",
       "<text fill=\"#000000\" font-family=\"Times,serif\" font-size=\"14.00\" text-anchor=\"middle\" x=\"728.7199\" y=\"-2687.3\">(None, 16, 16, 768)</text>\n",
       "<polyline fill=\"none\" points=\"666.2199,-2679.5 791.2199,-2679.5 \" stroke=\"#000000\"/>\n",
       "<text fill=\"#000000\" font-family=\"Times,serif\" font-size=\"14.00\" text-anchor=\"middle\" x=\"728.7199\" y=\"-2664.3\">(None, 16, 16, 768)</text>\n",
       "</g>\n",
       "<!-- 140054420328520&#45;&gt;140054420766392 -->\n",
       "<g class=\"edge\" id=\"edge25\">\n",
       "<title>140054420328520-&gt;140054420766392</title>\n",
       "<path d=\"M396.3091,-2739.4901C426.733,-2729.0554 462.8727,-2716.6604 494.3818,-2705.8536\" fill=\"none\" stroke=\"#000000\"/>\n",
       "<polygon fill=\"#000000\" points=\"495.6767,-2709.1097 504.0003,-2702.5547 493.4057,-2702.4883 495.6767,-2709.1097\" stroke=\"#000000\"/>\n",
       "</g>\n",
       "<!-- 140054427752040 -->\n",
       "<g class=\"node\" id=\"node19\">\n",
       "<title>140054427752040</title>\n",
       "<polygon fill=\"none\" points=\"930.2199,-2656.5 930.2199,-2702.5 1370.2199,-2702.5 1370.2199,-2656.5 930.2199,-2656.5\" stroke=\"#000000\"/>\n",
       "<text fill=\"#000000\" font-family=\"Times,serif\" font-size=\"14.00\" text-anchor=\"middle\" x=\"1060.2199\" y=\"-2675.8\">batch_normalization_8: BatchNormalization</text>\n",
       "<polyline fill=\"none\" points=\"1190.2199,-2656.5 1190.2199,-2702.5 \" stroke=\"#000000\"/>\n",
       "<text fill=\"#000000\" font-family=\"Times,serif\" font-size=\"14.00\" text-anchor=\"middle\" x=\"1217.7199\" y=\"-2687.3\">input:</text>\n",
       "<polyline fill=\"none\" points=\"1190.2199,-2679.5 1245.2199,-2679.5 \" stroke=\"#000000\"/>\n",
       "<text fill=\"#000000\" font-family=\"Times,serif\" font-size=\"14.00\" text-anchor=\"middle\" x=\"1217.7199\" y=\"-2664.3\">output:</text>\n",
       "<polyline fill=\"none\" points=\"1245.2199,-2656.5 1245.2199,-2702.5 \" stroke=\"#000000\"/>\n",
       "<text fill=\"#000000\" font-family=\"Times,serif\" font-size=\"14.00\" text-anchor=\"middle\" x=\"1307.7199\" y=\"-2687.3\">(None, 16, 16, 768)</text>\n",
       "<polyline fill=\"none\" points=\"1245.2199,-2679.5 1370.2199,-2679.5 \" stroke=\"#000000\"/>\n",
       "<text fill=\"#000000\" font-family=\"Times,serif\" font-size=\"14.00\" text-anchor=\"middle\" x=\"1307.7199\" y=\"-2664.3\">(None, 16, 16, 768)</text>\n",
       "</g>\n",
       "<!-- 140053051139016&#45;&gt;140054427752040 -->\n",
       "<g class=\"edge\" id=\"edge26\">\n",
       "<title>140053051139016-&gt;140054427752040</title>\n",
       "<path d=\"M1365.6061,-2739.4901C1327.4959,-2728.8755 1282.1026,-2716.2324 1242.8371,-2705.2961\" fill=\"none\" stroke=\"#000000\"/>\n",
       "<polygon fill=\"#000000\" points=\"1243.567,-2701.8662 1232.9945,-2702.5547 1241.6887,-2708.6095 1243.567,-2701.8662\" stroke=\"#000000\"/>\n",
       "</g>\n",
       "<!-- 140054423333912 -->\n",
       "<g class=\"node\" id=\"node20\">\n",
       "<title>140054423333912</title>\n",
       "<polygon fill=\"none\" points=\"564.2199,-2573.5 564.2199,-2619.5 1036.2199,-2619.5 1036.2199,-2573.5 564.2199,-2573.5\" stroke=\"#000000\"/>\n",
       "<text fill=\"#000000\" font-family=\"Times,serif\" font-size=\"14.00\" text-anchor=\"middle\" x=\"648.2199\" y=\"-2592.8\">concatenate_3: Concatenate</text>\n",
       "<polyline fill=\"none\" points=\"732.2199,-2573.5 732.2199,-2619.5 \" stroke=\"#000000\"/>\n",
       "<text fill=\"#000000\" font-family=\"Times,serif\" font-size=\"14.00\" text-anchor=\"middle\" x=\"759.7199\" y=\"-2604.3\">input:</text>\n",
       "<polyline fill=\"none\" points=\"732.2199,-2596.5 787.2199,-2596.5 \" stroke=\"#000000\"/>\n",
       "<text fill=\"#000000\" font-family=\"Times,serif\" font-size=\"14.00\" text-anchor=\"middle\" x=\"759.7199\" y=\"-2581.3\">output:</text>\n",
       "<polyline fill=\"none\" points=\"787.2199,-2573.5 787.2199,-2619.5 \" stroke=\"#000000\"/>\n",
       "<text fill=\"#000000\" font-family=\"Times,serif\" font-size=\"14.00\" text-anchor=\"middle\" x=\"911.7199\" y=\"-2604.3\">[(None, 16, 16, 768), (None, 16, 16, 768)]</text>\n",
       "<polyline fill=\"none\" points=\"787.2199,-2596.5 1036.2199,-2596.5 \" stroke=\"#000000\"/>\n",
       "<text fill=\"#000000\" font-family=\"Times,serif\" font-size=\"14.00\" text-anchor=\"middle\" x=\"911.7199\" y=\"-2581.3\">(None, 16, 16, 1536)</text>\n",
       "</g>\n",
       "<!-- 140054420766392&#45;&gt;140054423333912 -->\n",
       "<g class=\"edge\" id=\"edge27\">\n",
       "<title>140054420766392-&gt;140054423333912</title>\n",
       "<path d=\"M634.7051,-2656.4901C663.3706,-2646.1004 697.3983,-2633.7672 727.1236,-2622.9934\" fill=\"none\" stroke=\"#000000\"/>\n",
       "<polygon fill=\"#000000\" points=\"728.4024,-2626.2528 736.6113,-2619.5547 726.0171,-2619.6717 728.4024,-2626.2528\" stroke=\"#000000\"/>\n",
       "</g>\n",
       "<!-- 140054427752040&#45;&gt;140054423333912 -->\n",
       "<g class=\"edge\" id=\"edge28\">\n",
       "<title>140054427752040-&gt;140054423333912</title>\n",
       "<path d=\"M1053.1902,-2656.4901C1007.861,-2645.7406 953.7588,-2632.9107 907.2433,-2621.8798\" fill=\"none\" stroke=\"#000000\"/>\n",
       "<polygon fill=\"#000000\" points=\"907.9762,-2618.4566 897.4384,-2619.5547 906.3609,-2625.2677 907.9762,-2618.4566\" stroke=\"#000000\"/>\n",
       "</g>\n",
       "<!-- 140054423222816 -->\n",
       "<g class=\"node\" id=\"node21\">\n",
       "<title>140054423222816</title>\n",
       "<polygon fill=\"none\" points=\"629.7199,-2490.5 629.7199,-2536.5 970.7199,-2536.5 970.7199,-2490.5 629.7199,-2490.5\" stroke=\"#000000\"/>\n",
       "<text fill=\"#000000\" font-family=\"Times,serif\" font-size=\"14.00\" text-anchor=\"middle\" x=\"707.2199\" y=\"-2509.8\">activation_31: Activation</text>\n",
       "<polyline fill=\"none\" points=\"784.7199,-2490.5 784.7199,-2536.5 \" stroke=\"#000000\"/>\n",
       "<text fill=\"#000000\" font-family=\"Times,serif\" font-size=\"14.00\" text-anchor=\"middle\" x=\"812.2199\" y=\"-2521.3\">input:</text>\n",
       "<polyline fill=\"none\" points=\"784.7199,-2513.5 839.7199,-2513.5 \" stroke=\"#000000\"/>\n",
       "<text fill=\"#000000\" font-family=\"Times,serif\" font-size=\"14.00\" text-anchor=\"middle\" x=\"812.2199\" y=\"-2498.3\">output:</text>\n",
       "<polyline fill=\"none\" points=\"839.7199,-2490.5 839.7199,-2536.5 \" stroke=\"#000000\"/>\n",
       "<text fill=\"#000000\" font-family=\"Times,serif\" font-size=\"14.00\" text-anchor=\"middle\" x=\"905.2199\" y=\"-2521.3\">(None, 16, 16, 1536)</text>\n",
       "<polyline fill=\"none\" points=\"839.7199,-2513.5 970.7199,-2513.5 \" stroke=\"#000000\"/>\n",
       "<text fill=\"#000000\" font-family=\"Times,serif\" font-size=\"14.00\" text-anchor=\"middle\" x=\"905.2199\" y=\"-2498.3\">(None, 16, 16, 1536)</text>\n",
       "</g>\n",
       "<!-- 140054423333912&#45;&gt;140054423222816 -->\n",
       "<g class=\"edge\" id=\"edge29\">\n",
       "<title>140054423333912-&gt;140054423222816</title>\n",
       "<path d=\"M800.2199,-2573.3799C800.2199,-2565.1745 800.2199,-2555.7679 800.2199,-2546.8786\" fill=\"none\" stroke=\"#000000\"/>\n",
       "<polygon fill=\"#000000\" points=\"803.72,-2546.784 800.2199,-2536.784 796.72,-2546.784 803.72,-2546.784\" stroke=\"#000000\"/>\n",
       "</g>\n",
       "<!-- 140053051214312 -->\n",
       "<g class=\"node\" id=\"node22\">\n",
       "<title>140053051214312</title>\n",
       "<polygon fill=\"none\" points=\"634.2199,-2407.5 634.2199,-2453.5 966.2199,-2453.5 966.2199,-2407.5 634.2199,-2407.5\" stroke=\"#000000\"/>\n",
       "<text fill=\"#000000\" font-family=\"Times,serif\" font-size=\"14.00\" text-anchor=\"middle\" x=\"707.2199\" y=\"-2426.8\">block3_conv1: Conv2D</text>\n",
       "<polyline fill=\"none\" points=\"780.2199,-2407.5 780.2199,-2453.5 \" stroke=\"#000000\"/>\n",
       "<text fill=\"#000000\" font-family=\"Times,serif\" font-size=\"14.00\" text-anchor=\"middle\" x=\"807.7199\" y=\"-2438.3\">input:</text>\n",
       "<polyline fill=\"none\" points=\"780.2199,-2430.5 835.2199,-2430.5 \" stroke=\"#000000\"/>\n",
       "<text fill=\"#000000\" font-family=\"Times,serif\" font-size=\"14.00\" text-anchor=\"middle\" x=\"807.7199\" y=\"-2415.3\">output:</text>\n",
       "<polyline fill=\"none\" points=\"835.2199,-2407.5 835.2199,-2453.5 \" stroke=\"#000000\"/>\n",
       "<text fill=\"#000000\" font-family=\"Times,serif\" font-size=\"14.00\" text-anchor=\"middle\" x=\"900.7199\" y=\"-2438.3\">(None, 16, 16, 1536)</text>\n",
       "<polyline fill=\"none\" points=\"835.2199,-2430.5 966.2199,-2430.5 \" stroke=\"#000000\"/>\n",
       "<text fill=\"#000000\" font-family=\"Times,serif\" font-size=\"14.00\" text-anchor=\"middle\" x=\"900.7199\" y=\"-2415.3\">(None, 16, 16, 256)</text>\n",
       "</g>\n",
       "<!-- 140054423222816&#45;&gt;140053051214312 -->\n",
       "<g class=\"edge\" id=\"edge30\">\n",
       "<title>140054423222816-&gt;140053051214312</title>\n",
       "<path d=\"M800.2199,-2490.3799C800.2199,-2482.1745 800.2199,-2472.7679 800.2199,-2463.8786\" fill=\"none\" stroke=\"#000000\"/>\n",
       "<polygon fill=\"#000000\" points=\"803.72,-2463.784 800.2199,-2453.784 796.72,-2463.784 803.72,-2463.784\" stroke=\"#000000\"/>\n",
       "</g>\n",
       "<!-- 140053051214200 -->\n",
       "<g class=\"node\" id=\"node23\">\n",
       "<title>140053051214200</title>\n",
       "<polygon fill=\"none\" points=\"637.2199,-2324.5 637.2199,-2370.5 963.2199,-2370.5 963.2199,-2324.5 637.2199,-2324.5\" stroke=\"#000000\"/>\n",
       "<text fill=\"#000000\" font-family=\"Times,serif\" font-size=\"14.00\" text-anchor=\"middle\" x=\"710.2199\" y=\"-2343.8\">block3_conv2: Conv2D</text>\n",
       "<polyline fill=\"none\" points=\"783.2199,-2324.5 783.2199,-2370.5 \" stroke=\"#000000\"/>\n",
       "<text fill=\"#000000\" font-family=\"Times,serif\" font-size=\"14.00\" text-anchor=\"middle\" x=\"810.7199\" y=\"-2355.3\">input:</text>\n",
       "<polyline fill=\"none\" points=\"783.2199,-2347.5 838.2199,-2347.5 \" stroke=\"#000000\"/>\n",
       "<text fill=\"#000000\" font-family=\"Times,serif\" font-size=\"14.00\" text-anchor=\"middle\" x=\"810.7199\" y=\"-2332.3\">output:</text>\n",
       "<polyline fill=\"none\" points=\"838.2199,-2324.5 838.2199,-2370.5 \" stroke=\"#000000\"/>\n",
       "<text fill=\"#000000\" font-family=\"Times,serif\" font-size=\"14.00\" text-anchor=\"middle\" x=\"900.7199\" y=\"-2355.3\">(None, 16, 16, 256)</text>\n",
       "<polyline fill=\"none\" points=\"838.2199,-2347.5 963.2199,-2347.5 \" stroke=\"#000000\"/>\n",
       "<text fill=\"#000000\" font-family=\"Times,serif\" font-size=\"14.00\" text-anchor=\"middle\" x=\"900.7199\" y=\"-2332.3\">(None, 16, 16, 256)</text>\n",
       "</g>\n",
       "<!-- 140053051214312&#45;&gt;140053051214200 -->\n",
       "<g class=\"edge\" id=\"edge31\">\n",
       "<title>140053051214312-&gt;140053051214200</title>\n",
       "<path d=\"M800.2199,-2407.3799C800.2199,-2399.1745 800.2199,-2389.7679 800.2199,-2380.8786\" fill=\"none\" stroke=\"#000000\"/>\n",
       "<polygon fill=\"#000000\" points=\"803.72,-2380.784 800.2199,-2370.784 796.72,-2380.784 803.72,-2380.784\" stroke=\"#000000\"/>\n",
       "</g>\n",
       "<!-- 140053051212296 -->\n",
       "<g class=\"node\" id=\"node24\">\n",
       "<title>140053051212296</title>\n",
       "<polygon fill=\"none\" points=\"637.2199,-2241.5 637.2199,-2287.5 963.2199,-2287.5 963.2199,-2241.5 637.2199,-2241.5\" stroke=\"#000000\"/>\n",
       "<text fill=\"#000000\" font-family=\"Times,serif\" font-size=\"14.00\" text-anchor=\"middle\" x=\"710.2199\" y=\"-2260.8\">block3_conv3: Conv2D</text>\n",
       "<polyline fill=\"none\" points=\"783.2199,-2241.5 783.2199,-2287.5 \" stroke=\"#000000\"/>\n",
       "<text fill=\"#000000\" font-family=\"Times,serif\" font-size=\"14.00\" text-anchor=\"middle\" x=\"810.7199\" y=\"-2272.3\">input:</text>\n",
       "<polyline fill=\"none\" points=\"783.2199,-2264.5 838.2199,-2264.5 \" stroke=\"#000000\"/>\n",
       "<text fill=\"#000000\" font-family=\"Times,serif\" font-size=\"14.00\" text-anchor=\"middle\" x=\"810.7199\" y=\"-2249.3\">output:</text>\n",
       "<polyline fill=\"none\" points=\"838.2199,-2241.5 838.2199,-2287.5 \" stroke=\"#000000\"/>\n",
       "<text fill=\"#000000\" font-family=\"Times,serif\" font-size=\"14.00\" text-anchor=\"middle\" x=\"900.7199\" y=\"-2272.3\">(None, 16, 16, 256)</text>\n",
       "<polyline fill=\"none\" points=\"838.2199,-2264.5 963.2199,-2264.5 \" stroke=\"#000000\"/>\n",
       "<text fill=\"#000000\" font-family=\"Times,serif\" font-size=\"14.00\" text-anchor=\"middle\" x=\"900.7199\" y=\"-2249.3\">(None, 16, 16, 256)</text>\n",
       "</g>\n",
       "<!-- 140053051214200&#45;&gt;140053051212296 -->\n",
       "<g class=\"edge\" id=\"edge32\">\n",
       "<title>140053051214200-&gt;140053051212296</title>\n",
       "<path d=\"M800.2199,-2324.3799C800.2199,-2316.1745 800.2199,-2306.7679 800.2199,-2297.8786\" fill=\"none\" stroke=\"#000000\"/>\n",
       "<polygon fill=\"#000000\" points=\"803.72,-2297.784 800.2199,-2287.784 796.72,-2297.784 803.72,-2297.784\" stroke=\"#000000\"/>\n",
       "</g>\n",
       "<!-- 140053051220544 -->\n",
       "<g class=\"node\" id=\"node25\">\n",
       "<title>140053051220544</title>\n",
       "<polygon fill=\"none\" points=\"580.2199,-2158.5 580.2199,-2204.5 1020.2199,-2204.5 1020.2199,-2158.5 580.2199,-2158.5\" stroke=\"#000000\"/>\n",
       "<text fill=\"#000000\" font-family=\"Times,serif\" font-size=\"14.00\" text-anchor=\"middle\" x=\"710.2199\" y=\"-2177.8\">batch_normalization_9: BatchNormalization</text>\n",
       "<polyline fill=\"none\" points=\"840.2199,-2158.5 840.2199,-2204.5 \" stroke=\"#000000\"/>\n",
       "<text fill=\"#000000\" font-family=\"Times,serif\" font-size=\"14.00\" text-anchor=\"middle\" x=\"867.7199\" y=\"-2189.3\">input:</text>\n",
       "<polyline fill=\"none\" points=\"840.2199,-2181.5 895.2199,-2181.5 \" stroke=\"#000000\"/>\n",
       "<text fill=\"#000000\" font-family=\"Times,serif\" font-size=\"14.00\" text-anchor=\"middle\" x=\"867.7199\" y=\"-2166.3\">output:</text>\n",
       "<polyline fill=\"none\" points=\"895.2199,-2158.5 895.2199,-2204.5 \" stroke=\"#000000\"/>\n",
       "<text fill=\"#000000\" font-family=\"Times,serif\" font-size=\"14.00\" text-anchor=\"middle\" x=\"957.7199\" y=\"-2189.3\">(None, 16, 16, 256)</text>\n",
       "<polyline fill=\"none\" points=\"895.2199,-2181.5 1020.2199,-2181.5 \" stroke=\"#000000\"/>\n",
       "<text fill=\"#000000\" font-family=\"Times,serif\" font-size=\"14.00\" text-anchor=\"middle\" x=\"957.7199\" y=\"-2166.3\">(None, 16, 16, 256)</text>\n",
       "</g>\n",
       "<!-- 140053051212296&#45;&gt;140053051220544 -->\n",
       "<g class=\"edge\" id=\"edge33\">\n",
       "<title>140053051212296-&gt;140053051220544</title>\n",
       "<path d=\"M800.2199,-2241.3799C800.2199,-2233.1745 800.2199,-2223.7679 800.2199,-2214.8786\" fill=\"none\" stroke=\"#000000\"/>\n",
       "<polygon fill=\"#000000\" points=\"803.72,-2214.784 800.2199,-2204.784 796.72,-2214.784 803.72,-2214.784\" stroke=\"#000000\"/>\n",
       "</g>\n",
       "<!-- 140053448757320 -->\n",
       "<g class=\"node\" id=\"node26\">\n",
       "<title>140053448757320</title>\n",
       "<polygon fill=\"none\" points=\"425.2199,-2075.5 425.2199,-2121.5 907.2199,-2121.5 907.2199,-2075.5 425.2199,-2075.5\" stroke=\"#000000\"/>\n",
       "<text fill=\"#000000\" font-family=\"Times,serif\" font-size=\"14.00\" text-anchor=\"middle\" x=\"517.7199\" y=\"-2094.8\">soft_attention_3: SoftAttention</text>\n",
       "<polyline fill=\"none\" points=\"610.2199,-2075.5 610.2199,-2121.5 \" stroke=\"#000000\"/>\n",
       "<text fill=\"#000000\" font-family=\"Times,serif\" font-size=\"14.00\" text-anchor=\"middle\" x=\"637.7199\" y=\"-2106.3\">input:</text>\n",
       "<polyline fill=\"none\" points=\"610.2199,-2098.5 665.2199,-2098.5 \" stroke=\"#000000\"/>\n",
       "<text fill=\"#000000\" font-family=\"Times,serif\" font-size=\"14.00\" text-anchor=\"middle\" x=\"637.7199\" y=\"-2083.3\">output:</text>\n",
       "<polyline fill=\"none\" points=\"665.2199,-2075.5 665.2199,-2121.5 \" stroke=\"#000000\"/>\n",
       "<text fill=\"#000000\" font-family=\"Times,serif\" font-size=\"14.00\" text-anchor=\"middle\" x=\"786.2199\" y=\"-2106.3\">(None, 16, 16, 256)</text>\n",
       "<polyline fill=\"none\" points=\"665.2199,-2098.5 907.2199,-2098.5 \" stroke=\"#000000\"/>\n",
       "<text fill=\"#000000\" font-family=\"Times,serif\" font-size=\"14.00\" text-anchor=\"middle\" x=\"786.2199\" y=\"-2083.3\">[(None, 16, 16, 256), (None, 16, 16, 16)]</text>\n",
       "</g>\n",
       "<!-- 140053051220544&#45;&gt;140053448757320 -->\n",
       "<g class=\"edge\" id=\"edge34\">\n",
       "<title>140053051220544-&gt;140053448757320</title>\n",
       "<path d=\"M762.8935,-2158.3799C747.3425,-2148.7475 729.1187,-2137.4597 712.711,-2127.2967\" fill=\"none\" stroke=\"#000000\"/>\n",
       "<polygon fill=\"#000000\" points=\"714.1553,-2124.0743 703.811,-2121.784 710.4693,-2130.0252 714.1553,-2124.0743\" stroke=\"#000000\"/>\n",
       "</g>\n",
       "<!-- 140053448758664 -->\n",
       "<g class=\"node\" id=\"node27\">\n",
       "<title>140053448758664</title>\n",
       "<polygon fill=\"none\" points=\"803.2199,-1992.5 803.2199,-2038.5 1219.2199,-2038.5 1219.2199,-1992.5 803.2199,-1992.5\" stroke=\"#000000\"/>\n",
       "<text fill=\"#000000\" font-family=\"Times,serif\" font-size=\"14.00\" text-anchor=\"middle\" x=\"921.2199\" y=\"-2011.8\">block3_reduction_conv: MaxPooling2D</text>\n",
       "<polyline fill=\"none\" points=\"1039.2199,-1992.5 1039.2199,-2038.5 \" stroke=\"#000000\"/>\n",
       "<text fill=\"#000000\" font-family=\"Times,serif\" font-size=\"14.00\" text-anchor=\"middle\" x=\"1066.7199\" y=\"-2023.3\">input:</text>\n",
       "<polyline fill=\"none\" points=\"1039.2199,-2015.5 1094.2199,-2015.5 \" stroke=\"#000000\"/>\n",
       "<text fill=\"#000000\" font-family=\"Times,serif\" font-size=\"14.00\" text-anchor=\"middle\" x=\"1066.7199\" y=\"-2000.3\">output:</text>\n",
       "<polyline fill=\"none\" points=\"1094.2199,-1992.5 1094.2199,-2038.5 \" stroke=\"#000000\"/>\n",
       "<text fill=\"#000000\" font-family=\"Times,serif\" font-size=\"14.00\" text-anchor=\"middle\" x=\"1156.7199\" y=\"-2023.3\">(None, 16, 16, 256)</text>\n",
       "<polyline fill=\"none\" points=\"1094.2199,-2015.5 1219.2199,-2015.5 \" stroke=\"#000000\"/>\n",
       "<text fill=\"#000000\" font-family=\"Times,serif\" font-size=\"14.00\" text-anchor=\"middle\" x=\"1156.7199\" y=\"-2000.3\">(None, 8, 8, 256)</text>\n",
       "</g>\n",
       "<!-- 140053051220544&#45;&gt;140053448758664 -->\n",
       "<g class=\"edge\" id=\"edge35\">\n",
       "<title>140053051220544-&gt;140053448758664</title>\n",
       "<path d=\"M855.2331,-2158.4254C875.3968,-2148.6767 897.7771,-2136.2597 916.2199,-2122 944.3261,-2100.2688 970.7514,-2069.4691 988.5609,-2046.5776\" fill=\"none\" stroke=\"#000000\"/>\n",
       "<polygon fill=\"#000000\" points=\"991.4198,-2048.6009 994.7196,-2038.5331 985.8616,-2044.3457 991.4198,-2048.6009\" stroke=\"#000000\"/>\n",
       "</g>\n",
       "<!-- 140053051284784 -->\n",
       "<g class=\"node\" id=\"node28\">\n",
       "<title>140053051284784</title>\n",
       "<polygon fill=\"none\" points=\"397.7199,-1992.5 397.7199,-2038.5 784.7199,-2038.5 784.7199,-1992.5 397.7199,-1992.5\" stroke=\"#000000\"/>\n",
       "<text fill=\"#000000\" font-family=\"Times,serif\" font-size=\"14.00\" text-anchor=\"middle\" x=\"501.2199\" y=\"-2011.8\">max_pooling2d_3: MaxPooling2D</text>\n",
       "<polyline fill=\"none\" points=\"604.7199,-1992.5 604.7199,-2038.5 \" stroke=\"#000000\"/>\n",
       "<text fill=\"#000000\" font-family=\"Times,serif\" font-size=\"14.00\" text-anchor=\"middle\" x=\"632.2199\" y=\"-2023.3\">input:</text>\n",
       "<polyline fill=\"none\" points=\"604.7199,-2015.5 659.7199,-2015.5 \" stroke=\"#000000\"/>\n",
       "<text fill=\"#000000\" font-family=\"Times,serif\" font-size=\"14.00\" text-anchor=\"middle\" x=\"632.2199\" y=\"-2000.3\">output:</text>\n",
       "<polyline fill=\"none\" points=\"659.7199,-1992.5 659.7199,-2038.5 \" stroke=\"#000000\"/>\n",
       "<text fill=\"#000000\" font-family=\"Times,serif\" font-size=\"14.00\" text-anchor=\"middle\" x=\"722.2199\" y=\"-2023.3\">(None, 16, 16, 256)</text>\n",
       "<polyline fill=\"none\" points=\"659.7199,-2015.5 784.7199,-2015.5 \" stroke=\"#000000\"/>\n",
       "<text fill=\"#000000\" font-family=\"Times,serif\" font-size=\"14.00\" text-anchor=\"middle\" x=\"722.2199\" y=\"-2000.3\">(None, 8, 8, 256)</text>\n",
       "</g>\n",
       "<!-- 140053448757320&#45;&gt;140053051284784 -->\n",
       "<g class=\"edge\" id=\"edge36\">\n",
       "<title>140053448757320-&gt;140053051284784</title>\n",
       "<path d=\"M645.3283,-2075.3799C637.1885,-2066.3718 627.7404,-2055.916 619.0389,-2046.2863\" fill=\"none\" stroke=\"#000000\"/>\n",
       "<polygon fill=\"#000000\" points=\"621.5611,-2043.8571 612.2597,-2038.784 616.3673,-2048.5502 621.5611,-2043.8571\" stroke=\"#000000\"/>\n",
       "</g>\n",
       "<!-- 140053051284056 -->\n",
       "<g class=\"node\" id=\"node29\">\n",
       "<title>140053051284056</title>\n",
       "<polygon fill=\"none\" points=\"578.7199,-1909.5 578.7199,-1955.5 1023.7199,-1955.5 1023.7199,-1909.5 578.7199,-1909.5\" stroke=\"#000000\"/>\n",
       "<text fill=\"#000000\" font-family=\"Times,serif\" font-size=\"14.00\" text-anchor=\"middle\" x=\"662.7199\" y=\"-1928.8\">concatenate_4: Concatenate</text>\n",
       "<polyline fill=\"none\" points=\"746.7199,-1909.5 746.7199,-1955.5 \" stroke=\"#000000\"/>\n",
       "<text fill=\"#000000\" font-family=\"Times,serif\" font-size=\"14.00\" text-anchor=\"middle\" x=\"774.2199\" y=\"-1940.3\">input:</text>\n",
       "<polyline fill=\"none\" points=\"746.7199,-1932.5 801.7199,-1932.5 \" stroke=\"#000000\"/>\n",
       "<text fill=\"#000000\" font-family=\"Times,serif\" font-size=\"14.00\" text-anchor=\"middle\" x=\"774.2199\" y=\"-1917.3\">output:</text>\n",
       "<polyline fill=\"none\" points=\"801.7199,-1909.5 801.7199,-1955.5 \" stroke=\"#000000\"/>\n",
       "<text fill=\"#000000\" font-family=\"Times,serif\" font-size=\"14.00\" text-anchor=\"middle\" x=\"912.7199\" y=\"-1940.3\">[(None, 8, 8, 256), (None, 8, 8, 256)]</text>\n",
       "<polyline fill=\"none\" points=\"801.7199,-1932.5 1023.7199,-1932.5 \" stroke=\"#000000\"/>\n",
       "<text fill=\"#000000\" font-family=\"Times,serif\" font-size=\"14.00\" text-anchor=\"middle\" x=\"912.7199\" y=\"-1917.3\">(None, 8, 8, 512)</text>\n",
       "</g>\n",
       "<!-- 140053448758664&#45;&gt;140053051284056 -->\n",
       "<g class=\"edge\" id=\"edge37\">\n",
       "<title>140053448758664-&gt;140053051284056</title>\n",
       "<path d=\"M953.0021,-1992.4901C926.9426,-1982.1904 896.0505,-1969.9806 868.9604,-1959.2736\" fill=\"none\" stroke=\"#000000\"/>\n",
       "<polygon fill=\"#000000\" points=\"870.1375,-1955.9754 859.551,-1955.5547 867.5645,-1962.4854 870.1375,-1955.9754\" stroke=\"#000000\"/>\n",
       "</g>\n",
       "<!-- 140053051284784&#45;&gt;140053051284056 -->\n",
       "<g class=\"edge\" id=\"edge38\">\n",
       "<title>140053051284784-&gt;140053051284056</title>\n",
       "<path d=\"M649.4378,-1992.4901C675.4973,-1982.1904 706.3894,-1969.9806 733.4795,-1959.2736\" fill=\"none\" stroke=\"#000000\"/>\n",
       "<polygon fill=\"#000000\" points=\"734.8754,-1962.4854 742.8889,-1955.5547 732.3024,-1955.9754 734.8754,-1962.4854\" stroke=\"#000000\"/>\n",
       "</g>\n",
       "<!-- 140054428674592 -->\n",
       "<g class=\"node\" id=\"node30\">\n",
       "<title>140054428674592</title>\n",
       "<polygon fill=\"none\" points=\"640.7199,-1826.5 640.7199,-1872.5 961.7199,-1872.5 961.7199,-1826.5 640.7199,-1826.5\" stroke=\"#000000\"/>\n",
       "<text fill=\"#000000\" font-family=\"Times,serif\" font-size=\"14.00\" text-anchor=\"middle\" x=\"718.2199\" y=\"-1845.8\">activation_33: Activation</text>\n",
       "<polyline fill=\"none\" points=\"795.7199,-1826.5 795.7199,-1872.5 \" stroke=\"#000000\"/>\n",
       "<text fill=\"#000000\" font-family=\"Times,serif\" font-size=\"14.00\" text-anchor=\"middle\" x=\"823.2199\" y=\"-1857.3\">input:</text>\n",
       "<polyline fill=\"none\" points=\"795.7199,-1849.5 850.7199,-1849.5 \" stroke=\"#000000\"/>\n",
       "<text fill=\"#000000\" font-family=\"Times,serif\" font-size=\"14.00\" text-anchor=\"middle\" x=\"823.2199\" y=\"-1834.3\">output:</text>\n",
       "<polyline fill=\"none\" points=\"850.7199,-1826.5 850.7199,-1872.5 \" stroke=\"#000000\"/>\n",
       "<text fill=\"#000000\" font-family=\"Times,serif\" font-size=\"14.00\" text-anchor=\"middle\" x=\"906.2199\" y=\"-1857.3\">(None, 8, 8, 512)</text>\n",
       "<polyline fill=\"none\" points=\"850.7199,-1849.5 961.7199,-1849.5 \" stroke=\"#000000\"/>\n",
       "<text fill=\"#000000\" font-family=\"Times,serif\" font-size=\"14.00\" text-anchor=\"middle\" x=\"906.2199\" y=\"-1834.3\">(None, 8, 8, 512)</text>\n",
       "</g>\n",
       "<!-- 140053051284056&#45;&gt;140054428674592 -->\n",
       "<g class=\"edge\" id=\"edge39\">\n",
       "<title>140053051284056-&gt;140054428674592</title>\n",
       "<path d=\"M801.2199,-1909.3799C801.2199,-1901.1745 801.2199,-1891.7679 801.2199,-1882.8786\" fill=\"none\" stroke=\"#000000\"/>\n",
       "<polygon fill=\"#000000\" points=\"804.72,-1882.784 801.2199,-1872.784 797.72,-1882.784 804.72,-1882.784\" stroke=\"#000000\"/>\n",
       "</g>\n",
       "<!-- 140054428675936 -->\n",
       "<g class=\"node\" id=\"node31\">\n",
       "<title>140054428675936</title>\n",
       "<polygon fill=\"none\" points=\"655.7199,-1743.5 655.7199,-1789.5 946.7199,-1789.5 946.7199,-1743.5 655.7199,-1743.5\" stroke=\"#000000\"/>\n",
       "<text fill=\"#000000\" font-family=\"Times,serif\" font-size=\"14.00\" text-anchor=\"middle\" x=\"718.2199\" y=\"-1762.8\">dropout_3: Dropout</text>\n",
       "<polyline fill=\"none\" points=\"780.7199,-1743.5 780.7199,-1789.5 \" stroke=\"#000000\"/>\n",
       "<text fill=\"#000000\" font-family=\"Times,serif\" font-size=\"14.00\" text-anchor=\"middle\" x=\"808.2199\" y=\"-1774.3\">input:</text>\n",
       "<polyline fill=\"none\" points=\"780.7199,-1766.5 835.7199,-1766.5 \" stroke=\"#000000\"/>\n",
       "<text fill=\"#000000\" font-family=\"Times,serif\" font-size=\"14.00\" text-anchor=\"middle\" x=\"808.2199\" y=\"-1751.3\">output:</text>\n",
       "<polyline fill=\"none\" points=\"835.7199,-1743.5 835.7199,-1789.5 \" stroke=\"#000000\"/>\n",
       "<text fill=\"#000000\" font-family=\"Times,serif\" font-size=\"14.00\" text-anchor=\"middle\" x=\"891.2199\" y=\"-1774.3\">(None, 8, 8, 512)</text>\n",
       "<polyline fill=\"none\" points=\"835.7199,-1766.5 946.7199,-1766.5 \" stroke=\"#000000\"/>\n",
       "<text fill=\"#000000\" font-family=\"Times,serif\" font-size=\"14.00\" text-anchor=\"middle\" x=\"891.2199\" y=\"-1751.3\">(None, 8, 8, 512)</text>\n",
       "</g>\n",
       "<!-- 140054428674592&#45;&gt;140054428675936 -->\n",
       "<g class=\"edge\" id=\"edge40\">\n",
       "<title>140054428674592-&gt;140054428675936</title>\n",
       "<path d=\"M801.2199,-1826.3799C801.2199,-1818.1745 801.2199,-1808.7679 801.2199,-1799.8786\" fill=\"none\" stroke=\"#000000\"/>\n",
       "<polygon fill=\"#000000\" points=\"804.72,-1799.784 801.2199,-1789.784 797.72,-1799.784 804.72,-1799.784\" stroke=\"#000000\"/>\n",
       "</g>\n",
       "<!-- 140054414701568 -->\n",
       "<g class=\"node\" id=\"node32\">\n",
       "<title>140054414701568</title>\n",
       "<polygon fill=\"none\" points=\"645.2199,-1660.5 645.2199,-1706.5 957.2199,-1706.5 957.2199,-1660.5 645.2199,-1660.5\" stroke=\"#000000\"/>\n",
       "<text fill=\"#000000\" font-family=\"Times,serif\" font-size=\"14.00\" text-anchor=\"middle\" x=\"718.2199\" y=\"-1679.8\">block4_conv1: Conv2D</text>\n",
       "<polyline fill=\"none\" points=\"791.2199,-1660.5 791.2199,-1706.5 \" stroke=\"#000000\"/>\n",
       "<text fill=\"#000000\" font-family=\"Times,serif\" font-size=\"14.00\" text-anchor=\"middle\" x=\"818.7199\" y=\"-1691.3\">input:</text>\n",
       "<polyline fill=\"none\" points=\"791.2199,-1683.5 846.2199,-1683.5 \" stroke=\"#000000\"/>\n",
       "<text fill=\"#000000\" font-family=\"Times,serif\" font-size=\"14.00\" text-anchor=\"middle\" x=\"818.7199\" y=\"-1668.3\">output:</text>\n",
       "<polyline fill=\"none\" points=\"846.2199,-1660.5 846.2199,-1706.5 \" stroke=\"#000000\"/>\n",
       "<text fill=\"#000000\" font-family=\"Times,serif\" font-size=\"14.00\" text-anchor=\"middle\" x=\"901.7199\" y=\"-1691.3\">(None, 8, 8, 512)</text>\n",
       "<polyline fill=\"none\" points=\"846.2199,-1683.5 957.2199,-1683.5 \" stroke=\"#000000\"/>\n",
       "<text fill=\"#000000\" font-family=\"Times,serif\" font-size=\"14.00\" text-anchor=\"middle\" x=\"901.7199\" y=\"-1668.3\">(None, 8, 8, 512)</text>\n",
       "</g>\n",
       "<!-- 140054428675936&#45;&gt;140054414701568 -->\n",
       "<g class=\"edge\" id=\"edge41\">\n",
       "<title>140054428675936-&gt;140054414701568</title>\n",
       "<path d=\"M801.2199,-1743.3799C801.2199,-1735.1745 801.2199,-1725.7679 801.2199,-1716.8786\" fill=\"none\" stroke=\"#000000\"/>\n",
       "<polygon fill=\"#000000\" points=\"804.72,-1716.784 801.2199,-1706.784 797.72,-1716.784 804.72,-1716.784\" stroke=\"#000000\"/>\n",
       "</g>\n",
       "<!-- 140054414704424 -->\n",
       "<g class=\"node\" id=\"node33\">\n",
       "<title>140054414704424</title>\n",
       "<polygon fill=\"none\" points=\"645.2199,-1577.5 645.2199,-1623.5 957.2199,-1623.5 957.2199,-1577.5 645.2199,-1577.5\" stroke=\"#000000\"/>\n",
       "<text fill=\"#000000\" font-family=\"Times,serif\" font-size=\"14.00\" text-anchor=\"middle\" x=\"718.2199\" y=\"-1596.8\">block4_conv2: Conv2D</text>\n",
       "<polyline fill=\"none\" points=\"791.2199,-1577.5 791.2199,-1623.5 \" stroke=\"#000000\"/>\n",
       "<text fill=\"#000000\" font-family=\"Times,serif\" font-size=\"14.00\" text-anchor=\"middle\" x=\"818.7199\" y=\"-1608.3\">input:</text>\n",
       "<polyline fill=\"none\" points=\"791.2199,-1600.5 846.2199,-1600.5 \" stroke=\"#000000\"/>\n",
       "<text fill=\"#000000\" font-family=\"Times,serif\" font-size=\"14.00\" text-anchor=\"middle\" x=\"818.7199\" y=\"-1585.3\">output:</text>\n",
       "<polyline fill=\"none\" points=\"846.2199,-1577.5 846.2199,-1623.5 \" stroke=\"#000000\"/>\n",
       "<text fill=\"#000000\" font-family=\"Times,serif\" font-size=\"14.00\" text-anchor=\"middle\" x=\"901.7199\" y=\"-1608.3\">(None, 8, 8, 512)</text>\n",
       "<polyline fill=\"none\" points=\"846.2199,-1600.5 957.2199,-1600.5 \" stroke=\"#000000\"/>\n",
       "<text fill=\"#000000\" font-family=\"Times,serif\" font-size=\"14.00\" text-anchor=\"middle\" x=\"901.7199\" y=\"-1585.3\">(None, 8, 8, 512)</text>\n",
       "</g>\n",
       "<!-- 140054414701568&#45;&gt;140054414704424 -->\n",
       "<g class=\"edge\" id=\"edge42\">\n",
       "<title>140054414701568-&gt;140054414704424</title>\n",
       "<path d=\"M801.2199,-1660.3799C801.2199,-1652.1745 801.2199,-1642.7679 801.2199,-1633.8786\" fill=\"none\" stroke=\"#000000\"/>\n",
       "<polygon fill=\"#000000\" points=\"804.72,-1633.784 801.2199,-1623.784 797.72,-1633.784 804.72,-1633.784\" stroke=\"#000000\"/>\n",
       "</g>\n",
       "<!-- 140054414292416 -->\n",
       "<g class=\"node\" id=\"node34\">\n",
       "<title>140054414292416</title>\n",
       "<polygon fill=\"none\" points=\"645.2199,-1494.5 645.2199,-1540.5 957.2199,-1540.5 957.2199,-1494.5 645.2199,-1494.5\" stroke=\"#000000\"/>\n",
       "<text fill=\"#000000\" font-family=\"Times,serif\" font-size=\"14.00\" text-anchor=\"middle\" x=\"718.2199\" y=\"-1513.8\">block4_conv3: Conv2D</text>\n",
       "<polyline fill=\"none\" points=\"791.2199,-1494.5 791.2199,-1540.5 \" stroke=\"#000000\"/>\n",
       "<text fill=\"#000000\" font-family=\"Times,serif\" font-size=\"14.00\" text-anchor=\"middle\" x=\"818.7199\" y=\"-1525.3\">input:</text>\n",
       "<polyline fill=\"none\" points=\"791.2199,-1517.5 846.2199,-1517.5 \" stroke=\"#000000\"/>\n",
       "<text fill=\"#000000\" font-family=\"Times,serif\" font-size=\"14.00\" text-anchor=\"middle\" x=\"818.7199\" y=\"-1502.3\">output:</text>\n",
       "<polyline fill=\"none\" points=\"846.2199,-1494.5 846.2199,-1540.5 \" stroke=\"#000000\"/>\n",
       "<text fill=\"#000000\" font-family=\"Times,serif\" font-size=\"14.00\" text-anchor=\"middle\" x=\"901.7199\" y=\"-1525.3\">(None, 8, 8, 512)</text>\n",
       "<polyline fill=\"none\" points=\"846.2199,-1517.5 957.2199,-1517.5 \" stroke=\"#000000\"/>\n",
       "<text fill=\"#000000\" font-family=\"Times,serif\" font-size=\"14.00\" text-anchor=\"middle\" x=\"901.7199\" y=\"-1502.3\">(None, 8, 8, 512)</text>\n",
       "</g>\n",
       "<!-- 140054414704424&#45;&gt;140054414292416 -->\n",
       "<g class=\"edge\" id=\"edge43\">\n",
       "<title>140054414704424-&gt;140054414292416</title>\n",
       "<path d=\"M801.2199,-1577.3799C801.2199,-1569.1745 801.2199,-1559.7679 801.2199,-1550.8786\" fill=\"none\" stroke=\"#000000\"/>\n",
       "<polygon fill=\"#000000\" points=\"804.72,-1550.784 801.2199,-1540.784 797.72,-1550.784 804.72,-1550.784\" stroke=\"#000000\"/>\n",
       "</g>\n",
       "<!-- 140054414030440 -->\n",
       "<g class=\"node\" id=\"node35\">\n",
       "<title>140054414030440</title>\n",
       "<polygon fill=\"none\" points=\"585.2199,-1411.5 585.2199,-1457.5 1017.2199,-1457.5 1017.2199,-1411.5 585.2199,-1411.5\" stroke=\"#000000\"/>\n",
       "<text fill=\"#000000\" font-family=\"Times,serif\" font-size=\"14.00\" text-anchor=\"middle\" x=\"718.2199\" y=\"-1430.8\">batch_normalization_10: BatchNormalization</text>\n",
       "<polyline fill=\"none\" points=\"851.2199,-1411.5 851.2199,-1457.5 \" stroke=\"#000000\"/>\n",
       "<text fill=\"#000000\" font-family=\"Times,serif\" font-size=\"14.00\" text-anchor=\"middle\" x=\"878.7199\" y=\"-1442.3\">input:</text>\n",
       "<polyline fill=\"none\" points=\"851.2199,-1434.5 906.2199,-1434.5 \" stroke=\"#000000\"/>\n",
       "<text fill=\"#000000\" font-family=\"Times,serif\" font-size=\"14.00\" text-anchor=\"middle\" x=\"878.7199\" y=\"-1419.3\">output:</text>\n",
       "<polyline fill=\"none\" points=\"906.2199,-1411.5 906.2199,-1457.5 \" stroke=\"#000000\"/>\n",
       "<text fill=\"#000000\" font-family=\"Times,serif\" font-size=\"14.00\" text-anchor=\"middle\" x=\"961.7199\" y=\"-1442.3\">(None, 8, 8, 512)</text>\n",
       "<polyline fill=\"none\" points=\"906.2199,-1434.5 1017.2199,-1434.5 \" stroke=\"#000000\"/>\n",
       "<text fill=\"#000000\" font-family=\"Times,serif\" font-size=\"14.00\" text-anchor=\"middle\" x=\"961.7199\" y=\"-1419.3\">(None, 8, 8, 512)</text>\n",
       "</g>\n",
       "<!-- 140054414292416&#45;&gt;140054414030440 -->\n",
       "<g class=\"edge\" id=\"edge44\">\n",
       "<title>140054414292416-&gt;140054414030440</title>\n",
       "<path d=\"M801.2199,-1494.3799C801.2199,-1486.1745 801.2199,-1476.7679 801.2199,-1467.8786\" fill=\"none\" stroke=\"#000000\"/>\n",
       "<polygon fill=\"#000000\" points=\"804.72,-1467.784 801.2199,-1457.784 797.72,-1467.784 804.72,-1467.784\" stroke=\"#000000\"/>\n",
       "</g>\n",
       "<!-- 140054414134688 -->\n",
       "<g class=\"node\" id=\"node36\">\n",
       "<title>140054414134688</title>\n",
       "<polygon fill=\"none\" points=\"446.7199,-1328.5 446.7199,-1374.5 901.7199,-1374.5 901.7199,-1328.5 446.7199,-1328.5\" stroke=\"#000000\"/>\n",
       "<text fill=\"#000000\" font-family=\"Times,serif\" font-size=\"14.00\" text-anchor=\"middle\" x=\"539.2199\" y=\"-1347.8\">soft_attention_4: SoftAttention</text>\n",
       "<polyline fill=\"none\" points=\"631.7199,-1328.5 631.7199,-1374.5 \" stroke=\"#000000\"/>\n",
       "<text fill=\"#000000\" font-family=\"Times,serif\" font-size=\"14.00\" text-anchor=\"middle\" x=\"659.2199\" y=\"-1359.3\">input:</text>\n",
       "<polyline fill=\"none\" points=\"631.7199,-1351.5 686.7199,-1351.5 \" stroke=\"#000000\"/>\n",
       "<text fill=\"#000000\" font-family=\"Times,serif\" font-size=\"14.00\" text-anchor=\"middle\" x=\"659.2199\" y=\"-1336.3\">output:</text>\n",
       "<polyline fill=\"none\" points=\"686.7199,-1328.5 686.7199,-1374.5 \" stroke=\"#000000\"/>\n",
       "<text fill=\"#000000\" font-family=\"Times,serif\" font-size=\"14.00\" text-anchor=\"middle\" x=\"794.2199\" y=\"-1359.3\">(None, 8, 8, 512)</text>\n",
       "<polyline fill=\"none\" points=\"686.7199,-1351.5 901.7199,-1351.5 \" stroke=\"#000000\"/>\n",
       "<text fill=\"#000000\" font-family=\"Times,serif\" font-size=\"14.00\" text-anchor=\"middle\" x=\"794.2199\" y=\"-1336.3\">[(None, 8, 8, 512), (None, 16, 8, 8)]</text>\n",
       "</g>\n",
       "<!-- 140054414030440&#45;&gt;140054414134688 -->\n",
       "<g class=\"edge\" id=\"edge45\">\n",
       "<title>140054414030440-&gt;140054414134688</title>\n",
       "<path d=\"M765.8434,-1411.3799C751.1047,-1401.7475 733.833,-1390.4597 718.2824,-1380.2967\" fill=\"none\" stroke=\"#000000\"/>\n",
       "<polygon fill=\"#000000\" points=\"720.1329,-1377.325 709.8473,-1374.784 716.3034,-1383.1846 720.1329,-1377.325\" stroke=\"#000000\"/>\n",
       "</g>\n",
       "<!-- 140054414133736 -->\n",
       "<g class=\"node\" id=\"node37\">\n",
       "<title>140054414133736</title>\n",
       "<polygon fill=\"none\" points=\"804.2199,-1245.5 804.2199,-1291.5 1206.2199,-1291.5 1206.2199,-1245.5 804.2199,-1245.5\" stroke=\"#000000\"/>\n",
       "<text fill=\"#000000\" font-family=\"Times,serif\" font-size=\"14.00\" text-anchor=\"middle\" x=\"922.2199\" y=\"-1264.8\">block4_reduction_conv: MaxPooling2D</text>\n",
       "<polyline fill=\"none\" points=\"1040.2199,-1245.5 1040.2199,-1291.5 \" stroke=\"#000000\"/>\n",
       "<text fill=\"#000000\" font-family=\"Times,serif\" font-size=\"14.00\" text-anchor=\"middle\" x=\"1067.7199\" y=\"-1276.3\">input:</text>\n",
       "<polyline fill=\"none\" points=\"1040.2199,-1268.5 1095.2199,-1268.5 \" stroke=\"#000000\"/>\n",
       "<text fill=\"#000000\" font-family=\"Times,serif\" font-size=\"14.00\" text-anchor=\"middle\" x=\"1067.7199\" y=\"-1253.3\">output:</text>\n",
       "<polyline fill=\"none\" points=\"1095.2199,-1245.5 1095.2199,-1291.5 \" stroke=\"#000000\"/>\n",
       "<text fill=\"#000000\" font-family=\"Times,serif\" font-size=\"14.00\" text-anchor=\"middle\" x=\"1150.7199\" y=\"-1276.3\">(None, 8, 8, 512)</text>\n",
       "<polyline fill=\"none\" points=\"1095.2199,-1268.5 1206.2199,-1268.5 \" stroke=\"#000000\"/>\n",
       "<text fill=\"#000000\" font-family=\"Times,serif\" font-size=\"14.00\" text-anchor=\"middle\" x=\"1150.7199\" y=\"-1253.3\">(None, 4, 4, 512)</text>\n",
       "</g>\n",
       "<!-- 140054414030440&#45;&gt;140054414133736 -->\n",
       "<g class=\"edge\" id=\"edge46\">\n",
       "<title>140054414030440-&gt;140054414133736</title>\n",
       "<path d=\"M852.0214,-1411.3679C871.1732,-1401.4953 892.5753,-1389.0089 910.2199,-1375 937.8714,-1353.0462 964.1747,-1322.5343 982.0628,-1299.7942\" fill=\"none\" stroke=\"#000000\"/>\n",
       "<polygon fill=\"#000000\" points=\"984.9004,-1301.8464 988.2594,-1291.7981 979.3674,-1297.5585 984.9004,-1301.8464\" stroke=\"#000000\"/>\n",
       "</g>\n",
       "<!-- 140054414230528 -->\n",
       "<g class=\"node\" id=\"node38\">\n",
       "<title>140054414230528</title>\n",
       "<polygon fill=\"none\" points=\"412.7199,-1245.5 412.7199,-1291.5 785.7199,-1291.5 785.7199,-1245.5 412.7199,-1245.5\" stroke=\"#000000\"/>\n",
       "<text fill=\"#000000\" font-family=\"Times,serif\" font-size=\"14.00\" text-anchor=\"middle\" x=\"516.2199\" y=\"-1264.8\">max_pooling2d_4: MaxPooling2D</text>\n",
       "<polyline fill=\"none\" points=\"619.7199,-1245.5 619.7199,-1291.5 \" stroke=\"#000000\"/>\n",
       "<text fill=\"#000000\" font-family=\"Times,serif\" font-size=\"14.00\" text-anchor=\"middle\" x=\"647.2199\" y=\"-1276.3\">input:</text>\n",
       "<polyline fill=\"none\" points=\"619.7199,-1268.5 674.7199,-1268.5 \" stroke=\"#000000\"/>\n",
       "<text fill=\"#000000\" font-family=\"Times,serif\" font-size=\"14.00\" text-anchor=\"middle\" x=\"647.2199\" y=\"-1253.3\">output:</text>\n",
       "<polyline fill=\"none\" points=\"674.7199,-1245.5 674.7199,-1291.5 \" stroke=\"#000000\"/>\n",
       "<text fill=\"#000000\" font-family=\"Times,serif\" font-size=\"14.00\" text-anchor=\"middle\" x=\"730.2199\" y=\"-1276.3\">(None, 8, 8, 512)</text>\n",
       "<polyline fill=\"none\" points=\"674.7199,-1268.5 785.7199,-1268.5 \" stroke=\"#000000\"/>\n",
       "<text fill=\"#000000\" font-family=\"Times,serif\" font-size=\"14.00\" text-anchor=\"middle\" x=\"730.2199\" y=\"-1253.3\">(None, 4, 4, 512)</text>\n",
       "</g>\n",
       "<!-- 140054414134688&#45;&gt;140054414230528 -->\n",
       "<g class=\"edge\" id=\"edge47\">\n",
       "<title>140054414134688-&gt;140054414230528</title>\n",
       "<path d=\"M653.3283,-1328.3799C645.1885,-1319.3718 635.7404,-1308.916 627.0389,-1299.2863\" fill=\"none\" stroke=\"#000000\"/>\n",
       "<polygon fill=\"#000000\" points=\"629.5611,-1296.8571 620.2597,-1291.784 624.3673,-1301.5502 629.5611,-1296.8571\" stroke=\"#000000\"/>\n",
       "</g>\n",
       "<!-- 140054413886016 -->\n",
       "<g class=\"node\" id=\"node39\">\n",
       "<title>140054413886016</title>\n",
       "<polygon fill=\"none\" points=\"579.7199,-1162.5 579.7199,-1208.5 1024.7199,-1208.5 1024.7199,-1162.5 579.7199,-1162.5\" stroke=\"#000000\"/>\n",
       "<text fill=\"#000000\" font-family=\"Times,serif\" font-size=\"14.00\" text-anchor=\"middle\" x=\"663.7199\" y=\"-1181.8\">concatenate_5: Concatenate</text>\n",
       "<polyline fill=\"none\" points=\"747.7199,-1162.5 747.7199,-1208.5 \" stroke=\"#000000\"/>\n",
       "<text fill=\"#000000\" font-family=\"Times,serif\" font-size=\"14.00\" text-anchor=\"middle\" x=\"775.2199\" y=\"-1193.3\">input:</text>\n",
       "<polyline fill=\"none\" points=\"747.7199,-1185.5 802.7199,-1185.5 \" stroke=\"#000000\"/>\n",
       "<text fill=\"#000000\" font-family=\"Times,serif\" font-size=\"14.00\" text-anchor=\"middle\" x=\"775.2199\" y=\"-1170.3\">output:</text>\n",
       "<polyline fill=\"none\" points=\"802.7199,-1162.5 802.7199,-1208.5 \" stroke=\"#000000\"/>\n",
       "<text fill=\"#000000\" font-family=\"Times,serif\" font-size=\"14.00\" text-anchor=\"middle\" x=\"913.7199\" y=\"-1193.3\">[(None, 4, 4, 512), (None, 4, 4, 512)]</text>\n",
       "<polyline fill=\"none\" points=\"802.7199,-1185.5 1024.7199,-1185.5 \" stroke=\"#000000\"/>\n",
       "<text fill=\"#000000\" font-family=\"Times,serif\" font-size=\"14.00\" text-anchor=\"middle\" x=\"913.7199\" y=\"-1170.3\">(None, 4, 4, 1024)</text>\n",
       "</g>\n",
       "<!-- 140054414133736&#45;&gt;140054413886016 -->\n",
       "<g class=\"edge\" id=\"edge48\">\n",
       "<title>140054414133736-&gt;140054413886016</title>\n",
       "<path d=\"M948.9427,-1245.4901C923.8618,-1235.2353 894.1502,-1223.0872 868.0457,-1212.414\" fill=\"none\" stroke=\"#000000\"/>\n",
       "<polygon fill=\"#000000\" points=\"869.1875,-1209.0996 858.6067,-1208.5547 866.5382,-1215.579 869.1875,-1209.0996\" stroke=\"#000000\"/>\n",
       "</g>\n",
       "<!-- 140054414230528&#45;&gt;140054413886016 -->\n",
       "<g class=\"edge\" id=\"edge49\">\n",
       "<title>140054414230528-&gt;140054413886016</title>\n",
       "<path d=\"M655.4972,-1245.4901C680.5781,-1235.2353 710.2897,-1223.0872 736.3942,-1212.414\" fill=\"none\" stroke=\"#000000\"/>\n",
       "<polygon fill=\"#000000\" points=\"737.9016,-1215.579 745.8332,-1208.5547 735.2524,-1209.0996 737.9016,-1215.579\" stroke=\"#000000\"/>\n",
       "</g>\n",
       "<!-- 140054413798984 -->\n",
       "<g class=\"node\" id=\"node40\">\n",
       "<title>140054413798984</title>\n",
       "<polygon fill=\"none\" points=\"638.2199,-1079.5 638.2199,-1125.5 966.2199,-1125.5 966.2199,-1079.5 638.2199,-1079.5\" stroke=\"#000000\"/>\n",
       "<text fill=\"#000000\" font-family=\"Times,serif\" font-size=\"14.00\" text-anchor=\"middle\" x=\"715.7199\" y=\"-1098.8\">activation_35: Activation</text>\n",
       "<polyline fill=\"none\" points=\"793.2199,-1079.5 793.2199,-1125.5 \" stroke=\"#000000\"/>\n",
       "<text fill=\"#000000\" font-family=\"Times,serif\" font-size=\"14.00\" text-anchor=\"middle\" x=\"820.7199\" y=\"-1110.3\">input:</text>\n",
       "<polyline fill=\"none\" points=\"793.2199,-1102.5 848.2199,-1102.5 \" stroke=\"#000000\"/>\n",
       "<text fill=\"#000000\" font-family=\"Times,serif\" font-size=\"14.00\" text-anchor=\"middle\" x=\"820.7199\" y=\"-1087.3\">output:</text>\n",
       "<polyline fill=\"none\" points=\"848.2199,-1079.5 848.2199,-1125.5 \" stroke=\"#000000\"/>\n",
       "<text fill=\"#000000\" font-family=\"Times,serif\" font-size=\"14.00\" text-anchor=\"middle\" x=\"907.2199\" y=\"-1110.3\">(None, 4, 4, 1024)</text>\n",
       "<polyline fill=\"none\" points=\"848.2199,-1102.5 966.2199,-1102.5 \" stroke=\"#000000\"/>\n",
       "<text fill=\"#000000\" font-family=\"Times,serif\" font-size=\"14.00\" text-anchor=\"middle\" x=\"907.2199\" y=\"-1087.3\">(None, 4, 4, 1024)</text>\n",
       "</g>\n",
       "<!-- 140054413886016&#45;&gt;140054413798984 -->\n",
       "<g class=\"edge\" id=\"edge50\">\n",
       "<title>140054413886016-&gt;140054413798984</title>\n",
       "<path d=\"M802.2199,-1162.3799C802.2199,-1154.1745 802.2199,-1144.7679 802.2199,-1135.8786\" fill=\"none\" stroke=\"#000000\"/>\n",
       "<polygon fill=\"#000000\" points=\"805.72,-1135.784 802.2199,-1125.784 798.72,-1135.784 805.72,-1135.784\" stroke=\"#000000\"/>\n",
       "</g>\n",
       "<!-- 140054413798256 -->\n",
       "<g class=\"node\" id=\"node41\">\n",
       "<title>140054413798256</title>\n",
       "<polygon fill=\"none\" points=\"653.2199,-996.5 653.2199,-1042.5 951.2199,-1042.5 951.2199,-996.5 653.2199,-996.5\" stroke=\"#000000\"/>\n",
       "<text fill=\"#000000\" font-family=\"Times,serif\" font-size=\"14.00\" text-anchor=\"middle\" x=\"715.7199\" y=\"-1015.8\">dropout_4: Dropout</text>\n",
       "<polyline fill=\"none\" points=\"778.2199,-996.5 778.2199,-1042.5 \" stroke=\"#000000\"/>\n",
       "<text fill=\"#000000\" font-family=\"Times,serif\" font-size=\"14.00\" text-anchor=\"middle\" x=\"805.7199\" y=\"-1027.3\">input:</text>\n",
       "<polyline fill=\"none\" points=\"778.2199,-1019.5 833.2199,-1019.5 \" stroke=\"#000000\"/>\n",
       "<text fill=\"#000000\" font-family=\"Times,serif\" font-size=\"14.00\" text-anchor=\"middle\" x=\"805.7199\" y=\"-1004.3\">output:</text>\n",
       "<polyline fill=\"none\" points=\"833.2199,-996.5 833.2199,-1042.5 \" stroke=\"#000000\"/>\n",
       "<text fill=\"#000000\" font-family=\"Times,serif\" font-size=\"14.00\" text-anchor=\"middle\" x=\"892.2199\" y=\"-1027.3\">(None, 4, 4, 1024)</text>\n",
       "<polyline fill=\"none\" points=\"833.2199,-1019.5 951.2199,-1019.5 \" stroke=\"#000000\"/>\n",
       "<text fill=\"#000000\" font-family=\"Times,serif\" font-size=\"14.00\" text-anchor=\"middle\" x=\"892.2199\" y=\"-1004.3\">(None, 4, 4, 1024)</text>\n",
       "</g>\n",
       "<!-- 140054413798984&#45;&gt;140054413798256 -->\n",
       "<g class=\"edge\" id=\"edge51\">\n",
       "<title>140054413798984-&gt;140054413798256</title>\n",
       "<path d=\"M802.2199,-1079.3799C802.2199,-1071.1745 802.2199,-1061.7679 802.2199,-1052.8786\" fill=\"none\" stroke=\"#000000\"/>\n",
       "<polygon fill=\"#000000\" points=\"805.72,-1052.784 802.2199,-1042.784 798.72,-1052.784 805.72,-1052.784\" stroke=\"#000000\"/>\n",
       "</g>\n",
       "<!-- 140054412702720 -->\n",
       "<g class=\"node\" id=\"node42\">\n",
       "<title>140054412702720</title>\n",
       "<polygon fill=\"none\" points=\"642.7199,-913.5 642.7199,-959.5 961.7199,-959.5 961.7199,-913.5 642.7199,-913.5\" stroke=\"#000000\"/>\n",
       "<text fill=\"#000000\" font-family=\"Times,serif\" font-size=\"14.00\" text-anchor=\"middle\" x=\"715.7199\" y=\"-932.8\">block5_conv1: Conv2D</text>\n",
       "<polyline fill=\"none\" points=\"788.7199,-913.5 788.7199,-959.5 \" stroke=\"#000000\"/>\n",
       "<text fill=\"#000000\" font-family=\"Times,serif\" font-size=\"14.00\" text-anchor=\"middle\" x=\"816.2199\" y=\"-944.3\">input:</text>\n",
       "<polyline fill=\"none\" points=\"788.7199,-936.5 843.7199,-936.5 \" stroke=\"#000000\"/>\n",
       "<text fill=\"#000000\" font-family=\"Times,serif\" font-size=\"14.00\" text-anchor=\"middle\" x=\"816.2199\" y=\"-921.3\">output:</text>\n",
       "<polyline fill=\"none\" points=\"843.7199,-913.5 843.7199,-959.5 \" stroke=\"#000000\"/>\n",
       "<text fill=\"#000000\" font-family=\"Times,serif\" font-size=\"14.00\" text-anchor=\"middle\" x=\"902.7199\" y=\"-944.3\">(None, 4, 4, 1024)</text>\n",
       "<polyline fill=\"none\" points=\"843.7199,-936.5 961.7199,-936.5 \" stroke=\"#000000\"/>\n",
       "<text fill=\"#000000\" font-family=\"Times,serif\" font-size=\"14.00\" text-anchor=\"middle\" x=\"902.7199\" y=\"-921.3\">(None, 4, 4, 512)</text>\n",
       "</g>\n",
       "<!-- 140054413798256&#45;&gt;140054412702720 -->\n",
       "<g class=\"edge\" id=\"edge52\">\n",
       "<title>140054413798256-&gt;140054412702720</title>\n",
       "<path d=\"M802.2199,-996.3799C802.2199,-988.1745 802.2199,-978.7679 802.2199,-969.8786\" fill=\"none\" stroke=\"#000000\"/>\n",
       "<polygon fill=\"#000000\" points=\"805.72,-969.784 802.2199,-959.784 798.72,-969.784 805.72,-969.784\" stroke=\"#000000\"/>\n",
       "</g>\n",
       "<!-- 140054412705576 -->\n",
       "<g class=\"node\" id=\"node43\">\n",
       "<title>140054412705576</title>\n",
       "<polygon fill=\"none\" points=\"646.2199,-830.5 646.2199,-876.5 958.2199,-876.5 958.2199,-830.5 646.2199,-830.5\" stroke=\"#000000\"/>\n",
       "<text fill=\"#000000\" font-family=\"Times,serif\" font-size=\"14.00\" text-anchor=\"middle\" x=\"719.2199\" y=\"-849.8\">block5_conv2: Conv2D</text>\n",
       "<polyline fill=\"none\" points=\"792.2199,-830.5 792.2199,-876.5 \" stroke=\"#000000\"/>\n",
       "<text fill=\"#000000\" font-family=\"Times,serif\" font-size=\"14.00\" text-anchor=\"middle\" x=\"819.7199\" y=\"-861.3\">input:</text>\n",
       "<polyline fill=\"none\" points=\"792.2199,-853.5 847.2199,-853.5 \" stroke=\"#000000\"/>\n",
       "<text fill=\"#000000\" font-family=\"Times,serif\" font-size=\"14.00\" text-anchor=\"middle\" x=\"819.7199\" y=\"-838.3\">output:</text>\n",
       "<polyline fill=\"none\" points=\"847.2199,-830.5 847.2199,-876.5 \" stroke=\"#000000\"/>\n",
       "<text fill=\"#000000\" font-family=\"Times,serif\" font-size=\"14.00\" text-anchor=\"middle\" x=\"902.7199\" y=\"-861.3\">(None, 4, 4, 512)</text>\n",
       "<polyline fill=\"none\" points=\"847.2199,-853.5 958.2199,-853.5 \" stroke=\"#000000\"/>\n",
       "<text fill=\"#000000\" font-family=\"Times,serif\" font-size=\"14.00\" text-anchor=\"middle\" x=\"902.7199\" y=\"-838.3\">(None, 4, 4, 512)</text>\n",
       "</g>\n",
       "<!-- 140054412702720&#45;&gt;140054412705576 -->\n",
       "<g class=\"edge\" id=\"edge53\">\n",
       "<title>140054412702720-&gt;140054412705576</title>\n",
       "<path d=\"M802.2199,-913.3799C802.2199,-905.1745 802.2199,-895.7679 802.2199,-886.8786\" fill=\"none\" stroke=\"#000000\"/>\n",
       "<polygon fill=\"#000000\" points=\"805.72,-886.784 802.2199,-876.784 798.72,-886.784 805.72,-886.784\" stroke=\"#000000\"/>\n",
       "</g>\n",
       "<!-- 140054412817856 -->\n",
       "<g class=\"node\" id=\"node44\">\n",
       "<title>140054412817856</title>\n",
       "<polygon fill=\"none\" points=\"646.2199,-747.5 646.2199,-793.5 958.2199,-793.5 958.2199,-747.5 646.2199,-747.5\" stroke=\"#000000\"/>\n",
       "<text fill=\"#000000\" font-family=\"Times,serif\" font-size=\"14.00\" text-anchor=\"middle\" x=\"719.2199\" y=\"-766.8\">block5_conv3: Conv2D</text>\n",
       "<polyline fill=\"none\" points=\"792.2199,-747.5 792.2199,-793.5 \" stroke=\"#000000\"/>\n",
       "<text fill=\"#000000\" font-family=\"Times,serif\" font-size=\"14.00\" text-anchor=\"middle\" x=\"819.7199\" y=\"-778.3\">input:</text>\n",
       "<polyline fill=\"none\" points=\"792.2199,-770.5 847.2199,-770.5 \" stroke=\"#000000\"/>\n",
       "<text fill=\"#000000\" font-family=\"Times,serif\" font-size=\"14.00\" text-anchor=\"middle\" x=\"819.7199\" y=\"-755.3\">output:</text>\n",
       "<polyline fill=\"none\" points=\"847.2199,-747.5 847.2199,-793.5 \" stroke=\"#000000\"/>\n",
       "<text fill=\"#000000\" font-family=\"Times,serif\" font-size=\"14.00\" text-anchor=\"middle\" x=\"902.7199\" y=\"-778.3\">(None, 4, 4, 512)</text>\n",
       "<polyline fill=\"none\" points=\"847.2199,-770.5 958.2199,-770.5 \" stroke=\"#000000\"/>\n",
       "<text fill=\"#000000\" font-family=\"Times,serif\" font-size=\"14.00\" text-anchor=\"middle\" x=\"902.7199\" y=\"-755.3\">(None, 4, 4, 512)</text>\n",
       "</g>\n",
       "<!-- 140054412705576&#45;&gt;140054412817856 -->\n",
       "<g class=\"edge\" id=\"edge54\">\n",
       "<title>140054412705576-&gt;140054412817856</title>\n",
       "<path d=\"M802.2199,-830.3799C802.2199,-822.1745 802.2199,-812.7679 802.2199,-803.8786\" fill=\"none\" stroke=\"#000000\"/>\n",
       "<polygon fill=\"#000000\" points=\"805.72,-803.784 802.2199,-793.784 798.72,-803.784 805.72,-803.784\" stroke=\"#000000\"/>\n",
       "</g>\n",
       "<!-- 140054412559808 -->\n",
       "<g class=\"node\" id=\"node45\">\n",
       "<title>140054412559808</title>\n",
       "<polygon fill=\"none\" points=\"586.2199,-664.5 586.2199,-710.5 1018.2199,-710.5 1018.2199,-664.5 586.2199,-664.5\" stroke=\"#000000\"/>\n",
       "<text fill=\"#000000\" font-family=\"Times,serif\" font-size=\"14.00\" text-anchor=\"middle\" x=\"719.2199\" y=\"-683.8\">batch_normalization_11: BatchNormalization</text>\n",
       "<polyline fill=\"none\" points=\"852.2199,-664.5 852.2199,-710.5 \" stroke=\"#000000\"/>\n",
       "<text fill=\"#000000\" font-family=\"Times,serif\" font-size=\"14.00\" text-anchor=\"middle\" x=\"879.7199\" y=\"-695.3\">input:</text>\n",
       "<polyline fill=\"none\" points=\"852.2199,-687.5 907.2199,-687.5 \" stroke=\"#000000\"/>\n",
       "<text fill=\"#000000\" font-family=\"Times,serif\" font-size=\"14.00\" text-anchor=\"middle\" x=\"879.7199\" y=\"-672.3\">output:</text>\n",
       "<polyline fill=\"none\" points=\"907.2199,-664.5 907.2199,-710.5 \" stroke=\"#000000\"/>\n",
       "<text fill=\"#000000\" font-family=\"Times,serif\" font-size=\"14.00\" text-anchor=\"middle\" x=\"962.7199\" y=\"-695.3\">(None, 4, 4, 512)</text>\n",
       "<polyline fill=\"none\" points=\"907.2199,-687.5 1018.2199,-687.5 \" stroke=\"#000000\"/>\n",
       "<text fill=\"#000000\" font-family=\"Times,serif\" font-size=\"14.00\" text-anchor=\"middle\" x=\"962.7199\" y=\"-672.3\">(None, 4, 4, 512)</text>\n",
       "</g>\n",
       "<!-- 140054412817856&#45;&gt;140054412559808 -->\n",
       "<g class=\"edge\" id=\"edge55\">\n",
       "<title>140054412817856-&gt;140054412559808</title>\n",
       "<path d=\"M802.2199,-747.3799C802.2199,-739.1745 802.2199,-729.7679 802.2199,-720.8786\" fill=\"none\" stroke=\"#000000\"/>\n",
       "<polygon fill=\"#000000\" points=\"805.72,-720.784 802.2199,-710.784 798.72,-720.784 805.72,-720.784\" stroke=\"#000000\"/>\n",
       "</g>\n",
       "<!-- 140054412651152 -->\n",
       "<g class=\"node\" id=\"node46\">\n",
       "<title>140054412651152</title>\n",
       "<polygon fill=\"none\" points=\"447.7199,-581.5 447.7199,-627.5 902.7199,-627.5 902.7199,-581.5 447.7199,-581.5\" stroke=\"#000000\"/>\n",
       "<text fill=\"#000000\" font-family=\"Times,serif\" font-size=\"14.00\" text-anchor=\"middle\" x=\"540.2199\" y=\"-600.8\">soft_attention_5: SoftAttention</text>\n",
       "<polyline fill=\"none\" points=\"632.7199,-581.5 632.7199,-627.5 \" stroke=\"#000000\"/>\n",
       "<text fill=\"#000000\" font-family=\"Times,serif\" font-size=\"14.00\" text-anchor=\"middle\" x=\"660.2199\" y=\"-612.3\">input:</text>\n",
       "<polyline fill=\"none\" points=\"632.7199,-604.5 687.7199,-604.5 \" stroke=\"#000000\"/>\n",
       "<text fill=\"#000000\" font-family=\"Times,serif\" font-size=\"14.00\" text-anchor=\"middle\" x=\"660.2199\" y=\"-589.3\">output:</text>\n",
       "<polyline fill=\"none\" points=\"687.7199,-581.5 687.7199,-627.5 \" stroke=\"#000000\"/>\n",
       "<text fill=\"#000000\" font-family=\"Times,serif\" font-size=\"14.00\" text-anchor=\"middle\" x=\"795.2199\" y=\"-612.3\">(None, 4, 4, 512)</text>\n",
       "<polyline fill=\"none\" points=\"687.7199,-604.5 902.7199,-604.5 \" stroke=\"#000000\"/>\n",
       "<text fill=\"#000000\" font-family=\"Times,serif\" font-size=\"14.00\" text-anchor=\"middle\" x=\"795.2199\" y=\"-589.3\">[(None, 4, 4, 512), (None, 16, 4, 4)]</text>\n",
       "</g>\n",
       "<!-- 140054412559808&#45;&gt;140054412651152 -->\n",
       "<g class=\"edge\" id=\"edge56\">\n",
       "<title>140054412559808-&gt;140054412651152</title>\n",
       "<path d=\"M766.8434,-664.3799C752.1047,-654.7475 734.833,-643.4597 719.2824,-633.2967\" fill=\"none\" stroke=\"#000000\"/>\n",
       "<polygon fill=\"#000000\" points=\"721.1329,-630.325 710.8473,-627.784 717.3034,-636.1846 721.1329,-630.325\" stroke=\"#000000\"/>\n",
       "</g>\n",
       "<!-- 140054412651040 -->\n",
       "<g class=\"node\" id=\"node47\">\n",
       "<title>140054412651040</title>\n",
       "<polygon fill=\"none\" points=\"805.2199,-498.5 805.2199,-544.5 1207.2199,-544.5 1207.2199,-498.5 805.2199,-498.5\" stroke=\"#000000\"/>\n",
       "<text fill=\"#000000\" font-family=\"Times,serif\" font-size=\"14.00\" text-anchor=\"middle\" x=\"923.2199\" y=\"-517.8\">block5_reduction_conv: MaxPooling2D</text>\n",
       "<polyline fill=\"none\" points=\"1041.2199,-498.5 1041.2199,-544.5 \" stroke=\"#000000\"/>\n",
       "<text fill=\"#000000\" font-family=\"Times,serif\" font-size=\"14.00\" text-anchor=\"middle\" x=\"1068.7199\" y=\"-529.3\">input:</text>\n",
       "<polyline fill=\"none\" points=\"1041.2199,-521.5 1096.2199,-521.5 \" stroke=\"#000000\"/>\n",
       "<text fill=\"#000000\" font-family=\"Times,serif\" font-size=\"14.00\" text-anchor=\"middle\" x=\"1068.7199\" y=\"-506.3\">output:</text>\n",
       "<polyline fill=\"none\" points=\"1096.2199,-498.5 1096.2199,-544.5 \" stroke=\"#000000\"/>\n",
       "<text fill=\"#000000\" font-family=\"Times,serif\" font-size=\"14.00\" text-anchor=\"middle\" x=\"1151.7199\" y=\"-529.3\">(None, 4, 4, 512)</text>\n",
       "<polyline fill=\"none\" points=\"1096.2199,-521.5 1207.2199,-521.5 \" stroke=\"#000000\"/>\n",
       "<text fill=\"#000000\" font-family=\"Times,serif\" font-size=\"14.00\" text-anchor=\"middle\" x=\"1151.7199\" y=\"-506.3\">(None, 2, 2, 512)</text>\n",
       "</g>\n",
       "<!-- 140054412559808&#45;&gt;140054412651040 -->\n",
       "<g class=\"edge\" id=\"edge57\">\n",
       "<title>140054412559808-&gt;140054412651040</title>\n",
       "<path d=\"M853.0214,-664.3679C872.1732,-654.4953 893.5753,-642.0089 911.2199,-628 938.8714,-606.0462 965.1747,-575.5343 983.0628,-552.7942\" fill=\"none\" stroke=\"#000000\"/>\n",
       "<polygon fill=\"#000000\" points=\"985.9004,-554.8464 989.2594,-544.7981 980.3674,-550.5585 985.9004,-554.8464\" stroke=\"#000000\"/>\n",
       "</g>\n",
       "<!-- 140054412223656 -->\n",
       "<g class=\"node\" id=\"node48\">\n",
       "<title>140054412223656</title>\n",
       "<polygon fill=\"none\" points=\"413.7199,-498.5 413.7199,-544.5 786.7199,-544.5 786.7199,-498.5 413.7199,-498.5\" stroke=\"#000000\"/>\n",
       "<text fill=\"#000000\" font-family=\"Times,serif\" font-size=\"14.00\" text-anchor=\"middle\" x=\"517.2199\" y=\"-517.8\">max_pooling2d_5: MaxPooling2D</text>\n",
       "<polyline fill=\"none\" points=\"620.7199,-498.5 620.7199,-544.5 \" stroke=\"#000000\"/>\n",
       "<text fill=\"#000000\" font-family=\"Times,serif\" font-size=\"14.00\" text-anchor=\"middle\" x=\"648.2199\" y=\"-529.3\">input:</text>\n",
       "<polyline fill=\"none\" points=\"620.7199,-521.5 675.7199,-521.5 \" stroke=\"#000000\"/>\n",
       "<text fill=\"#000000\" font-family=\"Times,serif\" font-size=\"14.00\" text-anchor=\"middle\" x=\"648.2199\" y=\"-506.3\">output:</text>\n",
       "<polyline fill=\"none\" points=\"675.7199,-498.5 675.7199,-544.5 \" stroke=\"#000000\"/>\n",
       "<text fill=\"#000000\" font-family=\"Times,serif\" font-size=\"14.00\" text-anchor=\"middle\" x=\"731.2199\" y=\"-529.3\">(None, 4, 4, 512)</text>\n",
       "<polyline fill=\"none\" points=\"675.7199,-521.5 786.7199,-521.5 \" stroke=\"#000000\"/>\n",
       "<text fill=\"#000000\" font-family=\"Times,serif\" font-size=\"14.00\" text-anchor=\"middle\" x=\"731.2199\" y=\"-506.3\">(None, 2, 2, 512)</text>\n",
       "</g>\n",
       "<!-- 140054412651152&#45;&gt;140054412223656 -->\n",
       "<g class=\"edge\" id=\"edge58\">\n",
       "<title>140054412651152-&gt;140054412223656</title>\n",
       "<path d=\"M654.3283,-581.3799C646.1885,-572.3718 636.7404,-561.916 628.0389,-552.2863\" fill=\"none\" stroke=\"#000000\"/>\n",
       "<polygon fill=\"#000000\" points=\"630.5611,-549.8571 621.2597,-544.784 625.3673,-554.5502 630.5611,-549.8571\" stroke=\"#000000\"/>\n",
       "</g>\n",
       "<!-- 140054412403432 -->\n",
       "<g class=\"node\" id=\"node49\">\n",
       "<title>140054412403432</title>\n",
       "<polygon fill=\"none\" points=\"580.7199,-415.5 580.7199,-461.5 1025.7199,-461.5 1025.7199,-415.5 580.7199,-415.5\" stroke=\"#000000\"/>\n",
       "<text fill=\"#000000\" font-family=\"Times,serif\" font-size=\"14.00\" text-anchor=\"middle\" x=\"664.7199\" y=\"-434.8\">concatenate_6: Concatenate</text>\n",
       "<polyline fill=\"none\" points=\"748.7199,-415.5 748.7199,-461.5 \" stroke=\"#000000\"/>\n",
       "<text fill=\"#000000\" font-family=\"Times,serif\" font-size=\"14.00\" text-anchor=\"middle\" x=\"776.2199\" y=\"-446.3\">input:</text>\n",
       "<polyline fill=\"none\" points=\"748.7199,-438.5 803.7199,-438.5 \" stroke=\"#000000\"/>\n",
       "<text fill=\"#000000\" font-family=\"Times,serif\" font-size=\"14.00\" text-anchor=\"middle\" x=\"776.2199\" y=\"-423.3\">output:</text>\n",
       "<polyline fill=\"none\" points=\"803.7199,-415.5 803.7199,-461.5 \" stroke=\"#000000\"/>\n",
       "<text fill=\"#000000\" font-family=\"Times,serif\" font-size=\"14.00\" text-anchor=\"middle\" x=\"914.7199\" y=\"-446.3\">[(None, 2, 2, 512), (None, 2, 2, 512)]</text>\n",
       "<polyline fill=\"none\" points=\"803.7199,-438.5 1025.7199,-438.5 \" stroke=\"#000000\"/>\n",
       "<text fill=\"#000000\" font-family=\"Times,serif\" font-size=\"14.00\" text-anchor=\"middle\" x=\"914.7199\" y=\"-423.3\">(None, 2, 2, 1024)</text>\n",
       "</g>\n",
       "<!-- 140054412651040&#45;&gt;140054412403432 -->\n",
       "<g class=\"edge\" id=\"edge59\">\n",
       "<title>140054412651040-&gt;140054412403432</title>\n",
       "<path d=\"M949.9427,-498.4901C924.8618,-488.2353 895.1502,-476.0872 869.0457,-465.414\" fill=\"none\" stroke=\"#000000\"/>\n",
       "<polygon fill=\"#000000\" points=\"870.1875,-462.0996 859.6067,-461.5547 867.5382,-468.579 870.1875,-462.0996\" stroke=\"#000000\"/>\n",
       "</g>\n",
       "<!-- 140054412223656&#45;&gt;140054412403432 -->\n",
       "<g class=\"edge\" id=\"edge60\">\n",
       "<title>140054412223656-&gt;140054412403432</title>\n",
       "<path d=\"M656.4972,-498.4901C681.5781,-488.2353 711.2897,-476.0872 737.3942,-465.414\" fill=\"none\" stroke=\"#000000\"/>\n",
       "<polygon fill=\"#000000\" points=\"738.9016,-468.579 746.8332,-461.5547 736.2524,-462.0996 738.9016,-468.579\" stroke=\"#000000\"/>\n",
       "</g>\n",
       "<!-- 140054412316400 -->\n",
       "<g class=\"node\" id=\"node50\">\n",
       "<title>140054412316400</title>\n",
       "<polygon fill=\"none\" points=\"639.2199,-332.5 639.2199,-378.5 967.2199,-378.5 967.2199,-332.5 639.2199,-332.5\" stroke=\"#000000\"/>\n",
       "<text fill=\"#000000\" font-family=\"Times,serif\" font-size=\"14.00\" text-anchor=\"middle\" x=\"716.7199\" y=\"-351.8\">activation_37: Activation</text>\n",
       "<polyline fill=\"none\" points=\"794.2199,-332.5 794.2199,-378.5 \" stroke=\"#000000\"/>\n",
       "<text fill=\"#000000\" font-family=\"Times,serif\" font-size=\"14.00\" text-anchor=\"middle\" x=\"821.7199\" y=\"-363.3\">input:</text>\n",
       "<polyline fill=\"none\" points=\"794.2199,-355.5 849.2199,-355.5 \" stroke=\"#000000\"/>\n",
       "<text fill=\"#000000\" font-family=\"Times,serif\" font-size=\"14.00\" text-anchor=\"middle\" x=\"821.7199\" y=\"-340.3\">output:</text>\n",
       "<polyline fill=\"none\" points=\"849.2199,-332.5 849.2199,-378.5 \" stroke=\"#000000\"/>\n",
       "<text fill=\"#000000\" font-family=\"Times,serif\" font-size=\"14.00\" text-anchor=\"middle\" x=\"908.2199\" y=\"-363.3\">(None, 2, 2, 1024)</text>\n",
       "<polyline fill=\"none\" points=\"849.2199,-355.5 967.2199,-355.5 \" stroke=\"#000000\"/>\n",
       "<text fill=\"#000000\" font-family=\"Times,serif\" font-size=\"14.00\" text-anchor=\"middle\" x=\"908.2199\" y=\"-340.3\">(None, 2, 2, 1024)</text>\n",
       "</g>\n",
       "<!-- 140054412403432&#45;&gt;140054412316400 -->\n",
       "<g class=\"edge\" id=\"edge61\">\n",
       "<title>140054412403432-&gt;140054412316400</title>\n",
       "<path d=\"M803.2199,-415.3799C803.2199,-407.1745 803.2199,-397.7679 803.2199,-388.8786\" fill=\"none\" stroke=\"#000000\"/>\n",
       "<polygon fill=\"#000000\" points=\"806.72,-388.784 803.2199,-378.784 799.72,-388.784 806.72,-388.784\" stroke=\"#000000\"/>\n",
       "</g>\n",
       "<!-- 140054412315672 -->\n",
       "<g class=\"node\" id=\"node51\">\n",
       "<title>140054412315672</title>\n",
       "<polygon fill=\"none\" points=\"654.2199,-249.5 654.2199,-295.5 952.2199,-295.5 952.2199,-249.5 654.2199,-249.5\" stroke=\"#000000\"/>\n",
       "<text fill=\"#000000\" font-family=\"Times,serif\" font-size=\"14.00\" text-anchor=\"middle\" x=\"716.7199\" y=\"-268.8\">dropout_5: Dropout</text>\n",
       "<polyline fill=\"none\" points=\"779.2199,-249.5 779.2199,-295.5 \" stroke=\"#000000\"/>\n",
       "<text fill=\"#000000\" font-family=\"Times,serif\" font-size=\"14.00\" text-anchor=\"middle\" x=\"806.7199\" y=\"-280.3\">input:</text>\n",
       "<polyline fill=\"none\" points=\"779.2199,-272.5 834.2199,-272.5 \" stroke=\"#000000\"/>\n",
       "<text fill=\"#000000\" font-family=\"Times,serif\" font-size=\"14.00\" text-anchor=\"middle\" x=\"806.7199\" y=\"-257.3\">output:</text>\n",
       "<polyline fill=\"none\" points=\"834.2199,-249.5 834.2199,-295.5 \" stroke=\"#000000\"/>\n",
       "<text fill=\"#000000\" font-family=\"Times,serif\" font-size=\"14.00\" text-anchor=\"middle\" x=\"893.2199\" y=\"-280.3\">(None, 2, 2, 1024)</text>\n",
       "<polyline fill=\"none\" points=\"834.2199,-272.5 952.2199,-272.5 \" stroke=\"#000000\"/>\n",
       "<text fill=\"#000000\" font-family=\"Times,serif\" font-size=\"14.00\" text-anchor=\"middle\" x=\"893.2199\" y=\"-257.3\">(None, 2, 2, 1024)</text>\n",
       "</g>\n",
       "<!-- 140054412316400&#45;&gt;140054412315672 -->\n",
       "<g class=\"edge\" id=\"edge62\">\n",
       "<title>140054412316400-&gt;140054412315672</title>\n",
       "<path d=\"M803.2199,-332.3799C803.2199,-324.1745 803.2199,-314.7679 803.2199,-305.8786\" fill=\"none\" stroke=\"#000000\"/>\n",
       "<polygon fill=\"#000000\" points=\"806.72,-305.784 803.2199,-295.784 799.72,-305.784 806.72,-305.784\" stroke=\"#000000\"/>\n",
       "</g>\n",
       "<!-- 140054411229168 -->\n",
       "<g class=\"node\" id=\"node52\">\n",
       "<title>140054411229168</title>\n",
       "<polygon fill=\"none\" points=\"661.7199,-166.5 661.7199,-212.5 944.7199,-212.5 944.7199,-166.5 661.7199,-166.5\" stroke=\"#000000\"/>\n",
       "<text fill=\"#000000\" font-family=\"Times,serif\" font-size=\"14.00\" text-anchor=\"middle\" x=\"716.7199\" y=\"-185.8\">flatten_1: Flatten</text>\n",
       "<polyline fill=\"none\" points=\"771.7199,-166.5 771.7199,-212.5 \" stroke=\"#000000\"/>\n",
       "<text fill=\"#000000\" font-family=\"Times,serif\" font-size=\"14.00\" text-anchor=\"middle\" x=\"799.2199\" y=\"-197.3\">input:</text>\n",
       "<polyline fill=\"none\" points=\"771.7199,-189.5 826.7199,-189.5 \" stroke=\"#000000\"/>\n",
       "<text fill=\"#000000\" font-family=\"Times,serif\" font-size=\"14.00\" text-anchor=\"middle\" x=\"799.2199\" y=\"-174.3\">output:</text>\n",
       "<polyline fill=\"none\" points=\"826.7199,-166.5 826.7199,-212.5 \" stroke=\"#000000\"/>\n",
       "<text fill=\"#000000\" font-family=\"Times,serif\" font-size=\"14.00\" text-anchor=\"middle\" x=\"885.7199\" y=\"-197.3\">(None, 2, 2, 1024)</text>\n",
       "<polyline fill=\"none\" points=\"826.7199,-189.5 944.7199,-189.5 \" stroke=\"#000000\"/>\n",
       "<text fill=\"#000000\" font-family=\"Times,serif\" font-size=\"14.00\" text-anchor=\"middle\" x=\"885.7199\" y=\"-174.3\">(None, 4096)</text>\n",
       "</g>\n",
       "<!-- 140054412315672&#45;&gt;140054411229168 -->\n",
       "<g class=\"edge\" id=\"edge63\">\n",
       "<title>140054412315672-&gt;140054411229168</title>\n",
       "<path d=\"M803.2199,-249.3799C803.2199,-241.1745 803.2199,-231.7679 803.2199,-222.8786\" fill=\"none\" stroke=\"#000000\"/>\n",
       "<polygon fill=\"#000000\" points=\"806.72,-222.784 803.2199,-212.784 799.72,-222.784 806.72,-222.784\" stroke=\"#000000\"/>\n",
       "</g>\n",
       "<!-- 140054411229504 -->\n",
       "<g class=\"node\" id=\"node53\">\n",
       "<title>140054411229504</title>\n",
       "<polygon fill=\"none\" points=\"668.7199,-83.5 668.7199,-129.5 937.7199,-129.5 937.7199,-83.5 668.7199,-83.5\" stroke=\"#000000\"/>\n",
       "<text fill=\"#000000\" font-family=\"Times,serif\" font-size=\"14.00\" text-anchor=\"middle\" x=\"731.2199\" y=\"-102.8\">dropout_6: Dropout</text>\n",
       "<polyline fill=\"none\" points=\"793.7199,-83.5 793.7199,-129.5 \" stroke=\"#000000\"/>\n",
       "<text fill=\"#000000\" font-family=\"Times,serif\" font-size=\"14.00\" text-anchor=\"middle\" x=\"821.2199\" y=\"-114.3\">input:</text>\n",
       "<polyline fill=\"none\" points=\"793.7199,-106.5 848.7199,-106.5 \" stroke=\"#000000\"/>\n",
       "<text fill=\"#000000\" font-family=\"Times,serif\" font-size=\"14.00\" text-anchor=\"middle\" x=\"821.2199\" y=\"-91.3\">output:</text>\n",
       "<polyline fill=\"none\" points=\"848.7199,-83.5 848.7199,-129.5 \" stroke=\"#000000\"/>\n",
       "<text fill=\"#000000\" font-family=\"Times,serif\" font-size=\"14.00\" text-anchor=\"middle\" x=\"893.2199\" y=\"-114.3\">(None, 4096)</text>\n",
       "<polyline fill=\"none\" points=\"848.7199,-106.5 937.7199,-106.5 \" stroke=\"#000000\"/>\n",
       "<text fill=\"#000000\" font-family=\"Times,serif\" font-size=\"14.00\" text-anchor=\"middle\" x=\"893.2199\" y=\"-91.3\">(None, 4096)</text>\n",
       "</g>\n",
       "<!-- 140054411229168&#45;&gt;140054411229504 -->\n",
       "<g class=\"edge\" id=\"edge64\">\n",
       "<title>140054411229168-&gt;140054411229504</title>\n",
       "<path d=\"M803.2199,-166.3799C803.2199,-158.1745 803.2199,-148.7679 803.2199,-139.8786\" fill=\"none\" stroke=\"#000000\"/>\n",
       "<polygon fill=\"#000000\" points=\"806.72,-139.784 803.2199,-129.784 799.72,-139.784 806.72,-139.784\" stroke=\"#000000\"/>\n",
       "</g>\n",
       "<!-- 140054411347280 -->\n",
       "<g class=\"node\" id=\"node54\">\n",
       "<title>140054411347280</title>\n",
       "<polygon fill=\"none\" points=\"698.7199,-.5 698.7199,-46.5 907.7199,-46.5 907.7199,-.5 698.7199,-.5\" stroke=\"#000000\"/>\n",
       "<text fill=\"#000000\" font-family=\"Times,serif\" font-size=\"14.00\" text-anchor=\"middle\" x=\"731.2199\" y=\"-19.8\">y: Dense</text>\n",
       "<polyline fill=\"none\" points=\"763.7199,-.5 763.7199,-46.5 \" stroke=\"#000000\"/>\n",
       "<text fill=\"#000000\" font-family=\"Times,serif\" font-size=\"14.00\" text-anchor=\"middle\" x=\"791.2199\" y=\"-31.3\">input:</text>\n",
       "<polyline fill=\"none\" points=\"763.7199,-23.5 818.7199,-23.5 \" stroke=\"#000000\"/>\n",
       "<text fill=\"#000000\" font-family=\"Times,serif\" font-size=\"14.00\" text-anchor=\"middle\" x=\"791.2199\" y=\"-8.3\">output:</text>\n",
       "<polyline fill=\"none\" points=\"818.7199,-.5 818.7199,-46.5 \" stroke=\"#000000\"/>\n",
       "<text fill=\"#000000\" font-family=\"Times,serif\" font-size=\"14.00\" text-anchor=\"middle\" x=\"863.2199\" y=\"-31.3\">(None, 4096)</text>\n",
       "<polyline fill=\"none\" points=\"818.7199,-23.5 907.7199,-23.5 \" stroke=\"#000000\"/>\n",
       "<text fill=\"#000000\" font-family=\"Times,serif\" font-size=\"14.00\" text-anchor=\"middle\" x=\"863.2199\" y=\"-8.3\">(None, 2)</text>\n",
       "</g>\n",
       "<!-- 140054411229504&#45;&gt;140054411347280 -->\n",
       "<g class=\"edge\" id=\"edge65\">\n",
       "<title>140054411229504-&gt;140054411347280</title>\n",
       "<path d=\"M803.2199,-83.3799C803.2199,-75.1745 803.2199,-65.7679 803.2199,-56.8786\" fill=\"none\" stroke=\"#000000\"/>\n",
       "<polygon fill=\"#000000\" points=\"806.72,-56.784 803.2199,-46.784 799.72,-56.784 806.72,-56.784\" stroke=\"#000000\"/>\n",
       "</g>\n",
       "</g>\n",
       "</svg>"
      ],
      "text/plain": [
       "<IPython.core.display.SVG object>"
      ]
     },
     "execution_count": 13,
     "metadata": {},
     "output_type": "execute_result"
    }
   ],
   "source": [
    "SVG(model_to_dot(model,show_layer_names=True, show_shapes=True).create(prog='dot', format='svg'))"
   ]
  },
  {
   "cell_type": "markdown",
   "metadata": {},
   "source": [
    "## load data for a given fold"
   ]
  },
  {
   "cell_type": "code",
   "execution_count": 14,
   "metadata": {
    "scrolled": true
   },
   "outputs": [
    {
     "data": {
      "text/plain": [
       "(504207, 4)"
      ]
     },
     "metadata": {},
     "output_type": "display_data"
    },
    {
     "data": {
      "text/plain": [
       "(30459, 4)"
      ]
     },
     "metadata": {},
     "output_type": "display_data"
    }
   ],
   "source": [
    "nb_fold = 1\n",
    "df_tr = pd.read_csv('dataset/kfold_csvs/fold_{0}/train.csv'.format(nb_fold))\n",
    "df_v = pd.read_csv('dataset/kfold_csvs/fold_{0}/val.csv'.format(nb_fold))\n",
    "display(df_tr.shape,df_v.shape)\n",
    "df_tr = df_tr.sort_values(by=['left','right','label']).reset_index()\n",
    "df_v = df_v.sort_values(by=['left','right','label']).reset_index()"
   ]
  },
  {
   "cell_type": "markdown",
   "metadata": {},
   "source": [
    "## visualize the ground truth data"
   ]
  },
  {
   "cell_type": "code",
   "execution_count": 15,
   "metadata": {
    "scrolled": true
   },
   "outputs": [
    {
     "data": {
      "text/html": [
       "<div>\n",
       "<style scoped>\n",
       "    .dataframe tbody tr th:only-of-type {\n",
       "        vertical-align: middle;\n",
       "    }\n",
       "\n",
       "    .dataframe tbody tr th {\n",
       "        vertical-align: top;\n",
       "    }\n",
       "\n",
       "    .dataframe thead th {\n",
       "        text-align: right;\n",
       "    }\n",
       "</style>\n",
       "<table border=\"1\" class=\"dataframe\">\n",
       "  <thead>\n",
       "    <tr style=\"text-align: right;\">\n",
       "      <th></th>\n",
       "      <th>index</th>\n",
       "      <th>Unnamed: 0</th>\n",
       "      <th>left</th>\n",
       "      <th>right</th>\n",
       "      <th>label</th>\n",
       "    </tr>\n",
       "  </thead>\n",
       "  <tbody>\n",
       "    <tr>\n",
       "      <th>0</th>\n",
       "      <td>44642</td>\n",
       "      <td>44642</td>\n",
       "      <td>0001a_num1.png</td>\n",
       "      <td>0001b_num3.png</td>\n",
       "      <td>1</td>\n",
       "    </tr>\n",
       "    <tr>\n",
       "      <th>1</th>\n",
       "      <td>67417</td>\n",
       "      <td>67417</td>\n",
       "      <td>0001a_num1.png</td>\n",
       "      <td>0017b_num1.png</td>\n",
       "      <td>0</td>\n",
       "    </tr>\n",
       "    <tr>\n",
       "      <th>2</th>\n",
       "      <td>230576</td>\n",
       "      <td>230576</td>\n",
       "      <td>0001a_num1.png</td>\n",
       "      <td>0118c_num3.png</td>\n",
       "      <td>0</td>\n",
       "    </tr>\n",
       "    <tr>\n",
       "      <th>3</th>\n",
       "      <td>439468</td>\n",
       "      <td>439468</td>\n",
       "      <td>0001a_num1.png</td>\n",
       "      <td>0202c_num1.png</td>\n",
       "      <td>0</td>\n",
       "    </tr>\n",
       "    <tr>\n",
       "      <th>4</th>\n",
       "      <td>154608</td>\n",
       "      <td>154608</td>\n",
       "      <td>0001a_num1.png</td>\n",
       "      <td>0343a_num3.png</td>\n",
       "      <td>0</td>\n",
       "    </tr>\n",
       "  </tbody>\n",
       "</table>\n",
       "</div>"
      ],
      "text/plain": [
       "    index  Unnamed: 0            left           right  label\n",
       "0   44642       44642  0001a_num1.png  0001b_num3.png      1\n",
       "1   67417       67417  0001a_num1.png  0017b_num1.png      0\n",
       "2  230576      230576  0001a_num1.png  0118c_num3.png      0\n",
       "3  439468      439468  0001a_num1.png  0202c_num1.png      0\n",
       "4  154608      154608  0001a_num1.png  0343a_num3.png      0"
      ]
     },
     "metadata": {},
     "output_type": "display_data"
    }
   ],
   "source": [
    "display(df_tr.head())"
   ]
  },
  {
   "cell_type": "code",
   "execution_count": 16,
   "metadata": {},
   "outputs": [
    {
     "data": {
      "text/plain": [
       "(504207, 5)"
      ]
     },
     "execution_count": 16,
     "metadata": {},
     "output_type": "execute_result"
    }
   ],
   "source": [
    "df_tr.shape"
   ]
  },
  {
   "cell_type": "code",
   "execution_count": 17,
   "metadata": {},
   "outputs": [
    {
     "data": {
      "text/html": [
       "<div>\n",
       "<style scoped>\n",
       "    .dataframe tbody tr th:only-of-type {\n",
       "        vertical-align: middle;\n",
       "    }\n",
       "\n",
       "    .dataframe tbody tr th {\n",
       "        vertical-align: top;\n",
       "    }\n",
       "\n",
       "    .dataframe thead th {\n",
       "        text-align: right;\n",
       "    }\n",
       "</style>\n",
       "<table border=\"1\" class=\"dataframe\">\n",
       "  <thead>\n",
       "    <tr style=\"text-align: right;\">\n",
       "      <th></th>\n",
       "      <th>index</th>\n",
       "      <th>Unnamed: 0</th>\n",
       "      <th>left</th>\n",
       "      <th>right</th>\n",
       "      <th>label</th>\n",
       "    </tr>\n",
       "  </thead>\n",
       "  <tbody>\n",
       "    <tr>\n",
       "      <th>0</th>\n",
       "      <td>1028</td>\n",
       "      <td>1028</td>\n",
       "      <td>0001b_num1.png</td>\n",
       "      <td>0001c_num1.png</td>\n",
       "      <td>1</td>\n",
       "    </tr>\n",
       "    <tr>\n",
       "      <th>1</th>\n",
       "      <td>17828</td>\n",
       "      <td>17828</td>\n",
       "      <td>0001b_num1.png</td>\n",
       "      <td>0050c_num2.png</td>\n",
       "      <td>0</td>\n",
       "    </tr>\n",
       "    <tr>\n",
       "      <th>2</th>\n",
       "      <td>29813</td>\n",
       "      <td>29813</td>\n",
       "      <td>0001b_num1.png</td>\n",
       "      <td>0182a_num2.png</td>\n",
       "      <td>0</td>\n",
       "    </tr>\n",
       "    <tr>\n",
       "      <th>3</th>\n",
       "      <td>4741</td>\n",
       "      <td>4741</td>\n",
       "      <td>0001b_num1.png</td>\n",
       "      <td>0373a_num3.png</td>\n",
       "      <td>0</td>\n",
       "    </tr>\n",
       "    <tr>\n",
       "      <th>4</th>\n",
       "      <td>22296</td>\n",
       "      <td>22296</td>\n",
       "      <td>0001b_num1.png</td>\n",
       "      <td>0539a_num2.png</td>\n",
       "      <td>0</td>\n",
       "    </tr>\n",
       "  </tbody>\n",
       "</table>\n",
       "</div>"
      ],
      "text/plain": [
       "   index  Unnamed: 0            left           right  label\n",
       "0   1028        1028  0001b_num1.png  0001c_num1.png      1\n",
       "1  17828       17828  0001b_num1.png  0050c_num2.png      0\n",
       "2  29813       29813  0001b_num1.png  0182a_num2.png      0\n",
       "3   4741        4741  0001b_num1.png  0373a_num3.png      0\n",
       "4  22296       22296  0001b_num1.png  0539a_num2.png      0"
      ]
     },
     "metadata": {},
     "output_type": "display_data"
    },
    {
     "data": {
      "text/plain": [
       "(None, (30459, 5))"
      ]
     },
     "execution_count": 17,
     "metadata": {},
     "output_type": "execute_result"
    }
   ],
   "source": [
    "display(df_v.head()),df_v.shape"
   ]
  },
  {
   "cell_type": "markdown",
   "metadata": {},
   "source": [
    "## function for datagenerator"
   ]
  },
  {
   "cell_type": "code",
   "execution_count": 18,
   "metadata": {},
   "outputs": [],
   "source": [
    "def datagen(ds,batch_size=128,seq=False,mode=''):\n",
    "    counter=0\n",
    "    l,r,y,names = [],[],[],[]\n",
    "    idx = 0\n",
    "    while True:\n",
    "        i=np.random.randint(0,ds.shape[0],1)[0]\n",
    "        if seq:\n",
    "            i = idx\n",
    "            idx+=1\n",
    "        d = ds.iloc[i]        \n",
    "        l.append((255.0 - np.expand_dims(cv2.imread(os.path.join(ds_folder,d.left),0),axis=-1))/255.0)\n",
    "        r.append((255.0 - np.expand_dims(cv2.imread(os.path.join(ds_folder,d.right),0),axis=-1))/255.0)\n",
    "#         im = np.concatenate((l,r),axis=-1)  \n",
    "        names.append([d.left,d.right])\n",
    "        y.append(d.label)\n",
    "        counter+=1\n",
    "        \n",
    "        r.append((255.0 - np.expand_dims(cv2.imread(os.path.join(ds_folder,d.left),0),axis=-1))/255.0)\n",
    "        l.append((255.0 - np.expand_dims(cv2.imread(os.path.join(ds_folder,d.right),0),axis=-1))/255.0)\n",
    "#         im = np.concatenate((l,r),axis=-1)  \n",
    "        names.append([d.right,d.left])\n",
    "        y.append(d.label)\n",
    "        \n",
    "        counter+=1\n",
    "#         print('---',mode,'---',names)\n",
    "        if ds.shape[0]==idx:\n",
    "            idx = 0\n",
    "        if counter==batch_size:\n",
    "            inputs={\n",
    "                'l':np.array(l)\n",
    "                ,'r':np.array(r)\n",
    "            }\n",
    "            outputs={\n",
    "#                 'y':np.array(y)\n",
    "                'y':np_utils.to_categorical(y,num_classes=2)\n",
    "                ,'names':np.array(names)\n",
    "            }\n",
    "            yield inputs,outputs\n",
    "            counter=0\n",
    "            l,r,y,names = [],[],[],[]"
   ]
  },
  {
   "cell_type": "markdown",
   "metadata": {},
   "source": [
    "## function for categorical focal loss"
   ]
  },
  {
   "cell_type": "code",
   "execution_count": 19,
   "metadata": {},
   "outputs": [],
   "source": [
    "def categorical_focal_loss(gamma=2.0, alpha=0.75):\n",
    "    def focal_loss(y_true, y_pred):\n",
    "        epsilon = K.epsilon()\n",
    "        y_pred = K.clip(y_pred, epsilon, 1.0-epsilon)\n",
    "        cross_entropy = -y_true*K.log(y_pred)\n",
    "#         print(K.get_value(y_true))\n",
    "        alpha_factor = K.ones_like(y_true)*alpha\n",
    "        a_t = K.tf.where(K.equal(K.argmax(y_true),1),alpha_factor, 1.0-alpha_factor)\n",
    "#         print(a)\n",
    "        weight = a_t * y_true * K.pow((1-y_pred), gamma)\n",
    "        loss = weight * cross_entropy\n",
    "        loss = K.sum(loss, axis=1)\n",
    "        return loss    \n",
    "    return focal_loss"
   ]
  },
  {
   "cell_type": "code",
   "execution_count": null,
   "metadata": {},
   "outputs": [],
   "source": []
  },
  {
   "cell_type": "code",
   "execution_count": 20,
   "metadata": {},
   "outputs": [],
   "source": [
    "tr_batch_size=192\n",
    "val_batch_size=512\n",
    "tr_gen = datagen(df_tr,batch_size=tr_batch_size,seq=True,mode='train')\n",
    "v_gen = datagen(df_v,batch_size=val_batch_size,seq=True,mode='val')"
   ]
  },
  {
   "cell_type": "code",
   "execution_count": 21,
   "metadata": {},
   "outputs": [],
   "source": [
    "inputs,outputs=next(tr_gen)\n",
    "l,r,y,n = inputs['l'],inputs['r'],outputs['y'],outputs['names']"
   ]
  },
  {
   "cell_type": "code",
   "execution_count": 22,
   "metadata": {},
   "outputs": [
    {
     "data": {
      "text/plain": [
       "((192, 64, 64, 1), (192, 64, 64, 1), (192, 2), (192, 2))"
      ]
     },
     "execution_count": 22,
     "metadata": {},
     "output_type": "execute_result"
    }
   ],
   "source": [
    "l.shape,r.shape,y.shape,n.shape"
   ]
  },
  {
   "cell_type": "code",
   "execution_count": 23,
   "metadata": {
    "scrolled": true
   },
   "outputs": [
    {
     "data": {
      "image/png": "[encoded data removed]",
      "text/plain": [
       "<Figure size 432x288 with 1 Axes>"
      ]
     },
     "metadata": {
      "needs_background": "light"
     },
     "output_type": "display_data"
    },
    {
     "data": {
      "image/png": "[encoded data removed]",
      "text/plain": [
       "<Figure size 432x288 with 1 Axes>"
      ]
     },
     "metadata": {
      "needs_background": "light"
     },
     "output_type": "display_data"
    },
    {
     "data": {
      "image/png": "[encoded data removed]",
      "text/plain": [
       "<Figure size 432x288 with 1 Axes>"
      ]
     },
     "metadata": {
      "needs_background": "light"
     },
     "output_type": "display_data"
    },
    {
     "data": {
      "image/png": "[encoded data removed]",
      "text/plain": [
       "<Figure size 432x288 with 1 Axes>"
      ]
     },
     "metadata": {
      "needs_background": "light"
     },
     "output_type": "display_data"
    }
   ],
   "source": [
    "plt.imshow(l[0][:,:,0])\n",
    "plt.show()\n",
    "plt.imshow(r[0][:,:,0])\n",
    "plt.show()\n",
    "plt.imshow(l[1][:,:,0])\n",
    "plt.show()\n",
    "plt.imshow(r[1][:,:,0])\n",
    "plt.show()"
   ]
  },
  {
   "cell_type": "code",
   "execution_count": 24,
   "metadata": {},
   "outputs": [],
   "source": [
    "p_l = feat_ext_A.predict(l)"
   ]
  },
  {
   "cell_type": "code",
   "execution_count": 25,
   "metadata": {},
   "outputs": [
    {
     "data": {
      "text/plain": [
       "(192, 16, 16, 256)"
      ]
     },
     "execution_count": 25,
     "metadata": {},
     "output_type": "execute_result"
    }
   ],
   "source": [
    "p_l.shape"
   ]
  },
  {
   "cell_type": "code",
   "execution_count": 26,
   "metadata": {},
   "outputs": [
    {
     "data": {
      "text/plain": [
       "array([0.        , 1.60943791])"
      ]
     },
     "execution_count": 26,
     "metadata": {},
     "output_type": "execute_result"
    }
   ],
   "source": [
    "y_true = np.array([0.0,1.0])\n",
    "y_pred = np.array([0.8,0.2])\n",
    "cce = -y_true*np.log(y_pred)\n",
    "cce"
   ]
  },
  {
   "cell_type": "code",
   "execution_count": 27,
   "metadata": {},
   "outputs": [
    {
     "name": "stdout",
     "output_type": "stream",
     "text": [
      "0.95\n"
     ]
    },
    {
     "data": {
      "text/plain": [
       "array([0.   , 0.608])"
      ]
     },
     "execution_count": 27,
     "metadata": {},
     "output_type": "execute_result"
    }
   ],
   "source": [
    "alpha = 0.95 if np.argmax(y_true)==1 else 1 - 0.95\n",
    "print(alpha)\n",
    "gamma = 2.0\n",
    "w = alpha * y_true * np.power((1.0-y_pred), gamma)\n",
    "w"
   ]
  },
  {
   "cell_type": "code",
   "execution_count": 28,
   "metadata": {},
   "outputs": [
    {
     "data": {
      "text/plain": [
       "array([0.        , 0.97853825])"
      ]
     },
     "execution_count": 28,
     "metadata": {},
     "output_type": "execute_result"
    }
   ],
   "source": [
    "w*cce"
   ]
  },
  {
   "cell_type": "code",
   "execution_count": 29,
   "metadata": {
    "scrolled": true
   },
   "outputs": [
    {
     "data": {
      "text/plain": [
       "<matplotlib.image.AxesImage at 0x7f60ed7e0d30>"
      ]
     },
     "execution_count": 29,
     "metadata": {},
     "output_type": "execute_result"
    },
    {
     "data": {
      "image/png": "[encoded data removed]",
      "text/plain": [
       "<Figure size 432x288 with 1 Axes>"
      ]
     },
     "metadata": {
      "needs_background": "light"
     },
     "output_type": "display_data"
    }
   ],
   "source": [
    "plt.imshow(p_l[0][:,:,92])"
   ]
  },
  {
   "cell_type": "markdown",
   "metadata": {},
   "source": [
    "# Experiments\n",
    "- images are input as concatenated\n",
    "    - equal class weights\n",
    "    - unbalanced class weights\n",
    "    - focal loss\n",
    "- images are input as siamese inputs\n",
    "    - equal class weights\n",
    "    - unbalanced class weights\n",
    "    - focal loss"
   ]
  },
  {
   "cell_type": "markdown",
   "metadata": {},
   "source": [
    "## This is for unbalanced class"
   ]
  },
  {
   "cell_type": "code",
   "execution_count": 30,
   "metadata": {
    "scrolled": true
   },
   "outputs": [
    {
     "data": {
      "text/plain": [
       "{0: 0.55, 1: 5.5}"
      ]
     },
     "execution_count": 30,
     "metadata": {},
     "output_type": "execute_result"
    }
   ],
   "source": [
    "total = df_tr.shape[0]\n",
    "pos = df_tr[df_tr['label']==1].shape[0]\n",
    "neg = total-pos\n",
    "weight_for_0 = (1 / neg)*(total)/2.0 \n",
    "weight_for_1 = (1 / pos)*(total)/2.0\n",
    "class_weight = {0: weight_for_0, 1: weight_for_1}\n",
    "class_weight"
   ]
  },
  {
   "cell_type": "code",
   "execution_count": 31,
   "metadata": {},
   "outputs": [],
   "source": [
    "model.compile(loss=categorical_focal_loss(),optimizer=Adam(lr=0.0001,decay=1e-06),metrics=['accuracy'])"
   ]
  },
  {
   "cell_type": "code",
   "execution_count": 32,
   "metadata": {
    "scrolled": true
   },
   "outputs": [
    {
     "name": "stdout",
     "output_type": "stream",
     "text": [
      "__________________________________________________________________________________________________\n",
      "Layer (type)                    Output Shape         Param #     Connected to                     \n",
      "==================================================================================================\n",
      "l (InputLayer)                  (None, 64, 64, 1)    0                                            \n",
      "__________________________________________________________________________________________________\n",
      "r (InputLayer)                  (None, 64, 64, 1)    0                                            \n",
      "__________________________________________________________________________________________________\n",
      "lambda_1 (Lambda)               (None, 64, 64, 1)    0           l[0][0]                          \n",
      "__________________________________________________________________________________________________\n",
      "lambda_2 (Lambda)               (None, 64, 64, 1)    0           r[0][0]                          \n",
      "__________________________________________________________________________________________________\n",
      "lambda_3 (Lambda)               (None, 64, 64, 1)    0           l[0][0]                          \n",
      "__________________________________________________________________________________________________\n",
      "lambda_4 (Lambda)               (None, 64, 64, 1)    0           r[0][0]                          \n",
      "__________________________________________________________________________________________________\n",
      "lambda_5 (Lambda)               (None, 64, 64, 1)    0           l[0][0]                          \n",
      "__________________________________________________________________________________________________\n",
      "lambda_6 (Lambda)               (None, 64, 64, 1)    0           r[0][0]                          \n",
      "__________________________________________________________________________________________________\n",
      "model_1 (Model)                 (None, 2)            22924054    lambda_1[0][0]                   \n",
      "                                                                 lambda_2[0][0]                   \n",
      "                                                                 lambda_3[0][0]                   \n",
      "                                                                 lambda_4[0][0]                   \n",
      "                                                                 lambda_5[0][0]                   \n",
      "                                                                 lambda_6[0][0]                   \n",
      "__________________________________________________________________________________________________\n",
      "y (Concatenate)                 (None, 2)            0           model_1[1][0]                    \n",
      "                                                                 model_1[2][0]                    \n",
      "                                                                 model_1[3][0]                    \n",
      "==================================================================================================\n",
      "Total params: 22,924,054\n",
      "Trainable params: 22,915,990\n",
      "Non-trainable params: 8,064\n",
      "__________________________________________________________________________________________________\n"
     ]
    }
   ],
   "source": [
    "parallel_model=multi_gpu_model(model, gpus=3)\n",
    "parallel_model.compile(loss=categorical_focal_loss(),optimizer=Adam(lr=0.0001,decay=1e-06),metrics=['accuracy']) #For multi GPU\n",
    "parallel_model.summary()"
   ]
  },
  {
   "cell_type": "code",
   "execution_count": 33,
   "metadata": {},
   "outputs": [],
   "source": [
    "class MultiGPUCheckpoint(ModelCheckpoint):    \n",
    "    def set_model(self, model):\n",
    "        if isinstance(model.layers[-2], Model):\n",
    "            self.model = model.layers[-2]\n",
    "        else:\n",
    "            self.model = model"
   ]
  },
  {
   "cell_type": "code",
   "execution_count": 34,
   "metadata": {},
   "outputs": [],
   "source": [
    "if not os.path.exists('./checkpoints/ICFHR2020/'):\n",
    "    os.mkdir('./checkpoints/ICFHR2020/')\n",
    "mc=MultiGPUCheckpoint(filepath='./checkpoints/ICFHR2020/cross_attention_residual_vgg_fold_{0}.h5'.format(nb_fold),monitor='val_loss',period=1,save_best_only=True,save_weights_only=True,mode='auto',verbose=1)\n",
    "es=EarlyStopping(patience=20,monitor='val_loss',min_delta=0.0001,mode='auto')\n",
    "tb=TensorBoard(log_dir=\"./runs/cross_attention_residual_vgg_fold_{0}_{1}\".format(nb_fold,time()))"
   ]
  },
  {
   "cell_type": "markdown",
   "metadata": {},
   "source": [
    "## load weights if any"
   ]
  },
  {
   "cell_type": "code",
   "execution_count": null,
   "metadata": {},
   "outputs": [],
   "source": [
    "model.load_weights('./checkpoints/ICFHR2020/cross_attention_residual_vgg_fold_1.h5',by_name=True,skip_mismatch=True)"
   ]
  },
  {
   "cell_type": "code",
   "execution_count": null,
   "metadata": {},
   "outputs": [],
   "source": []
  },
  {
   "cell_type": "markdown",
   "metadata": {},
   "source": [
    "## start the training"
   ]
  },
  {
   "cell_type": "code",
   "execution_count": 36,
   "metadata": {
    "scrolled": true
   },
   "outputs": [
    {
     "name": "stdout",
     "output_type": "stream",
     "text": [
      "Epoch 48/100\n",
      "5254/5254 [==============================] - 1489s 283ms/step - loss: 0.0416 - acc: 0.9007 - val_loss: 0.0306 - val_acc: 0.8948\n",
      "\n",
      "Epoch 00048: val_loss improved from inf to 0.03057, saving model to ./checkpoints/ICFHR2020/cross_attention_residual_vgg_fold_1.h5\n",
      "Epoch 49/100\n",
      "5254/5254 [==============================] - 1438s 274ms/step - loss: 0.0269 - acc: 0.9126 - val_loss: 0.0249 - val_acc: 0.8967\n",
      "\n",
      "Epoch 00049: val_loss improved from 0.03057 to 0.02494, saving model to ./checkpoints/ICFHR2020/cross_attention_residual_vgg_fold_1.h5\n",
      "Epoch 50/100\n",
      "5254/5254 [==============================] - 1436s 273ms/step - loss: 0.0225 - acc: 0.9238 - val_loss: 0.0182 - val_acc: 0.9491\n",
      "\n",
      "Epoch 00050: val_loss improved from 0.02494 to 0.01822, saving model to ./checkpoints/ICFHR2020/cross_attention_residual_vgg_fold_1.h5\n",
      "Epoch 51/100\n",
      "5254/5254 [==============================] - 1440s 274ms/step - loss: 0.0200 - acc: 0.9320 - val_loss: 0.0181 - val_acc: 0.9564\n",
      "\n",
      "Epoch 00051: val_loss improved from 0.01822 to 0.01812, saving model to ./checkpoints/ICFHR2020/cross_attention_residual_vgg_fold_1.h5\n",
      "Epoch 52/100\n",
      "5254/5254 [==============================] - 1438s 274ms/step - loss: 0.0183 - acc: 0.9377 - val_loss: 0.0164 - val_acc: 0.9582\n",
      "\n",
      "Epoch 00052: val_loss improved from 0.01812 to 0.01639, saving model to ./checkpoints/ICFHR2020/cross_attention_residual_vgg_fold_1.h5\n",
      "Epoch 53/100\n",
      "5254/5254 [==============================] - 1437s 273ms/step - loss: 0.0171 - acc: 0.9412 - val_loss: 0.0159 - val_acc: 0.9516\n",
      "\n",
      "Epoch 00053: val_loss improved from 0.01639 to 0.01589, saving model to ./checkpoints/ICFHR2020/cross_attention_residual_vgg_fold_1.h5\n",
      "Epoch 54/100\n",
      "5254/5254 [==============================] - 1435s 273ms/step - loss: 0.0159 - acc: 0.9453 - val_loss: 0.0150 - val_acc: 0.9522\n",
      "\n",
      "Epoch 00054: val_loss improved from 0.01589 to 0.01498, saving model to ./checkpoints/ICFHR2020/cross_attention_residual_vgg_fold_1.h5\n",
      "Epoch 55/100\n",
      "5254/5254 [==============================] - 1433s 273ms/step - loss: 0.0153 - acc: 0.9465 - val_loss: 0.0148 - val_acc: 0.9458\n",
      "\n",
      "Epoch 00055: val_loss improved from 0.01498 to 0.01482, saving model to ./checkpoints/ICFHR2020/cross_attention_residual_vgg_fold_1.h5\n",
      "Epoch 56/100\n",
      "5254/5254 [==============================] - 1435s 273ms/step - loss: 0.0146 - acc: 0.9485 - val_loss: 0.0150 - val_acc: 0.9567\n",
      "\n",
      "Epoch 00056: val_loss did not improve from 0.01482\n",
      "Epoch 57/100\n",
      "5254/5254 [==============================] - 1434s 273ms/step - loss: 0.0138 - acc: 0.9503 - val_loss: 0.0146 - val_acc: 0.9392\n",
      "\n",
      "Epoch 00057: val_loss improved from 0.01482 to 0.01461, saving model to ./checkpoints/ICFHR2020/cross_attention_residual_vgg_fold_1.h5\n",
      "Epoch 58/100\n",
      "5254/5254 [==============================] - 1438s 274ms/step - loss: 0.0130 - acc: 0.9521 - val_loss: 0.0143 - val_acc: 0.9548\n",
      "\n",
      "Epoch 00058: val_loss improved from 0.01461 to 0.01425, saving model to ./checkpoints/ICFHR2020/cross_attention_residual_vgg_fold_1.h5\n",
      "Epoch 59/100\n",
      "5254/5254 [==============================] - 1440s 274ms/step - loss: 0.0124 - acc: 0.9538 - val_loss: 0.0180 - val_acc: 0.8994\n",
      "\n",
      "Epoch 00059: val_loss did not improve from 0.01425\n",
      "Epoch 60/100\n",
      "5254/5254 [==============================] - 1438s 274ms/step - loss: 0.0127 - acc: 0.9546 - val_loss: 0.0173 - val_acc: 0.9382\n",
      "\n",
      "Epoch 00060: val_loss did not improve from 0.01425\n",
      "Epoch 61/100\n",
      "5254/5254 [==============================] - 1434s 273ms/step - loss: 0.0121 - acc: 0.9549 - val_loss: 0.0146 - val_acc: 0.9462\n",
      "\n",
      "Epoch 00061: val_loss did not improve from 0.01425\n",
      "Epoch 62/100\n",
      "5254/5254 [==============================] - 1438s 274ms/step - loss: 0.0114 - acc: 0.9571 - val_loss: 0.0151 - val_acc: 0.9394\n",
      "\n",
      "Epoch 00062: val_loss did not improve from 0.01425\n",
      "Epoch 63/100\n",
      "5254/5254 [==============================] - 1435s 273ms/step - loss: 0.0108 - acc: 0.9588 - val_loss: 0.0152 - val_acc: 0.9308\n",
      "\n",
      "Epoch 00063: val_loss did not improve from 0.01425\n",
      "Epoch 64/100\n",
      "5254/5254 [==============================] - 1434s 273ms/step - loss: 0.0100 - acc: 0.9611 - val_loss: 0.0144 - val_acc: 0.9501\n",
      "\n",
      "Epoch 00064: val_loss did not improve from 0.01425\n",
      "Epoch 65/100\n",
      "5254/5254 [==============================] - 1435s 273ms/step - loss: 0.0098 - acc: 0.9619 - val_loss: 0.0162 - val_acc: 0.9269\n",
      "\n",
      "Epoch 00065: val_loss did not improve from 0.01425\n",
      "Epoch 66/100\n",
      "5254/5254 [==============================] - 1437s 273ms/step - loss: 0.0091 - acc: 0.9641 - val_loss: 0.0162 - val_acc: 0.9245\n",
      "\n",
      "Epoch 00066: val_loss did not improve from 0.01425\n",
      "Epoch 67/100\n",
      "5254/5254 [==============================] - 1437s 274ms/step - loss: 0.0088 - acc: 0.9649 - val_loss: 0.0157 - val_acc: 0.9393\n",
      "\n",
      "Epoch 00067: val_loss did not improve from 0.01425\n",
      "Epoch 68/100\n",
      "5254/5254 [==============================] - 1437s 274ms/step - loss: 0.0085 - acc: 0.9659 - val_loss: 0.0156 - val_acc: 0.9468\n",
      "\n",
      "Epoch 00068: val_loss did not improve from 0.01425\n",
      "Epoch 69/100\n",
      "5254/5254 [==============================] - 1436s 273ms/step - loss: 0.0078 - acc: 0.9675 - val_loss: 0.0152 - val_acc: 0.9486\n",
      "\n",
      "Epoch 00069: val_loss did not improve from 0.01425\n",
      "Epoch 70/100\n",
      "5254/5254 [==============================] - 1434s 273ms/step - loss: 0.0076 - acc: 0.9691 - val_loss: 0.0152 - val_acc: 0.9462\n",
      "\n",
      "Epoch 00070: val_loss did not improve from 0.01425\n",
      "Epoch 71/100\n",
      "5254/5254 [==============================] - 1435s 273ms/step - loss: 0.0073 - acc: 0.9702 - val_loss: 0.0197 - val_acc: 0.9636\n",
      "\n",
      "Epoch 00071: val_loss did not improve from 0.01425\n",
      "Epoch 72/100\n",
      "5254/5254 [==============================] - 1437s 273ms/step - loss: 0.0069 - acc: 0.9719 - val_loss: 0.0193 - val_acc: 0.9643\n",
      "\n",
      "Epoch 00072: val_loss did not improve from 0.01425\n",
      "Epoch 73/100\n",
      "5254/5254 [==============================] - 1439s 274ms/step - loss: 0.0067 - acc: 0.9724 - val_loss: 0.0203 - val_acc: 0.9569\n",
      "\n",
      "Epoch 00073: val_loss did not improve from 0.01425\n",
      "Epoch 74/100\n",
      "5254/5254 [==============================] - 1440s 274ms/step - loss: 0.0063 - acc: 0.9739 - val_loss: 0.0199 - val_acc: 0.9603\n",
      "\n",
      "Epoch 00074: val_loss did not improve from 0.01425\n",
      "Epoch 75/100\n",
      "5254/5254 [==============================] - 1439s 274ms/step - loss: 0.0061 - acc: 0.9748 - val_loss: 0.0216 - val_acc: 0.9658\n",
      "\n",
      "Epoch 00075: val_loss did not improve from 0.01425\n",
      "Epoch 76/100\n",
      "5254/5254 [==============================] - 1437s 274ms/step - loss: 0.0059 - acc: 0.9759 - val_loss: 0.0192 - val_acc: 0.9630\n",
      "\n",
      "Epoch 00076: val_loss did not improve from 0.01425\n",
      "Epoch 77/100\n",
      "5254/5254 [==============================] - 1435s 273ms/step - loss: 0.0057 - acc: 0.9763 - val_loss: 0.0264 - val_acc: 0.9665\n",
      "\n",
      "Epoch 00077: val_loss did not improve from 0.01425\n",
      "Epoch 78/100\n",
      "5254/5254 [==============================] - 1437s 273ms/step - loss: 0.0055 - acc: 0.9777 - val_loss: 0.0212 - val_acc: 0.9622\n",
      "\n",
      "Epoch 00078: val_loss did not improve from 0.01425\n"
     ]
    }
   ],
   "source": [
    "Epochs=100\n",
    "h=parallel_model.fit_generator(tr_gen,initial_epoch=47,callbacks=[mc,es,tb],epochs=Epochs,steps_per_epoch=2*((df_tr.shape[0]//tr_batch_size)+1)\n",
    "                      ,validation_data=v_gen, validation_steps=2*60, verbose=1)\n",
    "                               #,class_weight=class_weight)"
   ]
  },
  {
   "cell_type": "markdown",
   "metadata": {},
   "source": [
    "# Evaluation"
   ]
  },
  {
   "cell_type": "code",
   "execution_count": 66,
   "metadata": {},
   "outputs": [],
   "source": [
    "model.load_weights('./checkpoints/ICFHR2020/cross_attention_residual_vgg_fold_1.h5')"
   ]
  },
  {
   "cell_type": "code",
   "execution_count": 115,
   "metadata": {},
   "outputs": [],
   "source": [
    "v_gen = datagen(df_v,batch_size=256,seq=True)\n",
    "inputs,outputs=next(v_gen)\n",
    "test_x,test_y = inputs,outputs['y']"
   ]
  },
  {
   "cell_type": "markdown",
   "metadata": {},
   "source": [
    "## Make post processing models to visualize attention maps"
   ]
  },
  {
   "cell_type": "code",
   "execution_count": 116,
   "metadata": {},
   "outputs": [],
   "source": [
    "soft_attention_1 = Model(feat_ext_A.inputs,feat_ext_A.get_layer('soft_attention_1').output)\n",
    "feats_sa1,maps_sa1 = soft_attention_1.predict(test_x['l'])\n",
    "soft_attention_2 = Model(feat_ext_A.inputs,feat_ext_A.get_layer('soft_attention_2').output)\n",
    "feats_sa2,maps_sa2 = soft_attention_2.predict(test_x['l'])\n",
    "soft_attention_3 = Model(model.inputs,model.get_layer('soft_attention_3').output)\n",
    "feats_sa3,maps_sa3 = soft_attention_3.predict(test_x)\n",
    "soft_attention_4 = Model(model.inputs,model.get_layer('soft_attention_4').output)\n",
    "feats_sa4,maps_sa4 = soft_attention_4.predict(test_x) \n",
    "soft_attention_5 = Model(model.inputs,model.get_layer('soft_attention_5').output)\n",
    "feats_sa5,maps_sa5 = soft_attention_5.predict(test_x)\n",
    "\n",
    "\n",
    "\n",
    "\n",
    "ca_l2r_comb_model = Model(model.inputs,model.get_layer('ca_l2r_comb').output)\n",
    "f_ca_l2r_comb,l2r_g1,l2r_g2 = ca_l2r_comb_model.predict(test_x)\n",
    "\n",
    "ca_r2l_comb_model = Model(model.inputs,model.get_layer('ca_r2l_comb').output)\n",
    "f_ca_r2l_comb,r2l_g1,r2l_g2 = ca_r2l_comb_model.predict(test_x)\n",
    "\n",
    "ca_l2r_1_model = Model(model.inputs,model.get_layer('ca_l2r_1').output)\n",
    "f_ca_l2r_1,maps_l2r_1 = ca_l2r_1_model.predict(test_x)\n",
    "\n",
    "ca_l2r_2_model = Model(model.inputs,model.get_layer('ca_l2r_2').output)\n",
    "f_ca_l2r_2,maps_l2r_2 = ca_l2r_2_model.predict(test_x)\n",
    "\n",
    "ca_r2l_1_model = Model(model.inputs,model.get_layer('ca_r2l_1').output)\n",
    "f_ca_r2l_1,maps_r2l_1 = ca_r2l_1_model.predict(test_x)\n",
    "\n",
    "ca_r2l_2_model = Model(model.inputs,model.get_layer('ca_r2l_2').output)\n",
    "f_ca_r2l_2,maps_r2l_2 = ca_r2l_2_model.predict(test_x)"
   ]
  },
  {
   "cell_type": "markdown",
   "metadata": {},
   "source": [
    "## check how much importance is being given to attention by the model"
   ]
  },
  {
   "cell_type": "code",
   "execution_count": 117,
   "metadata": {
    "scrolled": true
   },
   "outputs": [
    {
     "data": {
      "text/plain": [
       "(array([1.3860778, 1.3860778, 1.3860778, 1.3860778, 1.3860778, 1.3860778],\n",
       "       dtype=float32),\n",
       " array([0.38252318, 0.38252318, 0.38252318, 0.38252318, 0.38252318,\n",
       "        0.38252318], dtype=float32),\n",
       " array([1.3346896, 1.3346896, 1.3346896, 1.3346896, 1.3346896, 1.3346896],\n",
       "       dtype=float32),\n",
       " array([0.26378164, 0.26378164, 0.26378164, 0.26378164, 0.26378164,\n",
       "        0.26378164], dtype=float32))"
      ]
     },
     "execution_count": 117,
     "metadata": {},
     "output_type": "execute_result"
    }
   ],
   "source": [
    "l2r_g1[image_idx],l2r_g2[image_idx],r2l_g1[image_idx],r2l_g2[image_idx]"
   ]
  },
  {
   "cell_type": "markdown",
   "metadata": {},
   "source": [
    "## combine the left maps and right maps respectively"
   ]
  },
  {
   "cell_type": "code",
   "execution_count": 118,
   "metadata": {},
   "outputs": [
    {
     "data": {
      "text/plain": [
       "(256, 256, 256)"
      ]
     },
     "execution_count": 118,
     "metadata": {},
     "output_type": "execute_result"
    }
   ],
   "source": [
    "mapl  = maps_l2r_1+maps_l2r_2\n",
    "mapl.shape\n",
    "mapr  = maps_r2l_1+maps_r2l_2\n",
    "mapr.shape"
   ]
  },
  {
   "cell_type": "code",
   "execution_count": 119,
   "metadata": {},
   "outputs": [
    {
     "data": {
      "text/plain": [
       "((256, 16, 16, 256), (256, 16, 16, 16), (256, 16, 16, 256), (256, 256, 256))"
      ]
     },
     "execution_count": 119,
     "metadata": {},
     "output_type": "execute_result"
    }
   ],
   "source": [
    "feats_sa3.shape,maps_sa3.shape, f_ca_l2r_1.shape,maps_l2r_1.shape"
   ]
  },
  {
   "cell_type": "code",
   "execution_count": 128,
   "metadata": {},
   "outputs": [
    {
     "name": "stdout",
     "output_type": "stream",
     "text": [
      "['0002c_num4.png' '0002a_num3.png']\n"
     ]
    }
   ],
   "source": [
    "image_index = 23\n",
    "print(outputs['names'][image_index])"
   ]
  },
  {
   "cell_type": "code",
   "execution_count": 129,
   "metadata": {},
   "outputs": [],
   "source": [
    "preds = model.predict(test_x)"
   ]
  },
  {
   "cell_type": "code",
   "execution_count": 130,
   "metadata": {},
   "outputs": [
    {
     "data": {
      "text/plain": [
       "array([0.13047461, 0.8695254 ], dtype=float32)"
      ]
     },
     "execution_count": 130,
     "metadata": {},
     "output_type": "execute_result"
    }
   ],
   "source": [
    "preds[image_index]"
   ]
  },
  {
   "cell_type": "markdown",
   "metadata": {},
   "source": [
    "## Get important pixels to query"
   ]
  },
  {
   "cell_type": "code",
   "execution_count": 131,
   "metadata": {},
   "outputs": [],
   "source": [
    "resized_left_img = cv2.resize(test_x['l'][image_index],(16,16),cv2.INTER_CUBIC)\n",
    "resized_right_img = cv2.resize(test_x['r'][image_index],(16,16),cv2.INTER_CUBIC)"
   ]
  },
  {
   "cell_type": "code",
   "execution_count": 132,
   "metadata": {
    "scrolled": true
   },
   "outputs": [
    {
     "data": {
      "image/png": "[encoded data removed]",
      "text/plain": [
       "<Figure size 432x288 with 1 Axes>"
      ]
     },
     "metadata": {
      "needs_background": "light"
     },
     "output_type": "display_data"
    },
    {
     "data": {
      "image/png": "[encoded data removed]",
      "text/plain": [
       "<Figure size 432x288 with 1 Axes>"
      ]
     },
     "metadata": {
      "needs_background": "light"
     },
     "output_type": "display_data"
    }
   ],
   "source": [
    "plt.imshow(resized_left_img)\n",
    "plt.show()\n",
    "plt.imshow(resized_right_img)\n",
    "plt.show()"
   ]
  },
  {
   "cell_type": "code",
   "execution_count": 133,
   "metadata": {},
   "outputs": [],
   "source": [
    "def getRowCol(point):\n",
    "    row = point//16\n",
    "    col = point%16\n",
    "    return row,col"
   ]
  },
  {
   "cell_type": "code",
   "execution_count": 134,
   "metadata": {},
   "outputs": [],
   "source": [
    "# right_pixel_num = (row*16)+col\n",
    "# print('right_pixel_num:',right_pixel_num)\n",
    "# max_idx,max_val=0,0\n",
    "# matches_dict={} #keys = left_pixels\n",
    "# prev = -1\n",
    "# for i in range(maps_r2l_2[image_index].shape[0]):\n",
    "#     argmax=np.argmax(maps_r2l_2[image_index][i])\n",
    "# #     print(np.around(maps_r2l_1[image_index][i],2))\n",
    "#     prob=maps_r2l_2[image_index][i][argmax]\n",
    "#     if argmax not in matches_dict.keys():\n",
    "#         matches_dict[argmax] = [i]\n",
    "#     else:\n",
    "#         matches_dict[argmax].append(i)\n",
    "#     if prob>=max_val:\n",
    "#         max_val=prob\n",
    "#         max_idx=i\n",
    "#     print('right pxl {0} --> left pxl {1} : conf {2:4f}, max_idx : {3}, max_val : {4}'.format(i,argmax,prob,max_idx,max_val))"
   ]
  },
  {
   "cell_type": "markdown",
   "metadata": {},
   "source": [
    "# Visualize Cross Attention"
   ]
  },
  {
   "cell_type": "code",
   "execution_count": 136,
   "metadata": {
    "scrolled": true
   },
   "outputs": [
    {
     "name": "stdout",
     "output_type": "stream",
     "text": [
      "# of query pixels (useful pixels from right image): 45\n",
      "matched left_points: 5\n"
     ]
    },
    {
     "data": {
      "image/png": "[encoded data removed]",
      "text/plain": [
       "<Figure size 432x9720 with 90 Axes>"
      ]
     },
     "metadata": {
      "needs_background": "light"
     },
     "output_type": "display_data"
    }
   ],
   "source": [
    "'''\n",
    "To visualize a right image query pixel (query image) 'q_pix' \n",
    "that matches with k pixels of left image (key image)\n",
    "- chose map_r2l_<x>\n",
    "- select a row 'r' in it.\n",
    "- reshap to 16x16 and resize to 64x64.\n",
    "- apply as mask on left image.\n",
    "'''\n",
    "\n",
    "shape = (16,16)\n",
    "right_useful_pixels = []\n",
    "for i in range(len(resized_right_img)):\n",
    "    for j in range(len(resized_right_img)):\n",
    "        if resized_right_img[i][j] > 0:\n",
    "            right_useful_pixels.append([i,j])\n",
    "            \n",
    "left_useful_pixels = []\n",
    "for i in range(len(resized_left_img)):\n",
    "    for j in range(len(resized_left_img)):\n",
    "        if resized_left_img[i][j] > 0:\n",
    "            left_useful_pixels.append([i,j])\n",
    "            \n",
    "print('# of query pixels (useful pixels from right image):',len(right_useful_pixels))\n",
    "f, axarr = plt.subplots(nrows=len(right_useful_pixels),ncols=2,figsize=(6,3*len(right_useful_pixels)))\n",
    "\n",
    "counter=0\n",
    "left_points = 0\n",
    "for i,j in right_useful_pixels:# no transparent/black pixels\n",
    "#     print(i,j)\n",
    "    pixel_num = (i*16)+j\n",
    "#     print('pixel_num:',pixel_num)\n",
    "    argmax=np.argmax(mapl[image_index][pixel_num])\n",
    "    prob=mapl[image_index][pixel_num][argmax]\n",
    "#     print('argmax:',argmax)\n",
    "    row,col = getRowCol(argmax)\n",
    "#     print([row,col])\n",
    "    if [row,col] in left_useful_pixels:\n",
    "        left_points += 1\n",
    "        left_useful_pixels.remove([row,col])\n",
    "    \n",
    "    key_point = np.zeros((16,16))\n",
    "    key_point[i][j] = 1.0\n",
    "    resized_key_point = cv2.resize(key_point,(64,64),cv2.INTER_CUBIC)\n",
    "    axarr[counter,0].imshow(resized_key_point,cmap='gray')\n",
    "    axarr[counter,0].imshow(np.squeeze(test_x['r'][image_index],-1),alpha=0.3,cmap='gray')\n",
    "    \n",
    "    axarr[counter,1].imshow(cv2.resize(mapl[image_index][pixel_num].reshape(shape),(64,64),interpolation=cv2.INTER_CUBIC),cmap='gray')\n",
    "    axarr[counter,1].imshow(np.squeeze(test_x['l'][image_index],-1),alpha=0.3,cmap='gray')\n",
    "    axarr[counter,0].set_title('right pxl:{0},{1}'.format(i,j))\n",
    "    axarr[counter,1].set_title('left pxl:{0},{1}, prob:{2:.4f}'.format(row,col,prob))\n",
    "    axarr[counter,0].axis('off')\n",
    "    axarr[counter,1].axis('off')\n",
    "    counter+=1\n",
    "    \n",
    "print('matched left_points:',left_points)"
   ]
  },
  {
   "cell_type": "markdown",
   "metadata": {},
   "source": [
    "## See all CA maps"
   ]
  },
  {
   "cell_type": "code",
   "execution_count": 90,
   "metadata": {
    "scrolled": true
   },
   "outputs": [
    {
     "data": {
      "image/png": "[encoded data removed]",
      "text/plain": [
       "<Figure size 432x288 with 1 Axes>"
      ]
     },
     "metadata": {
      "needs_background": "light"
     },
     "output_type": "display_data"
    },
    {
     "data": {
      "image/png": "[encoded data removed]",
      "text/plain": [
       "<Figure size 432x288 with 1 Axes>"
      ]
     },
     "metadata": {
      "needs_background": "light"
     },
     "output_type": "display_data"
    },
    {
     "data": {
      "image/png": "[encoded data removed]",
      "text/plain": [
       "<Figure size 432x288 with 1 Axes>"
      ]
     },
     "metadata": {
      "needs_background": "light"
     },
     "output_type": "display_data"
    },
    {
     "data": {
      "image/png": "[encoded data removed]",
      "text/plain": [
       "<Figure size 432x288 with 1 Axes>"
      ]
     },
     "metadata": {
      "needs_background": "light"
     },
     "output_type": "display_data"
    }
   ],
   "source": [
    "plt.imshow(maps_l2r_1[image_index],cmap='jet')\n",
    "plt.show()\n",
    "plt.imshow(maps_l2r_2[image_index],cmap='jet')\n",
    "plt.show()\n",
    "plt.imshow(maps_r2l_1[image_index],cmap='jet')\n",
    "plt.show()\n",
    "plt.imshow(maps_r2l_2[image_index],cmap='jet')\n",
    "plt.show()"
   ]
  },
  {
   "cell_type": "code",
   "execution_count": 91,
   "metadata": {
    "scrolled": true
   },
   "outputs": [
    {
     "name": "stdout",
     "output_type": "stream",
     "text": [
      "-----**********visualize SA1 maps************-----\n"
     ]
    },
    {
     "data": {
      "image/png": "[encoded data removed]",
      "text/plain": [
       "<Figure size 432x288 with 1 Axes>"
      ]
     },
     "metadata": {
      "needs_background": "light"
     },
     "output_type": "display_data"
    },
    {
     "name": "stdout",
     "output_type": "stream",
     "text": [
      "================================\n"
     ]
    },
    {
     "data": {
      "image/png": "[encoded data removed]",
      "text/plain": [
       "<Figure size 432x288 with 1 Axes>"
      ]
     },
     "metadata": {
      "needs_background": "light"
     },
     "output_type": "display_data"
    },
    {
     "name": "stdout",
     "output_type": "stream",
     "text": [
      "-----**********visualize SA2 maps************-----\n"
     ]
    },
    {
     "data": {
      "image/png": "[encoded data removed]",
      "text/plain": [
       "<Figure size 432x288 with 1 Axes>"
      ]
     },
     "metadata": {
      "needs_background": "light"
     },
     "output_type": "display_data"
    },
    {
     "name": "stdout",
     "output_type": "stream",
     "text": [
      "================================\n"
     ]
    },
    {
     "data": {
      "image/png": "[encoded data removed]",
      "text/plain": [
       "<Figure size 432x288 with 1 Axes>"
      ]
     },
     "metadata": {
      "needs_background": "light"
     },
     "output_type": "display_data"
    },
    {
     "name": "stdout",
     "output_type": "stream",
     "text": [
      "-----**********visualize SA3 maps************-----\n"
     ]
    },
    {
     "data": {
      "image/png": "[encoded data removed]",
      "text/plain": [
       "<Figure size 432x288 with 1 Axes>"
      ]
     },
     "metadata": {
      "needs_background": "light"
     },
     "output_type": "display_data"
    },
    {
     "name": "stdout",
     "output_type": "stream",
     "text": [
      "================================\n"
     ]
    },
    {
     "data": {
      "image/png": "[encoded data removed]",
      "text/plain": [
       "<Figure size 432x288 with 1 Axes>"
      ]
     },
     "metadata": {
      "needs_background": "light"
     },
     "output_type": "display_data"
    },
    {
     "name": "stdout",
     "output_type": "stream",
     "text": [
      "-----**********visualize SA4 maps************-----\n"
     ]
    },
    {
     "data": {
      "image/png": "[encoded data removed]",
      "text/plain": [
       "<Figure size 432x288 with 1 Axes>"
      ]
     },
     "metadata": {
      "needs_background": "light"
     },
     "output_type": "display_data"
    },
    {
     "name": "stdout",
     "output_type": "stream",
     "text": [
      "================================\n"
     ]
    },
    {
     "data": {
      "image/png": "[encoded data removed]",
      "text/plain": [
       "<Figure size 432x288 with 1 Axes>"
      ]
     },
     "metadata": {
      "needs_background": "light"
     },
     "output_type": "display_data"
    },
    {
     "name": "stdout",
     "output_type": "stream",
     "text": [
      "-----**********visualize SA5 maps************-----\n"
     ]
    },
    {
     "data": {
      "image/png": "[encoded data removed]",
      "text/plain": [
       "<Figure size 432x288 with 1 Axes>"
      ]
     },
     "metadata": {
      "needs_background": "light"
     },
     "output_type": "display_data"
    },
    {
     "name": "stdout",
     "output_type": "stream",
     "text": [
      "================================\n"
     ]
    },
    {
     "data": {
      "image/png": "[encoded data removed]",
      "text/plain": [
       "<Figure size 432x288 with 1 Axes>"
      ]
     },
     "metadata": {
      "needs_background": "light"
     },
     "output_type": "display_data"
    }
   ],
   "source": [
    "print('-----**********visualize SA1 maps************-----')\n",
    "plt.axis('off')\n",
    "plt.imshow(cv2.resize(maps_sa1[image_index].sum(axis=0),(64,64),interpolation=cv2.INTER_CUBIC),cmap='jet')\n",
    "plt.imshow(np.squeeze(test_x['l'][image_index],-1),cmap='gray',alpha=0.3)\n",
    "plt.show()\n",
    "print(\"================================\")\n",
    "plt.axis('off')\n",
    "plt.imshow(cv2.resize(maps_sa1[image_index].sum(axis=0),(64,64),interpolation=cv2.INTER_CUBIC),cmap='jet')\n",
    "plt.imshow(np.squeeze(test_x['r'][image_index],-1),cmap='gray',alpha=0.3)\n",
    "plt.show()\n",
    "\n",
    "print('-----**********visualize SA2 maps************-----')\n",
    "plt.axis('off')\n",
    "plt.imshow(np.squeeze(test_x['l'][image_index],-1))\n",
    "plt.imshow(cv2.resize(maps_sa2[image_index].sum(axis=0),(64,64),interpolation=cv2.INTER_CUBIC),cmap='jet',alpha=0.5)\n",
    "plt.show()\n",
    "print(\"================================\")\n",
    "plt.axis('off')\n",
    "plt.imshow(np.squeeze(test_x['r'][image_index],-1))\n",
    "plt.imshow(cv2.resize(maps_sa2[image_index].sum(axis=0),(64,64),interpolation=cv2.INTER_CUBIC),cmap='jet',alpha=0.5)\n",
    "plt.show()\n",
    "\n",
    "print('-----**********visualize SA3 maps************-----')\n",
    "plt.axis('off')\n",
    "\n",
    "plt.imshow(cv2.resize(maps_sa3[image_index].sum(axis=0),(64,64),interpolation=cv2.INTER_LINEAR),cmap='jet')\n",
    "plt.imshow(np.squeeze(test_x['l'][image_index],-1),cmap='gray',alpha=0.3)\n",
    "plt.show()\n",
    "print(\"================================\")\n",
    "plt.axis('off')\n",
    "\n",
    "plt.imshow(cv2.resize(maps_sa3[image_index].sum(axis=0),(64,64),interpolation=cv2.INTER_LINEAR),cmap='jet')\n",
    "plt.imshow(np.squeeze(test_x['r'][image_index],-1),cmap='gray',alpha=0.3)\n",
    "plt.show()\n",
    "\n",
    "\n",
    "\n",
    "print('-----**********visualize SA4 maps************-----')\n",
    "plt.axis('off')\n",
    "plt.imshow(np.squeeze(test_x['l'][image_index],-1))\n",
    "plt.imshow(cv2.resize(maps_sa4[image_index].sum(axis=0),(64,64),interpolation=cv2.INTER_LINEAR),cmap='jet',alpha=0.5)\n",
    "plt.show()\n",
    "print(\"================================\")\n",
    "plt.axis('off')\n",
    "plt.imshow(np.squeeze(test_x['r'][image_index],-1))\n",
    "plt.imshow(cv2.resize(maps_sa4[image_index].sum(axis=0),(64,64),interpolation=cv2.INTER_LINEAR),cmap='jet',alpha=0.5)\n",
    "plt.show()\n",
    "\n",
    "print('-----**********visualize SA5 maps************-----')\n",
    "plt.axis('off')\n",
    "plt.imshow(np.squeeze(test_x['l'][image_index],-1))\n",
    "plt.imshow(cv2.resize(maps_sa5[image_index].sum(axis=0),(64,64),interpolation=cv2.INTER_CUBIC),cmap='jet',alpha=0.5)\n",
    "plt.show()\n",
    "print(\"================================\")\n",
    "plt.axis('off')\n",
    "plt.imshow(np.squeeze(test_x['r'][image_index],-1))\n",
    "plt.imshow(cv2.resize(maps_sa5[image_index].sum(axis=0),(64,64),interpolation=cv2.INTER_LINEAR),cmap='jet',alpha=0.5)\n",
    "plt.show()"
   ]
  },
  {
   "cell_type": "code",
   "execution_count": 92,
   "metadata": {},
   "outputs": [
    {
     "data": {
      "text/plain": [
       "array([[0.62786895, 0.62786895, 0.62786895, 0.62786895],\n",
       "       [0.79815143, 0.8765868 , 0.8765868 , 0.8671273 ],\n",
       "       [0.9765593 , 1.1674215 , 1.1674215 , 1.0791231 ],\n",
       "       [1.2307329 , 1.5711454 , 1.5711454 , 1.3065224 ]], dtype=float32)"
      ]
     },
     "execution_count": 92,
     "metadata": {},
     "output_type": "execute_result"
    }
   ],
   "source": [
    "maps_sa5[image_index].sum(axis=0)"
   ]
  },
  {
   "cell_type": "code",
   "execution_count": 105,
   "metadata": {},
   "outputs": [
    {
     "data": {
      "text/plain": [
       "<matplotlib.axes._subplots.AxesSubplot at 0x7f5f0e375c18>"
      ]
     },
     "execution_count": 105,
     "metadata": {},
     "output_type": "execute_result"
    },
    {
     "data": {
      "image/png": "[encoded data removed]",
      "text/plain": [
       "<Figure size 432x288 with 2 Axes>"
      ]
     },
     "metadata": {
      "needs_background": "light"
     },
     "output_type": "display_data"
    }
   ],
   "source": [
    "# sn.heatmap(maps2_r[image_index][j+i*26].reshape((26,26)),cmap='jet')\n",
    "sn.heatmap(cv2.resize(maps_sa3[image_index].sum(axis=0),(64,64),interpolation=cv2.INTER_CUBIC),cmap='jet')\n",
    "    "
   ]
  },
  {
   "cell_type": "markdown",
   "metadata": {},
   "source": [
    "# Evaluate the network\n",
    "- Evaluating network VGG Cross and Soft Attention"
   ]
  },
  {
   "cell_type": "code",
   "execution_count": 93,
   "metadata": {},
   "outputs": [],
   "source": [
    "classnames=['Inter','Intra']"
   ]
  },
  {
   "cell_type": "code",
   "execution_count": 96,
   "metadata": {},
   "outputs": [
    {
     "data": {
      "application/vnd.jupyter.widget-view+json": {
       "model_id": "42aa7d1c9a8b4cc0b3ffaee92643adec",
       "version_major": 2,
       "version_minor": 0
      },
      "text/plain": [
       "HBox(children=(IntProgress(value=0, max=120), HTML(value='')))"
      ]
     },
     "metadata": {},
     "output_type": "display_data"
    },
    {
     "name": "stdout",
     "output_type": "stream",
     "text": [
      "(61440, 2)\n",
      "(61440, 2)\n"
     ]
    }
   ],
   "source": [
    "v_gen = datagen(df_v,batch_size=512,seq=True)\n",
    "arr_test_y = []\n",
    "arr_preds = []\n",
    "for i in tqdm_notebook(range(2*(1+int(df_v.shape[0]/512)))):\n",
    "    inputs,outputs=next(v_gen)\n",
    "    test_x,test_y = inputs,outputs['y']\n",
    "    predictions = parallel_model.predict(test_x)\n",
    "    arr_test_y+=list(test_y)\n",
    "    arr_preds+=list(predictions)\n",
    "arr_test_y = np.array(arr_test_y)\n",
    "arr_preds = np.array(arr_preds)\n",
    "print(arr_test_y.shape)\n",
    "print(arr_preds.shape)"
   ]
  },
  {
   "cell_type": "code",
   "execution_count": 97,
   "metadata": {},
   "outputs": [
    {
     "name": "stdout",
     "output_type": "stream",
     "text": [
      "[0.99001276 0.0099872 ] 0 [1. 0.]\n"
     ]
    }
   ],
   "source": [
    "arr_preds_logits = arr_preds.argmax(-1)\n",
    "print(arr_preds[image_index],arr_preds_logits[image_index],arr_test_y[image_index])\n",
    "# arr_preds_logits = np.array([1 if a>0.5 else 0 for a in arr_preds])\n",
    "# arr_preds_logits,arr_test_y.argmax(-1)\n"
   ]
  },
  {
   "cell_type": "code",
   "execution_count": 98,
   "metadata": {},
   "outputs": [
    {
     "data": {
      "text/html": [
       "<div>\n",
       "<style scoped>\n",
       "    .dataframe tbody tr th:only-of-type {\n",
       "        vertical-align: middle;\n",
       "    }\n",
       "\n",
       "    .dataframe tbody tr th {\n",
       "        vertical-align: top;\n",
       "    }\n",
       "\n",
       "    .dataframe thead th {\n",
       "        text-align: right;\n",
       "    }\n",
       "</style>\n",
       "<table border=\"1\" class=\"dataframe\">\n",
       "  <thead>\n",
       "    <tr style=\"text-align: right;\">\n",
       "      <th></th>\n",
       "      <th>f1-score</th>\n",
       "      <th>precision</th>\n",
       "      <th>recall</th>\n",
       "      <th>support</th>\n",
       "    </tr>\n",
       "  </thead>\n",
       "  <tbody>\n",
       "    <tr>\n",
       "      <th>Inter</th>\n",
       "      <td>0.975065</td>\n",
       "      <td>0.982659</td>\n",
       "      <td>0.967587</td>\n",
       "      <td>55872.000000</td>\n",
       "    </tr>\n",
       "    <tr>\n",
       "      <th>Intra</th>\n",
       "      <td>0.769449</td>\n",
       "      <td>0.718132</td>\n",
       "      <td>0.828664</td>\n",
       "      <td>5568.000000</td>\n",
       "    </tr>\n",
       "    <tr>\n",
       "      <th>accuracy</th>\n",
       "      <td>0.954997</td>\n",
       "      <td>0.954997</td>\n",
       "      <td>0.954997</td>\n",
       "      <td>0.954997</td>\n",
       "    </tr>\n",
       "    <tr>\n",
       "      <th>macro avg</th>\n",
       "      <td>0.872257</td>\n",
       "      <td>0.850396</td>\n",
       "      <td>0.898125</td>\n",
       "      <td>61440.000000</td>\n",
       "    </tr>\n",
       "    <tr>\n",
       "      <th>weighted avg</th>\n",
       "      <td>0.956431</td>\n",
       "      <td>0.958687</td>\n",
       "      <td>0.954997</td>\n",
       "      <td>61440.000000</td>\n",
       "    </tr>\n",
       "  </tbody>\n",
       "</table>\n",
       "</div>"
      ],
      "text/plain": [
       "              f1-score  precision    recall       support\n",
       "Inter         0.975065   0.982659  0.967587  55872.000000\n",
       "Intra         0.769449   0.718132  0.828664   5568.000000\n",
       "accuracy      0.954997   0.954997  0.954997      0.954997\n",
       "macro avg     0.872257   0.850396  0.898125  61440.000000\n",
       "weighted avg  0.956431   0.958687  0.954997  61440.000000"
      ]
     },
     "metadata": {},
     "output_type": "display_data"
    }
   ],
   "source": [
    "df = pd.DataFrame()\n",
    "f = classification_report(arr_test_y.argmax(-1),arr_preds_logits,target_names=classnames,output_dict=True)\n",
    "df = df.from_dict(f)\n",
    "display(df.T)"
   ]
  },
  {
   "cell_type": "code",
   "execution_count": 99,
   "metadata": {},
   "outputs": [],
   "source": [
    "# true negatives is:math:`C_{0,0}`, false negatives is :math:`C_{1,0}`, true positives is\n",
    "# :math:`C_{1,1}` and false positives is :math:`C_{0,1}`"
   ]
  },
  {
   "cell_type": "code",
   "execution_count": 100,
   "metadata": {},
   "outputs": [
    {
     "data": {
      "text/plain": [
       "array([[54061,  1811],\n",
       "       [  954,  4614]])"
      ]
     },
     "execution_count": 100,
     "metadata": {},
     "output_type": "execute_result"
    }
   ],
   "source": [
    "cm=metrics.confusion_matrix(arr_test_y.argmax(-1),arr_preds_logits)\n",
    "cm"
   ]
  },
  {
   "cell_type": "code",
   "execution_count": 101,
   "metadata": {},
   "outputs": [],
   "source": [
    "\n",
    "def get_FPR_intra(cm):\n",
    "    FP = cm[0][1]\n",
    "    TN = cm[0][0]\n",
    "    return FP/(FP+TN)\n",
    "def get_FNR_intra(cm):\n",
    "    FN = cm[1][0]\n",
    "    TP = cm[1][1]\n",
    "    return FN/(FN+TP)"
   ]
  },
  {
   "cell_type": "code",
   "execution_count": 102,
   "metadata": {},
   "outputs": [
    {
     "data": {
      "text/plain": [
       "(3.2413373424971366, 17.13362068965517)"
      ]
     },
     "execution_count": 102,
     "metadata": {},
     "output_type": "execute_result"
    }
   ],
   "source": [
    "get_FPR_intra(cm)*100,get_FNR_intra(cm)*100"
   ]
  },
  {
   "cell_type": "code",
   "execution_count": 103,
   "metadata": {},
   "outputs": [],
   "source": [
    "def plot_confusion_matrix(cm,\n",
    "                          target_names,\n",
    "                          title='Confusion matrix',\n",
    "                          cmap=None,\n",
    "                          normalize=True):\n",
    "    \"\"\"\n",
    "    given a sklearn confusion matrix (cm), make a nice plot\n",
    "\n",
    "    Arguments\n",
    "    ---------\n",
    "    cm:           confusion matrix from sklearn.metrics.confusion_matrix\n",
    "\n",
    "    target_names: given classification classes such as [0, 1, 2]\n",
    "                  the class names, for example: ['high', 'medium', 'low']\n",
    "\n",
    "    title:        the text to display at the top of the matrix\n",
    "\n",
    "    cmap:         the gradient of the values displayed from matplotlib.pyplot.cm\n",
    "                  see http://matplotlib.org/examples/color/colormaps_reference.html\n",
    "                  plt.get_cmap('jet') or plt.cm.Blues\n",
    "\n",
    "    normalize:    If False, plot the raw numbers\n",
    "                  If True, plot the proportions\n",
    "\n",
    "    Usage\n",
    "    -----\n",
    "    plot_confusion_matrix(cm           = cm,                  # confusion matrix created by\n",
    "                                                              # sklearn.metrics.confusion_matrix\n",
    "                          normalize    = True,                # show proportions\n",
    "                          target_names = y_labels_vals,       # list of names of the classes\n",
    "                          title        = best_estimator_name) # title of graph\n",
    "\n",
    "    Citiation\n",
    "    ---------\n",
    "    http://scikit-learn.org/stable/auto_examples/model_selection/plot_confusion_matrix.html\n",
    "\n",
    "    \"\"\"\n",
    "    import matplotlib.pyplot as plt\n",
    "    import numpy as np\n",
    "    import itertools\n",
    "\n",
    "    accuracy = np.trace(cm) / float(np.sum(cm))\n",
    "    misclass = 1 - accuracy\n",
    "\n",
    "    if cmap is None:\n",
    "        cmap = plt.get_cmap('Blues')\n",
    "\n",
    "    plt.figure(figsize=(3, 3))\n",
    "    plt.imshow(cm, interpolation='nearest', cmap=cmap)\n",
    "    plt.title(title)\n",
    "    plt.colorbar()\n",
    "\n",
    "    if target_names is not None:\n",
    "        tick_marks = np.arange(len(target_names))\n",
    "        plt.xticks(tick_marks, target_names, rotation=45)\n",
    "        plt.yticks(tick_marks, target_names)\n",
    "\n",
    "    if normalize:\n",
    "        cm = cm.astype('float') / cm.sum(axis=1)[:, np.newaxis]\n",
    "\n",
    "\n",
    "    thresh = cm.max() / 1.5 if normalize else cm.max() / 2\n",
    "    for i, j in itertools.product(range(cm.shape[0]), range(cm.shape[1])):\n",
    "        if normalize:\n",
    "            plt.text(j, i, \"{:0.4f}\".format(cm[i, j]),\n",
    "                     horizontalalignment=\"center\",\n",
    "                     color=\"white\" if cm[i, j] > thresh else \"black\")\n",
    "        else:\n",
    "            plt.text(j, i, \"{:,}\".format(cm[i, j]),\n",
    "                     horizontalalignment=\"center\",\n",
    "                     color=\"white\" if cm[i, j] > thresh else \"black\")\n",
    "\n",
    "\n",
    "    plt.tight_layout()\n",
    "    plt.ylabel('True label')\n",
    "    plt.xlabel('Predicted label\\naccuracy={:0.4f}; misclass={:0.4f}'.format(accuracy, misclass))\n",
    "    plt.show()"
   ]
  },
  {
   "cell_type": "code",
   "execution_count": 104,
   "metadata": {},
   "outputs": [
    {
     "data": {
      "image/png": "[encoded data removed]",
      "text/plain": [
       "<Figure size 216x216 with 2 Axes>"
      ]
     },
     "metadata": {
      "needs_background": "light"
     },
     "output_type": "display_data"
    }
   ],
   "source": [
    "plot_confusion_matrix(cm=cm,cmap='YlOrBr',target_names=classnames, normalize=False)"
   ]
  },
  {
   "cell_type": "code",
   "execution_count": 65,
   "metadata": {
    "scrolled": true
   },
   "outputs": [],
   "source": [
    "# try:\n",
    "#     f,ax=plt.subplots(8,8)    \n",
    "#     f.subplots_adjust(hspace=.20,wspace=.1)\n",
    "#     f.set_size_inches(20,20)\n",
    "#     for i in range(8):\n",
    "#         for j in range(8):\n",
    "# #             print(feats[j+i*8].shape)\n",
    "#             ax[i,j].imshow(test_x[j+i*8][:,:,0],cmap=plt.get_cmap('gray'),alpha=0.8)\n",
    "#             ax[i,j].imshow(test_x[j+i*8][:,:,1],cmap=plt.get_cmap('gray'),alpha=0.5)\n",
    "#             ax[i,j].axis('off')\n",
    "#             ax[i,j].set_title(str(j+i*8)+'-a:'+classnames[np.argmax(test_y[j+i*8])]+',p:'+classnames[np.argmax(predictions[j+i*8])])\n",
    "#     #         print(np.argmax(y[j+i*8]), end=',')\n",
    "# except Exception as ex:\n",
    "#     print(ex)"
   ]
  }
 ],
 "metadata": {
  "kernelspec": {
   "display_name": "Python (tf-gpu)",
   "language": "python",
   "name": "tf-gpu"
  },
  "language_info": {
   "codemirror_mode": {
    "name": "ipython",
    "version": 3
   },
   "file_extension": ".py",
   "mimetype": "text/x-python",
   "name": "python",
   "nbconvert_exporter": "python",
   "pygments_lexer": "ipython3",
   "version": "3.5.6"
  },
  "widgets": {
   "application/vnd.jupyter.widget-state+json": {
    "state": {
     "28b6ba745564447ab6e5ae0433c9a19a": {
      "model_module": "@jupyter-widgets/base",
      "model_module_version": "1.1.0",
      "model_name": "LayoutModel",
      "state": {}
     },
     "35db2078181a403e80b89e72fa50b929": {
      "model_module": "@jupyter-widgets/controls",
      "model_module_version": "1.4.0",
      "model_name": "ProgressStyleModel",
      "state": {
       "description_width": ""
      }
     },
     "5e855b8d1d164caa9974e5d880b8b7b3": {
      "model_module": "@jupyter-widgets/base",
      "model_module_version": "1.1.0",
      "model_name": "LayoutModel",
      "state": {}
     },
     "73452c70845b4d3eb57ee977595d31f8": {
      "model_module": "@jupyter-widgets/base",
      "model_module_version": "1.1.0",
      "model_name": "LayoutModel",
      "state": {}
     },
     "8e04383120e94a28bb1841128cead4cd": {
      "model_module": "@jupyter-widgets/controls",
      "model_module_version": "1.4.0",
      "model_name": "HBoxModel",
      "state": {
       "children": [
        "IPY_MODEL_eb3cc38356ad4c66b7eb86a76373914a",
        "IPY_MODEL_db8f546cff564972ad6be276c88e7d64"
       ],
       "layout": "IPY_MODEL_28b6ba745564447ab6e5ae0433c9a19a"
      }
     },
     "911d6fcfb80f4e549e8345e5c92fc70d": {
      "model_module": "@jupyter-widgets/controls",
      "model_module_version": "1.4.0",
      "model_name": "DescriptionStyleModel",
      "state": {
       "description_width": ""
      }
     },
     "db8f546cff564972ad6be276c88e7d64": {
      "model_module": "@jupyter-widgets/controls",
      "model_module_version": "1.4.0",
      "model_name": "HTMLModel",
      "state": {
       "layout": "IPY_MODEL_73452c70845b4d3eb57ee977595d31f8",
       "style": "IPY_MODEL_911d6fcfb80f4e549e8345e5c92fc70d",
       "value": "100% 60/60 [00:48&lt;00:00,  1.26it/s]"
      }
     },
     "eb3cc38356ad4c66b7eb86a76373914a": {
      "model_module": "@jupyter-widgets/controls",
      "model_module_version": "1.4.0",
      "model_name": "IntProgressModel",
      "state": {
       "bar_style": "success",
       "layout": "IPY_MODEL_5e855b8d1d164caa9974e5d880b8b7b3",
       "max": 60,
       "style": "IPY_MODEL_35db2078181a403e80b89e72fa50b929",
       "value": 60
      }
     }
    },
    "version_major": 2,
    "version_minor": 0
   }
  }
 },
 "nbformat": 4,
 "nbformat_minor": 2
}
